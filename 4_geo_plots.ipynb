{
  "nbformat": 4,
  "nbformat_minor": 0,
  "metadata": {
    "colab": {
      "name": "4-geo_plots.ipynb",
      "version": "0.3.2",
      "provenance": [],
      "collapsed_sections": [],
      "include_colab_link": true
    },
    "kernelspec": {
      "name": "python3",
      "display_name": "Python 3"
    }
  },
  "cells": [
    {
      "cell_type": "markdown",
      "metadata": {
        "id": "view-in-github",
        "colab_type": "text"
      },
      "source": [
        "<a href=\"https://colab.research.google.com/github/aguinaldoabbj/minicourse_open_data_natal_2019/blob/master/4_geo_plots.ipynb\" target=\"_parent\"><img src=\"https://colab.research.google.com/assets/colab-badge.svg\" alt=\"Open In Colab\"/></a>"
      ]
    },
    {
      "metadata": {
        "id": "XHmxmDTayX8_",
        "colab_type": "text"
      },
      "cell_type": "markdown",
      "source": [
        "# Geospatial Data Visualization "
      ]
    },
    {
      "metadata": {
        "id": "RnMHodVgyfVt",
        "colab_type": "text"
      },
      "cell_type": "markdown",
      "source": [
        "## Introduction\n",
        "\n",
        "Geospatial coordinates are very important when dealing with real world data. Geospatial data sets are mainly composed by latitude and longitude coordinates of the entities under study. So, a primary action would be to put these coordinates in a map.\n"
      ]
    },
    {
      "metadata": {
        "id": "TIoHfwxD0Aq6",
        "colab_type": "text"
      },
      "cell_type": "markdown",
      "source": [
        "## Our case study\n",
        "\n",
        "In this stage we are going to stick with data from [Dados Abertos Natal](http://dados.natal.br/group/09132b97-d39f-4316-a859-240c31e98ef8?res_format=KML), but this time our target data will be a series of [KML (Keyhole Markup Language)](https://developers.google.com/kml/documentation) files available in this repository, regarding bus routes and stops.\n",
        "\n",
        "We are going to start with the \"Paradas\" dataset, which refers to the mapped bus stops in the city. "
      ]
    },
    {
      "metadata": {
        "id": "HEmanJqn4VaM",
        "colab_type": "text"
      },
      "cell_type": "markdown",
      "source": [
        "## Obtaing and Loading Data\n",
        "\n",
        "We can use 'wget' again to download data to our workspace in Colab."
      ]
    },
    {
      "metadata": {
        "id": "olyIL3hwyeFF",
        "colab_type": "code",
        "colab": {
          "base_uri": "https://localhost:8080/",
          "height": 204
        },
        "outputId": "f22a54cc-b99d-473b-bb45-5b41daf990fe"
      },
      "cell_type": "code",
      "source": [
        "!wget -c https://raw.githubusercontent.com/aguinaldoabbj/minicourse_open_data_natal_2019/master/data/paradas-unificadas.kml"
      ],
      "execution_count": 2,
      "outputs": [
        {
          "output_type": "stream",
          "text": [
            "--2019-03-18 13:06:22--  https://raw.githubusercontent.com/aguinaldoabbj/minicourse_open_data_natal_2019/master/data/paradas-unificadas.kml\n",
            "Resolving raw.githubusercontent.com (raw.githubusercontent.com)... 151.101.0.133, 151.101.64.133, 151.101.128.133, ...\n",
            "Connecting to raw.githubusercontent.com (raw.githubusercontent.com)|151.101.0.133|:443... connected.\n",
            "HTTP request sent, awaiting response... 200 OK\n",
            "Length: 1444962 (1.4M) [text/plain]\n",
            "Saving to: ‘paradas-unificadas.kml’\n",
            "\n",
            "\rparadas-unificadas.   0%[                    ]       0  --.-KB/s               \rparadas-unificadas. 100%[===================>]   1.38M  --.-KB/s    in 0.05s   \n",
            "\n",
            "2019-03-18 13:06:22 (30.4 MB/s) - ‘paradas-unificadas.kml’ saved [1444962/1444962]\n",
            "\n"
          ],
          "name": "stdout"
        }
      ]
    },
    {
      "metadata": {
        "id": "4_jrpltj6nYG",
        "colab_type": "text"
      },
      "cell_type": "markdown",
      "source": [
        "We have to load two new libraries to deal with KML data: fastKML and BeatifulSoup. The former is to decode the KML and the latter is to parse it. As they are not native in Colab, we have to download and install them with 'pip' utility."
      ]
    },
    {
      "metadata": {
        "id": "A5hsXfCM7aEy",
        "colab_type": "code",
        "colab": {
          "base_uri": "https://localhost:8080/",
          "height": 51
        },
        "outputId": "52006336-1d9d-4798-b502-185c4e1b8e90"
      },
      "cell_type": "code",
      "source": [
        "!pip install fastkml\n",
        "!pip install bs4"
      ],
      "execution_count": 7,
      "outputs": [
        {
          "output_type": "stream",
          "text": [
            "Requirement already satisfied: bs4 in /usr/local/lib/python3.6/dist-packages (0.0.1)\n",
            "Requirement already satisfied: beautifulsoup4 in /usr/local/lib/python3.6/dist-packages (from bs4) (4.6.3)\n"
          ],
          "name": "stdout"
        }
      ]
    },
    {
      "metadata": {
        "id": "zNL3F9id9wUD",
        "colab_type": "text"
      },
      "cell_type": "markdown",
      "source": [
        "Now we can load the installed libraries."
      ]
    },
    {
      "metadata": {
        "id": "eVB9sReE6u6y",
        "colab_type": "code",
        "colab": {}
      },
      "cell_type": "code",
      "source": [
        "from fastkml import kml\n",
        "from bs4 import BeautifulSoup\n"
      ],
      "execution_count": 0,
      "outputs": []
    },
    {
      "metadata": {
        "id": "8l_dWZJGGAhk",
        "colab_type": "text"
      },
      "cell_type": "markdown",
      "source": [
        "KML files are very similar to XML files, so that we need a specific dealing strategy. We can load the KML file into Python by using Python's native *open()* statement. "
      ]
    },
    {
      "metadata": {
        "id": "0AfelO-ZGArD",
        "colab_type": "code",
        "colab": {}
      },
      "cell_type": "code",
      "source": [
        "#Read file into string and convert to UTF-8\n",
        "with open(\"paradas-unificadas.kml\", 'rt', encoding=\"utf-8\") as myfile:\n",
        "     kml_doc=myfile.read()"
      ],
      "execution_count": 0,
      "outputs": []
    },
    {
      "metadata": {
        "id": "W84vGi-qHv8t",
        "colab_type": "text"
      },
      "cell_type": "markdown",
      "source": [
        "And use fastKML to decode our KML file now stored in variable *kml_doc*."
      ]
    },
    {
      "metadata": {
        "id": "2P25JT8j4-hs",
        "colab_type": "code",
        "colab": {}
      },
      "cell_type": "code",
      "source": [
        "#start fast kml engine\n",
        "k = kml.KML()\n",
        "# Read in the KML string\n",
        "k.from_string(kml_doc)"
      ],
      "execution_count": 0,
      "outputs": []
    },
    {
      "metadata": {
        "id": "S8u9e6ARJq9N",
        "colab_type": "text"
      },
      "cell_type": "markdown",
      "source": [
        "By browsing KML features (using fastKML's *features()* method), it is possible to locate where data is:"
      ]
    },
    {
      "metadata": {
        "id": "9tW7pOoSJQbQ",
        "colab_type": "code",
        "colab": {
          "base_uri": "https://localhost:8080/",
          "height": 34
        },
        "outputId": "dcb57c4e-4191-447d-8579-79ef27a7eb5e"
      },
      "cell_type": "code",
      "source": [
        "# browsing features's levels\n",
        "l1 = list(k.features())\n",
        "print(len(l1))"
      ],
      "execution_count": 24,
      "outputs": [
        {
          "output_type": "stream",
          "text": [
            "1\n"
          ],
          "name": "stdout"
        }
      ]
    },
    {
      "metadata": {
        "id": "z4WxWRvKJ-g-",
        "colab_type": "code",
        "colab": {
          "base_uri": "https://localhost:8080/",
          "height": 34
        },
        "outputId": "253ad2d6-10dd-4b4b-9f21-c90160f80a72"
      },
      "cell_type": "code",
      "source": [
        "l2 = list(l1[0].features())\n",
        "print(len(l2))"
      ],
      "execution_count": 27,
      "outputs": [
        {
          "output_type": "stream",
          "text": [
            "1\n"
          ],
          "name": "stdout"
        }
      ]
    },
    {
      "metadata": {
        "id": "YVM2efauKalw",
        "colab_type": "code",
        "colab": {
          "base_uri": "https://localhost:8080/",
          "height": 34
        },
        "outputId": "8fe0e3f6-9845-476d-e6b2-3484d8df6d2e"
      },
      "cell_type": "code",
      "source": [
        "l3 = list(l2[0].features())\n",
        "print(len(l3))"
      ],
      "execution_count": 28,
      "outputs": [
        {
          "output_type": "stream",
          "text": [
            "1958\n"
          ],
          "name": "stdout"
        }
      ]
    },
    {
      "metadata": {
        "id": "PIxzwhT8M0kZ",
        "colab_type": "code",
        "colab": {
          "base_uri": "https://localhost:8080/",
          "height": 54
        },
        "outputId": "cbc07ab6-ae80-4547-e082-6f2ee283a14e"
      },
      "cell_type": "code",
      "source": [
        "l3[0].to_string() #getting data from the first placemark"
      ],
      "execution_count": 32,
      "outputs": [
        {
          "output_type": "execute_result",
          "data": {
            "text/plain": [
              "'<kml:Placemark xmlns:kml=\"http://www.opengis.net/kml/2.2\">\\n  <kml:name>Parada - 16 de Dezembro - O088</kml:name>\\n  <kml:description>&gt; Linhas de ônibus:&lt;br&gt;* 59 - Guarapes/Brasília Teimosa, via Bom Pastor;&lt;br&gt;* 599 - Guarapes/Mirassol, via Av. Cap.-Mor Gouveia;</kml:description>\\n  <kml:visibility>1</kml:visibility>\\n  <kml:Style>\\n    <kml:IconStyle>\\n      <kml:scale>0.9</kml:scale>\\n      <kml:Icon>\\n        <kml:href>http://maps.google.com/mapfiles/kml/pushpin/blue-pushpin.png</kml:href>\\n      </kml:Icon>\\n    </kml:IconStyle>\\n  </kml:Style>\\n  <kml:Point>\\n    <kml:coordinates>-35.278631,-5.833069,0.000000</kml:coordinates>\\n  </kml:Point>\\n</kml:Placemark>\\n'"
            ]
          },
          "metadata": {
            "tags": []
          },
          "execution_count": 32
        }
      ]
    },
    {
      "metadata": {
        "id": "G-OYUTytKjtm",
        "colab_type": "text"
      },
      "cell_type": "markdown",
      "source": [
        "Gotcha! Data is in the hierarchy level 3 in the KML. It seems we have 1958 placemarks. Now we can try to parse this XML-like data with BeautifulSoup, a very powerful library which can be used to parse this kind data."
      ]
    },
    {
      "metadata": {
        "id": "dnFdD9J2Kg_h",
        "colab_type": "code",
        "colab": {}
      },
      "cell_type": "code",
      "source": [
        "# Use bs4 xml parser to parse kml data for each placemark\n",
        "bus_stop_coords = [] #an array to store the retrieved coordinates\n",
        "bus_stop_names = []\n",
        "for p in l3:\n",
        "    soup = BeautifulSoup(p.to_string(), \"lxml-xml\") #getting each placemark\n",
        "    coord = soup.find('kml:coordinates') #searching coodinates\n",
        "    coord = coord.get_text().split(\",\")[0:2] #getting only lat/long\n",
        "    name = soup.find('kml:name') #searching names\n",
        "    name = name.get_text()\n",
        "    bus_stop_coords.append(coord) #appeding coordinates to array\n",
        "    bus_stop_names.append(name)"
      ],
      "execution_count": 0,
      "outputs": []
    },
    {
      "metadata": {
        "id": "b0C4SoJrvC6P",
        "colab_type": "text"
      },
      "cell_type": "markdown",
      "source": [
        "The previous stage resulted in two arrays, *bus_stop_coords* and *bus_stop_names*, corresponding to bus stops coordinates and names, respectively. Based on these arrays, it is possible to build a Pandas dataframe to make data manipulation easier."
      ]
    },
    {
      "metadata": {
        "id": "eMQDuptHu9it",
        "colab_type": "code",
        "colab": {
          "base_uri": "https://localhost:8080/",
          "height": 204
        },
        "outputId": "39734d81-a92e-4cba-e80d-411ddd326d9d"
      },
      "cell_type": "code",
      "source": [
        "#loading pandas\n",
        "import pandas as pd\n",
        "\n",
        "#building new dataframe\n",
        "bus_stops_df = pd.DataFrame({'Name':bus_stop_names,'Coordinate':bus_stop_coords})# arrays are mapped into dataframe columns\n",
        "\n",
        "#checking if things are OK\n",
        "bus_stops_df.head()"
      ],
      "execution_count": 41,
      "outputs": [
        {
          "output_type": "execute_result",
          "data": {
            "text/html": [
              "<div>\n",
              "<style scoped>\n",
              "    .dataframe tbody tr th:only-of-type {\n",
              "        vertical-align: middle;\n",
              "    }\n",
              "\n",
              "    .dataframe tbody tr th {\n",
              "        vertical-align: top;\n",
              "    }\n",
              "\n",
              "    .dataframe thead th {\n",
              "        text-align: right;\n",
              "    }\n",
              "</style>\n",
              "<table border=\"1\" class=\"dataframe\">\n",
              "  <thead>\n",
              "    <tr style=\"text-align: right;\">\n",
              "      <th></th>\n",
              "      <th>Coordinate</th>\n",
              "      <th>Name</th>\n",
              "    </tr>\n",
              "  </thead>\n",
              "  <tbody>\n",
              "    <tr>\n",
              "      <th>0</th>\n",
              "      <td>[-35.278631, -5.833069]</td>\n",
              "      <td>Parada - 16 de Dezembro - O088</td>\n",
              "    </tr>\n",
              "    <tr>\n",
              "      <th>1</th>\n",
              "      <td>[-35.246364, -5.843083]</td>\n",
              "      <td>Parada - 17 de Dezembro - O068</td>\n",
              "    </tr>\n",
              "    <tr>\n",
              "      <th>2</th>\n",
              "      <td>[-35.280042, -5.838146]</td>\n",
              "      <td>Parada - 28 de Fevereiro -O082</td>\n",
              "    </tr>\n",
              "    <tr>\n",
              "      <th>3</th>\n",
              "      <td>[-35.182530, -5.799994]</td>\n",
              "      <td>Parada - L001</td>\n",
              "    </tr>\n",
              "    <tr>\n",
              "      <th>4</th>\n",
              "      <td>[-35.182753, -5.799874]</td>\n",
              "      <td>Parada - L002</td>\n",
              "    </tr>\n",
              "  </tbody>\n",
              "</table>\n",
              "</div>"
            ],
            "text/plain": [
              "                Coordinate                            Name\n",
              "0  [-35.278631, -5.833069]  Parada - 16 de Dezembro - O088\n",
              "1  [-35.246364, -5.843083]  Parada - 17 de Dezembro - O068\n",
              "2  [-35.280042, -5.838146]  Parada - 28 de Fevereiro -O082\n",
              "3  [-35.182530, -5.799994]                   Parada - L001\n",
              "4  [-35.182753, -5.799874]                   Parada - L002"
            ]
          },
          "metadata": {
            "tags": []
          },
          "execution_count": 41
        }
      ]
    },
    {
      "metadata": {
        "id": "k2Wk2HU-JGGF",
        "colab_type": "code",
        "colab": {}
      },
      "cell_type": "code",
      "source": [
        ""
      ],
      "execution_count": 0,
      "outputs": []
    }
  ]
}