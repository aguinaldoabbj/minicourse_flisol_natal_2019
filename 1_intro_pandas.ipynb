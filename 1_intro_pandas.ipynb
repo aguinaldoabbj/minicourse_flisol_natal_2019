{
  "nbformat": 4,
  "nbformat_minor": 0,
  "metadata": {
    "colab": {
      "name": "1-intro_pandas.ipynb",
      "version": "0.3.2",
      "provenance": [],
      "include_colab_link": true
    },
    "kernelspec": {
      "display_name": "Python 3",
      "language": "python",
      "name": "python3"
    }
  },
  "cells": [
    {
      "cell_type": "markdown",
      "metadata": {
        "id": "view-in-github",
        "colab_type": "text"
      },
      "source": [
        "<a href=\"https://colab.research.google.com/github/aguinaldoabbj/minicourse_open_data_natal_2019/blob/master/1_intro_pandas.ipynb\" target=\"_parent\"><img src=\"https://colab.research.google.com/assets/colab-badge.svg\" alt=\"Open In Colab\"/></a>"
      ]
    },
    {
      "metadata": {
        "id": "vZEVo5BD5lo1",
        "colab_type": "text"
      },
      "cell_type": "markdown",
      "source": [
        "# Pandas basics\n"
      ]
    },
    {
      "metadata": {
        "id": "oqCSEZjHK-0S",
        "colab_type": "text"
      },
      "cell_type": "markdown",
      "source": [
        "\n",
        "\n",
        "## Introduction\n",
        "\n",
        "Pandas is a library that unifies the most common workflows that data analysts and data scientists previously relied on many different libraries for. Pandas has quickly became an important tool in a data professional's toolbelt and is the most popular library for working with tabular data in Python. Tabular data is any data that can be represented as rows and columns. \n",
        "\n",
        "To represent tabular data, Pandas uses a custom data structure called a **DataFrame**. A DataFrame is a highly efficient, 2-dimensional data structure that provides a suite of methods and attributes to quickly explore, analyze, and visualize data. The DataFrame is similar to the NumPy 2D array but adds support for many features that help you work with tabular data.\n",
        "\n",
        "One of the biggest advantages that Pandas has over NumPy is the **ability to store mixed data types** in rows and columns. Many tabular datasets contain a range of data types and Pandas DataFrames handle mixed data types effortlessly while NumPy doesn't. Pandas DataFrames **can also handle missing values gracefully** using a custom object, **NaN**, to represent those values. A common complaint with NumPy is its lack of an object to represent missing values and people end up having to find and replace these values manually. In addition, pandas DataFrames contain axis labels for both rows and columns and enable you to refer to elements in the dataframe more intuitively. Since many tabular datasets contain column titles, this means that dataframes preserve the metadata from the file around the data.\n",
        "\n",
        "To get things started, we have to load Pandas library:"
      ]
    },
    {
      "metadata": {
        "id": "_1mlLpqL5C9S",
        "colab_type": "code",
        "colab": {}
      },
      "cell_type": "code",
      "source": [
        "import pandas as pd"
      ],
      "execution_count": 0,
      "outputs": []
    },
    {
      "metadata": {
        "id": "WvsgK9yk5Dmf",
        "colab_type": "text"
      },
      "cell_type": "markdown",
      "source": [
        "## Our case study\n",
        "\n",
        "In this part of the course, you'll learn the basics of pandas while exploring several datasets [Dados Abertos Natal](http://dados.natal.br/). Let's start things out by using the \"Bilhetagem\" dataset , which refers to the bus service billing system in Natal. \n",
        "\n",
        "You can dowload it through this URL: [Bilhetagem Analítica 2018](http://dados.natal.br/dataset/4fad551d-4d3b-4597-b8d3-7e887e22332e/resource/ec5b95a3-7b93-4346-98f6-1bd013faa651/download/dados-be-2018-analitico.csv)"
      ]
    },
    {
      "metadata": {
        "id": "P5HeJBXTghTA",
        "colab_type": "text"
      },
      "cell_type": "markdown",
      "source": [
        "## Downloading Data\n",
        "\n",
        "We can download data directly from  [Dados Abertos Natal](http://dados.natal.br/) to our workspace in Google Colab. We can use 'wget' download utility (available in most systems) to get the job done (the exclamation mark in the beginning sinalyzes Colab to use system's utilities instead of Python interpreter)"
      ]
    },
    {
      "metadata": {
        "id": "sPNLNXTcflIu",
        "colab_type": "code",
        "outputId": "0ab64167-77bd-4bc2-b8b3-67323eb7b5c1",
        "colab": {
          "base_uri": "https://localhost:8080/",
          "height": 204
        }
      },
      "cell_type": "code",
      "source": [
        "!wget -c https://raw.githubusercontent.com/aguinaldoabbj/minicourse_open_data_natal_2019/master/data/dados-be-2018-analitico.csv\n",
        "#wget -c https://github.com/aguinaldoabbj/minicourse_open_data_natal_2019/blob/master/data/dados-be-2018-analitico.csv"
      ],
      "execution_count": 3,
      "outputs": [
        {
          "output_type": "stream",
          "text": [
            "--2019-03-02 14:17:05--  https://raw.githubusercontent.com/aguinaldoabbj/minicourse_open_data_natal_2019/master/data/dados-be-2018-analitico.csv\n",
            "Resolving raw.githubusercontent.com (raw.githubusercontent.com)... 151.101.0.133, 151.101.64.133, 151.101.128.133, ...\n",
            "Connecting to raw.githubusercontent.com (raw.githubusercontent.com)|151.101.0.133|:443... connected.\n",
            "HTTP request sent, awaiting response... 200 OK\n",
            "Length: 72991 (71K) [text/plain]\n",
            "Saving to: ‘dados-be-2018-analitico.csv’\n",
            "\n",
            "\r          dados-be-   0%[                    ]       0  --.-KB/s               \rdados-be-2018-anali 100%[===================>]  71.28K  --.-KB/s    in 0.01s   \n",
            "\n",
            "2019-03-02 14:17:05 (5.04 MB/s) - ‘dados-be-2018-analitico.csv’ saved [72991/72991]\n",
            "\n"
          ],
          "name": "stdout"
        }
      ]
    },
    {
      "metadata": {
        "id": "R3_3IgyijzCe",
        "colab_type": "text"
      },
      "cell_type": "markdown",
      "source": [
        "We can check if file was downloaded using 'ls':\n"
      ]
    },
    {
      "metadata": {
        "id": "9b5YhHKBfnai",
        "colab_type": "code",
        "outputId": "582dcb45-8f60-42f6-a0cb-d3495dcc76e1",
        "colab": {
          "base_uri": "https://localhost:8080/",
          "height": 34
        }
      },
      "cell_type": "code",
      "source": [
        "!ls -lah  dados-be*"
      ],
      "execution_count": 4,
      "outputs": [
        {
          "output_type": "stream",
          "text": [
            "-rw-r--r-- 1 root root 72K Mar  2 14:17 dados-be-2018-analitico.csv\n"
          ],
          "name": "stdout"
        }
      ]
    },
    {
      "metadata": {
        "id": "b92UQ47suz09",
        "colab_type": "text"
      },
      "cell_type": "markdown",
      "source": [
        "# First steps with pandas"
      ]
    },
    {
      "metadata": {
        "id": "VR4TV7ta4TEo",
        "colab_type": "text"
      },
      "cell_type": "markdown",
      "source": [
        "## Loading data from a CSV file\n",
        "As we can see, downloaded data is a CSV file. CSVs are commonly used to store tabular data. In simple words, it contains table rows whose cells are separated by some token, like a comma or semicolon. Pandas provides the read_csv() function, which takes the path of the CSV file and produces a DataFrame representation of its data."
      ]
    },
    {
      "metadata": {
        "id": "6PhYW2li4cSL",
        "colab_type": "code",
        "colab": {}
      },
      "cell_type": "code",
      "source": [
        "# CSV file uses ';' as separator and is encodded in iso-8859-1\n",
        "df = pd.read_csv(\"dados-be-2018-analitico.csv\", encoding='iso-8859-1', sep=';')"
      ],
      "execution_count": 0,
      "outputs": []
    },
    {
      "metadata": {
        "id": "6BIjv9jmGhCH",
        "colab_type": "text"
      },
      "cell_type": "markdown",
      "source": [
        "We can check if data was loaded successfully by calling Dataframe's head( ) method and see the first 5 rows:"
      ]
    },
    {
      "metadata": {
        "id": "UV3f1SB16amn",
        "colab_type": "code",
        "outputId": "be60cd3f-cbfa-422c-bdbe-c4da625b83dc",
        "colab": {
          "base_uri": "https://localhost:8080/",
          "height": 204
        }
      },
      "cell_type": "code",
      "source": [
        "df.head(5)"
      ],
      "execution_count": 6,
      "outputs": [
        {
          "output_type": "execute_result",
          "data": {
            "text/html": [
              "<div>\n",
              "<style scoped>\n",
              "    .dataframe tbody tr th:only-of-type {\n",
              "        vertical-align: middle;\n",
              "    }\n",
              "\n",
              "    .dataframe tbody tr th {\n",
              "        vertical-align: top;\n",
              "    }\n",
              "\n",
              "    .dataframe thead th {\n",
              "        text-align: right;\n",
              "    }\n",
              "</style>\n",
              "<table border=\"1\" class=\"dataframe\">\n",
              "  <thead>\n",
              "    <tr style=\"text-align: right;\">\n",
              "      <th></th>\n",
              "      <th>Mês</th>\n",
              "      <th>Empresa</th>\n",
              "      <th>Linha</th>\n",
              "      <th>Estudante_Cartao</th>\n",
              "      <th>Estudante_BT</th>\n",
              "      <th>Vale_Transporte</th>\n",
              "      <th>Integracao_Plena</th>\n",
              "      <th>Integracao_Complementar</th>\n",
              "      <th>Gratuito_Cartao</th>\n",
              "      <th>Gratuito_BT</th>\n",
              "      <th>Inteira_Cartao</th>\n",
              "      <th>Inteira_Especie</th>\n",
              "      <th>Tarifa_Social</th>\n",
              "      <th>Qtd_Viagens</th>\n",
              "    </tr>\n",
              "  </thead>\n",
              "  <tbody>\n",
              "    <tr>\n",
              "      <th>0</th>\n",
              "      <td>1</td>\n",
              "      <td>CONCEIÇÃO</td>\n",
              "      <td>21</td>\n",
              "      <td>13.493</td>\n",
              "      <td>9.506</td>\n",
              "      <td>35.944</td>\n",
              "      <td>8.671</td>\n",
              "      <td>0.0</td>\n",
              "      <td>17.138</td>\n",
              "      <td>7.397</td>\n",
              "      <td>6.542</td>\n",
              "      <td>43.727</td>\n",
              "      <td>3.965</td>\n",
              "      <td>3.684</td>\n",
              "    </tr>\n",
              "    <tr>\n",
              "      <th>1</th>\n",
              "      <td>1</td>\n",
              "      <td>CONCEIÇÃO</td>\n",
              "      <td>22</td>\n",
              "      <td>4.644</td>\n",
              "      <td>3.371</td>\n",
              "      <td>13.088</td>\n",
              "      <td>3.230</td>\n",
              "      <td>0.0</td>\n",
              "      <td>8.109</td>\n",
              "      <td>3.157</td>\n",
              "      <td>2.529</td>\n",
              "      <td>15.363</td>\n",
              "      <td>0.000</td>\n",
              "      <td>1.737</td>\n",
              "    </tr>\n",
              "    <tr>\n",
              "      <th>2</th>\n",
              "      <td>1</td>\n",
              "      <td>CONCEIÇÃO</td>\n",
              "      <td>30</td>\n",
              "      <td>8.519</td>\n",
              "      <td>5.614</td>\n",
              "      <td>20.580</td>\n",
              "      <td>5.346</td>\n",
              "      <td>0.0</td>\n",
              "      <td>7.265</td>\n",
              "      <td>3.191</td>\n",
              "      <td>4.415</td>\n",
              "      <td>21.507</td>\n",
              "      <td>1.537</td>\n",
              "      <td>2.500</td>\n",
              "    </tr>\n",
              "    <tr>\n",
              "      <th>3</th>\n",
              "      <td>1</td>\n",
              "      <td>CONCEIÇÃO</td>\n",
              "      <td>31</td>\n",
              "      <td>9.631</td>\n",
              "      <td>6.020</td>\n",
              "      <td>23.460</td>\n",
              "      <td>7.587</td>\n",
              "      <td>0.0</td>\n",
              "      <td>7.065</td>\n",
              "      <td>2.922</td>\n",
              "      <td>5.491</td>\n",
              "      <td>22.212</td>\n",
              "      <td>140.000</td>\n",
              "      <td>2.478</td>\n",
              "    </tr>\n",
              "    <tr>\n",
              "      <th>4</th>\n",
              "      <td>1</td>\n",
              "      <td>CONCEIÇÃO</td>\n",
              "      <td>41</td>\n",
              "      <td>6.556</td>\n",
              "      <td>4.038</td>\n",
              "      <td>20.388</td>\n",
              "      <td>7.924</td>\n",
              "      <td>0.0</td>\n",
              "      <td>5.704</td>\n",
              "      <td>2.791</td>\n",
              "      <td>3.883</td>\n",
              "      <td>13.870</td>\n",
              "      <td>0.000</td>\n",
              "      <td>2.296</td>\n",
              "    </tr>\n",
              "  </tbody>\n",
              "</table>\n",
              "</div>"
            ],
            "text/plain": [
              "   Mês    Empresa  Linha  Estudante_Cartao  Estudante_BT  Vale_Transporte  \\\n",
              "0    1  CONCEIÇÃO     21            13.493         9.506           35.944   \n",
              "1    1  CONCEIÇÃO     22             4.644         3.371           13.088   \n",
              "2    1  CONCEIÇÃO     30             8.519         5.614           20.580   \n",
              "3    1  CONCEIÇÃO     31             9.631         6.020           23.460   \n",
              "4    1  CONCEIÇÃO     41             6.556         4.038           20.388   \n",
              "\n",
              "   Integracao_Plena  Integracao_Complementar  Gratuito_Cartao  Gratuito_BT  \\\n",
              "0             8.671                      0.0           17.138        7.397   \n",
              "1             3.230                      0.0            8.109        3.157   \n",
              "2             5.346                      0.0            7.265        3.191   \n",
              "3             7.587                      0.0            7.065        2.922   \n",
              "4             7.924                      0.0            5.704        2.791   \n",
              "\n",
              "   Inteira_Cartao  Inteira_Especie  Tarifa_Social  Qtd_Viagens  \n",
              "0           6.542           43.727          3.965        3.684  \n",
              "1           2.529           15.363          0.000        1.737  \n",
              "2           4.415           21.507          1.537        2.500  \n",
              "3           5.491           22.212        140.000        2.478  \n",
              "4           3.883           13.870          0.000        2.296  "
            ]
          },
          "metadata": {
            "tags": []
          },
          "execution_count": 6
        }
      ]
    },
    {
      "metadata": {
        "id": "sZmQ8DoWJJ_i",
        "colab_type": "text"
      },
      "cell_type": "markdown",
      "source": [
        "### Exploring the dataframe\n",
        "\n",
        "Now that we've read the dataset into a DataFrame, we can start using more Pandas DataFrame methods to explore the data. In the same way we have just used the head() to see the firts rows of the DataFrame, we can use the tail( ) method to see the last ones:"
      ]
    },
    {
      "metadata": {
        "id": "2ryPxJx14_j_",
        "colab_type": "code",
        "colab": {
          "base_uri": "https://localhost:8080/",
          "height": 204
        },
        "outputId": "83d283dc-5f37-44e0-c7b3-da0fa02f620d"
      },
      "cell_type": "code",
      "source": [
        "df.tail()"
      ],
      "execution_count": 21,
      "outputs": [
        {
          "output_type": "execute_result",
          "data": {
            "text/html": [
              "<div>\n",
              "<style scoped>\n",
              "    .dataframe tbody tr th:only-of-type {\n",
              "        vertical-align: middle;\n",
              "    }\n",
              "\n",
              "    .dataframe tbody tr th {\n",
              "        vertical-align: top;\n",
              "    }\n",
              "\n",
              "    .dataframe thead th {\n",
              "        text-align: right;\n",
              "    }\n",
              "</style>\n",
              "<table border=\"1\" class=\"dataframe\">\n",
              "  <thead>\n",
              "    <tr style=\"text-align: right;\">\n",
              "      <th></th>\n",
              "      <th>Mês</th>\n",
              "      <th>Empresa</th>\n",
              "      <th>Linha</th>\n",
              "      <th>Estudante_Cartao</th>\n",
              "      <th>Estudante_BT</th>\n",
              "      <th>Vale_Transporte</th>\n",
              "      <th>Integracao_Plena</th>\n",
              "      <th>Integracao_Complementar</th>\n",
              "      <th>Gratuito_Cartao</th>\n",
              "      <th>Gratuito_BT</th>\n",
              "      <th>Inteira_Cartao</th>\n",
              "      <th>Inteira_Especie</th>\n",
              "      <th>Tarifa_Social</th>\n",
              "      <th>Qtd_Viagens</th>\n",
              "    </tr>\n",
              "  </thead>\n",
              "  <tbody>\n",
              "    <tr>\n",
              "      <th>944</th>\n",
              "      <td>10</td>\n",
              "      <td>SANTA MARIA - URB</td>\n",
              "      <td>561</td>\n",
              "      <td>61.0</td>\n",
              "      <td>27.0</td>\n",
              "      <td>2029.0</td>\n",
              "      <td>536.0</td>\n",
              "      <td>0.0</td>\n",
              "      <td>131.0</td>\n",
              "      <td>7.0</td>\n",
              "      <td>219.0</td>\n",
              "      <td>695.0</td>\n",
              "      <td>120.0</td>\n",
              "      <td>340.0</td>\n",
              "    </tr>\n",
              "    <tr>\n",
              "      <th>945</th>\n",
              "      <td>10</td>\n",
              "      <td>VIA SUL - URB</td>\n",
              "      <td>50</td>\n",
              "      <td>48362.0</td>\n",
              "      <td>10350.0</td>\n",
              "      <td>71459.0</td>\n",
              "      <td>22085.0</td>\n",
              "      <td>215.0</td>\n",
              "      <td>18052.0</td>\n",
              "      <td>9226.0</td>\n",
              "      <td>14547.0</td>\n",
              "      <td>58611.0</td>\n",
              "      <td>8484.0</td>\n",
              "      <td>5172.0</td>\n",
              "    </tr>\n",
              "    <tr>\n",
              "      <th>946</th>\n",
              "      <td>10</td>\n",
              "      <td>VIA SUL - URB</td>\n",
              "      <td>51</td>\n",
              "      <td>30382.0</td>\n",
              "      <td>6422.0</td>\n",
              "      <td>25362.0</td>\n",
              "      <td>9241.0</td>\n",
              "      <td>0.0</td>\n",
              "      <td>10020.0</td>\n",
              "      <td>7065.0</td>\n",
              "      <td>6933.0</td>\n",
              "      <td>29185.0</td>\n",
              "      <td>2293.0</td>\n",
              "      <td>3265.0</td>\n",
              "    </tr>\n",
              "    <tr>\n",
              "      <th>947</th>\n",
              "      <td>10</td>\n",
              "      <td>VIA SUL - URB</td>\n",
              "      <td>52</td>\n",
              "      <td>21965.0</td>\n",
              "      <td>5475.0</td>\n",
              "      <td>23329.0</td>\n",
              "      <td>7763.0</td>\n",
              "      <td>0.0</td>\n",
              "      <td>10908.0</td>\n",
              "      <td>7764.0</td>\n",
              "      <td>6190.0</td>\n",
              "      <td>27879.0</td>\n",
              "      <td>2089.0</td>\n",
              "      <td>3120.0</td>\n",
              "    </tr>\n",
              "    <tr>\n",
              "      <th>948</th>\n",
              "      <td>10</td>\n",
              "      <td>VIA SUL - URB</td>\n",
              "      <td>65</td>\n",
              "      <td>14231.0</td>\n",
              "      <td>3355.0</td>\n",
              "      <td>14359.0</td>\n",
              "      <td>4247.0</td>\n",
              "      <td>0.0</td>\n",
              "      <td>4541.0</td>\n",
              "      <td>2308.0</td>\n",
              "      <td>3658.0</td>\n",
              "      <td>13157.0</td>\n",
              "      <td>0.0</td>\n",
              "      <td>1739.0</td>\n",
              "    </tr>\n",
              "  </tbody>\n",
              "</table>\n",
              "</div>"
            ],
            "text/plain": [
              "     Mês            Empresa  Linha  Estudante_Cartao  Estudante_BT  \\\n",
              "944   10  SANTA MARIA - URB    561              61.0          27.0   \n",
              "945   10      VIA SUL - URB     50           48362.0       10350.0   \n",
              "946   10      VIA SUL - URB     51           30382.0        6422.0   \n",
              "947   10      VIA SUL - URB     52           21965.0        5475.0   \n",
              "948   10      VIA SUL - URB     65           14231.0        3355.0   \n",
              "\n",
              "     Vale_Transporte  Integracao_Plena  Integracao_Complementar  \\\n",
              "944           2029.0             536.0                      0.0   \n",
              "945          71459.0           22085.0                    215.0   \n",
              "946          25362.0            9241.0                      0.0   \n",
              "947          23329.0            7763.0                      0.0   \n",
              "948          14359.0            4247.0                      0.0   \n",
              "\n",
              "     Gratuito_Cartao  Gratuito_BT  Inteira_Cartao  Inteira_Especie  \\\n",
              "944            131.0          7.0           219.0            695.0   \n",
              "945          18052.0       9226.0         14547.0          58611.0   \n",
              "946          10020.0       7065.0          6933.0          29185.0   \n",
              "947          10908.0       7764.0          6190.0          27879.0   \n",
              "948           4541.0       2308.0          3658.0          13157.0   \n",
              "\n",
              "     Tarifa_Social  Qtd_Viagens  \n",
              "944          120.0        340.0  \n",
              "945         8484.0       5172.0  \n",
              "946         2293.0       3265.0  \n",
              "947         2089.0       3120.0  \n",
              "948            0.0       1739.0  "
            ]
          },
          "metadata": {
            "tags": []
          },
          "execution_count": 21
        }
      ]
    },
    {
      "metadata": {
        "id": "MWybkX3u4-Ue",
        "colab_type": "text"
      },
      "cell_type": "markdown",
      "source": [
        "A new Dataframe containing 10 random samples of the original Dataframe can be created by using the sample( ) method:"
      ]
    },
    {
      "metadata": {
        "id": "0KscL5huJ0rY",
        "colab_type": "code",
        "outputId": "ecd9a893-04cd-4175-a9a9-d54522361997",
        "colab": {
          "base_uri": "https://localhost:8080/",
          "height": 359
        }
      },
      "cell_type": "code",
      "source": [
        "df.sample(10)"
      ],
      "execution_count": 22,
      "outputs": [
        {
          "output_type": "execute_result",
          "data": {
            "text/html": [
              "<div>\n",
              "<style scoped>\n",
              "    .dataframe tbody tr th:only-of-type {\n",
              "        vertical-align: middle;\n",
              "    }\n",
              "\n",
              "    .dataframe tbody tr th {\n",
              "        vertical-align: top;\n",
              "    }\n",
              "\n",
              "    .dataframe thead th {\n",
              "        text-align: right;\n",
              "    }\n",
              "</style>\n",
              "<table border=\"1\" class=\"dataframe\">\n",
              "  <thead>\n",
              "    <tr style=\"text-align: right;\">\n",
              "      <th></th>\n",
              "      <th>Mês</th>\n",
              "      <th>Empresa</th>\n",
              "      <th>Linha</th>\n",
              "      <th>Estudante_Cartao</th>\n",
              "      <th>Estudante_BT</th>\n",
              "      <th>Vale_Transporte</th>\n",
              "      <th>Integracao_Plena</th>\n",
              "      <th>Integracao_Complementar</th>\n",
              "      <th>Gratuito_Cartao</th>\n",
              "      <th>Gratuito_BT</th>\n",
              "      <th>Inteira_Cartao</th>\n",
              "      <th>Inteira_Especie</th>\n",
              "      <th>Tarifa_Social</th>\n",
              "      <th>Qtd_Viagens</th>\n",
              "    </tr>\n",
              "  </thead>\n",
              "  <tbody>\n",
              "    <tr>\n",
              "      <th>325</th>\n",
              "      <td>4</td>\n",
              "      <td>GUANABARA - URB</td>\n",
              "      <td>75</td>\n",
              "      <td>14.054</td>\n",
              "      <td>5.433</td>\n",
              "      <td>18.184</td>\n",
              "      <td>3.860</td>\n",
              "      <td>120.0</td>\n",
              "      <td>5.986</td>\n",
              "      <td>2.319</td>\n",
              "      <td>4.512</td>\n",
              "      <td>18.333</td>\n",
              "      <td>616.000</td>\n",
              "      <td>1.909</td>\n",
              "    </tr>\n",
              "    <tr>\n",
              "      <th>487</th>\n",
              "      <td>6</td>\n",
              "      <td>CONCEIÇÃO</td>\n",
              "      <td>599</td>\n",
              "      <td>8830.000</td>\n",
              "      <td>2806.000</td>\n",
              "      <td>14389.000</td>\n",
              "      <td>5953.000</td>\n",
              "      <td>7.0</td>\n",
              "      <td>4768.000</td>\n",
              "      <td>811.000</td>\n",
              "      <td>3536.000</td>\n",
              "      <td>9744.000</td>\n",
              "      <td>0.000</td>\n",
              "      <td>1385.000</td>\n",
              "    </tr>\n",
              "    <tr>\n",
              "      <th>556</th>\n",
              "      <td>6</td>\n",
              "      <td>SANTA MARIA - URB</td>\n",
              "      <td>54</td>\n",
              "      <td>27472.000</td>\n",
              "      <td>17008.000</td>\n",
              "      <td>36128.000</td>\n",
              "      <td>14230.000</td>\n",
              "      <td>0.0</td>\n",
              "      <td>10828.000</td>\n",
              "      <td>7197.000</td>\n",
              "      <td>7932.000</td>\n",
              "      <td>41499.000</td>\n",
              "      <td>0.000</td>\n",
              "      <td>3223.000</td>\n",
              "    </tr>\n",
              "    <tr>\n",
              "      <th>357</th>\n",
              "      <td>4</td>\n",
              "      <td>REUNIDAS</td>\n",
              "      <td>7847</td>\n",
              "      <td>23.672</td>\n",
              "      <td>11.535</td>\n",
              "      <td>33.532</td>\n",
              "      <td>7.260</td>\n",
              "      <td>95.0</td>\n",
              "      <td>11.067</td>\n",
              "      <td>4.995</td>\n",
              "      <td>9.012</td>\n",
              "      <td>33.191</td>\n",
              "      <td>1.345</td>\n",
              "      <td>2.588</td>\n",
              "    </tr>\n",
              "    <tr>\n",
              "      <th>876</th>\n",
              "      <td>10</td>\n",
              "      <td>DUNAS - URB</td>\n",
              "      <td>57</td>\n",
              "      <td>4165.000</td>\n",
              "      <td>804.000</td>\n",
              "      <td>3029.000</td>\n",
              "      <td>1242.000</td>\n",
              "      <td>0.0</td>\n",
              "      <td>1813.000</td>\n",
              "      <td>604.000</td>\n",
              "      <td>755.000</td>\n",
              "      <td>2672.000</td>\n",
              "      <td>0.000</td>\n",
              "      <td>500.000</td>\n",
              "    </tr>\n",
              "    <tr>\n",
              "      <th>13</th>\n",
              "      <td>1</td>\n",
              "      <td>CONCEIÇÃO</td>\n",
              "      <td>905</td>\n",
              "      <td>155.000</td>\n",
              "      <td>79.000</td>\n",
              "      <td>890.000</td>\n",
              "      <td>38.000</td>\n",
              "      <td>0.0</td>\n",
              "      <td>249.000</td>\n",
              "      <td>32.000</td>\n",
              "      <td>52.000</td>\n",
              "      <td>522.000</td>\n",
              "      <td>491.000</td>\n",
              "      <td>249.000</td>\n",
              "    </tr>\n",
              "    <tr>\n",
              "      <th>219</th>\n",
              "      <td>3</td>\n",
              "      <td>GUANABARA - URB</td>\n",
              "      <td>4</td>\n",
              "      <td>13.369</td>\n",
              "      <td>10.562</td>\n",
              "      <td>33.885</td>\n",
              "      <td>7.357</td>\n",
              "      <td>1.0</td>\n",
              "      <td>4.927</td>\n",
              "      <td>2.675</td>\n",
              "      <td>4.070</td>\n",
              "      <td>23.109</td>\n",
              "      <td>977.000</td>\n",
              "      <td>2.244</td>\n",
              "    </tr>\n",
              "    <tr>\n",
              "      <th>521</th>\n",
              "      <td>6</td>\n",
              "      <td>GUANABARA - URB</td>\n",
              "      <td>592</td>\n",
              "      <td>1588.000</td>\n",
              "      <td>392.000</td>\n",
              "      <td>1817.000</td>\n",
              "      <td>407.000</td>\n",
              "      <td>55.0</td>\n",
              "      <td>1026.000</td>\n",
              "      <td>244.000</td>\n",
              "      <td>366.000</td>\n",
              "      <td>1243.000</td>\n",
              "      <td>0.000</td>\n",
              "      <td>675.000</td>\n",
              "    </tr>\n",
              "    <tr>\n",
              "      <th>670</th>\n",
              "      <td>8</td>\n",
              "      <td>CONCEIÇÃO</td>\n",
              "      <td>76</td>\n",
              "      <td>4329.000</td>\n",
              "      <td>1428.000</td>\n",
              "      <td>7847.000</td>\n",
              "      <td>1701.000</td>\n",
              "      <td>57.0</td>\n",
              "      <td>3852.000</td>\n",
              "      <td>1316.000</td>\n",
              "      <td>1660.000</td>\n",
              "      <td>9830.000</td>\n",
              "      <td>0.000</td>\n",
              "      <td>700.000</td>\n",
              "    </tr>\n",
              "    <tr>\n",
              "      <th>273</th>\n",
              "      <td>3</td>\n",
              "      <td>SANTA MARIA - URB</td>\n",
              "      <td>48</td>\n",
              "      <td>17.962</td>\n",
              "      <td>10.429</td>\n",
              "      <td>16.002</td>\n",
              "      <td>7.693</td>\n",
              "      <td>0.0</td>\n",
              "      <td>8.347</td>\n",
              "      <td>4.397</td>\n",
              "      <td>3.446</td>\n",
              "      <td>19.621</td>\n",
              "      <td>459.000</td>\n",
              "      <td>2.105</td>\n",
              "    </tr>\n",
              "  </tbody>\n",
              "</table>\n",
              "</div>"
            ],
            "text/plain": [
              "     Mês            Empresa  Linha  Estudante_Cartao  Estudante_BT  \\\n",
              "325    4    GUANABARA - URB     75            14.054         5.433   \n",
              "487    6          CONCEIÇÃO    599          8830.000      2806.000   \n",
              "556    6  SANTA MARIA - URB     54         27472.000     17008.000   \n",
              "357    4           REUNIDAS   7847            23.672        11.535   \n",
              "876   10        DUNAS - URB     57          4165.000       804.000   \n",
              "13     1          CONCEIÇÃO    905           155.000        79.000   \n",
              "219    3    GUANABARA - URB      4            13.369        10.562   \n",
              "521    6    GUANABARA - URB    592          1588.000       392.000   \n",
              "670    8          CONCEIÇÃO     76          4329.000      1428.000   \n",
              "273    3  SANTA MARIA - URB     48            17.962        10.429   \n",
              "\n",
              "     Vale_Transporte  Integracao_Plena  Integracao_Complementar  \\\n",
              "325           18.184             3.860                    120.0   \n",
              "487        14389.000          5953.000                      7.0   \n",
              "556        36128.000         14230.000                      0.0   \n",
              "357           33.532             7.260                     95.0   \n",
              "876         3029.000          1242.000                      0.0   \n",
              "13           890.000            38.000                      0.0   \n",
              "219           33.885             7.357                      1.0   \n",
              "521         1817.000           407.000                     55.0   \n",
              "670         7847.000          1701.000                     57.0   \n",
              "273           16.002             7.693                      0.0   \n",
              "\n",
              "     Gratuito_Cartao  Gratuito_BT  Inteira_Cartao  Inteira_Especie  \\\n",
              "325            5.986        2.319           4.512           18.333   \n",
              "487         4768.000      811.000        3536.000         9744.000   \n",
              "556        10828.000     7197.000        7932.000        41499.000   \n",
              "357           11.067        4.995           9.012           33.191   \n",
              "876         1813.000      604.000         755.000         2672.000   \n",
              "13           249.000       32.000          52.000          522.000   \n",
              "219            4.927        2.675           4.070           23.109   \n",
              "521         1026.000      244.000         366.000         1243.000   \n",
              "670         3852.000     1316.000        1660.000         9830.000   \n",
              "273            8.347        4.397           3.446           19.621   \n",
              "\n",
              "     Tarifa_Social  Qtd_Viagens  \n",
              "325        616.000        1.909  \n",
              "487          0.000     1385.000  \n",
              "556          0.000     3223.000  \n",
              "357          1.345        2.588  \n",
              "876          0.000      500.000  \n",
              "13         491.000      249.000  \n",
              "219        977.000        2.244  \n",
              "521          0.000      675.000  \n",
              "670          0.000      700.000  \n",
              "273        459.000        2.105  "
            ]
          },
          "metadata": {
            "tags": []
          },
          "execution_count": 22
        }
      ]
    },
    {
      "metadata": {
        "id": "ueHuZqKCNY29",
        "colab_type": "text"
      },
      "cell_type": "markdown",
      "source": [
        "By these Dataframe printouts, it is possible to overview data structure (rows, columns and cells). A better understanding of the study Dataframe can be obtained with a series of Pandas Dataframe methods:"
      ]
    },
    {
      "metadata": {
        "id": "Un1bIFNH8GCe",
        "colab_type": "code",
        "outputId": "c7e9e942-7f7c-4481-a1d8-0c760530145d",
        "colab": {
          "base_uri": "https://localhost:8080/",
          "height": 34
        }
      },
      "cell_type": "code",
      "source": [
        "#get the shape of the df\n",
        "df.shape\n"
      ],
      "execution_count": 8,
      "outputs": [
        {
          "output_type": "execute_result",
          "data": {
            "text/plain": [
              "(949, 14)"
            ]
          },
          "metadata": {
            "tags": []
          },
          "execution_count": 8
        }
      ]
    },
    {
      "metadata": {
        "id": "lSDca6FQN42B",
        "colab_type": "code",
        "outputId": "cc50baab-51ec-406f-bde2-79bab6e06675",
        "colab": {
          "base_uri": "https://localhost:8080/",
          "height": 340
        }
      },
      "cell_type": "code",
      "source": [
        "# show the basic information about the dataset (columns, sizes, column types, etc)\n",
        "df.info()"
      ],
      "execution_count": 9,
      "outputs": [
        {
          "output_type": "stream",
          "text": [
            "<class 'pandas.core.frame.DataFrame'>\n",
            "RangeIndex: 949 entries, 0 to 948\n",
            "Data columns (total 14 columns):\n",
            "Mês                        949 non-null int64\n",
            "Empresa                    949 non-null object\n",
            "Linha                      949 non-null int64\n",
            "Estudante_Cartao           949 non-null float64\n",
            "Estudante_BT               949 non-null float64\n",
            "Vale_Transporte            949 non-null float64\n",
            "Integracao_Plena           949 non-null float64\n",
            "Integracao_Complementar    949 non-null float64\n",
            "Gratuito_Cartao            949 non-null float64\n",
            "Gratuito_BT                949 non-null float64\n",
            "Inteira_Cartao             949 non-null float64\n",
            "Inteira_Especie            949 non-null float64\n",
            "Tarifa_Social              949 non-null float64\n",
            "Qtd_Viagens                949 non-null float64\n",
            "dtypes: float64(11), int64(2), object(1)\n",
            "memory usage: 103.9+ KB\n"
          ],
          "name": "stdout"
        }
      ]
    },
    {
      "metadata": {
        "id": "EAUudXcPOeCM",
        "colab_type": "code",
        "outputId": "42a612cf-ea29-4c9d-cfc5-9d6536c30a52",
        "colab": {
          "base_uri": "https://localhost:8080/",
          "height": 297
        }
      },
      "cell_type": "code",
      "source": [
        "# describe statistical information about the numerical columns\n",
        "df.describe()"
      ],
      "execution_count": 10,
      "outputs": [
        {
          "output_type": "execute_result",
          "data": {
            "text/html": [
              "<div>\n",
              "<style scoped>\n",
              "    .dataframe tbody tr th:only-of-type {\n",
              "        vertical-align: middle;\n",
              "    }\n",
              "\n",
              "    .dataframe tbody tr th {\n",
              "        vertical-align: top;\n",
              "    }\n",
              "\n",
              "    .dataframe thead th {\n",
              "        text-align: right;\n",
              "    }\n",
              "</style>\n",
              "<table border=\"1\" class=\"dataframe\">\n",
              "  <thead>\n",
              "    <tr style=\"text-align: right;\">\n",
              "      <th></th>\n",
              "      <th>Mês</th>\n",
              "      <th>Linha</th>\n",
              "      <th>Estudante_Cartao</th>\n",
              "      <th>Estudante_BT</th>\n",
              "      <th>Vale_Transporte</th>\n",
              "      <th>Integracao_Plena</th>\n",
              "      <th>Integracao_Complementar</th>\n",
              "      <th>Gratuito_Cartao</th>\n",
              "      <th>Gratuito_BT</th>\n",
              "      <th>Inteira_Cartao</th>\n",
              "      <th>Inteira_Especie</th>\n",
              "      <th>Tarifa_Social</th>\n",
              "      <th>Qtd_Viagens</th>\n",
              "    </tr>\n",
              "  </thead>\n",
              "  <tbody>\n",
              "    <tr>\n",
              "      <th>count</th>\n",
              "      <td>949.000000</td>\n",
              "      <td>949.000000</td>\n",
              "      <td>949.000000</td>\n",
              "      <td>949.000000</td>\n",
              "      <td>949.000000</td>\n",
              "      <td>949.000000</td>\n",
              "      <td>949.000000</td>\n",
              "      <td>949.000000</td>\n",
              "      <td>949.000000</td>\n",
              "      <td>949.000000</td>\n",
              "      <td>949.000000</td>\n",
              "      <td>949.000000</td>\n",
              "      <td>949.000000</td>\n",
              "    </tr>\n",
              "    <tr>\n",
              "      <th>mean</th>\n",
              "      <td>5.492097</td>\n",
              "      <td>1109.404636</td>\n",
              "      <td>7410.613845</td>\n",
              "      <td>2328.857335</td>\n",
              "      <td>10773.196672</td>\n",
              "      <td>3142.489758</td>\n",
              "      <td>70.314604</td>\n",
              "      <td>3736.196684</td>\n",
              "      <td>1852.104958</td>\n",
              "      <td>2381.738394</td>\n",
              "      <td>10533.645599</td>\n",
              "      <td>489.891953</td>\n",
              "      <td>1034.513133</td>\n",
              "    </tr>\n",
              "    <tr>\n",
              "      <th>std</th>\n",
              "      <td>2.884410</td>\n",
              "      <td>2239.082157</td>\n",
              "      <td>11892.630953</td>\n",
              "      <td>4004.715689</td>\n",
              "      <td>17442.582959</td>\n",
              "      <td>5382.396103</td>\n",
              "      <td>155.008061</td>\n",
              "      <td>5853.841755</td>\n",
              "      <td>2824.474806</td>\n",
              "      <td>3602.624978</td>\n",
              "      <td>16393.121063</td>\n",
              "      <td>1446.414320</td>\n",
              "      <td>1303.173175</td>\n",
              "    </tr>\n",
              "    <tr>\n",
              "      <th>min</th>\n",
              "      <td>1.000000</td>\n",
              "      <td>2.000000</td>\n",
              "      <td>0.000000</td>\n",
              "      <td>0.000000</td>\n",
              "      <td>0.000000</td>\n",
              "      <td>0.000000</td>\n",
              "      <td>0.000000</td>\n",
              "      <td>0.000000</td>\n",
              "      <td>0.000000</td>\n",
              "      <td>0.000000</td>\n",
              "      <td>0.000000</td>\n",
              "      <td>0.000000</td>\n",
              "      <td>1.000000</td>\n",
              "    </tr>\n",
              "    <tr>\n",
              "      <th>25%</th>\n",
              "      <td>3.000000</td>\n",
              "      <td>39.000000</td>\n",
              "      <td>11.796000</td>\n",
              "      <td>6.554000</td>\n",
              "      <td>19.368000</td>\n",
              "      <td>6.418000</td>\n",
              "      <td>0.000000</td>\n",
              "      <td>8.371000</td>\n",
              "      <td>4.458000</td>\n",
              "      <td>5.582000</td>\n",
              "      <td>19.119000</td>\n",
              "      <td>0.000000</td>\n",
              "      <td>2.918000</td>\n",
              "    </tr>\n",
              "    <tr>\n",
              "      <th>50%</th>\n",
              "      <td>5.000000</td>\n",
              "      <td>75.000000</td>\n",
              "      <td>162.000000</td>\n",
              "      <td>158.000000</td>\n",
              "      <td>313.000000</td>\n",
              "      <td>364.000000</td>\n",
              "      <td>0.000000</td>\n",
              "      <td>270.000000</td>\n",
              "      <td>381.000000</td>\n",
              "      <td>319.000000</td>\n",
              "      <td>271.000000</td>\n",
              "      <td>1.305000</td>\n",
              "      <td>434.000000</td>\n",
              "    </tr>\n",
              "    <tr>\n",
              "      <th>75%</th>\n",
              "      <td>8.000000</td>\n",
              "      <td>599.000000</td>\n",
              "      <td>10670.000000</td>\n",
              "      <td>3239.000000</td>\n",
              "      <td>15774.000000</td>\n",
              "      <td>4184.000000</td>\n",
              "      <td>65.000000</td>\n",
              "      <td>6141.000000</td>\n",
              "      <td>2991.000000</td>\n",
              "      <td>3746.000000</td>\n",
              "      <td>17110.000000</td>\n",
              "      <td>381.000000</td>\n",
              "      <td>1829.000000</td>\n",
              "    </tr>\n",
              "    <tr>\n",
              "      <th>max</th>\n",
              "      <td>10.000000</td>\n",
              "      <td>9018.000000</td>\n",
              "      <td>64442.000000</td>\n",
              "      <td>29076.000000</td>\n",
              "      <td>112950.000000</td>\n",
              "      <td>35284.000000</td>\n",
              "      <td>1309.000000</td>\n",
              "      <td>37702.000000</td>\n",
              "      <td>17586.000000</td>\n",
              "      <td>18331.000000</td>\n",
              "      <td>88285.000000</td>\n",
              "      <td>17298.000000</td>\n",
              "      <td>5407.000000</td>\n",
              "    </tr>\n",
              "  </tbody>\n",
              "</table>\n",
              "</div>"
            ],
            "text/plain": [
              "              Mês        Linha  Estudante_Cartao  Estudante_BT  \\\n",
              "count  949.000000   949.000000        949.000000    949.000000   \n",
              "mean     5.492097  1109.404636       7410.613845   2328.857335   \n",
              "std      2.884410  2239.082157      11892.630953   4004.715689   \n",
              "min      1.000000     2.000000          0.000000      0.000000   \n",
              "25%      3.000000    39.000000         11.796000      6.554000   \n",
              "50%      5.000000    75.000000        162.000000    158.000000   \n",
              "75%      8.000000   599.000000      10670.000000   3239.000000   \n",
              "max     10.000000  9018.000000      64442.000000  29076.000000   \n",
              "\n",
              "       Vale_Transporte  Integracao_Plena  Integracao_Complementar  \\\n",
              "count       949.000000        949.000000               949.000000   \n",
              "mean      10773.196672       3142.489758                70.314604   \n",
              "std       17442.582959       5382.396103               155.008061   \n",
              "min           0.000000          0.000000                 0.000000   \n",
              "25%          19.368000          6.418000                 0.000000   \n",
              "50%         313.000000        364.000000                 0.000000   \n",
              "75%       15774.000000       4184.000000                65.000000   \n",
              "max      112950.000000      35284.000000              1309.000000   \n",
              "\n",
              "       Gratuito_Cartao   Gratuito_BT  Inteira_Cartao  Inteira_Especie  \\\n",
              "count       949.000000    949.000000      949.000000       949.000000   \n",
              "mean       3736.196684   1852.104958     2381.738394     10533.645599   \n",
              "std        5853.841755   2824.474806     3602.624978     16393.121063   \n",
              "min           0.000000      0.000000        0.000000         0.000000   \n",
              "25%           8.371000      4.458000        5.582000        19.119000   \n",
              "50%         270.000000    381.000000      319.000000       271.000000   \n",
              "75%        6141.000000   2991.000000     3746.000000     17110.000000   \n",
              "max       37702.000000  17586.000000    18331.000000     88285.000000   \n",
              "\n",
              "       Tarifa_Social  Qtd_Viagens  \n",
              "count     949.000000   949.000000  \n",
              "mean      489.891953  1034.513133  \n",
              "std      1446.414320  1303.173175  \n",
              "min         0.000000     1.000000  \n",
              "25%         0.000000     2.918000  \n",
              "50%         1.305000   434.000000  \n",
              "75%       381.000000  1829.000000  \n",
              "max     17298.000000  5407.000000  "
            ]
          },
          "metadata": {
            "tags": []
          },
          "execution_count": 10
        }
      ]
    },
    {
      "metadata": {
        "id": "wSIGGR_MvLtM",
        "colab_type": "text"
      },
      "cell_type": "markdown",
      "source": [
        "# Basic concepts and operations in pandas"
      ]
    },
    {
      "metadata": {
        "id": "uiDhLqkIvRKZ",
        "colab_type": "text"
      },
      "cell_type": "markdown",
      "source": [
        "## Indexing\n",
        "\n",
        "When you read in a file into a DataFrame, pandas uses the values in the first row (also known as the header) for the column labels and the row number for the row labels. Collectively, the labels are referred to as the index. DataFrames contain both a row index and a column index. Here's a diagram that displays some of the column and row labels for data:\n",
        "\n",
        "![Pandas Datafrane](https://raw.githubusercontent.com/ivanovitchm/cba2018/master/1-intro-pandas/indexing.png)\n",
        "\n",
        "The labels allow us to refer to values in the DataFrame, which we'll learn more about in the rest of this notebook."
      ]
    },
    {
      "metadata": {
        "id": "Mj3I8YDvxuyV",
        "colab_type": "text"
      },
      "cell_type": "markdown",
      "source": [
        "## Data types\n",
        "\n",
        "When you displayed individual rows, represented as Series objects, you may have noticed the text \"dtype: object\" after the last value. \"dtype: object\" refers to the data type, or dtype, of that Series. The object dtype is equivalent to the string type in Python. Pandas borrows from the NumPy type system and contains the following dtypes:\n",
        "\n",
        "* \"object\" - for representing string values.\n",
        "* \"int\" - for representing integer values.\n",
        "* \"float\" - for representing float values.\n",
        "* \"datatime\" - for representing time values.\n",
        "* \"bool\" - for representing Boolean values.\n",
        "\n",
        "When reading a file into a DataFrame, pandas analyzes the values and infers each column's types. To access the types - for each column, use the DataFrame.dtypes attribute to return a Series containing each column name and its corresponding type. It is also possible to specify column's types at the moment of reading data into Pandas by using the dtype attribute in read_csv(). Read more about data types on the [Pandas documentation](https://pandas.pydata.org/pandas-docs/stable/).\n",
        "\n",
        "Sometimes we can encounter the value - \"NaN\" - for representing Not a Number, in other words is value that pandas dosen't know how to represent, normally it's associated with missing values."
      ]
    },
    {
      "metadata": {
        "id": "7TeXVf9RzQ3O",
        "colab_type": "code",
        "colab": {
          "base_uri": "https://localhost:8080/",
          "height": 272
        },
        "outputId": "4a1705fb-af1d-40ce-cae0-80515ad2fd80"
      },
      "cell_type": "code",
      "source": [
        "df.dtypes"
      ],
      "execution_count": 15,
      "outputs": [
        {
          "output_type": "execute_result",
          "data": {
            "text/plain": [
              "Mês                          int64\n",
              "Empresa                     object\n",
              "Linha                        int64\n",
              "Estudante_Cartao           float64\n",
              "Estudante_BT               float64\n",
              "Vale_Transporte            float64\n",
              "Integracao_Plena           float64\n",
              "Integracao_Complementar    float64\n",
              "Gratuito_Cartao            float64\n",
              "Gratuito_BT                float64\n",
              "Inteira_Cartao             float64\n",
              "Inteira_Especie            float64\n",
              "Tarifa_Social              float64\n",
              "Qtd_Viagens                float64\n",
              "dtype: object"
            ]
          },
          "metadata": {
            "tags": []
          },
          "execution_count": 15
        }
      ]
    },
    {
      "metadata": {
        "id": "V5A32iv4wvTJ",
        "colab_type": "text"
      },
      "cell_type": "markdown",
      "source": [
        "## Series\n",
        "The Series object is a core data structure that Pandas uses to represent rows and columns. A Series is a labelled collection of values similar to the NumPy vector. The main advantage of Series objects is the ability to utilize non-integer labels. NumPy arrays can only utilize integer labels for indexing.\n",
        "Pandas utilizes this feature to provide more context when returning a row or a column from a DataFrame. For example, when you select a row from a DataFrame, instead of just returning the values in that row as a list, pandas returns a Series object that contains the column labels as well as the corresponding values:\n",
        "The Series object representing the first row looks like:\n",
        "\n",
        "## Selecting a row\n",
        "While we use bracket notation to access elements in a NumPy array or a standard list, we need to use the Pandas method loc[] to select rows in a DataFrame. The loc[] method allows you to select rows by row labels. Recall that when you read a file into a dataframe, pandas uses the row number (or position) as each row's label. Pandas uses zero-indexing, so the first row is at index 0, the second row at index 1, and so on.\n",
        "If you're interested in accessing a single row, pass in the row label to the loc[] method. Also, Python will return an error if you don't pass in a valid row label. For example, the following line takes the seventh row:"
      ]
    },
    {
      "metadata": {
        "id": "cI4PIhKsvb3o",
        "colab_type": "code",
        "colab": {
          "base_uri": "https://localhost:8080/",
          "height": 272
        },
        "outputId": "80361b7d-b6aa-43bf-bdd1-f6824d081109"
      },
      "cell_type": "code",
      "source": [
        "# Series object representing the seventh row.\n",
        "df.loc[6]"
      ],
      "execution_count": 12,
      "outputs": [
        {
          "output_type": "execute_result",
          "data": {
            "text/plain": [
              "Mês                                1\n",
              "Empresa                    CONCEIÇÃO\n",
              "Linha                             63\n",
              "Estudante_Cartao              21.918\n",
              "Estudante_BT                  14.054\n",
              "Vale_Transporte               44.118\n",
              "Integracao_Plena               14.63\n",
              "Integracao_Complementar            0\n",
              "Gratuito_Cartao               15.034\n",
              "Gratuito_BT                    5.771\n",
              "Inteira_Cartao                 7.765\n",
              "Inteira_Especie               39.855\n",
              "Tarifa_Social                  3.182\n",
              "Qtd_Viagens                    3.768\n",
              "Name: 6, dtype: object"
            ]
          },
          "metadata": {
            "tags": []
          },
          "execution_count": 12
        }
      ]
    },
    {
      "metadata": {
        "id": "P4E6i_GSxeVb",
        "colab_type": "text"
      },
      "cell_type": "markdown",
      "source": [
        "## Selecting Multiple Rows\n",
        "\n",
        "If you're interested in accessing multiple rows of the DataFrame, you can pass in either a slice of row labels or a list of row labels, and pandas will return a DataFrame. Note that unlike slicing lists in Python, a slice of a DataFrame using .loc[] will include both the start and the end row:"
      ]
    },
    {
      "metadata": {
        "id": "GW0fAaRyw7MG",
        "colab_type": "code",
        "colab": {
          "base_uri": "https://localhost:8080/",
          "height": 173
        },
        "outputId": "d4a045e7-f7ed-471b-a09a-9b6ec0af2651"
      },
      "cell_type": "code",
      "source": [
        "# DataFrame containing the rows at index 3, 4, 5, and 6 returned.\n",
        "df.loc[3:6]"
      ],
      "execution_count": 14,
      "outputs": [
        {
          "output_type": "execute_result",
          "data": {
            "text/html": [
              "<div>\n",
              "<style scoped>\n",
              "    .dataframe tbody tr th:only-of-type {\n",
              "        vertical-align: middle;\n",
              "    }\n",
              "\n",
              "    .dataframe tbody tr th {\n",
              "        vertical-align: top;\n",
              "    }\n",
              "\n",
              "    .dataframe thead th {\n",
              "        text-align: right;\n",
              "    }\n",
              "</style>\n",
              "<table border=\"1\" class=\"dataframe\">\n",
              "  <thead>\n",
              "    <tr style=\"text-align: right;\">\n",
              "      <th></th>\n",
              "      <th>Mês</th>\n",
              "      <th>Empresa</th>\n",
              "      <th>Linha</th>\n",
              "      <th>Estudante_Cartao</th>\n",
              "      <th>Estudante_BT</th>\n",
              "      <th>Vale_Transporte</th>\n",
              "      <th>Integracao_Plena</th>\n",
              "      <th>Integracao_Complementar</th>\n",
              "      <th>Gratuito_Cartao</th>\n",
              "      <th>Gratuito_BT</th>\n",
              "      <th>Inteira_Cartao</th>\n",
              "      <th>Inteira_Especie</th>\n",
              "      <th>Tarifa_Social</th>\n",
              "      <th>Qtd_Viagens</th>\n",
              "    </tr>\n",
              "  </thead>\n",
              "  <tbody>\n",
              "    <tr>\n",
              "      <th>3</th>\n",
              "      <td>1</td>\n",
              "      <td>CONCEIÇÃO</td>\n",
              "      <td>31</td>\n",
              "      <td>9.631</td>\n",
              "      <td>6.020</td>\n",
              "      <td>23.460</td>\n",
              "      <td>7.587</td>\n",
              "      <td>0.0</td>\n",
              "      <td>7.065</td>\n",
              "      <td>2.922</td>\n",
              "      <td>5.491</td>\n",
              "      <td>22.212</td>\n",
              "      <td>140.000</td>\n",
              "      <td>2.478</td>\n",
              "    </tr>\n",
              "    <tr>\n",
              "      <th>4</th>\n",
              "      <td>1</td>\n",
              "      <td>CONCEIÇÃO</td>\n",
              "      <td>41</td>\n",
              "      <td>6.556</td>\n",
              "      <td>4.038</td>\n",
              "      <td>20.388</td>\n",
              "      <td>7.924</td>\n",
              "      <td>0.0</td>\n",
              "      <td>5.704</td>\n",
              "      <td>2.791</td>\n",
              "      <td>3.883</td>\n",
              "      <td>13.870</td>\n",
              "      <td>0.000</td>\n",
              "      <td>2.296</td>\n",
              "    </tr>\n",
              "    <tr>\n",
              "      <th>5</th>\n",
              "      <td>1</td>\n",
              "      <td>CONCEIÇÃO</td>\n",
              "      <td>59</td>\n",
              "      <td>8.184</td>\n",
              "      <td>6.086</td>\n",
              "      <td>22.623</td>\n",
              "      <td>7.332</td>\n",
              "      <td>0.0</td>\n",
              "      <td>13.514</td>\n",
              "      <td>4.373</td>\n",
              "      <td>4.622</td>\n",
              "      <td>29.075</td>\n",
              "      <td>4.573</td>\n",
              "      <td>2.650</td>\n",
              "    </tr>\n",
              "    <tr>\n",
              "      <th>6</th>\n",
              "      <td>1</td>\n",
              "      <td>CONCEIÇÃO</td>\n",
              "      <td>63</td>\n",
              "      <td>21.918</td>\n",
              "      <td>14.054</td>\n",
              "      <td>44.118</td>\n",
              "      <td>14.630</td>\n",
              "      <td>0.0</td>\n",
              "      <td>15.034</td>\n",
              "      <td>5.771</td>\n",
              "      <td>7.765</td>\n",
              "      <td>39.855</td>\n",
              "      <td>3.182</td>\n",
              "      <td>3.768</td>\n",
              "    </tr>\n",
              "  </tbody>\n",
              "</table>\n",
              "</div>"
            ],
            "text/plain": [
              "   Mês    Empresa  Linha  Estudante_Cartao  Estudante_BT  Vale_Transporte  \\\n",
              "3    1  CONCEIÇÃO     31             9.631         6.020           23.460   \n",
              "4    1  CONCEIÇÃO     41             6.556         4.038           20.388   \n",
              "5    1  CONCEIÇÃO     59             8.184         6.086           22.623   \n",
              "6    1  CONCEIÇÃO     63            21.918        14.054           44.118   \n",
              "\n",
              "   Integracao_Plena  Integracao_Complementar  Gratuito_Cartao  Gratuito_BT  \\\n",
              "3             7.587                      0.0            7.065        2.922   \n",
              "4             7.924                      0.0            5.704        2.791   \n",
              "5             7.332                      0.0           13.514        4.373   \n",
              "6            14.630                      0.0           15.034        5.771   \n",
              "\n",
              "   Inteira_Cartao  Inteira_Especie  Tarifa_Social  Qtd_Viagens  \n",
              "3           5.491           22.212        140.000        2.478  \n",
              "4           3.883           13.870          0.000        2.296  \n",
              "5           4.622           29.075          4.573        2.650  \n",
              "6           7.765           39.855          3.182        3.768  "
            ]
          },
          "metadata": {
            "tags": []
          },
          "execution_count": 14
        }
      ]
    },
    {
      "metadata": {
        "id": "bTT3MoUFz6u2",
        "colab_type": "code",
        "colab": {
          "base_uri": "https://localhost:8080/",
          "height": 142
        },
        "outputId": "5f229a74-5531-40bd-f64a-bc37880f1d66"
      },
      "cell_type": "code",
      "source": [
        "# DataFrame containing the rows at index 2, 5, and 10 returned\n",
        "df.loc[[2,5,10]]"
      ],
      "execution_count": 17,
      "outputs": [
        {
          "output_type": "execute_result",
          "data": {
            "text/html": [
              "<div>\n",
              "<style scoped>\n",
              "    .dataframe tbody tr th:only-of-type {\n",
              "        vertical-align: middle;\n",
              "    }\n",
              "\n",
              "    .dataframe tbody tr th {\n",
              "        vertical-align: top;\n",
              "    }\n",
              "\n",
              "    .dataframe thead th {\n",
              "        text-align: right;\n",
              "    }\n",
              "</style>\n",
              "<table border=\"1\" class=\"dataframe\">\n",
              "  <thead>\n",
              "    <tr style=\"text-align: right;\">\n",
              "      <th></th>\n",
              "      <th>Mês</th>\n",
              "      <th>Empresa</th>\n",
              "      <th>Linha</th>\n",
              "      <th>Estudante_Cartao</th>\n",
              "      <th>Estudante_BT</th>\n",
              "      <th>Vale_Transporte</th>\n",
              "      <th>Integracao_Plena</th>\n",
              "      <th>Integracao_Complementar</th>\n",
              "      <th>Gratuito_Cartao</th>\n",
              "      <th>Gratuito_BT</th>\n",
              "      <th>Inteira_Cartao</th>\n",
              "      <th>Inteira_Especie</th>\n",
              "      <th>Tarifa_Social</th>\n",
              "      <th>Qtd_Viagens</th>\n",
              "    </tr>\n",
              "  </thead>\n",
              "  <tbody>\n",
              "    <tr>\n",
              "      <th>2</th>\n",
              "      <td>1</td>\n",
              "      <td>CONCEIÇÃO</td>\n",
              "      <td>30</td>\n",
              "      <td>8.519</td>\n",
              "      <td>5.614</td>\n",
              "      <td>20.580</td>\n",
              "      <td>5.346</td>\n",
              "      <td>0.0</td>\n",
              "      <td>7.265</td>\n",
              "      <td>3.191</td>\n",
              "      <td>4.415</td>\n",
              "      <td>21.507</td>\n",
              "      <td>1.537</td>\n",
              "      <td>2.500</td>\n",
              "    </tr>\n",
              "    <tr>\n",
              "      <th>5</th>\n",
              "      <td>1</td>\n",
              "      <td>CONCEIÇÃO</td>\n",
              "      <td>59</td>\n",
              "      <td>8.184</td>\n",
              "      <td>6.086</td>\n",
              "      <td>22.623</td>\n",
              "      <td>7.332</td>\n",
              "      <td>0.0</td>\n",
              "      <td>13.514</td>\n",
              "      <td>4.373</td>\n",
              "      <td>4.622</td>\n",
              "      <td>29.075</td>\n",
              "      <td>4.573</td>\n",
              "      <td>2.650</td>\n",
              "    </tr>\n",
              "    <tr>\n",
              "      <th>10</th>\n",
              "      <td>1</td>\n",
              "      <td>CONCEIÇÃO</td>\n",
              "      <td>411</td>\n",
              "      <td>5.208</td>\n",
              "      <td>2.869</td>\n",
              "      <td>10.397</td>\n",
              "      <td>4.330</td>\n",
              "      <td>0.0</td>\n",
              "      <td>4.723</td>\n",
              "      <td>1.654</td>\n",
              "      <td>2.676</td>\n",
              "      <td>11.043</td>\n",
              "      <td>580.000</td>\n",
              "      <td>1.095</td>\n",
              "    </tr>\n",
              "  </tbody>\n",
              "</table>\n",
              "</div>"
            ],
            "text/plain": [
              "    Mês    Empresa  Linha  Estudante_Cartao  Estudante_BT  Vale_Transporte  \\\n",
              "2     1  CONCEIÇÃO     30             8.519         5.614           20.580   \n",
              "5     1  CONCEIÇÃO     59             8.184         6.086           22.623   \n",
              "10    1  CONCEIÇÃO    411             5.208         2.869           10.397   \n",
              "\n",
              "    Integracao_Plena  Integracao_Complementar  Gratuito_Cartao  Gratuito_BT  \\\n",
              "2              5.346                      0.0            7.265        3.191   \n",
              "5              7.332                      0.0           13.514        4.373   \n",
              "10             4.330                      0.0            4.723        1.654   \n",
              "\n",
              "    Inteira_Cartao  Inteira_Especie  Tarifa_Social  Qtd_Viagens  \n",
              "2            4.415           21.507          1.537        2.500  \n",
              "5            4.622           29.075          4.573        2.650  \n",
              "10           2.676           11.043        580.000        1.095  "
            ]
          },
          "metadata": {
            "tags": []
          },
          "execution_count": 17
        }
      ]
    },
    {
      "metadata": {
        "id": "GCC5gskz1ArG",
        "colab_type": "text"
      },
      "cell_type": "markdown",
      "source": [
        "### Exercise\n",
        "\n",
        "![alt text](https://cdn.dribbble.com/users/2344801/screenshots/4774578/alphatestersanimation2.gif =150x120)\n",
        "\n",
        "Select the last 10 rows of our dataframe and assign to the variable last_rows. #tip: use .iloc[] method.\n"
      ]
    },
    {
      "metadata": {
        "id": "4d7ukO432gkm",
        "colab_type": "code",
        "colab": {}
      },
      "cell_type": "code",
      "source": [
        "# put your code in this cell"
      ],
      "execution_count": 0,
      "outputs": []
    },
    {
      "metadata": {
        "id": "ixdpcfYq3d1T",
        "colab_type": "text"
      },
      "cell_type": "markdown",
      "source": [
        "## Selecting Individual Columns\n",
        "\n",
        "When accessing a column in a DataFrame, Pandas returns a Series object containing the row label and each row's value for that column. To access a single column, use bracket notation and pass in the column name as a string:"
      ]
    },
    {
      "metadata": {
        "id": "UJp8DZYcxjIS",
        "colab_type": "code",
        "colab": {
          "base_uri": "https://localhost:8080/",
          "height": 1071
        },
        "outputId": "de105297-c08b-4711-86b6-d05aba646758"
      },
      "cell_type": "code",
      "source": [
        "df['Empresa']"
      ],
      "execution_count": 19,
      "outputs": [
        {
          "output_type": "execute_result",
          "data": {
            "text/plain": [
              "0              CONCEIÇÃO\n",
              "1              CONCEIÇÃO\n",
              "2              CONCEIÇÃO\n",
              "3              CONCEIÇÃO\n",
              "4              CONCEIÇÃO\n",
              "5              CONCEIÇÃO\n",
              "6              CONCEIÇÃO\n",
              "7              CONCEIÇÃO\n",
              "8              CONCEIÇÃO\n",
              "9              CONCEIÇÃO\n",
              "10             CONCEIÇÃO\n",
              "11             CONCEIÇÃO\n",
              "12             CONCEIÇÃO\n",
              "13             CONCEIÇÃO\n",
              "14             CONCEIÇÃO\n",
              "15             CONCEIÇÃO\n",
              "16             CONCEIÇÃO\n",
              "17             CONCEIÇÃO\n",
              "18             CONCEIÇÃO\n",
              "19           DUNAS - URB\n",
              "20           DUNAS - URB\n",
              "21           DUNAS - URB\n",
              "22           DUNAS - URB\n",
              "23           DUNAS - URB\n",
              "24           DUNAS - URB\n",
              "25           DUNAS - URB\n",
              "26           DUNAS - URB\n",
              "27           DUNAS - URB\n",
              "28           DUNAS - URB\n",
              "29           DUNAS - URB\n",
              "             ...        \n",
              "919             REUNIDAS\n",
              "920             REUNIDAS\n",
              "921             REUNIDAS\n",
              "922             REUNIDAS\n",
              "923             REUNIDAS\n",
              "924             REUNIDAS\n",
              "925             REUNIDAS\n",
              "926             REUNIDAS\n",
              "927             REUNIDAS\n",
              "928    SANTA MARIA - URB\n",
              "929    SANTA MARIA - URB\n",
              "930    SANTA MARIA - URB\n",
              "931    SANTA MARIA - URB\n",
              "932    SANTA MARIA - URB\n",
              "933    SANTA MARIA - URB\n",
              "934    SANTA MARIA - URB\n",
              "935    SANTA MARIA - URB\n",
              "936    SANTA MARIA - URB\n",
              "937    SANTA MARIA - URB\n",
              "938    SANTA MARIA - URB\n",
              "939    SANTA MARIA - URB\n",
              "940    SANTA MARIA - URB\n",
              "941    SANTA MARIA - URB\n",
              "942    SANTA MARIA - URB\n",
              "943    SANTA MARIA - URB\n",
              "944    SANTA MARIA - URB\n",
              "945        VIA SUL - URB\n",
              "946        VIA SUL - URB\n",
              "947        VIA SUL - URB\n",
              "948        VIA SUL - URB\n",
              "Name: Empresa, Length: 949, dtype: object"
            ]
          },
          "metadata": {
            "tags": []
          },
          "execution_count": 19
        }
      ]
    },
    {
      "metadata": {
        "colab_type": "text",
        "id": "X5LOEYh04Bz-"
      },
      "cell_type": "markdown",
      "source": [
        "### Exercise\n",
        "\n",
        "![alt text](https://cdn.dribbble.com/users/2344801/screenshots/4774578/alphatestersanimation2.gif =150x120)\n",
        "\n",
        "\n",
        "\n",
        "1.   Assign the \"Empresa\" column to the variable empresas\n",
        "2.   Assign the last 5 rows of \"Linha\" column to the variable linhas. #tip: use the tail() function."
      ]
    },
    {
      "metadata": {
        "id": "LbMo68-N6hP2",
        "colab_type": "code",
        "colab": {}
      },
      "cell_type": "code",
      "source": [
        "# put your code in this cell"
      ],
      "execution_count": 0,
      "outputs": []
    },
    {
      "metadata": {
        "id": "sGuK1MRD7Raa",
        "colab_type": "text"
      },
      "cell_type": "markdown",
      "source": [
        "## Selecting Multiple Columns By Name\n",
        "\n",
        "To select multiple columns, pass in a list of strings representing the column names and pandas will return a dataframe containing only the values in those columns. The following code returns a dataframe containing the \"Empresa\" and \"Linha\" columns, in that order:"
      ]
    },
    {
      "metadata": {
        "id": "ag5aocYe6kVv",
        "colab_type": "code",
        "colab": {
          "base_uri": "https://localhost:8080/",
          "height": 1969
        },
        "outputId": "0aedba14-2a12-44be-cd7d-41f42b557397"
      },
      "cell_type": "code",
      "source": [
        "df[['Empresa','Linha']]"
      ],
      "execution_count": 25,
      "outputs": [
        {
          "output_type": "execute_result",
          "data": {
            "text/html": [
              "<div>\n",
              "<style scoped>\n",
              "    .dataframe tbody tr th:only-of-type {\n",
              "        vertical-align: middle;\n",
              "    }\n",
              "\n",
              "    .dataframe tbody tr th {\n",
              "        vertical-align: top;\n",
              "    }\n",
              "\n",
              "    .dataframe thead th {\n",
              "        text-align: right;\n",
              "    }\n",
              "</style>\n",
              "<table border=\"1\" class=\"dataframe\">\n",
              "  <thead>\n",
              "    <tr style=\"text-align: right;\">\n",
              "      <th></th>\n",
              "      <th>Empresa</th>\n",
              "      <th>Linha</th>\n",
              "    </tr>\n",
              "  </thead>\n",
              "  <tbody>\n",
              "    <tr>\n",
              "      <th>0</th>\n",
              "      <td>CONCEIÇÃO</td>\n",
              "      <td>21</td>\n",
              "    </tr>\n",
              "    <tr>\n",
              "      <th>1</th>\n",
              "      <td>CONCEIÇÃO</td>\n",
              "      <td>22</td>\n",
              "    </tr>\n",
              "    <tr>\n",
              "      <th>2</th>\n",
              "      <td>CONCEIÇÃO</td>\n",
              "      <td>30</td>\n",
              "    </tr>\n",
              "    <tr>\n",
              "      <th>3</th>\n",
              "      <td>CONCEIÇÃO</td>\n",
              "      <td>31</td>\n",
              "    </tr>\n",
              "    <tr>\n",
              "      <th>4</th>\n",
              "      <td>CONCEIÇÃO</td>\n",
              "      <td>41</td>\n",
              "    </tr>\n",
              "    <tr>\n",
              "      <th>5</th>\n",
              "      <td>CONCEIÇÃO</td>\n",
              "      <td>59</td>\n",
              "    </tr>\n",
              "    <tr>\n",
              "      <th>6</th>\n",
              "      <td>CONCEIÇÃO</td>\n",
              "      <td>63</td>\n",
              "    </tr>\n",
              "    <tr>\n",
              "      <th>7</th>\n",
              "      <td>CONCEIÇÃO</td>\n",
              "      <td>71</td>\n",
              "    </tr>\n",
              "    <tr>\n",
              "      <th>8</th>\n",
              "      <td>CONCEIÇÃO</td>\n",
              "      <td>76</td>\n",
              "    </tr>\n",
              "    <tr>\n",
              "      <th>9</th>\n",
              "      <td>CONCEIÇÃO</td>\n",
              "      <td>83</td>\n",
              "    </tr>\n",
              "    <tr>\n",
              "      <th>10</th>\n",
              "      <td>CONCEIÇÃO</td>\n",
              "      <td>411</td>\n",
              "    </tr>\n",
              "    <tr>\n",
              "      <th>11</th>\n",
              "      <td>CONCEIÇÃO</td>\n",
              "      <td>587</td>\n",
              "    </tr>\n",
              "    <tr>\n",
              "      <th>12</th>\n",
              "      <td>CONCEIÇÃO</td>\n",
              "      <td>599</td>\n",
              "    </tr>\n",
              "    <tr>\n",
              "      <th>13</th>\n",
              "      <td>CONCEIÇÃO</td>\n",
              "      <td>905</td>\n",
              "    </tr>\n",
              "    <tr>\n",
              "      <th>14</th>\n",
              "      <td>CONCEIÇÃO</td>\n",
              "      <td>2369</td>\n",
              "    </tr>\n",
              "    <tr>\n",
              "      <th>15</th>\n",
              "      <td>CONCEIÇÃO</td>\n",
              "      <td>3001</td>\n",
              "    </tr>\n",
              "    <tr>\n",
              "      <th>16</th>\n",
              "      <td>CONCEIÇÃO</td>\n",
              "      <td>3101</td>\n",
              "    </tr>\n",
              "    <tr>\n",
              "      <th>17</th>\n",
              "      <td>CONCEIÇÃO</td>\n",
              "      <td>6301</td>\n",
              "    </tr>\n",
              "    <tr>\n",
              "      <th>18</th>\n",
              "      <td>CONCEIÇÃO</td>\n",
              "      <td>7601</td>\n",
              "    </tr>\n",
              "    <tr>\n",
              "      <th>19</th>\n",
              "      <td>DUNAS - URB</td>\n",
              "      <td>33</td>\n",
              "    </tr>\n",
              "    <tr>\n",
              "      <th>20</th>\n",
              "      <td>DUNAS - URB</td>\n",
              "      <td>40</td>\n",
              "    </tr>\n",
              "    <tr>\n",
              "      <th>21</th>\n",
              "      <td>DUNAS - URB</td>\n",
              "      <td>57</td>\n",
              "    </tr>\n",
              "    <tr>\n",
              "      <th>22</th>\n",
              "      <td>DUNAS - URB</td>\n",
              "      <td>98</td>\n",
              "    </tr>\n",
              "    <tr>\n",
              "      <th>23</th>\n",
              "      <td>DUNAS - URB</td>\n",
              "      <td>331</td>\n",
              "    </tr>\n",
              "    <tr>\n",
              "      <th>24</th>\n",
              "      <td>DUNAS - URB</td>\n",
              "      <td>332</td>\n",
              "    </tr>\n",
              "    <tr>\n",
              "      <th>25</th>\n",
              "      <td>DUNAS - URB</td>\n",
              "      <td>411</td>\n",
              "    </tr>\n",
              "    <tr>\n",
              "      <th>26</th>\n",
              "      <td>DUNAS - URB</td>\n",
              "      <td>738</td>\n",
              "    </tr>\n",
              "    <tr>\n",
              "      <th>27</th>\n",
              "      <td>DUNAS - URB</td>\n",
              "      <td>740</td>\n",
              "    </tr>\n",
              "    <tr>\n",
              "      <th>28</th>\n",
              "      <td>DUNAS - URB</td>\n",
              "      <td>7451</td>\n",
              "    </tr>\n",
              "    <tr>\n",
              "      <th>29</th>\n",
              "      <td>DUNAS - URB</td>\n",
              "      <td>7452</td>\n",
              "    </tr>\n",
              "    <tr>\n",
              "      <th>...</th>\n",
              "      <td>...</td>\n",
              "      <td>...</td>\n",
              "    </tr>\n",
              "    <tr>\n",
              "      <th>919</th>\n",
              "      <td>REUNIDAS</td>\n",
              "      <td>35</td>\n",
              "    </tr>\n",
              "    <tr>\n",
              "      <th>920</th>\n",
              "      <td>REUNIDAS</td>\n",
              "      <td>68</td>\n",
              "    </tr>\n",
              "    <tr>\n",
              "      <th>921</th>\n",
              "      <td>REUNIDAS</td>\n",
              "      <td>73</td>\n",
              "    </tr>\n",
              "    <tr>\n",
              "      <th>922</th>\n",
              "      <td>REUNIDAS</td>\n",
              "      <td>85</td>\n",
              "    </tr>\n",
              "    <tr>\n",
              "      <th>923</th>\n",
              "      <td>REUNIDAS</td>\n",
              "      <td>1029</td>\n",
              "    </tr>\n",
              "    <tr>\n",
              "      <th>924</th>\n",
              "      <td>REUNIDAS</td>\n",
              "      <td>1778</td>\n",
              "    </tr>\n",
              "    <tr>\n",
              "      <th>925</th>\n",
              "      <td>REUNIDAS</td>\n",
              "      <td>6443</td>\n",
              "    </tr>\n",
              "    <tr>\n",
              "      <th>926</th>\n",
              "      <td>REUNIDAS</td>\n",
              "      <td>7847</td>\n",
              "    </tr>\n",
              "    <tr>\n",
              "      <th>927</th>\n",
              "      <td>REUNIDAS</td>\n",
              "      <td>9018</td>\n",
              "    </tr>\n",
              "    <tr>\n",
              "      <th>928</th>\n",
              "      <td>SANTA MARIA - URB</td>\n",
              "      <td>24</td>\n",
              "    </tr>\n",
              "    <tr>\n",
              "      <th>929</th>\n",
              "      <td>SANTA MARIA - URB</td>\n",
              "      <td>34</td>\n",
              "    </tr>\n",
              "    <tr>\n",
              "      <th>930</th>\n",
              "      <td>SANTA MARIA - URB</td>\n",
              "      <td>36</td>\n",
              "    </tr>\n",
              "    <tr>\n",
              "      <th>931</th>\n",
              "      <td>SANTA MARIA - URB</td>\n",
              "      <td>37</td>\n",
              "    </tr>\n",
              "    <tr>\n",
              "      <th>932</th>\n",
              "      <td>SANTA MARIA - URB</td>\n",
              "      <td>38</td>\n",
              "    </tr>\n",
              "    <tr>\n",
              "      <th>933</th>\n",
              "      <td>SANTA MARIA - URB</td>\n",
              "      <td>39</td>\n",
              "    </tr>\n",
              "    <tr>\n",
              "      <th>934</th>\n",
              "      <td>SANTA MARIA - URB</td>\n",
              "      <td>44</td>\n",
              "    </tr>\n",
              "    <tr>\n",
              "      <th>935</th>\n",
              "      <td>SANTA MARIA - URB</td>\n",
              "      <td>46</td>\n",
              "    </tr>\n",
              "    <tr>\n",
              "      <th>936</th>\n",
              "      <td>SANTA MARIA - URB</td>\n",
              "      <td>48</td>\n",
              "    </tr>\n",
              "    <tr>\n",
              "      <th>937</th>\n",
              "      <td>SANTA MARIA - URB</td>\n",
              "      <td>54</td>\n",
              "    </tr>\n",
              "    <tr>\n",
              "      <th>938</th>\n",
              "      <td>SANTA MARIA - URB</td>\n",
              "      <td>56</td>\n",
              "    </tr>\n",
              "    <tr>\n",
              "      <th>939</th>\n",
              "      <td>SANTA MARIA - URB</td>\n",
              "      <td>66</td>\n",
              "    </tr>\n",
              "    <tr>\n",
              "      <th>940</th>\n",
              "      <td>SANTA MARIA - URB</td>\n",
              "      <td>83</td>\n",
              "    </tr>\n",
              "    <tr>\n",
              "      <th>941</th>\n",
              "      <td>SANTA MARIA - URB</td>\n",
              "      <td>331</td>\n",
              "    </tr>\n",
              "    <tr>\n",
              "      <th>942</th>\n",
              "      <td>SANTA MARIA - URB</td>\n",
              "      <td>332</td>\n",
              "    </tr>\n",
              "    <tr>\n",
              "      <th>943</th>\n",
              "      <td>SANTA MARIA - URB</td>\n",
              "      <td>411</td>\n",
              "    </tr>\n",
              "    <tr>\n",
              "      <th>944</th>\n",
              "      <td>SANTA MARIA - URB</td>\n",
              "      <td>561</td>\n",
              "    </tr>\n",
              "    <tr>\n",
              "      <th>945</th>\n",
              "      <td>VIA SUL - URB</td>\n",
              "      <td>50</td>\n",
              "    </tr>\n",
              "    <tr>\n",
              "      <th>946</th>\n",
              "      <td>VIA SUL - URB</td>\n",
              "      <td>51</td>\n",
              "    </tr>\n",
              "    <tr>\n",
              "      <th>947</th>\n",
              "      <td>VIA SUL - URB</td>\n",
              "      <td>52</td>\n",
              "    </tr>\n",
              "    <tr>\n",
              "      <th>948</th>\n",
              "      <td>VIA SUL - URB</td>\n",
              "      <td>65</td>\n",
              "    </tr>\n",
              "  </tbody>\n",
              "</table>\n",
              "<p>949 rows × 2 columns</p>\n",
              "</div>"
            ],
            "text/plain": [
              "               Empresa  Linha\n",
              "0            CONCEIÇÃO     21\n",
              "1            CONCEIÇÃO     22\n",
              "2            CONCEIÇÃO     30\n",
              "3            CONCEIÇÃO     31\n",
              "4            CONCEIÇÃO     41\n",
              "5            CONCEIÇÃO     59\n",
              "6            CONCEIÇÃO     63\n",
              "7            CONCEIÇÃO     71\n",
              "8            CONCEIÇÃO     76\n",
              "9            CONCEIÇÃO     83\n",
              "10           CONCEIÇÃO    411\n",
              "11           CONCEIÇÃO    587\n",
              "12           CONCEIÇÃO    599\n",
              "13           CONCEIÇÃO    905\n",
              "14           CONCEIÇÃO   2369\n",
              "15           CONCEIÇÃO   3001\n",
              "16           CONCEIÇÃO   3101\n",
              "17           CONCEIÇÃO   6301\n",
              "18           CONCEIÇÃO   7601\n",
              "19         DUNAS - URB     33\n",
              "20         DUNAS - URB     40\n",
              "21         DUNAS - URB     57\n",
              "22         DUNAS - URB     98\n",
              "23         DUNAS - URB    331\n",
              "24         DUNAS - URB    332\n",
              "25         DUNAS - URB    411\n",
              "26         DUNAS - URB    738\n",
              "27         DUNAS - URB    740\n",
              "28         DUNAS - URB   7451\n",
              "29         DUNAS - URB   7452\n",
              "..                 ...    ...\n",
              "919           REUNIDAS     35\n",
              "920           REUNIDAS     68\n",
              "921           REUNIDAS     73\n",
              "922           REUNIDAS     85\n",
              "923           REUNIDAS   1029\n",
              "924           REUNIDAS   1778\n",
              "925           REUNIDAS   6443\n",
              "926           REUNIDAS   7847\n",
              "927           REUNIDAS   9018\n",
              "928  SANTA MARIA - URB     24\n",
              "929  SANTA MARIA - URB     34\n",
              "930  SANTA MARIA - URB     36\n",
              "931  SANTA MARIA - URB     37\n",
              "932  SANTA MARIA - URB     38\n",
              "933  SANTA MARIA - URB     39\n",
              "934  SANTA MARIA - URB     44\n",
              "935  SANTA MARIA - URB     46\n",
              "936  SANTA MARIA - URB     48\n",
              "937  SANTA MARIA - URB     54\n",
              "938  SANTA MARIA - URB     56\n",
              "939  SANTA MARIA - URB     66\n",
              "940  SANTA MARIA - URB     83\n",
              "941  SANTA MARIA - URB    331\n",
              "942  SANTA MARIA - URB    332\n",
              "943  SANTA MARIA - URB    411\n",
              "944  SANTA MARIA - URB    561\n",
              "945      VIA SUL - URB     50\n",
              "946      VIA SUL - URB     51\n",
              "947      VIA SUL - URB     52\n",
              "948      VIA SUL - URB     65\n",
              "\n",
              "[949 rows x 2 columns]"
            ]
          },
          "metadata": {
            "tags": []
          },
          "execution_count": 25
        }
      ]
    },
    {
      "metadata": {
        "id": "kRB_uhQ27fxp",
        "colab_type": "text"
      },
      "cell_type": "markdown",
      "source": [
        "When selecting multiple columns, the order of the columns in the returned DataFrame matches the order of the column names in the list of strings that you passed in. This allows you to easily explore specific columns that may not be positioned next to each other in the DataFrame."
      ]
    },
    {
      "metadata": {
        "id": "XCuDw58_9Ufe",
        "colab_type": "text"
      },
      "cell_type": "markdown",
      "source": [
        "### Exercise\n",
        "\n",
        "![alt text](https://cdn.dribbble.com/users/2344801/screenshots/4774578/alphatestersanimation2.gif =150x120)\n",
        "\n",
        "Select and display at least a random sample row of a DataFrame created with only \"Empresa\", \"Linha\" and \"Mês\" columns. Tip: use the sample() or any() functions."
      ]
    },
    {
      "metadata": {
        "id": "VVLVL2KoBj59",
        "colab_type": "code",
        "colab": {}
      },
      "cell_type": "code",
      "source": [
        "# put your code in this cell"
      ],
      "execution_count": 0,
      "outputs": []
    },
    {
      "metadata": {
        "id": "Fr_OVybn-mpJ",
        "colab_type": "text"
      },
      "cell_type": "markdown",
      "source": [
        "## Column Uniqueness\n",
        "\n",
        "When in the process of knowing the data, it's interesting to know the uniqueness of some attibutes. For this, Pandas implements the function unique() which can be use, for example, to know how many different bus companies appear in our data:"
      ]
    },
    {
      "metadata": {
        "id": "47zRtIoH7mzg",
        "colab_type": "code",
        "colab": {
          "base_uri": "https://localhost:8080/",
          "height": 51
        },
        "outputId": "53949cef-6f7e-434f-c06b-b2e81ea776ef"
      },
      "cell_type": "code",
      "source": [
        "# uniqueness of column \"Empresa\"\n",
        "empresas = df['Empresa'].unique()\n"
      ],
      "execution_count": 35,
      "outputs": [
        {
          "output_type": "execute_result",
          "data": {
            "text/plain": [
              "array(['CONCEIÇÃO', 'DUNAS - URB', 'GUANABARA - URB', 'REUNIDAS',\n",
              "       'SANTA MARIA - URB', 'VIA SUL - URB'], dtype=object)"
            ]
          },
          "metadata": {
            "tags": []
          },
          "execution_count": 35
        }
      ]
    },
    {
      "metadata": {
        "id": "j0AUOSSX_bCe",
        "colab_type": "code",
        "colab": {
          "base_uri": "https://localhost:8080/",
          "height": 34
        },
        "outputId": "0eac8f7a-a972-455d-e11e-0d5dbd7c8507"
      },
      "cell_type": "code",
      "source": [
        "# length of the array returned\n",
        "len(empresas)"
      ],
      "execution_count": 33,
      "outputs": [
        {
          "output_type": "execute_result",
          "data": {
            "text/plain": [
              "6"
            ]
          },
          "metadata": {
            "tags": []
          },
          "execution_count": 33
        }
      ]
    },
    {
      "metadata": {
        "id": "C0eGb0PAAZVN",
        "colab_type": "text"
      },
      "cell_type": "markdown",
      "source": [
        "So, there are 6 different bus companies in our DataFrame."
      ]
    },
    {
      "metadata": {
        "id": "oneb4BvXBOT-",
        "colab_type": "text"
      },
      "cell_type": "markdown",
      "source": [
        "### Exercise\n",
        "\n",
        "![alt text](https://cdn.dribbble.com/users/2344801/screenshots/4774578/alphatestersanimation2.gif =150x120)\n",
        "\n",
        "How many different bus lines are there in our DataFrame?"
      ]
    },
    {
      "metadata": {
        "id": "-dqlyWNRAV3W",
        "colab_type": "code",
        "colab": {}
      },
      "cell_type": "code",
      "source": [
        "# put your code in this cell"
      ],
      "execution_count": 0,
      "outputs": []
    },
    {
      "metadata": {
        "id": "qx-bb2tbB9W1",
        "colab_type": "text"
      },
      "cell_type": "markdown",
      "source": [
        "## Data manipulation with Pandas\n",
        "\n",
        "### Overview\n",
        "In the previous sections, we learned how to explore a pandas DataFrame. In this mission, we'll explore how to manipulate a DataFrame and make transformations to it. We'll continue to work with the same data set from the Power Plants information. We'll build a better dataset cleaning the data and removing not useful information. We also gonna learn how to group up informatio and manipulate data."
      ]
    },
    {
      "metadata": {
        "id": "1o6l39KtBtQz",
        "colab_type": "text"
      },
      "cell_type": "markdown",
      "source": [
        ""
      ]
    }
  ]
}