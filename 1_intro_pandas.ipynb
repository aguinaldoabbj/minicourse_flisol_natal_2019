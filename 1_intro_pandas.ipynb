{
  "nbformat": 4,
  "nbformat_minor": 0,
  "metadata": {
    "colab": {
      "name": "1-intro_pandas.ipynb",
      "version": "0.3.2",
      "provenance": [],
      "collapsed_sections": [],
      "include_colab_link": true
    },
    "kernelspec": {
      "display_name": "Python 3",
      "language": "python",
      "name": "python3"
    }
  },
  "cells": [
    {
      "cell_type": "markdown",
      "metadata": {
        "id": "view-in-github",
        "colab_type": "text"
      },
      "source": [
        "<a href=\"https://colab.research.google.com/github/aguinaldoabbj/minicourse_flisol_natal_2019/blob/master/1_intro_pandas.ipynb\" target=\"_parent\"><img src=\"https://colab.research.google.com/assets/colab-badge.svg\" alt=\"Open In Colab\"/></a>"
      ]
    },
    {
      "metadata": {
        "id": "vZEVo5BD5lo1",
        "colab_type": "text"
      },
      "cell_type": "markdown",
      "source": [
        "# Pandas basics\n"
      ]
    },
    {
      "metadata": {
        "id": "oqCSEZjHK-0S",
        "colab_type": "text"
      },
      "cell_type": "markdown",
      "source": [
        "\n",
        "\n",
        "## Introduction\n",
        "\n",
        "Pandas is a library that unifies the most common workflows that data analysts and data scientists previously relied on many different libraries for. Pandas has quickly became an important tool in a data professional's toolbelt and is the most popular library for working with tabular data in Python. Tabular data is any data that can be represented as rows and columns. \n",
        "\n",
        "To represent tabular data, Pandas uses a custom data structure called a **DataFrame**. A DataFrame is a highly efficient, 2-dimensional data structure that provides a suite of methods and attributes to quickly explore, analyze, and visualize data. The DataFrame is similar to the NumPy 2D array but adds support for many features that help you work with tabular data.\n",
        "\n",
        "One of the biggest advantages that Pandas has over NumPy is the **ability to store mixed data types** in rows and columns. Many tabular datasets contain a range of data types and Pandas DataFrames handle mixed data types effortlessly while NumPy doesn't. Pandas DataFrames **can also handle missing values gracefully** using a custom object, **NaN**, to represent those values. A common complaint with NumPy is its lack of an object to represent missing values and people end up having to find and replace these values manually. In addition, pandas DataFrames contain axis labels for both rows and columns and enable you to refer to elements in the dataframe more intuitively. Since many tabular datasets contain column titles, this means that dataframes preserve the metadata from the file around the data.\n",
        "\n",
        "To get things started, we have to load Pandas library:"
      ]
    },
    {
      "metadata": {
        "id": "_1mlLpqL5C9S",
        "colab_type": "code",
        "colab": {}
      },
      "cell_type": "code",
      "source": [
        "import pandas as pd"
      ],
      "execution_count": 0,
      "outputs": []
    },
    {
      "metadata": {
        "id": "WvsgK9yk5Dmf",
        "colab_type": "text"
      },
      "cell_type": "markdown",
      "source": [
        "## Our case study\n",
        "\n",
        "In this part of the course, you'll learn the basics of pandas while exploring several datasets [Dados Abertos Natal](http://dados.natal.br/). Let's start things out by using the \"Bilhetagem\" dataset , which refers to the bus service billing system in Natal. \n",
        "\n",
        "You can dowload it through this URL: [Bilhetagem Analítica 2018](http://dados.natal.br/dataset/4fad551d-4d3b-4597-b8d3-7e887e22332e/resource/ec5b95a3-7b93-4346-98f6-1bd013faa651/download/dados-be-2018-analitico.csv)"
      ]
    },
    {
      "metadata": {
        "id": "P5HeJBXTghTA",
        "colab_type": "text"
      },
      "cell_type": "markdown",
      "source": [
        "## Downloading Data\n",
        "\n",
        "We can download data directly from  [Dados Abertos Natal](http://dados.natal.br/) to our workspace in Google Colab. We can use **wget** download utility (available in most systems) to get the job done (the exclamation mark in the beginning sinalyzes Colab to use system's utilities instead of Python interpreter)"
      ]
    },
    {
      "metadata": {
        "id": "sPNLNXTcflIu",
        "colab_type": "code",
        "outputId": "38684539-45d8-4e11-ff94-e7e28f2b95a3",
        "colab": {
          "base_uri": "https://localhost:8080/",
          "height": 136
        }
      },
      "cell_type": "code",
      "source": [
        "!wget -c https://raw.githubusercontent.com/aguinaldoabbj/minicourse_flisol_natal_2019/master/data/dados-be-2018-analitico.csv\n",
        "#wget -c http://dados.natal.br/dataset/4fad551d-4d3b-4597-b8d3-7e887e22332e/resource/0d4a0f0f-b8a5-46a0-acfe-bb9138c8eb9e/download/dados-be-2019-analitico.csv"
      ],
      "execution_count": 5,
      "outputs": [
        {
          "output_type": "stream",
          "text": [
            "--2019-04-27 01:26:17--  https://raw.githubusercontent.com/aguinaldoabbj/minicourse_flisol_natal_2019/master/data/dados-be-2018-analitico.csv\n",
            "Resolving raw.githubusercontent.com (raw.githubusercontent.com)... 151.101.0.133, 151.101.64.133, 151.101.128.133, ...\n",
            "Connecting to raw.githubusercontent.com (raw.githubusercontent.com)|151.101.0.133|:443... connected.\n",
            "HTTP request sent, awaiting response... 416 Range Not Satisfiable\n",
            "\n",
            "    The file is already fully retrieved; nothing to do.\n",
            "\n"
          ],
          "name": "stdout"
        }
      ]
    },
    {
      "metadata": {
        "id": "R3_3IgyijzCe",
        "colab_type": "text"
      },
      "cell_type": "markdown",
      "source": [
        "We can check if file was downloaded using 'ls':\n"
      ]
    },
    {
      "metadata": {
        "id": "9b5YhHKBfnai",
        "colab_type": "code",
        "outputId": "57d1d318-209d-428e-e222-ec7cd01f90a1",
        "colab": {
          "base_uri": "https://localhost:8080/",
          "height": 34
        }
      },
      "cell_type": "code",
      "source": [
        "!ls -lah  dados-be*"
      ],
      "execution_count": 6,
      "outputs": [
        {
          "output_type": "stream",
          "text": [
            "-rw-r--r-- 1 root root 72K Apr 27 01:26 dados-be-2018-analitico.csv\n"
          ],
          "name": "stdout"
        }
      ]
    },
    {
      "metadata": {
        "id": "b92UQ47suz09",
        "colab_type": "text"
      },
      "cell_type": "markdown",
      "source": [
        "# First steps with pandas"
      ]
    },
    {
      "metadata": {
        "id": "VR4TV7ta4TEo",
        "colab_type": "text"
      },
      "cell_type": "markdown",
      "source": [
        "## Loading data from a CSV file\n",
        "As we can see, downloaded data is a CSV file. CSVs are commonly used to store tabular data. In simple words, it contains table rows whose cells are separated by some token, like a comma or semicolon. Pandas provides the *read_csv()* function, which takes the path of the CSV file and produces a DataFrame representation of its data."
      ]
    },
    {
      "metadata": {
        "id": "6PhYW2li4cSL",
        "colab_type": "code",
        "colab": {}
      },
      "cell_type": "code",
      "source": [
        "# This CSV file uses ';' as separator and is encodded in iso-8859-1, so make this explicit when loading\n",
        "df = pd.read_csv(\"dados-be-2018-analitico.csv\", encoding='iso-8859-1', sep=';', thousands=r'.') "
      ],
      "execution_count": 0,
      "outputs": []
    },
    {
      "metadata": {
        "id": "6BIjv9jmGhCH",
        "colab_type": "text"
      },
      "cell_type": "markdown",
      "source": [
        "We can check if data was loaded successfully by calling Dataframe's head( ) method and see the first 5 rows:"
      ]
    },
    {
      "metadata": {
        "id": "UV3f1SB16amn",
        "colab_type": "code",
        "outputId": "80f26482-1cde-4127-bc6b-6703e9c2fb2d",
        "colab": {
          "base_uri": "https://localhost:8080/",
          "height": 204
        }
      },
      "cell_type": "code",
      "source": [
        "df.head()"
      ],
      "execution_count": 8,
      "outputs": [
        {
          "output_type": "execute_result",
          "data": {
            "text/html": [
              "<div>\n",
              "<style scoped>\n",
              "    .dataframe tbody tr th:only-of-type {\n",
              "        vertical-align: middle;\n",
              "    }\n",
              "\n",
              "    .dataframe tbody tr th {\n",
              "        vertical-align: top;\n",
              "    }\n",
              "\n",
              "    .dataframe thead th {\n",
              "        text-align: right;\n",
              "    }\n",
              "</style>\n",
              "<table border=\"1\" class=\"dataframe\">\n",
              "  <thead>\n",
              "    <tr style=\"text-align: right;\">\n",
              "      <th></th>\n",
              "      <th>Mês</th>\n",
              "      <th>Empresa</th>\n",
              "      <th>Linha</th>\n",
              "      <th>Estudante_Cartao</th>\n",
              "      <th>Estudante_BT</th>\n",
              "      <th>Vale_Transporte</th>\n",
              "      <th>Integracao_Plena</th>\n",
              "      <th>Integracao_Complementar</th>\n",
              "      <th>Gratuito_Cartao</th>\n",
              "      <th>Gratuito_BT</th>\n",
              "      <th>Inteira_Cartao</th>\n",
              "      <th>Inteira_Especie</th>\n",
              "      <th>Tarifa_Social</th>\n",
              "      <th>Qtd_Viagens</th>\n",
              "    </tr>\n",
              "  </thead>\n",
              "  <tbody>\n",
              "    <tr>\n",
              "      <th>0</th>\n",
              "      <td>1</td>\n",
              "      <td>CONCEIÇÃO</td>\n",
              "      <td>21</td>\n",
              "      <td>13493</td>\n",
              "      <td>9506</td>\n",
              "      <td>35944</td>\n",
              "      <td>8671</td>\n",
              "      <td>0</td>\n",
              "      <td>17138</td>\n",
              "      <td>7397</td>\n",
              "      <td>6542</td>\n",
              "      <td>43727</td>\n",
              "      <td>3965</td>\n",
              "      <td>3684</td>\n",
              "    </tr>\n",
              "    <tr>\n",
              "      <th>1</th>\n",
              "      <td>1</td>\n",
              "      <td>CONCEIÇÃO</td>\n",
              "      <td>22</td>\n",
              "      <td>4644</td>\n",
              "      <td>3371</td>\n",
              "      <td>13088</td>\n",
              "      <td>3230</td>\n",
              "      <td>0</td>\n",
              "      <td>8109</td>\n",
              "      <td>3157</td>\n",
              "      <td>2529</td>\n",
              "      <td>15363</td>\n",
              "      <td>0</td>\n",
              "      <td>1737</td>\n",
              "    </tr>\n",
              "    <tr>\n",
              "      <th>2</th>\n",
              "      <td>1</td>\n",
              "      <td>CONCEIÇÃO</td>\n",
              "      <td>30</td>\n",
              "      <td>8519</td>\n",
              "      <td>5614</td>\n",
              "      <td>20580</td>\n",
              "      <td>5346</td>\n",
              "      <td>0</td>\n",
              "      <td>7265</td>\n",
              "      <td>3191</td>\n",
              "      <td>4415</td>\n",
              "      <td>21507</td>\n",
              "      <td>1537</td>\n",
              "      <td>2500</td>\n",
              "    </tr>\n",
              "    <tr>\n",
              "      <th>3</th>\n",
              "      <td>1</td>\n",
              "      <td>CONCEIÇÃO</td>\n",
              "      <td>31</td>\n",
              "      <td>9631</td>\n",
              "      <td>6020</td>\n",
              "      <td>23460</td>\n",
              "      <td>7587</td>\n",
              "      <td>0</td>\n",
              "      <td>7065</td>\n",
              "      <td>2922</td>\n",
              "      <td>5491</td>\n",
              "      <td>22212</td>\n",
              "      <td>140</td>\n",
              "      <td>2478</td>\n",
              "    </tr>\n",
              "    <tr>\n",
              "      <th>4</th>\n",
              "      <td>1</td>\n",
              "      <td>CONCEIÇÃO</td>\n",
              "      <td>41</td>\n",
              "      <td>6556</td>\n",
              "      <td>4038</td>\n",
              "      <td>20388</td>\n",
              "      <td>7924</td>\n",
              "      <td>0</td>\n",
              "      <td>5704</td>\n",
              "      <td>2791</td>\n",
              "      <td>3883</td>\n",
              "      <td>13870</td>\n",
              "      <td>0</td>\n",
              "      <td>2296</td>\n",
              "    </tr>\n",
              "  </tbody>\n",
              "</table>\n",
              "</div>"
            ],
            "text/plain": [
              "   Mês    Empresa  Linha  Estudante_Cartao  Estudante_BT  Vale_Transporte  \\\n",
              "0    1  CONCEIÇÃO     21             13493          9506            35944   \n",
              "1    1  CONCEIÇÃO     22              4644          3371            13088   \n",
              "2    1  CONCEIÇÃO     30              8519          5614            20580   \n",
              "3    1  CONCEIÇÃO     31              9631          6020            23460   \n",
              "4    1  CONCEIÇÃO     41              6556          4038            20388   \n",
              "\n",
              "   Integracao_Plena  Integracao_Complementar  Gratuito_Cartao  Gratuito_BT  \\\n",
              "0              8671                        0            17138         7397   \n",
              "1              3230                        0             8109         3157   \n",
              "2              5346                        0             7265         3191   \n",
              "3              7587                        0             7065         2922   \n",
              "4              7924                        0             5704         2791   \n",
              "\n",
              "   Inteira_Cartao  Inteira_Especie  Tarifa_Social  Qtd_Viagens  \n",
              "0            6542            43727           3965         3684  \n",
              "1            2529            15363              0         1737  \n",
              "2            4415            21507           1537         2500  \n",
              "3            5491            22212            140         2478  \n",
              "4            3883            13870              0         2296  "
            ]
          },
          "metadata": {
            "tags": []
          },
          "execution_count": 8
        }
      ]
    },
    {
      "metadata": {
        "id": "sZmQ8DoWJJ_i",
        "colab_type": "text"
      },
      "cell_type": "markdown",
      "source": [
        "### Exploring the dataframe\n",
        "\n",
        "Now that we've read the dataset into a DataFrame, we can start using more Pandas DataFrame methods to explore the data. In the same way we have just used the head() to see the firts rows of the DataFrame, we can use the tail( ) method to see the last ones:"
      ]
    },
    {
      "metadata": {
        "id": "2ryPxJx14_j_",
        "colab_type": "code",
        "outputId": "e55f630f-3a04-4e3e-e812-3ee3b7971d5a",
        "colab": {
          "base_uri": "https://localhost:8080/",
          "height": 204
        }
      },
      "cell_type": "code",
      "source": [
        "df.tail()"
      ],
      "execution_count": 9,
      "outputs": [
        {
          "output_type": "execute_result",
          "data": {
            "text/html": [
              "<div>\n",
              "<style scoped>\n",
              "    .dataframe tbody tr th:only-of-type {\n",
              "        vertical-align: middle;\n",
              "    }\n",
              "\n",
              "    .dataframe tbody tr th {\n",
              "        vertical-align: top;\n",
              "    }\n",
              "\n",
              "    .dataframe thead th {\n",
              "        text-align: right;\n",
              "    }\n",
              "</style>\n",
              "<table border=\"1\" class=\"dataframe\">\n",
              "  <thead>\n",
              "    <tr style=\"text-align: right;\">\n",
              "      <th></th>\n",
              "      <th>Mês</th>\n",
              "      <th>Empresa</th>\n",
              "      <th>Linha</th>\n",
              "      <th>Estudante_Cartao</th>\n",
              "      <th>Estudante_BT</th>\n",
              "      <th>Vale_Transporte</th>\n",
              "      <th>Integracao_Plena</th>\n",
              "      <th>Integracao_Complementar</th>\n",
              "      <th>Gratuito_Cartao</th>\n",
              "      <th>Gratuito_BT</th>\n",
              "      <th>Inteira_Cartao</th>\n",
              "      <th>Inteira_Especie</th>\n",
              "      <th>Tarifa_Social</th>\n",
              "      <th>Qtd_Viagens</th>\n",
              "    </tr>\n",
              "  </thead>\n",
              "  <tbody>\n",
              "    <tr>\n",
              "      <th>944</th>\n",
              "      <td>10</td>\n",
              "      <td>SANTA MARIA - URB</td>\n",
              "      <td>561</td>\n",
              "      <td>61</td>\n",
              "      <td>27</td>\n",
              "      <td>2029</td>\n",
              "      <td>536</td>\n",
              "      <td>0</td>\n",
              "      <td>131</td>\n",
              "      <td>7</td>\n",
              "      <td>219</td>\n",
              "      <td>695</td>\n",
              "      <td>120</td>\n",
              "      <td>340</td>\n",
              "    </tr>\n",
              "    <tr>\n",
              "      <th>945</th>\n",
              "      <td>10</td>\n",
              "      <td>VIA SUL - URB</td>\n",
              "      <td>50</td>\n",
              "      <td>48362</td>\n",
              "      <td>10350</td>\n",
              "      <td>71459</td>\n",
              "      <td>22085</td>\n",
              "      <td>215</td>\n",
              "      <td>18052</td>\n",
              "      <td>9226</td>\n",
              "      <td>14547</td>\n",
              "      <td>58611</td>\n",
              "      <td>8484</td>\n",
              "      <td>5172</td>\n",
              "    </tr>\n",
              "    <tr>\n",
              "      <th>946</th>\n",
              "      <td>10</td>\n",
              "      <td>VIA SUL - URB</td>\n",
              "      <td>51</td>\n",
              "      <td>30382</td>\n",
              "      <td>6422</td>\n",
              "      <td>25362</td>\n",
              "      <td>9241</td>\n",
              "      <td>0</td>\n",
              "      <td>10020</td>\n",
              "      <td>7065</td>\n",
              "      <td>6933</td>\n",
              "      <td>29185</td>\n",
              "      <td>2293</td>\n",
              "      <td>3265</td>\n",
              "    </tr>\n",
              "    <tr>\n",
              "      <th>947</th>\n",
              "      <td>10</td>\n",
              "      <td>VIA SUL - URB</td>\n",
              "      <td>52</td>\n",
              "      <td>21965</td>\n",
              "      <td>5475</td>\n",
              "      <td>23329</td>\n",
              "      <td>7763</td>\n",
              "      <td>0</td>\n",
              "      <td>10908</td>\n",
              "      <td>7764</td>\n",
              "      <td>6190</td>\n",
              "      <td>27879</td>\n",
              "      <td>2089</td>\n",
              "      <td>3120</td>\n",
              "    </tr>\n",
              "    <tr>\n",
              "      <th>948</th>\n",
              "      <td>10</td>\n",
              "      <td>VIA SUL - URB</td>\n",
              "      <td>65</td>\n",
              "      <td>14231</td>\n",
              "      <td>3355</td>\n",
              "      <td>14359</td>\n",
              "      <td>4247</td>\n",
              "      <td>0</td>\n",
              "      <td>4541</td>\n",
              "      <td>2308</td>\n",
              "      <td>3658</td>\n",
              "      <td>13157</td>\n",
              "      <td>0</td>\n",
              "      <td>1739</td>\n",
              "    </tr>\n",
              "  </tbody>\n",
              "</table>\n",
              "</div>"
            ],
            "text/plain": [
              "     Mês            Empresa  Linha  Estudante_Cartao  Estudante_BT  \\\n",
              "944   10  SANTA MARIA - URB    561                61            27   \n",
              "945   10      VIA SUL - URB     50             48362         10350   \n",
              "946   10      VIA SUL - URB     51             30382          6422   \n",
              "947   10      VIA SUL - URB     52             21965          5475   \n",
              "948   10      VIA SUL - URB     65             14231          3355   \n",
              "\n",
              "     Vale_Transporte  Integracao_Plena  Integracao_Complementar  \\\n",
              "944             2029               536                        0   \n",
              "945            71459             22085                      215   \n",
              "946            25362              9241                        0   \n",
              "947            23329              7763                        0   \n",
              "948            14359              4247                        0   \n",
              "\n",
              "     Gratuito_Cartao  Gratuito_BT  Inteira_Cartao  Inteira_Especie  \\\n",
              "944              131            7             219              695   \n",
              "945            18052         9226           14547            58611   \n",
              "946            10020         7065            6933            29185   \n",
              "947            10908         7764            6190            27879   \n",
              "948             4541         2308            3658            13157   \n",
              "\n",
              "     Tarifa_Social  Qtd_Viagens  \n",
              "944            120          340  \n",
              "945           8484         5172  \n",
              "946           2293         3265  \n",
              "947           2089         3120  \n",
              "948              0         1739  "
            ]
          },
          "metadata": {
            "tags": []
          },
          "execution_count": 9
        }
      ]
    },
    {
      "metadata": {
        "id": "0gkE8xqEC6Lf",
        "colab_type": "text"
      },
      "cell_type": "markdown",
      "source": [
        "**Tip:** It's always good to use *head()* or *tail()* functions to limit dataset outputs."
      ]
    },
    {
      "metadata": {
        "id": "MWybkX3u4-Ue",
        "colab_type": "text"
      },
      "cell_type": "markdown",
      "source": [
        "A new Dataframe containing 10 random samples of the original Dataframe can be created by using the sample( ) method:"
      ]
    },
    {
      "metadata": {
        "id": "0KscL5huJ0rY",
        "colab_type": "code",
        "outputId": "f3888ae7-96bf-4af8-d608-c86842887e63",
        "colab": {
          "base_uri": "https://localhost:8080/",
          "height": 359
        }
      },
      "cell_type": "code",
      "source": [
        "df.sample(10)"
      ],
      "execution_count": 10,
      "outputs": [
        {
          "output_type": "execute_result",
          "data": {
            "text/html": [
              "<div>\n",
              "<style scoped>\n",
              "    .dataframe tbody tr th:only-of-type {\n",
              "        vertical-align: middle;\n",
              "    }\n",
              "\n",
              "    .dataframe tbody tr th {\n",
              "        vertical-align: top;\n",
              "    }\n",
              "\n",
              "    .dataframe thead th {\n",
              "        text-align: right;\n",
              "    }\n",
              "</style>\n",
              "<table border=\"1\" class=\"dataframe\">\n",
              "  <thead>\n",
              "    <tr style=\"text-align: right;\">\n",
              "      <th></th>\n",
              "      <th>Mês</th>\n",
              "      <th>Empresa</th>\n",
              "      <th>Linha</th>\n",
              "      <th>Estudante_Cartao</th>\n",
              "      <th>Estudante_BT</th>\n",
              "      <th>Vale_Transporte</th>\n",
              "      <th>Integracao_Plena</th>\n",
              "      <th>Integracao_Complementar</th>\n",
              "      <th>Gratuito_Cartao</th>\n",
              "      <th>Gratuito_BT</th>\n",
              "      <th>Inteira_Cartao</th>\n",
              "      <th>Inteira_Especie</th>\n",
              "      <th>Tarifa_Social</th>\n",
              "      <th>Qtd_Viagens</th>\n",
              "    </tr>\n",
              "  </thead>\n",
              "  <tbody>\n",
              "    <tr>\n",
              "      <th>63</th>\n",
              "      <td>1</td>\n",
              "      <td>GUANABARA - URB</td>\n",
              "      <td>7501</td>\n",
              "      <td>92</td>\n",
              "      <td>66</td>\n",
              "      <td>945</td>\n",
              "      <td>42</td>\n",
              "      <td>0</td>\n",
              "      <td>189</td>\n",
              "      <td>22</td>\n",
              "      <td>342</td>\n",
              "      <td>289</td>\n",
              "      <td>0</td>\n",
              "      <td>38</td>\n",
              "    </tr>\n",
              "    <tr>\n",
              "      <th>115</th>\n",
              "      <td>2</td>\n",
              "      <td>CONCEIÇÃO</td>\n",
              "      <td>3101</td>\n",
              "      <td>1059</td>\n",
              "      <td>610</td>\n",
              "      <td>1988</td>\n",
              "      <td>841</td>\n",
              "      <td>0</td>\n",
              "      <td>576</td>\n",
              "      <td>305</td>\n",
              "      <td>489</td>\n",
              "      <td>1729</td>\n",
              "      <td>0</td>\n",
              "      <td>313</td>\n",
              "    </tr>\n",
              "    <tr>\n",
              "      <th>943</th>\n",
              "      <td>10</td>\n",
              "      <td>SANTA MARIA - URB</td>\n",
              "      <td>411</td>\n",
              "      <td>7779</td>\n",
              "      <td>1142</td>\n",
              "      <td>7816</td>\n",
              "      <td>3693</td>\n",
              "      <td>0</td>\n",
              "      <td>3605</td>\n",
              "      <td>1233</td>\n",
              "      <td>2131</td>\n",
              "      <td>7783</td>\n",
              "      <td>1052</td>\n",
              "      <td>741</td>\n",
              "    </tr>\n",
              "    <tr>\n",
              "      <th>77</th>\n",
              "      <td>1</td>\n",
              "      <td>REUNIDAS</td>\n",
              "      <td>9018</td>\n",
              "      <td>13</td>\n",
              "      <td>23</td>\n",
              "      <td>274</td>\n",
              "      <td>447</td>\n",
              "      <td>0</td>\n",
              "      <td>377</td>\n",
              "      <td>9</td>\n",
              "      <td>27</td>\n",
              "      <td>215</td>\n",
              "      <td>30</td>\n",
              "      <td>94</td>\n",
              "    </tr>\n",
              "    <tr>\n",
              "      <th>390</th>\n",
              "      <td>5</td>\n",
              "      <td>CONCEIÇÃO</td>\n",
              "      <td>411</td>\n",
              "      <td>8595</td>\n",
              "      <td>2733</td>\n",
              "      <td>11278</td>\n",
              "      <td>4861</td>\n",
              "      <td>0</td>\n",
              "      <td>4934</td>\n",
              "      <td>1647</td>\n",
              "      <td>3127</td>\n",
              "      <td>11640</td>\n",
              "      <td>502</td>\n",
              "      <td>1080</td>\n",
              "    </tr>\n",
              "    <tr>\n",
              "      <th>78</th>\n",
              "      <td>1</td>\n",
              "      <td>SANTA MARIA - URB</td>\n",
              "      <td>24</td>\n",
              "      <td>12272</td>\n",
              "      <td>7761</td>\n",
              "      <td>32366</td>\n",
              "      <td>11712</td>\n",
              "      <td>0</td>\n",
              "      <td>10384</td>\n",
              "      <td>5396</td>\n",
              "      <td>8682</td>\n",
              "      <td>29716</td>\n",
              "      <td>960</td>\n",
              "      <td>3369</td>\n",
              "    </tr>\n",
              "    <tr>\n",
              "      <th>809</th>\n",
              "      <td>9</td>\n",
              "      <td>GUANABARA - URB</td>\n",
              "      <td>593</td>\n",
              "      <td>6239</td>\n",
              "      <td>602</td>\n",
              "      <td>2497</td>\n",
              "      <td>780</td>\n",
              "      <td>0</td>\n",
              "      <td>1160</td>\n",
              "      <td>433</td>\n",
              "      <td>622</td>\n",
              "      <td>3195</td>\n",
              "      <td>0</td>\n",
              "      <td>969</td>\n",
              "    </tr>\n",
              "    <tr>\n",
              "      <th>19</th>\n",
              "      <td>1</td>\n",
              "      <td>DUNAS - URB</td>\n",
              "      <td>33</td>\n",
              "      <td>27684</td>\n",
              "      <td>22323</td>\n",
              "      <td>74603</td>\n",
              "      <td>20083</td>\n",
              "      <td>0</td>\n",
              "      <td>20022</td>\n",
              "      <td>7201</td>\n",
              "      <td>15832</td>\n",
              "      <td>70311</td>\n",
              "      <td>6722</td>\n",
              "      <td>5137</td>\n",
              "    </tr>\n",
              "    <tr>\n",
              "      <th>154</th>\n",
              "      <td>2</td>\n",
              "      <td>GUANABARA - URB</td>\n",
              "      <td>2369</td>\n",
              "      <td>728</td>\n",
              "      <td>434</td>\n",
              "      <td>1900</td>\n",
              "      <td>671</td>\n",
              "      <td>0</td>\n",
              "      <td>942</td>\n",
              "      <td>410</td>\n",
              "      <td>369</td>\n",
              "      <td>1608</td>\n",
              "      <td>0</td>\n",
              "      <td>341</td>\n",
              "    </tr>\n",
              "    <tr>\n",
              "      <th>267</th>\n",
              "      <td>3</td>\n",
              "      <td>SANTA MARIA - URB</td>\n",
              "      <td>36</td>\n",
              "      <td>10641</td>\n",
              "      <td>6001</td>\n",
              "      <td>15815</td>\n",
              "      <td>5896</td>\n",
              "      <td>0</td>\n",
              "      <td>8545</td>\n",
              "      <td>3976</td>\n",
              "      <td>3774</td>\n",
              "      <td>18038</td>\n",
              "      <td>262</td>\n",
              "      <td>2180</td>\n",
              "    </tr>\n",
              "  </tbody>\n",
              "</table>\n",
              "</div>"
            ],
            "text/plain": [
              "     Mês            Empresa  Linha  Estudante_Cartao  Estudante_BT  \\\n",
              "63     1    GUANABARA - URB   7501                92            66   \n",
              "115    2          CONCEIÇÃO   3101              1059           610   \n",
              "943   10  SANTA MARIA - URB    411              7779          1142   \n",
              "77     1           REUNIDAS   9018                13            23   \n",
              "390    5          CONCEIÇÃO    411              8595          2733   \n",
              "78     1  SANTA MARIA - URB     24             12272          7761   \n",
              "809    9    GUANABARA - URB    593              6239           602   \n",
              "19     1        DUNAS - URB     33             27684         22323   \n",
              "154    2    GUANABARA - URB   2369               728           434   \n",
              "267    3  SANTA MARIA - URB     36             10641          6001   \n",
              "\n",
              "     Vale_Transporte  Integracao_Plena  Integracao_Complementar  \\\n",
              "63               945                42                        0   \n",
              "115             1988               841                        0   \n",
              "943             7816              3693                        0   \n",
              "77               274               447                        0   \n",
              "390            11278              4861                        0   \n",
              "78             32366             11712                        0   \n",
              "809             2497               780                        0   \n",
              "19             74603             20083                        0   \n",
              "154             1900               671                        0   \n",
              "267            15815              5896                        0   \n",
              "\n",
              "     Gratuito_Cartao  Gratuito_BT  Inteira_Cartao  Inteira_Especie  \\\n",
              "63               189           22             342              289   \n",
              "115              576          305             489             1729   \n",
              "943             3605         1233            2131             7783   \n",
              "77               377            9              27              215   \n",
              "390             4934         1647            3127            11640   \n",
              "78             10384         5396            8682            29716   \n",
              "809             1160          433             622             3195   \n",
              "19             20022         7201           15832            70311   \n",
              "154              942          410             369             1608   \n",
              "267             8545         3976            3774            18038   \n",
              "\n",
              "     Tarifa_Social  Qtd_Viagens  \n",
              "63               0           38  \n",
              "115              0          313  \n",
              "943           1052          741  \n",
              "77              30           94  \n",
              "390            502         1080  \n",
              "78             960         3369  \n",
              "809              0          969  \n",
              "19            6722         5137  \n",
              "154              0          341  \n",
              "267            262         2180  "
            ]
          },
          "metadata": {
            "tags": []
          },
          "execution_count": 10
        }
      ]
    },
    {
      "metadata": {
        "id": "ueHuZqKCNY29",
        "colab_type": "text"
      },
      "cell_type": "markdown",
      "source": [
        "By these Dataframe printouts, it is possible to overview data structure (rows, columns and cells). A better understanding of the study Dataframe can be obtained with a series of Pandas Dataframe methods:"
      ]
    },
    {
      "metadata": {
        "id": "Un1bIFNH8GCe",
        "colab_type": "code",
        "outputId": "5a13dfc5-bf80-4b34-b630-0538a3ea2ee9",
        "colab": {
          "base_uri": "https://localhost:8080/",
          "height": 34
        }
      },
      "cell_type": "code",
      "source": [
        "#get the shape of the df\n",
        "df.shape\n"
      ],
      "execution_count": 11,
      "outputs": [
        {
          "output_type": "execute_result",
          "data": {
            "text/plain": [
              "(949, 14)"
            ]
          },
          "metadata": {
            "tags": []
          },
          "execution_count": 11
        }
      ]
    },
    {
      "metadata": {
        "id": "hp0l1s2Hg5bC",
        "colab_type": "text"
      },
      "cell_type": "markdown",
      "source": [
        "So we have 949 entries (rows) of 14 variables (columns)."
      ]
    },
    {
      "metadata": {
        "id": "lSDca6FQN42B",
        "colab_type": "code",
        "outputId": "30e448f6-e643-4e9d-8093-6bc9c1de4749",
        "colab": {
          "base_uri": "https://localhost:8080/",
          "height": 340
        }
      },
      "cell_type": "code",
      "source": [
        "# show the basic information about the dataset (columns, sizes, column types, memory usage, etc)\n",
        "df.info(memory_usage='deep')"
      ],
      "execution_count": 15,
      "outputs": [
        {
          "output_type": "stream",
          "text": [
            "<class 'pandas.core.frame.DataFrame'>\n",
            "RangeIndex: 949 entries, 0 to 948\n",
            "Data columns (total 14 columns):\n",
            "Mês                        949 non-null int64\n",
            "Empresa                    949 non-null object\n",
            "Linha                      949 non-null int64\n",
            "Estudante_Cartao           949 non-null int64\n",
            "Estudante_BT               949 non-null int64\n",
            "Vale_Transporte            949 non-null int64\n",
            "Integracao_Plena           949 non-null int64\n",
            "Integracao_Complementar    949 non-null int64\n",
            "Gratuito_Cartao            949 non-null int64\n",
            "Gratuito_BT                949 non-null int64\n",
            "Inteira_Cartao             949 non-null int64\n",
            "Inteira_Especie            949 non-null int64\n",
            "Tarifa_Social              949 non-null int64\n",
            "Qtd_Viagens                949 non-null int64\n",
            "dtypes: int64(13), object(1)\n",
            "memory usage: 165.7 KB\n"
          ],
          "name": "stdout"
        }
      ]
    },
    {
      "metadata": {
        "id": "jZxXaLlEhEbj",
        "colab_type": "text"
      },
      "cell_type": "markdown",
      "source": [
        "Now we know lots important dataframe feaures. Let's run some statistics:"
      ]
    },
    {
      "metadata": {
        "id": "EAUudXcPOeCM",
        "colab_type": "code",
        "outputId": "a3d58751-4ee1-4c10-83e2-d922069c691c",
        "colab": {
          "base_uri": "https://localhost:8080/",
          "height": 297
        }
      },
      "cell_type": "code",
      "source": [
        "# describe statistical information about the numerical columns\n",
        "df.describe()"
      ],
      "execution_count": 37,
      "outputs": [
        {
          "output_type": "execute_result",
          "data": {
            "text/html": [
              "<div>\n",
              "<style scoped>\n",
              "    .dataframe tbody tr th:only-of-type {\n",
              "        vertical-align: middle;\n",
              "    }\n",
              "\n",
              "    .dataframe tbody tr th {\n",
              "        vertical-align: top;\n",
              "    }\n",
              "\n",
              "    .dataframe thead th {\n",
              "        text-align: right;\n",
              "    }\n",
              "</style>\n",
              "<table border=\"1\" class=\"dataframe\">\n",
              "  <thead>\n",
              "    <tr style=\"text-align: right;\">\n",
              "      <th></th>\n",
              "      <th>Mês</th>\n",
              "      <th>Linha</th>\n",
              "      <th>Estudante_Cartao</th>\n",
              "      <th>Estudante_BT</th>\n",
              "      <th>Vale_Transporte</th>\n",
              "      <th>Integracao_Plena</th>\n",
              "      <th>Integracao_Complementar</th>\n",
              "      <th>Gratuito_Cartao</th>\n",
              "      <th>Gratuito_BT</th>\n",
              "      <th>Inteira_Cartao</th>\n",
              "      <th>Inteira_Especie</th>\n",
              "      <th>Tarifa_Social</th>\n",
              "      <th>Qtd_Viagens</th>\n",
              "    </tr>\n",
              "  </thead>\n",
              "  <tbody>\n",
              "    <tr>\n",
              "      <th>count</th>\n",
              "      <td>949.000000</td>\n",
              "      <td>949.000000</td>\n",
              "      <td>949.000000</td>\n",
              "      <td>949.000000</td>\n",
              "      <td>949.000000</td>\n",
              "      <td>949.000000</td>\n",
              "      <td>949.000000</td>\n",
              "      <td>949.000000</td>\n",
              "      <td>949.000000</td>\n",
              "      <td>949.000000</td>\n",
              "      <td>949.000000</td>\n",
              "      <td>949.000000</td>\n",
              "      <td>949.000000</td>\n",
              "    </tr>\n",
              "    <tr>\n",
              "      <th>mean</th>\n",
              "      <td>5.492097</td>\n",
              "      <td>1109.404636</td>\n",
              "      <td>13434.656481</td>\n",
              "      <td>5478.087460</td>\n",
              "      <td>21266.004215</td>\n",
              "      <td>6149.785037</td>\n",
              "      <td>74.061117</td>\n",
              "      <td>7298.124341</td>\n",
              "      <td>3421.245522</td>\n",
              "      <td>4537.363541</td>\n",
              "      <td>20951.744995</td>\n",
              "      <td>937.771338</td>\n",
              "      <td>1913.467861</td>\n",
              "    </tr>\n",
              "    <tr>\n",
              "      <th>std</th>\n",
              "      <td>2.884410</td>\n",
              "      <td>2239.082157</td>\n",
              "      <td>12384.928078</td>\n",
              "      <td>5566.013515</td>\n",
              "      <td>19292.437061</td>\n",
              "      <td>6169.000595</td>\n",
              "      <td>167.319789</td>\n",
              "      <td>6327.152596</td>\n",
              "      <td>2965.329864</td>\n",
              "      <td>3772.870057</td>\n",
              "      <td>17782.050821</td>\n",
              "      <td>1709.226991</td>\n",
              "      <td>1283.980331</td>\n",
              "    </tr>\n",
              "    <tr>\n",
              "      <th>min</th>\n",
              "      <td>1.000000</td>\n",
              "      <td>2.000000</td>\n",
              "      <td>0.000000</td>\n",
              "      <td>0.000000</td>\n",
              "      <td>0.000000</td>\n",
              "      <td>0.000000</td>\n",
              "      <td>0.000000</td>\n",
              "      <td>0.000000</td>\n",
              "      <td>0.000000</td>\n",
              "      <td>0.000000</td>\n",
              "      <td>0.000000</td>\n",
              "      <td>0.000000</td>\n",
              "      <td>1.000000</td>\n",
              "    </tr>\n",
              "    <tr>\n",
              "      <th>25%</th>\n",
              "      <td>3.000000</td>\n",
              "      <td>39.000000</td>\n",
              "      <td>4205.000000</td>\n",
              "      <td>1388.000000</td>\n",
              "      <td>6942.000000</td>\n",
              "      <td>1489.000000</td>\n",
              "      <td>0.000000</td>\n",
              "      <td>2923.000000</td>\n",
              "      <td>979.000000</td>\n",
              "      <td>1505.000000</td>\n",
              "      <td>7228.000000</td>\n",
              "      <td>0.000000</td>\n",
              "      <td>761.000000</td>\n",
              "    </tr>\n",
              "    <tr>\n",
              "      <th>50%</th>\n",
              "      <td>5.000000</td>\n",
              "      <td>75.000000</td>\n",
              "      <td>9649.000000</td>\n",
              "      <td>3806.000000</td>\n",
              "      <td>15724.000000</td>\n",
              "      <td>4247.000000</td>\n",
              "      <td>0.000000</td>\n",
              "      <td>5993.000000</td>\n",
              "      <td>2929.000000</td>\n",
              "      <td>3591.000000</td>\n",
              "      <td>17184.000000</td>\n",
              "      <td>152.000000</td>\n",
              "      <td>1788.000000</td>\n",
              "    </tr>\n",
              "    <tr>\n",
              "      <th>75%</th>\n",
              "      <td>8.000000</td>\n",
              "      <td>599.000000</td>\n",
              "      <td>19631.000000</td>\n",
              "      <td>7761.000000</td>\n",
              "      <td>31829.000000</td>\n",
              "      <td>9111.000000</td>\n",
              "      <td>66.000000</td>\n",
              "      <td>10321.000000</td>\n",
              "      <td>4965.000000</td>\n",
              "      <td>6897.000000</td>\n",
              "      <td>30846.000000</td>\n",
              "      <td>1193.000000</td>\n",
              "      <td>2826.000000</td>\n",
              "    </tr>\n",
              "    <tr>\n",
              "      <th>max</th>\n",
              "      <td>10.000000</td>\n",
              "      <td>9018.000000</td>\n",
              "      <td>64442.000000</td>\n",
              "      <td>38952.000000</td>\n",
              "      <td>114307.000000</td>\n",
              "      <td>35933.000000</td>\n",
              "      <td>1353.000000</td>\n",
              "      <td>37702.000000</td>\n",
              "      <td>17586.000000</td>\n",
              "      <td>18331.000000</td>\n",
              "      <td>88285.000000</td>\n",
              "      <td>17298.000000</td>\n",
              "      <td>5407.000000</td>\n",
              "    </tr>\n",
              "  </tbody>\n",
              "</table>\n",
              "</div>"
            ],
            "text/plain": [
              "              Mês        Linha  Estudante_Cartao  Estudante_BT  \\\n",
              "count  949.000000   949.000000        949.000000    949.000000   \n",
              "mean     5.492097  1109.404636      13434.656481   5478.087460   \n",
              "std      2.884410  2239.082157      12384.928078   5566.013515   \n",
              "min      1.000000     2.000000          0.000000      0.000000   \n",
              "25%      3.000000    39.000000       4205.000000   1388.000000   \n",
              "50%      5.000000    75.000000       9649.000000   3806.000000   \n",
              "75%      8.000000   599.000000      19631.000000   7761.000000   \n",
              "max     10.000000  9018.000000      64442.000000  38952.000000   \n",
              "\n",
              "       Vale_Transporte  Integracao_Plena  Integracao_Complementar  \\\n",
              "count       949.000000        949.000000               949.000000   \n",
              "mean      21266.004215       6149.785037                74.061117   \n",
              "std       19292.437061       6169.000595               167.319789   \n",
              "min           0.000000          0.000000                 0.000000   \n",
              "25%        6942.000000       1489.000000                 0.000000   \n",
              "50%       15724.000000       4247.000000                 0.000000   \n",
              "75%       31829.000000       9111.000000                66.000000   \n",
              "max      114307.000000      35933.000000              1353.000000   \n",
              "\n",
              "       Gratuito_Cartao   Gratuito_BT  Inteira_Cartao  Inteira_Especie  \\\n",
              "count       949.000000    949.000000      949.000000       949.000000   \n",
              "mean       7298.124341   3421.245522     4537.363541     20951.744995   \n",
              "std        6327.152596   2965.329864     3772.870057     17782.050821   \n",
              "min           0.000000      0.000000        0.000000         0.000000   \n",
              "25%        2923.000000    979.000000     1505.000000      7228.000000   \n",
              "50%        5993.000000   2929.000000     3591.000000     17184.000000   \n",
              "75%       10321.000000   4965.000000     6897.000000     30846.000000   \n",
              "max       37702.000000  17586.000000    18331.000000     88285.000000   \n",
              "\n",
              "       Tarifa_Social  Qtd_Viagens  \n",
              "count     949.000000   949.000000  \n",
              "mean      937.771338  1913.467861  \n",
              "std      1709.226991  1283.980331  \n",
              "min         0.000000     1.000000  \n",
              "25%         0.000000   761.000000  \n",
              "50%       152.000000  1788.000000  \n",
              "75%      1193.000000  2826.000000  \n",
              "max     17298.000000  5407.000000  "
            ]
          },
          "metadata": {
            "tags": []
          },
          "execution_count": 37
        }
      ]
    },
    {
      "metadata": {
        "id": "wSIGGR_MvLtM",
        "colab_type": "text"
      },
      "cell_type": "markdown",
      "source": [
        "# Basic concepts and operations in pandas"
      ]
    },
    {
      "metadata": {
        "id": "uiDhLqkIvRKZ",
        "colab_type": "text"
      },
      "cell_type": "markdown",
      "source": [
        "## Indexing\n",
        "\n",
        "When you read in a file into a DataFrame, pandas uses the values in the first row (also known as the header) for the column labels and the row number for the row labels. Collectively, the labels are referred to as the index. DataFrames contain both a row index and a column index. Here's a diagram that displays some of the column and row labels for data:\n",
        "\n",
        "![Pandas Datafrane](https://raw.githubusercontent.com/ivanovitchm/cba2018/master/1-intro-pandas/indexing.png)\n",
        "\n",
        "The labels allow us to refer to values in the DataFrame, which we'll learn more about in the rest of this notebook."
      ]
    },
    {
      "metadata": {
        "id": "Mj3I8YDvxuyV",
        "colab_type": "text"
      },
      "cell_type": "markdown",
      "source": [
        "## Data types\n",
        "\n",
        "When you displayed individual rows, represented as Series objects, you may have noticed the text \"dtype: object\" after the last value. \"dtype: object\" refers to the data type, or dtype, of that Series. The object dtype is equivalent to the string type in Python. Pandas borrows from the NumPy type system and contains the following dtypes:\n",
        "\n",
        "* \"object\" - for representing string values.\n",
        "* \"int\" - for representing integer values.\n",
        "* \"float\" - for representing float values.\n",
        "* \"datatime\" - for representing time values.\n",
        "* \"bool\" - for representing Boolean values.\n",
        "\n",
        "When reading a file into a DataFrame, pandas analyzes the values and infers each column's types. To access the types - for each column, use the DataFrame.dtypes attribute to return a Series containing each column name and its corresponding type. It is also possible to specify column's types at the moment of reading data into Pandas by using the dtype attribute in read_csv(). Read more about data types on the [Pandas documentation](https://pandas.pydata.org/pandas-docs/stable/).\n",
        "\n",
        "Sometimes we can encounter the value - \"NaN\" - for representing Not a Number, in other words is value that pandas dosen't know how to represent, normally it's associated with missing values."
      ]
    },
    {
      "metadata": {
        "id": "7TeXVf9RzQ3O",
        "colab_type": "code",
        "outputId": "4f210506-5432-4eb6-8569-e1547d439339",
        "colab": {
          "base_uri": "https://localhost:8080/",
          "height": 272
        }
      },
      "cell_type": "code",
      "source": [
        "df.dtypes"
      ],
      "execution_count": 17,
      "outputs": [
        {
          "output_type": "execute_result",
          "data": {
            "text/plain": [
              "Mês                         int64\n",
              "Empresa                    object\n",
              "Linha                       int64\n",
              "Estudante_Cartao            int64\n",
              "Estudante_BT                int64\n",
              "Vale_Transporte             int64\n",
              "Integracao_Plena            int64\n",
              "Integracao_Complementar     int64\n",
              "Gratuito_Cartao             int64\n",
              "Gratuito_BT                 int64\n",
              "Inteira_Cartao              int64\n",
              "Inteira_Especie             int64\n",
              "Tarifa_Social               int64\n",
              "Qtd_Viagens                 int64\n",
              "dtype: object"
            ]
          },
          "metadata": {
            "tags": []
          },
          "execution_count": 17
        }
      ]
    },
    {
      "metadata": {
        "id": "V5A32iv4wvTJ",
        "colab_type": "text"
      },
      "cell_type": "markdown",
      "source": [
        "## Series\n",
        "The Series object is a core data structure that Pandas uses to represent rows and columns. A Series is a labelled collection of values similar to the NumPy vector. The main advantage of Series objects is the ability to utilize non-integer labels. NumPy arrays can only utilize integer labels for indexing.\n",
        "Pandas utilizes this feature to provide more context when returning a row or a column from a DataFrame. For example, when you select a row from a DataFrame, instead of just returning the values in that row as a list, pandas returns a Series object that contains the column labels as well as the corresponding values:\n",
        "The Series object representing the first row looks like:\n",
        "\n",
        "## Selecting a row\n",
        "While we use bracket notation to access elements in a NumPy array or a standard list, we need to use the Pandas method loc[] to select rows in a DataFrame. The loc[] method allows you to select rows by row labels. Recall that when you read a file into a dataframe, pandas uses the row number (or position) as each row's label. Pandas uses zero-indexing, so the first row is at index 0, the second row at index 1, and so on.\n",
        "If you're interested in accessing a single row, pass in the row label to the loc[] method. Also, Python will return an error if you don't pass in a valid row label. For example, the following line takes the seventh row:"
      ]
    },
    {
      "metadata": {
        "id": "cI4PIhKsvb3o",
        "colab_type": "code",
        "outputId": "6af6efce-73c9-4dfc-ee89-cc60e97a35d7",
        "colab": {
          "base_uri": "https://localhost:8080/",
          "height": 272
        }
      },
      "cell_type": "code",
      "source": [
        "# Series object representing the seventh row.\n",
        "df.loc[7]"
      ],
      "execution_count": 21,
      "outputs": [
        {
          "output_type": "execute_result",
          "data": {
            "text/plain": [
              "Mês                                1\n",
              "Empresa                    CONCEIÇÃO\n",
              "Linha                             71\n",
              "Estudante_Cartao                7188\n",
              "Estudante_BT                    5395\n",
              "Vale_Transporte                19626\n",
              "Integracao_Plena                4209\n",
              "Integracao_Complementar            0\n",
              "Gratuito_Cartao                10865\n",
              "Gratuito_BT                     4075\n",
              "Inteira_Cartao                  3608\n",
              "Inteira_Especie                23923\n",
              "Tarifa_Social                   3773\n",
              "Qtd_Viagens                     2389\n",
              "Name: 7, dtype: object"
            ]
          },
          "metadata": {
            "tags": []
          },
          "execution_count": 21
        }
      ]
    },
    {
      "metadata": {
        "id": "P4E6i_GSxeVb",
        "colab_type": "text"
      },
      "cell_type": "markdown",
      "source": [
        "## Selecting Multiple Rows\n",
        "\n",
        "If you're interested in accessing multiple rows of the DataFrame, you can pass in either a slice of row labels or a list of row labels, and pandas will return a DataFrame. Note that unlike slicing lists in Python, a slice of a DataFrame using .loc[] will include both the start and the end row:"
      ]
    },
    {
      "metadata": {
        "id": "GW0fAaRyw7MG",
        "colab_type": "code",
        "outputId": "b24a3883-f6ae-480a-9569-2aa38a38821c",
        "colab": {
          "base_uri": "https://localhost:8080/",
          "height": 173
        }
      },
      "cell_type": "code",
      "source": [
        "# DataFrame containing the rows at index 3, 4, 5, and 6 returned.\n",
        "df.loc[3:6]"
      ],
      "execution_count": 22,
      "outputs": [
        {
          "output_type": "execute_result",
          "data": {
            "text/html": [
              "<div>\n",
              "<style scoped>\n",
              "    .dataframe tbody tr th:only-of-type {\n",
              "        vertical-align: middle;\n",
              "    }\n",
              "\n",
              "    .dataframe tbody tr th {\n",
              "        vertical-align: top;\n",
              "    }\n",
              "\n",
              "    .dataframe thead th {\n",
              "        text-align: right;\n",
              "    }\n",
              "</style>\n",
              "<table border=\"1\" class=\"dataframe\">\n",
              "  <thead>\n",
              "    <tr style=\"text-align: right;\">\n",
              "      <th></th>\n",
              "      <th>Mês</th>\n",
              "      <th>Empresa</th>\n",
              "      <th>Linha</th>\n",
              "      <th>Estudante_Cartao</th>\n",
              "      <th>Estudante_BT</th>\n",
              "      <th>Vale_Transporte</th>\n",
              "      <th>Integracao_Plena</th>\n",
              "      <th>Integracao_Complementar</th>\n",
              "      <th>Gratuito_Cartao</th>\n",
              "      <th>Gratuito_BT</th>\n",
              "      <th>Inteira_Cartao</th>\n",
              "      <th>Inteira_Especie</th>\n",
              "      <th>Tarifa_Social</th>\n",
              "      <th>Qtd_Viagens</th>\n",
              "    </tr>\n",
              "  </thead>\n",
              "  <tbody>\n",
              "    <tr>\n",
              "      <th>3</th>\n",
              "      <td>1</td>\n",
              "      <td>CONCEIÇÃO</td>\n",
              "      <td>31</td>\n",
              "      <td>9631</td>\n",
              "      <td>6020</td>\n",
              "      <td>23460</td>\n",
              "      <td>7587</td>\n",
              "      <td>0</td>\n",
              "      <td>7065</td>\n",
              "      <td>2922</td>\n",
              "      <td>5491</td>\n",
              "      <td>22212</td>\n",
              "      <td>140</td>\n",
              "      <td>2478</td>\n",
              "    </tr>\n",
              "    <tr>\n",
              "      <th>4</th>\n",
              "      <td>1</td>\n",
              "      <td>CONCEIÇÃO</td>\n",
              "      <td>41</td>\n",
              "      <td>6556</td>\n",
              "      <td>4038</td>\n",
              "      <td>20388</td>\n",
              "      <td>7924</td>\n",
              "      <td>0</td>\n",
              "      <td>5704</td>\n",
              "      <td>2791</td>\n",
              "      <td>3883</td>\n",
              "      <td>13870</td>\n",
              "      <td>0</td>\n",
              "      <td>2296</td>\n",
              "    </tr>\n",
              "    <tr>\n",
              "      <th>5</th>\n",
              "      <td>1</td>\n",
              "      <td>CONCEIÇÃO</td>\n",
              "      <td>59</td>\n",
              "      <td>8184</td>\n",
              "      <td>6086</td>\n",
              "      <td>22623</td>\n",
              "      <td>7332</td>\n",
              "      <td>0</td>\n",
              "      <td>13514</td>\n",
              "      <td>4373</td>\n",
              "      <td>4622</td>\n",
              "      <td>29075</td>\n",
              "      <td>4573</td>\n",
              "      <td>2650</td>\n",
              "    </tr>\n",
              "    <tr>\n",
              "      <th>6</th>\n",
              "      <td>1</td>\n",
              "      <td>CONCEIÇÃO</td>\n",
              "      <td>63</td>\n",
              "      <td>21918</td>\n",
              "      <td>14054</td>\n",
              "      <td>44118</td>\n",
              "      <td>14630</td>\n",
              "      <td>0</td>\n",
              "      <td>15034</td>\n",
              "      <td>5771</td>\n",
              "      <td>7765</td>\n",
              "      <td>39855</td>\n",
              "      <td>3182</td>\n",
              "      <td>3768</td>\n",
              "    </tr>\n",
              "  </tbody>\n",
              "</table>\n",
              "</div>"
            ],
            "text/plain": [
              "   Mês    Empresa  Linha  Estudante_Cartao  Estudante_BT  Vale_Transporte  \\\n",
              "3    1  CONCEIÇÃO     31              9631          6020            23460   \n",
              "4    1  CONCEIÇÃO     41              6556          4038            20388   \n",
              "5    1  CONCEIÇÃO     59              8184          6086            22623   \n",
              "6    1  CONCEIÇÃO     63             21918         14054            44118   \n",
              "\n",
              "   Integracao_Plena  Integracao_Complementar  Gratuito_Cartao  Gratuito_BT  \\\n",
              "3              7587                        0             7065         2922   \n",
              "4              7924                        0             5704         2791   \n",
              "5              7332                        0            13514         4373   \n",
              "6             14630                        0            15034         5771   \n",
              "\n",
              "   Inteira_Cartao  Inteira_Especie  Tarifa_Social  Qtd_Viagens  \n",
              "3            5491            22212            140         2478  \n",
              "4            3883            13870              0         2296  \n",
              "5            4622            29075           4573         2650  \n",
              "6            7765            39855           3182         3768  "
            ]
          },
          "metadata": {
            "tags": []
          },
          "execution_count": 22
        }
      ]
    },
    {
      "metadata": {
        "id": "bTT3MoUFz6u2",
        "colab_type": "code",
        "outputId": "1d9ac829-f758-4ec9-94e4-4e381a09a6c6",
        "colab": {
          "base_uri": "https://localhost:8080/",
          "height": 142
        }
      },
      "cell_type": "code",
      "source": [
        "# DataFrame containing the rows at index 2, 5, and 10 returned\n",
        "df.loc[[2,5,10]]"
      ],
      "execution_count": 23,
      "outputs": [
        {
          "output_type": "execute_result",
          "data": {
            "text/html": [
              "<div>\n",
              "<style scoped>\n",
              "    .dataframe tbody tr th:only-of-type {\n",
              "        vertical-align: middle;\n",
              "    }\n",
              "\n",
              "    .dataframe tbody tr th {\n",
              "        vertical-align: top;\n",
              "    }\n",
              "\n",
              "    .dataframe thead th {\n",
              "        text-align: right;\n",
              "    }\n",
              "</style>\n",
              "<table border=\"1\" class=\"dataframe\">\n",
              "  <thead>\n",
              "    <tr style=\"text-align: right;\">\n",
              "      <th></th>\n",
              "      <th>Mês</th>\n",
              "      <th>Empresa</th>\n",
              "      <th>Linha</th>\n",
              "      <th>Estudante_Cartao</th>\n",
              "      <th>Estudante_BT</th>\n",
              "      <th>Vale_Transporte</th>\n",
              "      <th>Integracao_Plena</th>\n",
              "      <th>Integracao_Complementar</th>\n",
              "      <th>Gratuito_Cartao</th>\n",
              "      <th>Gratuito_BT</th>\n",
              "      <th>Inteira_Cartao</th>\n",
              "      <th>Inteira_Especie</th>\n",
              "      <th>Tarifa_Social</th>\n",
              "      <th>Qtd_Viagens</th>\n",
              "    </tr>\n",
              "  </thead>\n",
              "  <tbody>\n",
              "    <tr>\n",
              "      <th>2</th>\n",
              "      <td>1</td>\n",
              "      <td>CONCEIÇÃO</td>\n",
              "      <td>30</td>\n",
              "      <td>8519</td>\n",
              "      <td>5614</td>\n",
              "      <td>20580</td>\n",
              "      <td>5346</td>\n",
              "      <td>0</td>\n",
              "      <td>7265</td>\n",
              "      <td>3191</td>\n",
              "      <td>4415</td>\n",
              "      <td>21507</td>\n",
              "      <td>1537</td>\n",
              "      <td>2500</td>\n",
              "    </tr>\n",
              "    <tr>\n",
              "      <th>5</th>\n",
              "      <td>1</td>\n",
              "      <td>CONCEIÇÃO</td>\n",
              "      <td>59</td>\n",
              "      <td>8184</td>\n",
              "      <td>6086</td>\n",
              "      <td>22623</td>\n",
              "      <td>7332</td>\n",
              "      <td>0</td>\n",
              "      <td>13514</td>\n",
              "      <td>4373</td>\n",
              "      <td>4622</td>\n",
              "      <td>29075</td>\n",
              "      <td>4573</td>\n",
              "      <td>2650</td>\n",
              "    </tr>\n",
              "    <tr>\n",
              "      <th>10</th>\n",
              "      <td>1</td>\n",
              "      <td>CONCEIÇÃO</td>\n",
              "      <td>411</td>\n",
              "      <td>5208</td>\n",
              "      <td>2869</td>\n",
              "      <td>10397</td>\n",
              "      <td>4330</td>\n",
              "      <td>0</td>\n",
              "      <td>4723</td>\n",
              "      <td>1654</td>\n",
              "      <td>2676</td>\n",
              "      <td>11043</td>\n",
              "      <td>580</td>\n",
              "      <td>1095</td>\n",
              "    </tr>\n",
              "  </tbody>\n",
              "</table>\n",
              "</div>"
            ],
            "text/plain": [
              "    Mês    Empresa  Linha  Estudante_Cartao  Estudante_BT  Vale_Transporte  \\\n",
              "2     1  CONCEIÇÃO     30              8519          5614            20580   \n",
              "5     1  CONCEIÇÃO     59              8184          6086            22623   \n",
              "10    1  CONCEIÇÃO    411              5208          2869            10397   \n",
              "\n",
              "    Integracao_Plena  Integracao_Complementar  Gratuito_Cartao  Gratuito_BT  \\\n",
              "2               5346                        0             7265         3191   \n",
              "5               7332                        0            13514         4373   \n",
              "10              4330                        0             4723         1654   \n",
              "\n",
              "    Inteira_Cartao  Inteira_Especie  Tarifa_Social  Qtd_Viagens  \n",
              "2             4415            21507           1537         2500  \n",
              "5             4622            29075           4573         2650  \n",
              "10            2676            11043            580         1095  "
            ]
          },
          "metadata": {
            "tags": []
          },
          "execution_count": 23
        }
      ]
    },
    {
      "metadata": {
        "id": "GCC5gskz1ArG",
        "colab_type": "text"
      },
      "cell_type": "markdown",
      "source": [
        "### Exercise\n",
        "\n",
        "![alt text](https://cdn.dribbble.com/users/2344801/screenshots/4774578/alphatestersanimation2.gif =150x120)\n",
        "\n",
        "Select the last 10 rows of our dataframe and assign to the variable last_rows. #tip: use .iloc[] method.\n"
      ]
    },
    {
      "metadata": {
        "id": "4d7ukO432gkm",
        "colab_type": "code",
        "colab": {}
      },
      "cell_type": "code",
      "source": [
        "# put your code in this cell"
      ],
      "execution_count": 0,
      "outputs": []
    },
    {
      "metadata": {
        "colab_type": "text",
        "id": "Of_vYZOHcz6Z"
      },
      "cell_type": "markdown",
      "source": [
        "## Selecting Individual Columns\n",
        "\n",
        "When accessing a column in a DataFrame, Pandas returns a Series object containing the row label and each row's value for that column. To access a single column, use bracket notation and pass in the column name as a string:"
      ]
    },
    {
      "metadata": {
        "colab_type": "code",
        "outputId": "1a9ef8b1-8d1b-4fda-845e-802c780b4130",
        "id": "VBjyiUIFcz6b",
        "colab": {
          "base_uri": "https://localhost:8080/",
          "height": 115
        }
      },
      "cell_type": "code",
      "source": [
        "df['Empresa'].head()"
      ],
      "execution_count": 0,
      "outputs": [
        {
          "output_type": "execute_result",
          "data": {
            "text/plain": [
              "0    CONCEIÇÃO\n",
              "1    CONCEIÇÃO\n",
              "2    CONCEIÇÃO\n",
              "3    CONCEIÇÃO\n",
              "4    CONCEIÇÃO\n",
              "Name: Empresa, dtype: object"
            ]
          },
          "metadata": {
            "tags": []
          },
          "execution_count": 62
        }
      ]
    },
    {
      "metadata": {
        "colab_type": "text",
        "id": "cn3Ic2A-cz6g"
      },
      "cell_type": "markdown",
      "source": [
        "### Exercise\n",
        "\n",
        "![alt text](https://cdn.dribbble.com/users/2344801/screenshots/4774578/alphatestersanimation2.gif =150x120)\n",
        "\n",
        "\n",
        "1.   Assign the \"Empresa\" column to the variable empresas\n",
        "2.   Assign the last 5 rows of \"Linha\" column to the variable linhas. #tip: use the tail() function."
      ]
    },
    {
      "metadata": {
        "colab_type": "code",
        "id": "1JaZwiOicz6h",
        "colab": {}
      },
      "cell_type": "code",
      "source": [
        "# put your code in this cell"
      ],
      "execution_count": 0,
      "outputs": []
    },
    {
      "metadata": {
        "colab_type": "text",
        "id": "FyUmq4L3dZj3"
      },
      "cell_type": "markdown",
      "source": [
        "## Selecting Multiple Columns By Name and Column Index\n",
        "\n",
        "To select multiple columns, pass in a list of strings representing the column names and pandas will return a dataframe containing only the values in those columns. The following code returns a dataframe containing the \"Empresa\" and \"Linha\" columns, in that order:"
      ]
    },
    {
      "metadata": {
        "colab_type": "code",
        "outputId": "7728301b-da52-48c7-e9c1-486057248325",
        "id": "ul65tnlddZj6",
        "colab": {
          "base_uri": "https://localhost:8080/",
          "height": 191
        }
      },
      "cell_type": "code",
      "source": [
        "df[['Empresa','Linha']].head()"
      ],
      "execution_count": 0,
      "outputs": [
        {
          "output_type": "execute_result",
          "data": {
            "text/html": [
              "<div>\n",
              "<style scoped>\n",
              "    .dataframe tbody tr th:only-of-type {\n",
              "        vertical-align: middle;\n",
              "    }\n",
              "\n",
              "    .dataframe tbody tr th {\n",
              "        vertical-align: top;\n",
              "    }\n",
              "\n",
              "    .dataframe thead th {\n",
              "        text-align: right;\n",
              "    }\n",
              "</style>\n",
              "<table border=\"1\" class=\"dataframe\">\n",
              "  <thead>\n",
              "    <tr style=\"text-align: right;\">\n",
              "      <th></th>\n",
              "      <th>Empresa</th>\n",
              "      <th>Linha</th>\n",
              "    </tr>\n",
              "  </thead>\n",
              "  <tbody>\n",
              "    <tr>\n",
              "      <th>0</th>\n",
              "      <td>CONCEIÇÃO</td>\n",
              "      <td>21</td>\n",
              "    </tr>\n",
              "    <tr>\n",
              "      <th>1</th>\n",
              "      <td>CONCEIÇÃO</td>\n",
              "      <td>22</td>\n",
              "    </tr>\n",
              "    <tr>\n",
              "      <th>2</th>\n",
              "      <td>CONCEIÇÃO</td>\n",
              "      <td>30</td>\n",
              "    </tr>\n",
              "    <tr>\n",
              "      <th>3</th>\n",
              "      <td>CONCEIÇÃO</td>\n",
              "      <td>31</td>\n",
              "    </tr>\n",
              "    <tr>\n",
              "      <th>4</th>\n",
              "      <td>CONCEIÇÃO</td>\n",
              "      <td>41</td>\n",
              "    </tr>\n",
              "  </tbody>\n",
              "</table>\n",
              "</div>"
            ],
            "text/plain": [
              "     Empresa  Linha\n",
              "0  CONCEIÇÃO     21\n",
              "1  CONCEIÇÃO     22\n",
              "2  CONCEIÇÃO     30\n",
              "3  CONCEIÇÃO     31\n",
              "4  CONCEIÇÃO     41"
            ]
          },
          "metadata": {
            "tags": []
          },
          "execution_count": 64
        }
      ]
    },
    {
      "metadata": {
        "colab_type": "text",
        "id": "CQiDlid5dZkB"
      },
      "cell_type": "markdown",
      "source": [
        "When selecting multiple columns, the order of the columns in the returned DataFrame matches the order of the column names in the list of strings that you passed in. This allows you to easily explore specific columns that may not be positioned next to each other in the DataFrame. You can do the same operation if you know the column index using iloc[ ]:"
      ]
    },
    {
      "metadata": {
        "id": "sAeWcmPBdwQ_",
        "colab_type": "code",
        "colab": {
          "base_uri": "https://localhost:8080/",
          "height": 204
        },
        "outputId": "893f3ff2-2117-4ad7-fe9d-b1ffcb6c6146"
      },
      "cell_type": "code",
      "source": [
        "df.iloc[:,[1,2]].head()"
      ],
      "execution_count": 39,
      "outputs": [
        {
          "output_type": "execute_result",
          "data": {
            "text/html": [
              "<div>\n",
              "<style scoped>\n",
              "    .dataframe tbody tr th:only-of-type {\n",
              "        vertical-align: middle;\n",
              "    }\n",
              "\n",
              "    .dataframe tbody tr th {\n",
              "        vertical-align: top;\n",
              "    }\n",
              "\n",
              "    .dataframe thead th {\n",
              "        text-align: right;\n",
              "    }\n",
              "</style>\n",
              "<table border=\"1\" class=\"dataframe\">\n",
              "  <thead>\n",
              "    <tr style=\"text-align: right;\">\n",
              "      <th></th>\n",
              "      <th>Empresa</th>\n",
              "      <th>Linha</th>\n",
              "    </tr>\n",
              "  </thead>\n",
              "  <tbody>\n",
              "    <tr>\n",
              "      <th>0</th>\n",
              "      <td>CONCEIÇÃO</td>\n",
              "      <td>21</td>\n",
              "    </tr>\n",
              "    <tr>\n",
              "      <th>1</th>\n",
              "      <td>CONCEIÇÃO</td>\n",
              "      <td>22</td>\n",
              "    </tr>\n",
              "    <tr>\n",
              "      <th>2</th>\n",
              "      <td>CONCEIÇÃO</td>\n",
              "      <td>30</td>\n",
              "    </tr>\n",
              "    <tr>\n",
              "      <th>3</th>\n",
              "      <td>CONCEIÇÃO</td>\n",
              "      <td>31</td>\n",
              "    </tr>\n",
              "    <tr>\n",
              "      <th>4</th>\n",
              "      <td>CONCEIÇÃO</td>\n",
              "      <td>41</td>\n",
              "    </tr>\n",
              "  </tbody>\n",
              "</table>\n",
              "</div>"
            ],
            "text/plain": [
              "     Empresa  Linha\n",
              "0  CONCEIÇÃO     21\n",
              "1  CONCEIÇÃO     22\n",
              "2  CONCEIÇÃO     30\n",
              "3  CONCEIÇÃO     31\n",
              "4  CONCEIÇÃO     41"
            ]
          },
          "metadata": {
            "tags": []
          },
          "execution_count": 39
        }
      ]
    },
    {
      "metadata": {
        "colab_type": "text",
        "id": "VwL3Z2vSi3KU"
      },
      "cell_type": "markdown",
      "source": [
        "### Exercise\n",
        "\n",
        "![alt text](https://cdn.dribbble.com/users/2344801/screenshots/4774578/alphatestersanimation2.gif =150x120)\n",
        "\n",
        "Use **df.columns** to do the same operation as above. "
      ]
    },
    {
      "metadata": {
        "colab_type": "code",
        "id": "-JSuuXLei3KL",
        "colab": {}
      },
      "cell_type": "code",
      "source": [
        "# put your code in this cell"
      ],
      "execution_count": 0,
      "outputs": []
    },
    {
      "metadata": {
        "colab_type": "text",
        "id": "p5gzZsJEdZkC"
      },
      "cell_type": "markdown",
      "source": [
        "### Exercise\n",
        "\n",
        "![alt text](https://cdn.dribbble.com/users/2344801/screenshots/4774578/alphatestersanimation2.gif =150x120)\n",
        "\n",
        "Select and display at least a random sample row of a DataFrame created with only \"Empresa\", \"Linha\" and \"Mês\" columns. Tip: use the sample() or any() functions."
      ]
    },
    {
      "metadata": {
        "colab_type": "code",
        "id": "0_kOpWBjdZkD",
        "colab": {}
      },
      "cell_type": "code",
      "source": [
        "# put your code in this cell"
      ],
      "execution_count": 0,
      "outputs": []
    },
    {
      "metadata": {
        "id": "ir0qyx5rr-jZ",
        "colab_type": "text"
      },
      "cell_type": "markdown",
      "source": [
        "## Selecting Rows by Criteria\n",
        "It is also possible to select rows based on a search criteria. Let's say we want only data regarding the company \"CONCEIÇÃO\":"
      ]
    },
    {
      "metadata": {
        "id": "7g4SsdMUshT1",
        "colab_type": "code",
        "outputId": "05c1b743-fa73-45a4-89eb-833c9188442b",
        "colab": {
          "base_uri": "https://localhost:8080/",
          "height": 191
        }
      },
      "cell_type": "code",
      "source": [
        "df[df['Empresa'] == \"CONCEIÇÃO\"].head()"
      ],
      "execution_count": 0,
      "outputs": [
        {
          "output_type": "execute_result",
          "data": {
            "text/html": [
              "<div>\n",
              "<style scoped>\n",
              "    .dataframe tbody tr th:only-of-type {\n",
              "        vertical-align: middle;\n",
              "    }\n",
              "\n",
              "    .dataframe tbody tr th {\n",
              "        vertical-align: top;\n",
              "    }\n",
              "\n",
              "    .dataframe thead th {\n",
              "        text-align: right;\n",
              "    }\n",
              "</style>\n",
              "<table border=\"1\" class=\"dataframe\">\n",
              "  <thead>\n",
              "    <tr style=\"text-align: right;\">\n",
              "      <th></th>\n",
              "      <th>Mês</th>\n",
              "      <th>Empresa</th>\n",
              "      <th>Linha</th>\n",
              "      <th>Estudante_Cartao</th>\n",
              "      <th>Estudante_BT</th>\n",
              "      <th>Vale_Transporte</th>\n",
              "      <th>Integracao_Plena</th>\n",
              "      <th>Integracao_Complementar</th>\n",
              "      <th>Gratuito_Cartao</th>\n",
              "      <th>Gratuito_BT</th>\n",
              "      <th>Inteira_Cartao</th>\n",
              "      <th>Inteira_Especie</th>\n",
              "      <th>Tarifa_Social</th>\n",
              "      <th>Qtd_Viagens</th>\n",
              "    </tr>\n",
              "  </thead>\n",
              "  <tbody>\n",
              "    <tr>\n",
              "      <th>0</th>\n",
              "      <td>1</td>\n",
              "      <td>CONCEIÇÃO</td>\n",
              "      <td>21</td>\n",
              "      <td>13493</td>\n",
              "      <td>9506</td>\n",
              "      <td>35944</td>\n",
              "      <td>8671</td>\n",
              "      <td>0</td>\n",
              "      <td>17138</td>\n",
              "      <td>7397</td>\n",
              "      <td>6542</td>\n",
              "      <td>43727</td>\n",
              "      <td>3965</td>\n",
              "      <td>3684</td>\n",
              "    </tr>\n",
              "    <tr>\n",
              "      <th>1</th>\n",
              "      <td>1</td>\n",
              "      <td>CONCEIÇÃO</td>\n",
              "      <td>22</td>\n",
              "      <td>4644</td>\n",
              "      <td>3371</td>\n",
              "      <td>13088</td>\n",
              "      <td>3230</td>\n",
              "      <td>0</td>\n",
              "      <td>8109</td>\n",
              "      <td>3157</td>\n",
              "      <td>2529</td>\n",
              "      <td>15363</td>\n",
              "      <td>0</td>\n",
              "      <td>1737</td>\n",
              "    </tr>\n",
              "    <tr>\n",
              "      <th>2</th>\n",
              "      <td>1</td>\n",
              "      <td>CONCEIÇÃO</td>\n",
              "      <td>30</td>\n",
              "      <td>8519</td>\n",
              "      <td>5614</td>\n",
              "      <td>20580</td>\n",
              "      <td>5346</td>\n",
              "      <td>0</td>\n",
              "      <td>7265</td>\n",
              "      <td>3191</td>\n",
              "      <td>4415</td>\n",
              "      <td>21507</td>\n",
              "      <td>1537</td>\n",
              "      <td>2500</td>\n",
              "    </tr>\n",
              "    <tr>\n",
              "      <th>3</th>\n",
              "      <td>1</td>\n",
              "      <td>CONCEIÇÃO</td>\n",
              "      <td>31</td>\n",
              "      <td>9631</td>\n",
              "      <td>6020</td>\n",
              "      <td>23460</td>\n",
              "      <td>7587</td>\n",
              "      <td>0</td>\n",
              "      <td>7065</td>\n",
              "      <td>2922</td>\n",
              "      <td>5491</td>\n",
              "      <td>22212</td>\n",
              "      <td>140</td>\n",
              "      <td>2478</td>\n",
              "    </tr>\n",
              "    <tr>\n",
              "      <th>4</th>\n",
              "      <td>1</td>\n",
              "      <td>CONCEIÇÃO</td>\n",
              "      <td>41</td>\n",
              "      <td>6556</td>\n",
              "      <td>4038</td>\n",
              "      <td>20388</td>\n",
              "      <td>7924</td>\n",
              "      <td>0</td>\n",
              "      <td>5704</td>\n",
              "      <td>2791</td>\n",
              "      <td>3883</td>\n",
              "      <td>13870</td>\n",
              "      <td>0</td>\n",
              "      <td>2296</td>\n",
              "    </tr>\n",
              "  </tbody>\n",
              "</table>\n",
              "</div>"
            ],
            "text/plain": [
              "   Mês    Empresa  Linha  Estudante_Cartao  Estudante_BT  Vale_Transporte  \\\n",
              "0    1  CONCEIÇÃO     21             13493          9506            35944   \n",
              "1    1  CONCEIÇÃO     22              4644          3371            13088   \n",
              "2    1  CONCEIÇÃO     30              8519          5614            20580   \n",
              "3    1  CONCEIÇÃO     31              9631          6020            23460   \n",
              "4    1  CONCEIÇÃO     41              6556          4038            20388   \n",
              "\n",
              "   Integracao_Plena  Integracao_Complementar  Gratuito_Cartao  Gratuito_BT  \\\n",
              "0              8671                        0            17138         7397   \n",
              "1              3230                        0             8109         3157   \n",
              "2              5346                        0             7265         3191   \n",
              "3              7587                        0             7065         2922   \n",
              "4              7924                        0             5704         2791   \n",
              "\n",
              "   Inteira_Cartao  Inteira_Especie  Tarifa_Social  Qtd_Viagens  \n",
              "0            6542            43727           3965         3684  \n",
              "1            2529            15363              0         1737  \n",
              "2            4415            21507           1537         2500  \n",
              "3            5491            22212            140         2478  \n",
              "4            3883            13870              0         2296  "
            ]
          },
          "metadata": {
            "tags": []
          },
          "execution_count": 60
        }
      ]
    },
    {
      "metadata": {
        "colab_type": "text",
        "id": "mdvwRZVmtSJ0"
      },
      "cell_type": "markdown",
      "source": [
        "### Exercise\n",
        "\n",
        "![alt text](https://cdn.dribbble.com/users/2344801/screenshots/4774578/alphatestersanimation2.gif =150x120)\n",
        "\n",
        "Put in the variable \"selected_bus_lines\" the dataframe resulting from the selection of bus lines number \"21\" and \"22\".\n",
        "\n",
        "**Tip:** You can use function *isin()* function for the target column."
      ]
    },
    {
      "metadata": {
        "colab_type": "code",
        "id": "en56YG6QtSJ3",
        "colab": {}
      },
      "cell_type": "code",
      "source": [
        "# put your code in this cell"
      ],
      "execution_count": 0,
      "outputs": []
    },
    {
      "metadata": {
        "id": "Fr_OVybn-mpJ",
        "colab_type": "text"
      },
      "cell_type": "markdown",
      "source": [
        "## Column Uniqueness\n",
        "\n",
        "When in the process of knowing the data, it's interesting to know the uniqueness of some attibutes. For this, Pandas implements the function unique() which can be use, for example, to know how many different bus companies appear in our data:"
      ]
    },
    {
      "metadata": {
        "id": "47zRtIoH7mzg",
        "colab_type": "code",
        "colab": {}
      },
      "cell_type": "code",
      "source": [
        "# uniqueness of column \"Empresa\"\n",
        "empresas = df['Empresa'].unique()\n"
      ],
      "execution_count": 0,
      "outputs": []
    },
    {
      "metadata": {
        "id": "j0AUOSSX_bCe",
        "colab_type": "code",
        "outputId": "50d8f94c-20c0-46a4-e8dc-c3d9d3687772",
        "colab": {
          "base_uri": "https://localhost:8080/",
          "height": 34
        }
      },
      "cell_type": "code",
      "source": [
        "# length of the array returned\n",
        "len(empresas)"
      ],
      "execution_count": 45,
      "outputs": [
        {
          "output_type": "execute_result",
          "data": {
            "text/plain": [
              "6"
            ]
          },
          "metadata": {
            "tags": []
          },
          "execution_count": 45
        }
      ]
    },
    {
      "metadata": {
        "id": "C0eGb0PAAZVN",
        "colab_type": "text"
      },
      "cell_type": "markdown",
      "source": [
        "So, there are 6 different bus companies in our DataFrame."
      ]
    },
    {
      "metadata": {
        "id": "oneb4BvXBOT-",
        "colab_type": "text"
      },
      "cell_type": "markdown",
      "source": [
        "### Exercise\n",
        "\n",
        "![alt text](https://cdn.dribbble.com/users/2344801/screenshots/4774578/alphatestersanimation2.gif =150x120)\n",
        "\n",
        "How many different bus lines are there in our DataFrame?"
      ]
    },
    {
      "metadata": {
        "id": "-dqlyWNRAV3W",
        "colab_type": "code",
        "colab": {}
      },
      "cell_type": "code",
      "source": [
        "# put your code in this cell"
      ],
      "execution_count": 0,
      "outputs": []
    },
    {
      "metadata": {
        "id": "qx-bb2tbB9W1",
        "colab_type": "text"
      },
      "cell_type": "markdown",
      "source": [
        "## Data manipulation with Pandas\n",
        "\n",
        "### Overview\n",
        "In the previous sections, we learned how to explore a pandas DataFrame. In this mission, we'll explore how to manipulate a DataFrame and make transformations to it. We'll continue to work with the same data set from the Power Plants information. We'll build a better dataset cleaning the data and removing not useful information. We also gonna learn how to group up informatio and manipulate data."
      ]
    },
    {
      "metadata": {
        "id": "1o6l39KtBtQz",
        "colab_type": "text"
      },
      "cell_type": "markdown",
      "source": [
        "## Dropping Columns\n",
        "Sometimes datasets have more information than needed or bad quality data that may be discarded. Let's suppose we don't have to look at half-price entries for students (columns with *Estudante_* as prefix) and, to simplify things outs, let's drop them out of the dataset with the *drop()* function:\n",
        "\n",
        "**Tip:** a list of dataset columns can be obtained by calling *df.columns*"
      ]
    },
    {
      "metadata": {
        "id": "cfG6h5K07KXV",
        "colab_type": "code",
        "outputId": "a452690f-e439-4cb4-d1e6-63778e74b3e9",
        "colab": {
          "base_uri": "https://localhost:8080/",
          "height": 204
        }
      },
      "cell_type": "code",
      "source": [
        "df.drop(['Estudante_Cartao','Estudante_BT'], axis=1).head() # note that axis=1 means along with \"columns\". It's a column-wise operation."
      ],
      "execution_count": 47,
      "outputs": [
        {
          "output_type": "execute_result",
          "data": {
            "text/html": [
              "<div>\n",
              "<style scoped>\n",
              "    .dataframe tbody tr th:only-of-type {\n",
              "        vertical-align: middle;\n",
              "    }\n",
              "\n",
              "    .dataframe tbody tr th {\n",
              "        vertical-align: top;\n",
              "    }\n",
              "\n",
              "    .dataframe thead th {\n",
              "        text-align: right;\n",
              "    }\n",
              "</style>\n",
              "<table border=\"1\" class=\"dataframe\">\n",
              "  <thead>\n",
              "    <tr style=\"text-align: right;\">\n",
              "      <th></th>\n",
              "      <th>Mês</th>\n",
              "      <th>Empresa</th>\n",
              "      <th>Linha</th>\n",
              "      <th>Vale_Transporte</th>\n",
              "      <th>Integracao_Plena</th>\n",
              "      <th>Integracao_Complementar</th>\n",
              "      <th>Gratuito_Cartao</th>\n",
              "      <th>Gratuito_BT</th>\n",
              "      <th>Inteira_Cartao</th>\n",
              "      <th>Inteira_Especie</th>\n",
              "      <th>Tarifa_Social</th>\n",
              "      <th>Qtd_Viagens</th>\n",
              "    </tr>\n",
              "  </thead>\n",
              "  <tbody>\n",
              "    <tr>\n",
              "      <th>0</th>\n",
              "      <td>1</td>\n",
              "      <td>CONCEIÇÃO</td>\n",
              "      <td>21</td>\n",
              "      <td>35944</td>\n",
              "      <td>8671</td>\n",
              "      <td>0</td>\n",
              "      <td>17138</td>\n",
              "      <td>7397</td>\n",
              "      <td>6542</td>\n",
              "      <td>43727</td>\n",
              "      <td>3965</td>\n",
              "      <td>3684</td>\n",
              "    </tr>\n",
              "    <tr>\n",
              "      <th>1</th>\n",
              "      <td>1</td>\n",
              "      <td>CONCEIÇÃO</td>\n",
              "      <td>22</td>\n",
              "      <td>13088</td>\n",
              "      <td>3230</td>\n",
              "      <td>0</td>\n",
              "      <td>8109</td>\n",
              "      <td>3157</td>\n",
              "      <td>2529</td>\n",
              "      <td>15363</td>\n",
              "      <td>0</td>\n",
              "      <td>1737</td>\n",
              "    </tr>\n",
              "    <tr>\n",
              "      <th>2</th>\n",
              "      <td>1</td>\n",
              "      <td>CONCEIÇÃO</td>\n",
              "      <td>30</td>\n",
              "      <td>20580</td>\n",
              "      <td>5346</td>\n",
              "      <td>0</td>\n",
              "      <td>7265</td>\n",
              "      <td>3191</td>\n",
              "      <td>4415</td>\n",
              "      <td>21507</td>\n",
              "      <td>1537</td>\n",
              "      <td>2500</td>\n",
              "    </tr>\n",
              "    <tr>\n",
              "      <th>3</th>\n",
              "      <td>1</td>\n",
              "      <td>CONCEIÇÃO</td>\n",
              "      <td>31</td>\n",
              "      <td>23460</td>\n",
              "      <td>7587</td>\n",
              "      <td>0</td>\n",
              "      <td>7065</td>\n",
              "      <td>2922</td>\n",
              "      <td>5491</td>\n",
              "      <td>22212</td>\n",
              "      <td>140</td>\n",
              "      <td>2478</td>\n",
              "    </tr>\n",
              "    <tr>\n",
              "      <th>4</th>\n",
              "      <td>1</td>\n",
              "      <td>CONCEIÇÃO</td>\n",
              "      <td>41</td>\n",
              "      <td>20388</td>\n",
              "      <td>7924</td>\n",
              "      <td>0</td>\n",
              "      <td>5704</td>\n",
              "      <td>2791</td>\n",
              "      <td>3883</td>\n",
              "      <td>13870</td>\n",
              "      <td>0</td>\n",
              "      <td>2296</td>\n",
              "    </tr>\n",
              "  </tbody>\n",
              "</table>\n",
              "</div>"
            ],
            "text/plain": [
              "   Mês    Empresa  Linha  Vale_Transporte  Integracao_Plena  \\\n",
              "0    1  CONCEIÇÃO     21            35944              8671   \n",
              "1    1  CONCEIÇÃO     22            13088              3230   \n",
              "2    1  CONCEIÇÃO     30            20580              5346   \n",
              "3    1  CONCEIÇÃO     31            23460              7587   \n",
              "4    1  CONCEIÇÃO     41            20388              7924   \n",
              "\n",
              "   Integracao_Complementar  Gratuito_Cartao  Gratuito_BT  Inteira_Cartao  \\\n",
              "0                        0            17138         7397            6542   \n",
              "1                        0             8109         3157            2529   \n",
              "2                        0             7265         3191            4415   \n",
              "3                        0             7065         2922            5491   \n",
              "4                        0             5704         2791            3883   \n",
              "\n",
              "   Inteira_Especie  Tarifa_Social  Qtd_Viagens  \n",
              "0            43727           3965         3684  \n",
              "1            15363              0         1737  \n",
              "2            21507           1537         2500  \n",
              "3            22212            140         2478  \n",
              "4            13870              0         2296  "
            ]
          },
          "metadata": {
            "tags": []
          },
          "execution_count": 47
        }
      ]
    },
    {
      "metadata": {
        "id": "MBfabdD4AmdR",
        "colab_type": "text"
      },
      "cell_type": "markdown",
      "source": [
        "The same way we dropped some columns, we could think of keeping only certain columns in the dataset. Supposing we want to use only columns \"Mês\", \"Empresa\" and \"Qtd_Viagens\", we can use the *difference()* function to help us out on this:"
      ]
    },
    {
      "metadata": {
        "id": "8Wl3envq_Qa5",
        "colab_type": "code",
        "outputId": "8ec9b3bc-7ec3-454f-be5e-e193b2f3feae",
        "colab": {
          "base_uri": "https://localhost:8080/",
          "height": 204
        }
      },
      "cell_type": "code",
      "source": [
        "df.drop(df.columns.difference(['Mês','Empresa','Qtd_Viagens']), axis=1).head()"
      ],
      "execution_count": 48,
      "outputs": [
        {
          "output_type": "execute_result",
          "data": {
            "text/html": [
              "<div>\n",
              "<style scoped>\n",
              "    .dataframe tbody tr th:only-of-type {\n",
              "        vertical-align: middle;\n",
              "    }\n",
              "\n",
              "    .dataframe tbody tr th {\n",
              "        vertical-align: top;\n",
              "    }\n",
              "\n",
              "    .dataframe thead th {\n",
              "        text-align: right;\n",
              "    }\n",
              "</style>\n",
              "<table border=\"1\" class=\"dataframe\">\n",
              "  <thead>\n",
              "    <tr style=\"text-align: right;\">\n",
              "      <th></th>\n",
              "      <th>Mês</th>\n",
              "      <th>Empresa</th>\n",
              "      <th>Qtd_Viagens</th>\n",
              "    </tr>\n",
              "  </thead>\n",
              "  <tbody>\n",
              "    <tr>\n",
              "      <th>0</th>\n",
              "      <td>1</td>\n",
              "      <td>CONCEIÇÃO</td>\n",
              "      <td>3684</td>\n",
              "    </tr>\n",
              "    <tr>\n",
              "      <th>1</th>\n",
              "      <td>1</td>\n",
              "      <td>CONCEIÇÃO</td>\n",
              "      <td>1737</td>\n",
              "    </tr>\n",
              "    <tr>\n",
              "      <th>2</th>\n",
              "      <td>1</td>\n",
              "      <td>CONCEIÇÃO</td>\n",
              "      <td>2500</td>\n",
              "    </tr>\n",
              "    <tr>\n",
              "      <th>3</th>\n",
              "      <td>1</td>\n",
              "      <td>CONCEIÇÃO</td>\n",
              "      <td>2478</td>\n",
              "    </tr>\n",
              "    <tr>\n",
              "      <th>4</th>\n",
              "      <td>1</td>\n",
              "      <td>CONCEIÇÃO</td>\n",
              "      <td>2296</td>\n",
              "    </tr>\n",
              "  </tbody>\n",
              "</table>\n",
              "</div>"
            ],
            "text/plain": [
              "   Mês    Empresa  Qtd_Viagens\n",
              "0    1  CONCEIÇÃO         3684\n",
              "1    1  CONCEIÇÃO         1737\n",
              "2    1  CONCEIÇÃO         2500\n",
              "3    1  CONCEIÇÃO         2478\n",
              "4    1  CONCEIÇÃO         2296"
            ]
          },
          "metadata": {
            "tags": []
          },
          "execution_count": 48
        }
      ]
    },
    {
      "metadata": {
        "colab_type": "text",
        "id": "Ox0qmd3seCKI"
      },
      "cell_type": "markdown",
      "source": [
        "### Exercise\n",
        "\n",
        "![alt text](https://cdn.dribbble.com/users/2344801/screenshots/4774578/alphatestersanimation2.gif =150x120)\n",
        "\n",
        "Create a new dataframe containing no data regarding subsidized entrance tickets according to the following recipe:\n",
        "\n",
        "\n",
        "1.  Check column names using *df.columns.tolist()* and assign the resulting list to the variable **col_names**\n",
        "2.  Remove undesired column names from variable **col_names** using the *remove()*  function.\n",
        "3.  Use variable **col_names** to map only the desired columns to a new dataframe.\n",
        "\n",
        "**Tip:** There is no use for the drop() function in this exercise.\n",
        "\n"
      ]
    },
    {
      "metadata": {
        "colab_type": "code",
        "id": "Ku9i_KYUeCKK",
        "colab": {}
      },
      "cell_type": "code",
      "source": [
        "# put your code in this cell"
      ],
      "execution_count": 0,
      "outputs": []
    },
    {
      "metadata": {
        "id": "N5e4ticRlziK",
        "colab_type": "text"
      },
      "cell_type": "markdown",
      "source": [
        "## Adding Columns\n",
        "\n",
        "If instead of dropping, we want to add a new column to the dataframe? What about adding a new column called 'Integracao_Total', which results from the sum of columns 'Integracao_Plena' and 'Integracao_Complementar' ?\n",
        "\n"
      ]
    },
    {
      "metadata": {
        "id": "qUWuk-FghE8i",
        "colab_type": "code",
        "outputId": "4853cdbc-f768-442a-fd32-b961c4963455",
        "colab": {
          "base_uri": "https://localhost:8080/",
          "height": 204
        }
      },
      "cell_type": "code",
      "source": [
        "df['Integracao_Total'] = df['Integracao_Plena'] + df['Integracao_Complementar']\n",
        "df.sample(5)"
      ],
      "execution_count": 50,
      "outputs": [
        {
          "output_type": "execute_result",
          "data": {
            "text/html": [
              "<div>\n",
              "<style scoped>\n",
              "    .dataframe tbody tr th:only-of-type {\n",
              "        vertical-align: middle;\n",
              "    }\n",
              "\n",
              "    .dataframe tbody tr th {\n",
              "        vertical-align: top;\n",
              "    }\n",
              "\n",
              "    .dataframe thead th {\n",
              "        text-align: right;\n",
              "    }\n",
              "</style>\n",
              "<table border=\"1\" class=\"dataframe\">\n",
              "  <thead>\n",
              "    <tr style=\"text-align: right;\">\n",
              "      <th></th>\n",
              "      <th>Mês</th>\n",
              "      <th>Empresa</th>\n",
              "      <th>Linha</th>\n",
              "      <th>Estudante_Cartao</th>\n",
              "      <th>Estudante_BT</th>\n",
              "      <th>Vale_Transporte</th>\n",
              "      <th>Integracao_Plena</th>\n",
              "      <th>Integracao_Complementar</th>\n",
              "      <th>Gratuito_Cartao</th>\n",
              "      <th>Gratuito_BT</th>\n",
              "      <th>Inteira_Cartao</th>\n",
              "      <th>Inteira_Especie</th>\n",
              "      <th>Tarifa_Social</th>\n",
              "      <th>Qtd_Viagens</th>\n",
              "      <th>Integracao_Total</th>\n",
              "    </tr>\n",
              "  </thead>\n",
              "  <tbody>\n",
              "    <tr>\n",
              "      <th>877</th>\n",
              "      <td>10</td>\n",
              "      <td>DUNAS - URB</td>\n",
              "      <td>331</td>\n",
              "      <td>20027</td>\n",
              "      <td>3780</td>\n",
              "      <td>22162</td>\n",
              "      <td>4791</td>\n",
              "      <td>16</td>\n",
              "      <td>6562</td>\n",
              "      <td>2571</td>\n",
              "      <td>5993</td>\n",
              "      <td>18942</td>\n",
              "      <td>2227</td>\n",
              "      <td>1560</td>\n",
              "      <td>4807</td>\n",
              "    </tr>\n",
              "    <tr>\n",
              "      <th>121</th>\n",
              "      <td>2</td>\n",
              "      <td>DUNAS - URB</td>\n",
              "      <td>331</td>\n",
              "      <td>11588</td>\n",
              "      <td>5935</td>\n",
              "      <td>18454</td>\n",
              "      <td>3843</td>\n",
              "      <td>0</td>\n",
              "      <td>5098</td>\n",
              "      <td>1954</td>\n",
              "      <td>5291</td>\n",
              "      <td>17771</td>\n",
              "      <td>932</td>\n",
              "      <td>1395</td>\n",
              "      <td>3843</td>\n",
              "    </tr>\n",
              "    <tr>\n",
              "      <th>664</th>\n",
              "      <td>8</td>\n",
              "      <td>CONCEIÇÃO</td>\n",
              "      <td>30</td>\n",
              "      <td>23907</td>\n",
              "      <td>7563</td>\n",
              "      <td>24858</td>\n",
              "      <td>6866</td>\n",
              "      <td>0</td>\n",
              "      <td>8361</td>\n",
              "      <td>3627</td>\n",
              "      <td>6239</td>\n",
              "      <td>24311</td>\n",
              "      <td>0</td>\n",
              "      <td>2646</td>\n",
              "      <td>6866</td>\n",
              "    </tr>\n",
              "    <tr>\n",
              "      <th>710</th>\n",
              "      <td>8</td>\n",
              "      <td>GUANABARA - URB</td>\n",
              "      <td>102</td>\n",
              "      <td>2309</td>\n",
              "      <td>802</td>\n",
              "      <td>4507</td>\n",
              "      <td>922</td>\n",
              "      <td>14</td>\n",
              "      <td>2588</td>\n",
              "      <td>994</td>\n",
              "      <td>989</td>\n",
              "      <td>5606</td>\n",
              "      <td>0</td>\n",
              "      <td>433</td>\n",
              "      <td>936</td>\n",
              "    </tr>\n",
              "    <tr>\n",
              "      <th>390</th>\n",
              "      <td>5</td>\n",
              "      <td>CONCEIÇÃO</td>\n",
              "      <td>411</td>\n",
              "      <td>8595</td>\n",
              "      <td>2733</td>\n",
              "      <td>11278</td>\n",
              "      <td>4861</td>\n",
              "      <td>0</td>\n",
              "      <td>4934</td>\n",
              "      <td>1647</td>\n",
              "      <td>3127</td>\n",
              "      <td>11640</td>\n",
              "      <td>502</td>\n",
              "      <td>1080</td>\n",
              "      <td>4861</td>\n",
              "    </tr>\n",
              "  </tbody>\n",
              "</table>\n",
              "</div>"
            ],
            "text/plain": [
              "     Mês          Empresa  Linha  Estudante_Cartao  Estudante_BT  \\\n",
              "877   10      DUNAS - URB    331             20027          3780   \n",
              "121    2      DUNAS - URB    331             11588          5935   \n",
              "664    8        CONCEIÇÃO     30             23907          7563   \n",
              "710    8  GUANABARA - URB    102              2309           802   \n",
              "390    5        CONCEIÇÃO    411              8595          2733   \n",
              "\n",
              "     Vale_Transporte  Integracao_Plena  Integracao_Complementar  \\\n",
              "877            22162              4791                       16   \n",
              "121            18454              3843                        0   \n",
              "664            24858              6866                        0   \n",
              "710             4507               922                       14   \n",
              "390            11278              4861                        0   \n",
              "\n",
              "     Gratuito_Cartao  Gratuito_BT  Inteira_Cartao  Inteira_Especie  \\\n",
              "877             6562         2571            5993            18942   \n",
              "121             5098         1954            5291            17771   \n",
              "664             8361         3627            6239            24311   \n",
              "710             2588          994             989             5606   \n",
              "390             4934         1647            3127            11640   \n",
              "\n",
              "     Tarifa_Social  Qtd_Viagens  Integracao_Total  \n",
              "877           2227         1560              4807  \n",
              "121            932         1395              3843  \n",
              "664              0         2646              6866  \n",
              "710              0          433               936  \n",
              "390            502         1080              4861  "
            ]
          },
          "metadata": {
            "tags": []
          },
          "execution_count": 50
        }
      ]
    },
    {
      "metadata": {
        "id": "1doVSE2spZkZ",
        "colab_type": "text"
      },
      "cell_type": "markdown",
      "source": [
        "### Exercise\n",
        "\n",
        "![alt text](https://cdn.dribbble.com/users/2344801/screenshots/4774578/alphatestersanimation2.gif =150x120)\n",
        "\n",
        "Create a new column of your own by using any arithmetic operation involving the columns of the dataframe.\n",
        "\n"
      ]
    },
    {
      "metadata": {
        "id": "Av4qu1_ywxrS",
        "colab_type": "code",
        "colab": {}
      },
      "cell_type": "code",
      "source": [
        "# put your code in this cell"
      ],
      "execution_count": 0,
      "outputs": []
    },
    {
      "metadata": {
        "id": "-WjGSvb0qfk-",
        "colab_type": "text"
      },
      "cell_type": "markdown",
      "source": [
        "## Column-wise Operations\n",
        "\n",
        "A common step in data analysis is to apply an operation or a function to a specific entire column. A primary operation would be a type change in a column. \n",
        "\n",
        "Column \"Linha\" refers to the name of the bus line. Hence, it is plausible to convert the type of this column to string (str). We can do it with the help of the *astype()* function."
      ]
    },
    {
      "metadata": {
        "id": "qPTOaXp76IA6",
        "colab_type": "code",
        "colab": {}
      },
      "cell_type": "code",
      "source": [
        "df[\"Linha\"] = df[\"Linha\"].astype(str)"
      ],
      "execution_count": 0,
      "outputs": []
    },
    {
      "metadata": {
        "id": "SXOR4XD06TR7",
        "colab_type": "code",
        "outputId": "2540e37b-071d-454d-8135-4de83a61e9ce",
        "colab": {
          "base_uri": "https://localhost:8080/",
          "height": 289
        }
      },
      "cell_type": "code",
      "source": [
        "df.dtypes"
      ],
      "execution_count": 53,
      "outputs": [
        {
          "output_type": "execute_result",
          "data": {
            "text/plain": [
              "Mês                         int64\n",
              "Empresa                    object\n",
              "Linha                      object\n",
              "Estudante_Cartao            int64\n",
              "Estudante_BT                int64\n",
              "Vale_Transporte             int64\n",
              "Integracao_Plena            int64\n",
              "Integracao_Complementar     int64\n",
              "Gratuito_Cartao             int64\n",
              "Gratuito_BT                 int64\n",
              "Inteira_Cartao              int64\n",
              "Inteira_Especie             int64\n",
              "Tarifa_Social               int64\n",
              "Qtd_Viagens                 int64\n",
              "Integracao_Total            int64\n",
              "dtype: object"
            ]
          },
          "metadata": {
            "tags": []
          },
          "execution_count": 53
        }
      ]
    },
    {
      "metadata": {
        "colab_type": "text",
        "id": "PEYrIrKr1vy1"
      },
      "cell_type": "markdown",
      "source": [
        "### Exercise\n",
        "\n",
        "![alt text](https://cdn.dribbble.com/users/2344801/screenshots/4774578/alphatestersanimation2.gif =150x120)\n",
        "\n",
        "As you can see in previous steps, Pandas guessed the type *int64* for all numeric columns. This means numbers are signed 64-bit integers. Is this precision necessary for the numerical magnitude of this dataset? If not, change the type of these columns for *int32*. After doing that, check the resulting memory economy.\n",
        "\n",
        "**Tip:** Use df.columns.difference() to exclude columns from conversion.\n",
        "\n"
      ]
    },
    {
      "metadata": {
        "colab_type": "code",
        "id": "Tj6avOnO1vy4",
        "colab": {}
      },
      "cell_type": "code",
      "source": [
        "# put your code in this cell"
      ],
      "execution_count": 0,
      "outputs": []
    },
    {
      "metadata": {
        "id": "bCgXdjVG5CGU",
        "colab_type": "text"
      },
      "cell_type": "markdown",
      "source": [
        "### The Apply Method\n",
        "\n",
        "Sometimes it is needed to apply a more complex operation to one or more columns of the data set. To accomplish this more easily, pandas offers the *apply* method, which is able to apply a custom column-wise operation."
      ]
    },
    {
      "metadata": {
        "id": "jWva5lTas4Zg",
        "colab_type": "text"
      },
      "cell_type": "markdown",
      "source": [
        "Column 'Mês' in the dataframe refers to month numbers. It is also interesting to have a column with the corresponding month names, don't you think? We can do it with the *apply* method, a [lambda function](https://www.w3schools.com/python/python_lambda.asp) and a helper library called **calendar** (to map month numbers into month names). The resulting list of month names could be added as a new column for the dataframe."
      ]
    },
    {
      "metadata": {
        "id": "sdJ-TA_et6s-",
        "colab_type": "code",
        "colab": {}
      },
      "cell_type": "code",
      "source": [
        "#lets import calendar\n",
        "from calendar import month_name #we want only month_name from calendar."
      ],
      "execution_count": 0,
      "outputs": []
    },
    {
      "metadata": {
        "id": "QfY5QDKo6qVK",
        "colab_type": "text"
      },
      "cell_type": "markdown",
      "source": [
        "Calendar's month_name is just an array with months names ordered by number. To get the names, we can just access an element by its index number. For example, if we access the 3rd element in the array, we get 'March'. "
      ]
    },
    {
      "metadata": {
        "id": "zIpc59dd7CYZ",
        "colab_type": "code",
        "outputId": "878ecb10-1318-4bf4-f359-df9869b5045f",
        "colab": {
          "base_uri": "https://localhost:8080/",
          "height": 34
        }
      },
      "cell_type": "code",
      "source": [
        "month_name[3]"
      ],
      "execution_count": 56,
      "outputs": [
        {
          "output_type": "execute_result",
          "data": {
            "text/plain": [
              "'March'"
            ]
          },
          "metadata": {
            "tags": []
          },
          "execution_count": 56
        }
      ]
    },
    {
      "metadata": {
        "id": "ILg2J_Rx7lZX",
        "colab_type": "text"
      },
      "cell_type": "markdown",
      "source": [
        "Thus, we can use apply this mechanism to the whole column \"Mês\" and obtain as result an array of month names:"
      ]
    },
    {
      "metadata": {
        "id": "psXf6nmMrvvz",
        "colab_type": "code",
        "outputId": "5e9105c8-11f9-4f55-ba71-2b490cb9ba51",
        "colab": {
          "base_uri": "https://localhost:8080/",
          "height": 119
        }
      },
      "cell_type": "code",
      "source": [
        "month_names = df.Mês.apply(lambda x: month_name[x]) #making the lambda function column wise with apply\n",
        "month_names.sample(5)"
      ],
      "execution_count": 57,
      "outputs": [
        {
          "output_type": "execute_result",
          "data": {
            "text/plain": [
              "738    August\n",
              "336     April\n",
              "368     April\n",
              "729    August\n",
              "483      June\n",
              "Name: Mês, dtype: object"
            ]
          },
          "metadata": {
            "tags": []
          },
          "execution_count": 57
        }
      ]
    },
    {
      "metadata": {
        "id": "jQshwbbwt5SZ",
        "colab_type": "code",
        "outputId": "5b4e1c8c-b88b-41be-a0b6-b4205fca11c4",
        "colab": {
          "base_uri": "https://localhost:8080/",
          "height": 204
        }
      },
      "cell_type": "code",
      "source": [
        "# adding new column called 'Month' with the month names list generated from column 'Mês'\n",
        "df['Month'] = month_names\n",
        "df.head()"
      ],
      "execution_count": 58,
      "outputs": [
        {
          "output_type": "execute_result",
          "data": {
            "text/html": [
              "<div>\n",
              "<style scoped>\n",
              "    .dataframe tbody tr th:only-of-type {\n",
              "        vertical-align: middle;\n",
              "    }\n",
              "\n",
              "    .dataframe tbody tr th {\n",
              "        vertical-align: top;\n",
              "    }\n",
              "\n",
              "    .dataframe thead th {\n",
              "        text-align: right;\n",
              "    }\n",
              "</style>\n",
              "<table border=\"1\" class=\"dataframe\">\n",
              "  <thead>\n",
              "    <tr style=\"text-align: right;\">\n",
              "      <th></th>\n",
              "      <th>Mês</th>\n",
              "      <th>Empresa</th>\n",
              "      <th>Linha</th>\n",
              "      <th>Estudante_Cartao</th>\n",
              "      <th>Estudante_BT</th>\n",
              "      <th>Vale_Transporte</th>\n",
              "      <th>Integracao_Plena</th>\n",
              "      <th>Integracao_Complementar</th>\n",
              "      <th>Gratuito_Cartao</th>\n",
              "      <th>Gratuito_BT</th>\n",
              "      <th>Inteira_Cartao</th>\n",
              "      <th>Inteira_Especie</th>\n",
              "      <th>Tarifa_Social</th>\n",
              "      <th>Qtd_Viagens</th>\n",
              "      <th>Integracao_Total</th>\n",
              "      <th>Month</th>\n",
              "    </tr>\n",
              "  </thead>\n",
              "  <tbody>\n",
              "    <tr>\n",
              "      <th>0</th>\n",
              "      <td>1</td>\n",
              "      <td>CONCEIÇÃO</td>\n",
              "      <td>21</td>\n",
              "      <td>13493</td>\n",
              "      <td>9506</td>\n",
              "      <td>35944</td>\n",
              "      <td>8671</td>\n",
              "      <td>0</td>\n",
              "      <td>17138</td>\n",
              "      <td>7397</td>\n",
              "      <td>6542</td>\n",
              "      <td>43727</td>\n",
              "      <td>3965</td>\n",
              "      <td>3684</td>\n",
              "      <td>8671</td>\n",
              "      <td>January</td>\n",
              "    </tr>\n",
              "    <tr>\n",
              "      <th>1</th>\n",
              "      <td>1</td>\n",
              "      <td>CONCEIÇÃO</td>\n",
              "      <td>22</td>\n",
              "      <td>4644</td>\n",
              "      <td>3371</td>\n",
              "      <td>13088</td>\n",
              "      <td>3230</td>\n",
              "      <td>0</td>\n",
              "      <td>8109</td>\n",
              "      <td>3157</td>\n",
              "      <td>2529</td>\n",
              "      <td>15363</td>\n",
              "      <td>0</td>\n",
              "      <td>1737</td>\n",
              "      <td>3230</td>\n",
              "      <td>January</td>\n",
              "    </tr>\n",
              "    <tr>\n",
              "      <th>2</th>\n",
              "      <td>1</td>\n",
              "      <td>CONCEIÇÃO</td>\n",
              "      <td>30</td>\n",
              "      <td>8519</td>\n",
              "      <td>5614</td>\n",
              "      <td>20580</td>\n",
              "      <td>5346</td>\n",
              "      <td>0</td>\n",
              "      <td>7265</td>\n",
              "      <td>3191</td>\n",
              "      <td>4415</td>\n",
              "      <td>21507</td>\n",
              "      <td>1537</td>\n",
              "      <td>2500</td>\n",
              "      <td>5346</td>\n",
              "      <td>January</td>\n",
              "    </tr>\n",
              "    <tr>\n",
              "      <th>3</th>\n",
              "      <td>1</td>\n",
              "      <td>CONCEIÇÃO</td>\n",
              "      <td>31</td>\n",
              "      <td>9631</td>\n",
              "      <td>6020</td>\n",
              "      <td>23460</td>\n",
              "      <td>7587</td>\n",
              "      <td>0</td>\n",
              "      <td>7065</td>\n",
              "      <td>2922</td>\n",
              "      <td>5491</td>\n",
              "      <td>22212</td>\n",
              "      <td>140</td>\n",
              "      <td>2478</td>\n",
              "      <td>7587</td>\n",
              "      <td>January</td>\n",
              "    </tr>\n",
              "    <tr>\n",
              "      <th>4</th>\n",
              "      <td>1</td>\n",
              "      <td>CONCEIÇÃO</td>\n",
              "      <td>41</td>\n",
              "      <td>6556</td>\n",
              "      <td>4038</td>\n",
              "      <td>20388</td>\n",
              "      <td>7924</td>\n",
              "      <td>0</td>\n",
              "      <td>5704</td>\n",
              "      <td>2791</td>\n",
              "      <td>3883</td>\n",
              "      <td>13870</td>\n",
              "      <td>0</td>\n",
              "      <td>2296</td>\n",
              "      <td>7924</td>\n",
              "      <td>January</td>\n",
              "    </tr>\n",
              "  </tbody>\n",
              "</table>\n",
              "</div>"
            ],
            "text/plain": [
              "   Mês    Empresa Linha  Estudante_Cartao  Estudante_BT  Vale_Transporte  \\\n",
              "0    1  CONCEIÇÃO    21             13493          9506            35944   \n",
              "1    1  CONCEIÇÃO    22              4644          3371            13088   \n",
              "2    1  CONCEIÇÃO    30              8519          5614            20580   \n",
              "3    1  CONCEIÇÃO    31              9631          6020            23460   \n",
              "4    1  CONCEIÇÃO    41              6556          4038            20388   \n",
              "\n",
              "   Integracao_Plena  Integracao_Complementar  Gratuito_Cartao  Gratuito_BT  \\\n",
              "0              8671                        0            17138         7397   \n",
              "1              3230                        0             8109         3157   \n",
              "2              5346                        0             7265         3191   \n",
              "3              7587                        0             7065         2922   \n",
              "4              7924                        0             5704         2791   \n",
              "\n",
              "   Inteira_Cartao  Inteira_Especie  Tarifa_Social  Qtd_Viagens  \\\n",
              "0            6542            43727           3965         3684   \n",
              "1            2529            15363              0         1737   \n",
              "2            4415            21507           1537         2500   \n",
              "3            5491            22212            140         2478   \n",
              "4            3883            13870              0         2296   \n",
              "\n",
              "   Integracao_Total    Month  \n",
              "0              8671  January  \n",
              "1              3230  January  \n",
              "2              5346  January  \n",
              "3              7587  January  \n",
              "4              7924  January  "
            ]
          },
          "metadata": {
            "tags": []
          },
          "execution_count": 58
        }
      ]
    },
    {
      "metadata": {
        "colab_type": "text",
        "id": "n6w_IDoJxirE"
      },
      "cell_type": "markdown",
      "source": [
        "### Exercise\n",
        "\n",
        "![alt text](https://cdn.dribbble.com/users/2344801/screenshots/4774578/alphatestersanimation2.gif =150x120)\n",
        "\n",
        "Create a new column called \"Mdays\" containing the number of days for each month of column 'Mês'\n",
        "\n",
        "**Tip:** Use mdays[ ] from library **calendar.** \n",
        "\n"
      ]
    },
    {
      "metadata": {
        "colab_type": "code",
        "id": "KBvt6D_3xirG",
        "colab": {}
      },
      "cell_type": "code",
      "source": [
        "# put your code in this cell"
      ],
      "execution_count": 0,
      "outputs": []
    },
    {
      "metadata": {
        "id": "QcWayTJjKYZw",
        "colab_type": "text"
      },
      "cell_type": "markdown",
      "source": [
        "## Sorting a dataframe by a column\n",
        "\n",
        "A sorted dataframe is always better to figure things out. To do so, we need choose a column and to sort the DataFrame by that column. Why don't we build a to 10 rank the whole dataframe in relation to the round trips (\"Qtd_Viagens\" column)? We can use the method  *sort_values()* to help us out:"
      ]
    },
    {
      "metadata": {
        "id": "0frLenrUKdHo",
        "colab_type": "code",
        "outputId": "1ea15bb4-06e4-407c-dd02-16575bf4f348",
        "colab": {
          "base_uri": "https://localhost:8080/",
          "height": 204
        }
      },
      "cell_type": "code",
      "source": [
        "df.sort_values(\"Qtd_Viagens\", ascending=False).head() # if ascending=False, the rank order will be descending"
      ],
      "execution_count": 60,
      "outputs": [
        {
          "output_type": "execute_result",
          "data": {
            "text/html": [
              "<div>\n",
              "<style scoped>\n",
              "    .dataframe tbody tr th:only-of-type {\n",
              "        vertical-align: middle;\n",
              "    }\n",
              "\n",
              "    .dataframe tbody tr th {\n",
              "        vertical-align: top;\n",
              "    }\n",
              "\n",
              "    .dataframe thead th {\n",
              "        text-align: right;\n",
              "    }\n",
              "</style>\n",
              "<table border=\"1\" class=\"dataframe\">\n",
              "  <thead>\n",
              "    <tr style=\"text-align: right;\">\n",
              "      <th></th>\n",
              "      <th>Mês</th>\n",
              "      <th>Empresa</th>\n",
              "      <th>Linha</th>\n",
              "      <th>Estudante_Cartao</th>\n",
              "      <th>Estudante_BT</th>\n",
              "      <th>Vale_Transporte</th>\n",
              "      <th>Integracao_Plena</th>\n",
              "      <th>Integracao_Complementar</th>\n",
              "      <th>Gratuito_Cartao</th>\n",
              "      <th>Gratuito_BT</th>\n",
              "      <th>Inteira_Cartao</th>\n",
              "      <th>Inteira_Especie</th>\n",
              "      <th>Tarifa_Social</th>\n",
              "      <th>Qtd_Viagens</th>\n",
              "      <th>Integracao_Total</th>\n",
              "      <th>Month</th>\n",
              "    </tr>\n",
              "  </thead>\n",
              "  <tbody>\n",
              "    <tr>\n",
              "      <th>756</th>\n",
              "      <td>8</td>\n",
              "      <td>VIA SUL - URB</td>\n",
              "      <td>50</td>\n",
              "      <td>50046</td>\n",
              "      <td>18556</td>\n",
              "      <td>75385</td>\n",
              "      <td>24216</td>\n",
              "      <td>270</td>\n",
              "      <td>19818</td>\n",
              "      <td>8773</td>\n",
              "      <td>16290</td>\n",
              "      <td>63519</td>\n",
              "      <td>0</td>\n",
              "      <td>5407</td>\n",
              "      <td>24486</td>\n",
              "      <td>August</td>\n",
              "    </tr>\n",
              "    <tr>\n",
              "      <th>921</th>\n",
              "      <td>10</td>\n",
              "      <td>REUNIDAS</td>\n",
              "      <td>73</td>\n",
              "      <td>64442</td>\n",
              "      <td>17125</td>\n",
              "      <td>112219</td>\n",
              "      <td>34462</td>\n",
              "      <td>552</td>\n",
              "      <td>17811</td>\n",
              "      <td>10888</td>\n",
              "      <td>16827</td>\n",
              "      <td>79980</td>\n",
              "      <td>17298</td>\n",
              "      <td>5402</td>\n",
              "      <td>35014</td>\n",
              "      <td>October</td>\n",
              "    </tr>\n",
              "    <tr>\n",
              "      <th>258</th>\n",
              "      <td>3</td>\n",
              "      <td>REUNIDAS</td>\n",
              "      <td>73</td>\n",
              "      <td>56313</td>\n",
              "      <td>38952</td>\n",
              "      <td>114307</td>\n",
              "      <td>35933</td>\n",
              "      <td>572</td>\n",
              "      <td>17999</td>\n",
              "      <td>9226</td>\n",
              "      <td>16100</td>\n",
              "      <td>85992</td>\n",
              "      <td>3742</td>\n",
              "      <td>5259</td>\n",
              "      <td>36505</td>\n",
              "      <td>March</td>\n",
              "    </tr>\n",
              "    <tr>\n",
              "      <th>730</th>\n",
              "      <td>8</td>\n",
              "      <td>REUNIDAS</td>\n",
              "      <td>73</td>\n",
              "      <td>59512</td>\n",
              "      <td>28088</td>\n",
              "      <td>112950</td>\n",
              "      <td>35284</td>\n",
              "      <td>561</td>\n",
              "      <td>17999</td>\n",
              "      <td>10048</td>\n",
              "      <td>17879</td>\n",
              "      <td>86623</td>\n",
              "      <td>0</td>\n",
              "      <td>5224</td>\n",
              "      <td>35845</td>\n",
              "      <td>August</td>\n",
              "    </tr>\n",
              "    <tr>\n",
              "      <th>634</th>\n",
              "      <td>7</td>\n",
              "      <td>REUNIDAS</td>\n",
              "      <td>73</td>\n",
              "      <td>36317</td>\n",
              "      <td>23770</td>\n",
              "      <td>110321</td>\n",
              "      <td>31765</td>\n",
              "      <td>551</td>\n",
              "      <td>17278</td>\n",
              "      <td>9543</td>\n",
              "      <td>16770</td>\n",
              "      <td>82161</td>\n",
              "      <td>0</td>\n",
              "      <td>5205</td>\n",
              "      <td>32316</td>\n",
              "      <td>July</td>\n",
              "    </tr>\n",
              "  </tbody>\n",
              "</table>\n",
              "</div>"
            ],
            "text/plain": [
              "     Mês        Empresa Linha  Estudante_Cartao  Estudante_BT  \\\n",
              "756    8  VIA SUL - URB    50             50046         18556   \n",
              "921   10       REUNIDAS    73             64442         17125   \n",
              "258    3       REUNIDAS    73             56313         38952   \n",
              "730    8       REUNIDAS    73             59512         28088   \n",
              "634    7       REUNIDAS    73             36317         23770   \n",
              "\n",
              "     Vale_Transporte  Integracao_Plena  Integracao_Complementar  \\\n",
              "756            75385             24216                      270   \n",
              "921           112219             34462                      552   \n",
              "258           114307             35933                      572   \n",
              "730           112950             35284                      561   \n",
              "634           110321             31765                      551   \n",
              "\n",
              "     Gratuito_Cartao  Gratuito_BT  Inteira_Cartao  Inteira_Especie  \\\n",
              "756            19818         8773           16290            63519   \n",
              "921            17811        10888           16827            79980   \n",
              "258            17999         9226           16100            85992   \n",
              "730            17999        10048           17879            86623   \n",
              "634            17278         9543           16770            82161   \n",
              "\n",
              "     Tarifa_Social  Qtd_Viagens  Integracao_Total    Month  \n",
              "756              0         5407             24486   August  \n",
              "921          17298         5402             35014  October  \n",
              "258           3742         5259             36505    March  \n",
              "730              0         5224             35845   August  \n",
              "634              0         5205             32316     July  "
            ]
          },
          "metadata": {
            "tags": []
          },
          "execution_count": 60
        }
      ]
    },
    {
      "metadata": {
        "id": "MViUz7iXNXMM",
        "colab_type": "text"
      },
      "cell_type": "markdown",
      "source": [
        "We can also use more columns to sort the dataframe by. Let's now rank dataframe rows by columns regarding half-priced entries for students (coluns with \"Estudante_\" prefix):"
      ]
    },
    {
      "metadata": {
        "id": "jMZwNatlMtgu",
        "colab_type": "code",
        "outputId": "5fe61809-a380-4a19-be48-bd41c7a7509c",
        "colab": {
          "base_uri": "https://localhost:8080/",
          "height": 359
        }
      },
      "cell_type": "code",
      "source": [
        "df.sort_values(by=['Estudante_Cartao','Estudante_BT'], ascending=False).head(10) # by statement is needed when using more than one column"
      ],
      "execution_count": 61,
      "outputs": [
        {
          "output_type": "execute_result",
          "data": {
            "text/html": [
              "<div>\n",
              "<style scoped>\n",
              "    .dataframe tbody tr th:only-of-type {\n",
              "        vertical-align: middle;\n",
              "    }\n",
              "\n",
              "    .dataframe tbody tr th {\n",
              "        vertical-align: top;\n",
              "    }\n",
              "\n",
              "    .dataframe thead th {\n",
              "        text-align: right;\n",
              "    }\n",
              "</style>\n",
              "<table border=\"1\" class=\"dataframe\">\n",
              "  <thead>\n",
              "    <tr style=\"text-align: right;\">\n",
              "      <th></th>\n",
              "      <th>Mês</th>\n",
              "      <th>Empresa</th>\n",
              "      <th>Linha</th>\n",
              "      <th>Estudante_Cartao</th>\n",
              "      <th>Estudante_BT</th>\n",
              "      <th>Vale_Transporte</th>\n",
              "      <th>Integracao_Plena</th>\n",
              "      <th>Integracao_Complementar</th>\n",
              "      <th>Gratuito_Cartao</th>\n",
              "      <th>Gratuito_BT</th>\n",
              "      <th>Inteira_Cartao</th>\n",
              "      <th>Inteira_Especie</th>\n",
              "      <th>Tarifa_Social</th>\n",
              "      <th>Qtd_Viagens</th>\n",
              "      <th>Integracao_Total</th>\n",
              "      <th>Month</th>\n",
              "    </tr>\n",
              "  </thead>\n",
              "  <tbody>\n",
              "    <tr>\n",
              "      <th>921</th>\n",
              "      <td>10</td>\n",
              "      <td>REUNIDAS</td>\n",
              "      <td>73</td>\n",
              "      <td>64442</td>\n",
              "      <td>17125</td>\n",
              "      <td>112219</td>\n",
              "      <td>34462</td>\n",
              "      <td>552</td>\n",
              "      <td>17811</td>\n",
              "      <td>10888</td>\n",
              "      <td>16827</td>\n",
              "      <td>79980</td>\n",
              "      <td>17298</td>\n",
              "      <td>5402</td>\n",
              "      <td>35014</td>\n",
              "      <td>October</td>\n",
              "    </tr>\n",
              "    <tr>\n",
              "      <th>827</th>\n",
              "      <td>9</td>\n",
              "      <td>REUNIDAS</td>\n",
              "      <td>73</td>\n",
              "      <td>64051</td>\n",
              "      <td>14496</td>\n",
              "      <td>106976</td>\n",
              "      <td>33082</td>\n",
              "      <td>544</td>\n",
              "      <td>16997</td>\n",
              "      <td>10421</td>\n",
              "      <td>16265</td>\n",
              "      <td>88285</td>\n",
              "      <td>4926</td>\n",
              "      <td>5107</td>\n",
              "      <td>33626</td>\n",
              "      <td>September</td>\n",
              "    </tr>\n",
              "    <tr>\n",
              "      <th>681</th>\n",
              "      <td>8</td>\n",
              "      <td>DUNAS - URB</td>\n",
              "      <td>33</td>\n",
              "      <td>63380</td>\n",
              "      <td>22643</td>\n",
              "      <td>76702</td>\n",
              "      <td>20822</td>\n",
              "      <td>205</td>\n",
              "      <td>20232</td>\n",
              "      <td>7795</td>\n",
              "      <td>18331</td>\n",
              "      <td>71492</td>\n",
              "      <td>0</td>\n",
              "      <td>4575</td>\n",
              "      <td>21027</td>\n",
              "      <td>August</td>\n",
              "    </tr>\n",
              "    <tr>\n",
              "      <th>874</th>\n",
              "      <td>10</td>\n",
              "      <td>DUNAS - URB</td>\n",
              "      <td>33</td>\n",
              "      <td>62959</td>\n",
              "      <td>11712</td>\n",
              "      <td>73935</td>\n",
              "      <td>20262</td>\n",
              "      <td>182</td>\n",
              "      <td>20276</td>\n",
              "      <td>8003</td>\n",
              "      <td>16988</td>\n",
              "      <td>64794</td>\n",
              "      <td>11973</td>\n",
              "      <td>4481</td>\n",
              "      <td>20444</td>\n",
              "      <td>October</td>\n",
              "    </tr>\n",
              "    <tr>\n",
              "      <th>779</th>\n",
              "      <td>9</td>\n",
              "      <td>DUNAS - URB</td>\n",
              "      <td>33</td>\n",
              "      <td>60017</td>\n",
              "      <td>9664</td>\n",
              "      <td>67806</td>\n",
              "      <td>18870</td>\n",
              "      <td>161</td>\n",
              "      <td>18092</td>\n",
              "      <td>7474</td>\n",
              "      <td>16496</td>\n",
              "      <td>67102</td>\n",
              "      <td>2964</td>\n",
              "      <td>4305</td>\n",
              "      <td>19031</td>\n",
              "      <td>September</td>\n",
              "    </tr>\n",
              "    <tr>\n",
              "      <th>730</th>\n",
              "      <td>8</td>\n",
              "      <td>REUNIDAS</td>\n",
              "      <td>73</td>\n",
              "      <td>59512</td>\n",
              "      <td>28088</td>\n",
              "      <td>112950</td>\n",
              "      <td>35284</td>\n",
              "      <td>561</td>\n",
              "      <td>17999</td>\n",
              "      <td>10048</td>\n",
              "      <td>17879</td>\n",
              "      <td>86623</td>\n",
              "      <td>0</td>\n",
              "      <td>5224</td>\n",
              "      <td>35845</td>\n",
              "      <td>August</td>\n",
              "    </tr>\n",
              "    <tr>\n",
              "      <th>668</th>\n",
              "      <td>8</td>\n",
              "      <td>CONCEIÇÃO</td>\n",
              "      <td>63</td>\n",
              "      <td>59056</td>\n",
              "      <td>17759</td>\n",
              "      <td>51840</td>\n",
              "      <td>26449</td>\n",
              "      <td>0</td>\n",
              "      <td>19201</td>\n",
              "      <td>7964</td>\n",
              "      <td>10033</td>\n",
              "      <td>45732</td>\n",
              "      <td>0</td>\n",
              "      <td>4303</td>\n",
              "      <td>26449</td>\n",
              "      <td>August</td>\n",
              "    </tr>\n",
              "    <tr>\n",
              "      <th>399</th>\n",
              "      <td>5</td>\n",
              "      <td>DUNAS - URB</td>\n",
              "      <td>33</td>\n",
              "      <td>56739</td>\n",
              "      <td>22310</td>\n",
              "      <td>73401</td>\n",
              "      <td>20825</td>\n",
              "      <td>0</td>\n",
              "      <td>19751</td>\n",
              "      <td>6701</td>\n",
              "      <td>16488</td>\n",
              "      <td>70927</td>\n",
              "      <td>5240</td>\n",
              "      <td>4495</td>\n",
              "      <td>20825</td>\n",
              "      <td>May</td>\n",
              "    </tr>\n",
              "    <tr>\n",
              "      <th>305</th>\n",
              "      <td>4</td>\n",
              "      <td>DUNAS - URB</td>\n",
              "      <td>33</td>\n",
              "      <td>56526</td>\n",
              "      <td>28396</td>\n",
              "      <td>72578</td>\n",
              "      <td>20750</td>\n",
              "      <td>0</td>\n",
              "      <td>19562</td>\n",
              "      <td>6566</td>\n",
              "      <td>16377</td>\n",
              "      <td>68632</td>\n",
              "      <td>3156</td>\n",
              "      <td>4693</td>\n",
              "      <td>20750</td>\n",
              "      <td>April</td>\n",
              "    </tr>\n",
              "    <tr>\n",
              "      <th>258</th>\n",
              "      <td>3</td>\n",
              "      <td>REUNIDAS</td>\n",
              "      <td>73</td>\n",
              "      <td>56313</td>\n",
              "      <td>38952</td>\n",
              "      <td>114307</td>\n",
              "      <td>35933</td>\n",
              "      <td>572</td>\n",
              "      <td>17999</td>\n",
              "      <td>9226</td>\n",
              "      <td>16100</td>\n",
              "      <td>85992</td>\n",
              "      <td>3742</td>\n",
              "      <td>5259</td>\n",
              "      <td>36505</td>\n",
              "      <td>March</td>\n",
              "    </tr>\n",
              "  </tbody>\n",
              "</table>\n",
              "</div>"
            ],
            "text/plain": [
              "     Mês      Empresa Linha  Estudante_Cartao  Estudante_BT  Vale_Transporte  \\\n",
              "921   10     REUNIDAS    73             64442         17125           112219   \n",
              "827    9     REUNIDAS    73             64051         14496           106976   \n",
              "681    8  DUNAS - URB    33             63380         22643            76702   \n",
              "874   10  DUNAS - URB    33             62959         11712            73935   \n",
              "779    9  DUNAS - URB    33             60017          9664            67806   \n",
              "730    8     REUNIDAS    73             59512         28088           112950   \n",
              "668    8    CONCEIÇÃO    63             59056         17759            51840   \n",
              "399    5  DUNAS - URB    33             56739         22310            73401   \n",
              "305    4  DUNAS - URB    33             56526         28396            72578   \n",
              "258    3     REUNIDAS    73             56313         38952           114307   \n",
              "\n",
              "     Integracao_Plena  Integracao_Complementar  Gratuito_Cartao  Gratuito_BT  \\\n",
              "921             34462                      552            17811        10888   \n",
              "827             33082                      544            16997        10421   \n",
              "681             20822                      205            20232         7795   \n",
              "874             20262                      182            20276         8003   \n",
              "779             18870                      161            18092         7474   \n",
              "730             35284                      561            17999        10048   \n",
              "668             26449                        0            19201         7964   \n",
              "399             20825                        0            19751         6701   \n",
              "305             20750                        0            19562         6566   \n",
              "258             35933                      572            17999         9226   \n",
              "\n",
              "     Inteira_Cartao  Inteira_Especie  Tarifa_Social  Qtd_Viagens  \\\n",
              "921           16827            79980          17298         5402   \n",
              "827           16265            88285           4926         5107   \n",
              "681           18331            71492              0         4575   \n",
              "874           16988            64794          11973         4481   \n",
              "779           16496            67102           2964         4305   \n",
              "730           17879            86623              0         5224   \n",
              "668           10033            45732              0         4303   \n",
              "399           16488            70927           5240         4495   \n",
              "305           16377            68632           3156         4693   \n",
              "258           16100            85992           3742         5259   \n",
              "\n",
              "     Integracao_Total      Month  \n",
              "921             35014    October  \n",
              "827             33626  September  \n",
              "681             21027     August  \n",
              "874             20444    October  \n",
              "779             19031  September  \n",
              "730             35845     August  \n",
              "668             26449     August  \n",
              "399             20825        May  \n",
              "305             20750      April  \n",
              "258             36505      March  "
            ]
          },
          "metadata": {
            "tags": []
          },
          "execution_count": 61
        }
      ]
    },
    {
      "metadata": {
        "colab_type": "text",
        "id": "NKxu-TEvO2xb"
      },
      "cell_type": "markdown",
      "source": [
        "### Exercise\n",
        "\n",
        "![alt text](https://cdn.dribbble.com/users/2344801/screenshots/4774578/alphatestersanimation2.gif =150x120)\n",
        "\n",
        "Build a rank containing **only** the column \"Linha\" and a target column (chosen by you). You can sort rows in any order.\n",
        "\n",
        "**Tip:** Use function *df.drop() *do get rid of undesired columns and then use *df.sort_values()*."
      ]
    },
    {
      "metadata": {
        "colab_type": "code",
        "id": "XG-9q_EiO2xd",
        "colab": {}
      },
      "cell_type": "code",
      "source": [
        "# put your code in this cell"
      ],
      "execution_count": 0,
      "outputs": []
    },
    {
      "metadata": {
        "id": "qGBjHsywRFWk",
        "colab_type": "text"
      },
      "cell_type": "markdown",
      "source": [
        "## Grouping information by a column\n",
        "\n",
        "Sometimes we need to group information, to do so we can use the function *groupby()* to group data and then apply to the result an aggregation function. In this example,  we gonna group all dataframe in relation to the columns \"Month\" and \"Mês\" (because they represent the same information). The result will be a montly aggregation of all data. "
      ]
    },
    {
      "metadata": {
        "id": "m_jpjHMXRrry",
        "colab_type": "code",
        "outputId": "bec04ed9-f588-432b-e8e4-5dcac1bf0717",
        "colab": {
          "base_uri": "https://localhost:8080/",
          "height": 359
        }
      },
      "cell_type": "code",
      "source": [
        "df.groupby(['Month','Mês'], as_index=False).sum() #as_index=False means that the aggregation column will be not turned into an index"
      ],
      "execution_count": 64,
      "outputs": [
        {
          "output_type": "execute_result",
          "data": {
            "text/html": [
              "<div>\n",
              "<style scoped>\n",
              "    .dataframe tbody tr th:only-of-type {\n",
              "        vertical-align: middle;\n",
              "    }\n",
              "\n",
              "    .dataframe tbody tr th {\n",
              "        vertical-align: top;\n",
              "    }\n",
              "\n",
              "    .dataframe thead th {\n",
              "        text-align: right;\n",
              "    }\n",
              "</style>\n",
              "<table border=\"1\" class=\"dataframe\">\n",
              "  <thead>\n",
              "    <tr style=\"text-align: right;\">\n",
              "      <th></th>\n",
              "      <th>Month</th>\n",
              "      <th>Mês</th>\n",
              "      <th>Estudante_Cartao</th>\n",
              "      <th>Estudante_BT</th>\n",
              "      <th>Vale_Transporte</th>\n",
              "      <th>Integracao_Plena</th>\n",
              "      <th>Integracao_Complementar</th>\n",
              "      <th>Gratuito_Cartao</th>\n",
              "      <th>Gratuito_BT</th>\n",
              "      <th>Inteira_Cartao</th>\n",
              "      <th>Inteira_Especie</th>\n",
              "      <th>Tarifa_Social</th>\n",
              "      <th>Qtd_Viagens</th>\n",
              "      <th>Integracao_Total</th>\n",
              "    </tr>\n",
              "  </thead>\n",
              "  <tbody>\n",
              "    <tr>\n",
              "      <th>0</th>\n",
              "      <td>April</td>\n",
              "      <td>4</td>\n",
              "      <td>1331095</td>\n",
              "      <td>678262</td>\n",
              "      <td>2016760</td>\n",
              "      <td>604373</td>\n",
              "      <td>7247</td>\n",
              "      <td>696498</td>\n",
              "      <td>312804</td>\n",
              "      <td>421292</td>\n",
              "      <td>1934271</td>\n",
              "      <td>80615</td>\n",
              "      <td>182136</td>\n",
              "      <td>611620</td>\n",
              "    </tr>\n",
              "    <tr>\n",
              "      <th>1</th>\n",
              "      <td>August</td>\n",
              "      <td>8</td>\n",
              "      <td>1584763</td>\n",
              "      <td>560499</td>\n",
              "      <td>2164823</td>\n",
              "      <td>640724</td>\n",
              "      <td>8088</td>\n",
              "      <td>755925</td>\n",
              "      <td>364295</td>\n",
              "      <td>488153</td>\n",
              "      <td>2135562</td>\n",
              "      <td>0</td>\n",
              "      <td>195284</td>\n",
              "      <td>648812</td>\n",
              "    </tr>\n",
              "    <tr>\n",
              "      <th>2</th>\n",
              "      <td>February</td>\n",
              "      <td>2</td>\n",
              "      <td>922115</td>\n",
              "      <td>560997</td>\n",
              "      <td>1793071</td>\n",
              "      <td>504393</td>\n",
              "      <td>5204</td>\n",
              "      <td>606608</td>\n",
              "      <td>275400</td>\n",
              "      <td>370324</td>\n",
              "      <td>1857316</td>\n",
              "      <td>67013</td>\n",
              "      <td>161318</td>\n",
              "      <td>509597</td>\n",
              "    </tr>\n",
              "    <tr>\n",
              "      <th>3</th>\n",
              "      <td>January</td>\n",
              "      <td>1</td>\n",
              "      <td>729392</td>\n",
              "      <td>521541</td>\n",
              "      <td>2010298</td>\n",
              "      <td>549134</td>\n",
              "      <td>5591</td>\n",
              "      <td>671461</td>\n",
              "      <td>305725</td>\n",
              "      <td>404810</td>\n",
              "      <td>1998704</td>\n",
              "      <td>168228</td>\n",
              "      <td>184030</td>\n",
              "      <td>554725</td>\n",
              "    </tr>\n",
              "    <tr>\n",
              "      <th>4</th>\n",
              "      <td>July</td>\n",
              "      <td>7</td>\n",
              "      <td>1084662</td>\n",
              "      <td>484700</td>\n",
              "      <td>2024453</td>\n",
              "      <td>557249</td>\n",
              "      <td>7284</td>\n",
              "      <td>684655</td>\n",
              "      <td>318444</td>\n",
              "      <td>430359</td>\n",
              "      <td>1961328</td>\n",
              "      <td>0</td>\n",
              "      <td>182527</td>\n",
              "      <td>564533</td>\n",
              "    </tr>\n",
              "    <tr>\n",
              "      <th>5</th>\n",
              "      <td>June</td>\n",
              "      <td>6</td>\n",
              "      <td>1218904</td>\n",
              "      <td>542724</td>\n",
              "      <td>1980585</td>\n",
              "      <td>570681</td>\n",
              "      <td>7436</td>\n",
              "      <td>666944</td>\n",
              "      <td>311043</td>\n",
              "      <td>418158</td>\n",
              "      <td>1884429</td>\n",
              "      <td>0</td>\n",
              "      <td>174948</td>\n",
              "      <td>578117</td>\n",
              "    </tr>\n",
              "    <tr>\n",
              "      <th>6</th>\n",
              "      <td>March</td>\n",
              "      <td>3</td>\n",
              "      <td>1368779</td>\n",
              "      <td>743969</td>\n",
              "      <td>2103611</td>\n",
              "      <td>622058</td>\n",
              "      <td>6953</td>\n",
              "      <td>730598</td>\n",
              "      <td>323111</td>\n",
              "      <td>445180</td>\n",
              "      <td>2106287</td>\n",
              "      <td>59430</td>\n",
              "      <td>187775</td>\n",
              "      <td>629011</td>\n",
              "    </tr>\n",
              "    <tr>\n",
              "      <th>7</th>\n",
              "      <td>May</td>\n",
              "      <td>5</td>\n",
              "      <td>1391679</td>\n",
              "      <td>512755</td>\n",
              "      <td>2061006</td>\n",
              "      <td>608455</td>\n",
              "      <td>7760</td>\n",
              "      <td>706790</td>\n",
              "      <td>319696</td>\n",
              "      <td>436692</td>\n",
              "      <td>2016118</td>\n",
              "      <td>136120</td>\n",
              "      <td>178362</td>\n",
              "      <td>616215</td>\n",
              "    </tr>\n",
              "    <tr>\n",
              "      <th>8</th>\n",
              "      <td>October</td>\n",
              "      <td>10</td>\n",
              "      <td>1571000</td>\n",
              "      <td>319749</td>\n",
              "      <td>2066691</td>\n",
              "      <td>601418</td>\n",
              "      <td>7657</td>\n",
              "      <td>720123</td>\n",
              "      <td>366005</td>\n",
              "      <td>449238</td>\n",
              "      <td>1946104</td>\n",
              "      <td>295491</td>\n",
              "      <td>189004</td>\n",
              "      <td>609075</td>\n",
              "    </tr>\n",
              "    <tr>\n",
              "      <th>9</th>\n",
              "      <td>September</td>\n",
              "      <td>9</td>\n",
              "      <td>1547100</td>\n",
              "      <td>273509</td>\n",
              "      <td>1960140</td>\n",
              "      <td>577661</td>\n",
              "      <td>7064</td>\n",
              "      <td>686318</td>\n",
              "      <td>350239</td>\n",
              "      <td>441752</td>\n",
              "      <td>2043087</td>\n",
              "      <td>83048</td>\n",
              "      <td>180497</td>\n",
              "      <td>584725</td>\n",
              "    </tr>\n",
              "  </tbody>\n",
              "</table>\n",
              "</div>"
            ],
            "text/plain": [
              "       Month  Mês  Estudante_Cartao  Estudante_BT  Vale_Transporte  \\\n",
              "0      April    4           1331095        678262          2016760   \n",
              "1     August    8           1584763        560499          2164823   \n",
              "2   February    2            922115        560997          1793071   \n",
              "3    January    1            729392        521541          2010298   \n",
              "4       July    7           1084662        484700          2024453   \n",
              "5       June    6           1218904        542724          1980585   \n",
              "6      March    3           1368779        743969          2103611   \n",
              "7        May    5           1391679        512755          2061006   \n",
              "8    October   10           1571000        319749          2066691   \n",
              "9  September    9           1547100        273509          1960140   \n",
              "\n",
              "   Integracao_Plena  Integracao_Complementar  Gratuito_Cartao  Gratuito_BT  \\\n",
              "0            604373                     7247           696498       312804   \n",
              "1            640724                     8088           755925       364295   \n",
              "2            504393                     5204           606608       275400   \n",
              "3            549134                     5591           671461       305725   \n",
              "4            557249                     7284           684655       318444   \n",
              "5            570681                     7436           666944       311043   \n",
              "6            622058                     6953           730598       323111   \n",
              "7            608455                     7760           706790       319696   \n",
              "8            601418                     7657           720123       366005   \n",
              "9            577661                     7064           686318       350239   \n",
              "\n",
              "   Inteira_Cartao  Inteira_Especie  Tarifa_Social  Qtd_Viagens  \\\n",
              "0          421292          1934271          80615       182136   \n",
              "1          488153          2135562              0       195284   \n",
              "2          370324          1857316          67013       161318   \n",
              "3          404810          1998704         168228       184030   \n",
              "4          430359          1961328              0       182527   \n",
              "5          418158          1884429              0       174948   \n",
              "6          445180          2106287          59430       187775   \n",
              "7          436692          2016118         136120       178362   \n",
              "8          449238          1946104         295491       189004   \n",
              "9          441752          2043087          83048       180497   \n",
              "\n",
              "   Integracao_Total  \n",
              "0            611620  \n",
              "1            648812  \n",
              "2            509597  \n",
              "3            554725  \n",
              "4            564533  \n",
              "5            578117  \n",
              "6            629011  \n",
              "7            616215  \n",
              "8            609075  \n",
              "9            584725  "
            ]
          },
          "metadata": {
            "tags": []
          },
          "execution_count": 64
        }
      ]
    },
    {
      "metadata": {
        "colab_type": "text",
        "id": "umieg3N0SxBl"
      },
      "cell_type": "markdown",
      "source": [
        "### Exercise\n",
        "\n",
        "![alt text](https://cdn.dribbble.com/users/2344801/screenshots/4774578/alphatestersanimation2.gif =150x120)\n",
        "\n",
        "Make an monthly account per bus company using *groupby()*.\n",
        "\n",
        "**Tip:** You will need to convert column \"Mês\" to string to make this exercise easier.\n",
        "\n"
      ]
    },
    {
      "metadata": {
        "colab_type": "code",
        "id": "tFnHiJZ9SxBn",
        "colab": {}
      },
      "cell_type": "code",
      "source": [
        "# put your code in this cell"
      ],
      "execution_count": 0,
      "outputs": []
    }
  ]
}