{
  "nbformat": 4,
  "nbformat_minor": 0,
  "metadata": {
    "colab": {
      "name": "1-intro_pandas.ipynb",
      "version": "0.3.2",
      "provenance": []
    },
    "kernelspec": {
      "display_name": "Python 3",
      "language": "python",
      "name": "python3"
    }
  },
  "cells": [
    {
      "metadata": {
        "id": "vZEVo5BD5lo1",
        "colab_type": "text"
      },
      "cell_type": "markdown",
      "source": [
        "# Pandas basics\n"
      ]
    },
    {
      "metadata": {
        "id": "oqCSEZjHK-0S",
        "colab_type": "text"
      },
      "cell_type": "markdown",
      "source": [
        "\n",
        "\n",
        "## Introduction\n",
        "\n",
        "Pandas is a library that unifies the most common workflows that data analysts and data scientists previously relied on many different libraries for. Pandas has quickly became an important tool in a data professional's toolbelt and is the most popular library for working with tabular data in Python. Tabular data is any data that can be represented as rows and columns. \n",
        "\n",
        "To represent tabular data, Pandas uses a custom data structure called a **DataFrame**. A DataFrame is a highly efficient, 2-dimensional data structure that provides a suite of methods and attributes to quickly explore, analyze, and visualize data. The DataFrame is similar to the NumPy 2D array but adds support for many features that help you work with tabular data.\n",
        "\n",
        "One of the biggest advantages that Pandas has over NumPy is the **ability to store mixed data types** in rows and columns. Many tabular datasets contain a range of data types and Pandas DataFrames handle mixed data types effortlessly while NumPy doesn't. Pandas DataFrames **can also handle missing values gracefully** using a custom object, **NaN**, to represent those values. A common complaint with NumPy is its lack of an object to represent missing values and people end up having to find and replace these values manually. In addition, pandas DataFrames contain axis labels for both rows and columns and enable you to refer to elements in the dataframe more intuitively. Since many tabular datasets contain column titles, this means that dataframes preserve the metadata from the file around the data.\n",
        "\n",
        "## Our case study\n",
        "\n",
        "In this part of the course, you'll learn the basics of pandas while exploring several datasets [Dados Abertos Natal](http://dados.natal.br/). Let's start things out by using the \"Bilhetagem\" dataset , which refers to the bus service billing system in Natal. \n",
        "\n",
        "You can dowload it through this URL: [Bilhetagem Analítica 2018](http://dados.natal.br/dataset/4fad551d-4d3b-4597-b8d3-7e887e22332e/resource/ec5b95a3-7b93-4346-98f6-1bd013faa651/download/dados-be-2018-analitico.csv)"
      ]
    },
    {
      "metadata": {
        "id": "P5HeJBXTghTA",
        "colab_type": "text"
      },
      "cell_type": "markdown",
      "source": [
        "## Downloading Data\n",
        "\n",
        "We can download data directly from  [Dados Abertos Natal](http://dados.natal.br/) to our workspace in Google Colab. We can use 'wget' download utility (available in most systems) to get the job done."
      ]
    },
    {
      "metadata": {
        "id": "sPNLNXTcflIu",
        "colab_type": "code",
        "outputId": "34b509e2-dff1-443a-e1a1-27f0bda271bd",
        "colab": {
          "base_uri": "https://localhost:8080/",
          "height": 204
        }
      },
      "cell_type": "code",
      "source": [
        "!wget http://dados.natal.br/dataset/4fad551d-4d3b-4597-b8d3-7e887e22332e/resource/ec5b95a3-7b93-4346-98f6-1bd013faa651/download/dados-be-2018-analitico.csv"
      ],
      "execution_count": 0,
      "outputs": [
        {
          "output_type": "stream",
          "text": [
            "--2019-02-13 01:35:20--  http://dados.natal.br/dataset/4fad551d-4d3b-4597-b8d3-7e887e22332e/resource/ec5b95a3-7b93-4346-98f6-1bd013faa651/download/dados-be-2018-analitico.csv\n",
            "Resolving dados.natal.br (dados.natal.br)... 52.2.32.139\n",
            "Connecting to dados.natal.br (dados.natal.br)|52.2.32.139|:80... connected.\n",
            "HTTP request sent, awaiting response... 200 OK\n",
            "Length: 72991 (71K) [text/csv]\n",
            "Saving to: ‘dados-be-2018-analitico.csv’\n",
            "\n",
            "dados-be-2018-anali 100%[===================>]  71.28K  --.-KB/s    in 0.03s   \n",
            "\n",
            "2019-02-13 01:35:26 (2.69 MB/s) - ‘dados-be-2018-analitico.csv’ saved [72991/72991]\n",
            "\n"
          ],
          "name": "stdout"
        }
      ]
    },
    {
      "metadata": {
        "id": "9b5YhHKBfnai",
        "colab_type": "code",
        "colab": {}
      },
      "cell_type": "code",
      "source": [
        "\n"
      ],
      "execution_count": 0,
      "outputs": []
    }
  ]
}