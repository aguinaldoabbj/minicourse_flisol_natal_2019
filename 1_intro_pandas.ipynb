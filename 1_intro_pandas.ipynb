{
  "nbformat": 4,
  "nbformat_minor": 0,
  "metadata": {
    "colab": {
      "name": "1-intro_pandas.ipynb",
      "version": "0.3.2",
      "provenance": []
    },
    "kernelspec": {
      "display_name": "Python 3",
      "language": "python",
      "name": "python3"
    }
  },
  "cells": [
    {
      "metadata": {
        "id": "vZEVo5BD5lo1",
        "colab_type": "text"
      },
      "cell_type": "markdown",
      "source": [
        "# Pandas basics\n"
      ]
    },
    {
      "metadata": {
        "id": "oqCSEZjHK-0S",
        "colab_type": "text"
      },
      "cell_type": "markdown",
      "source": [
        "\n",
        "\n",
        "## Introduction\n",
        "\n",
        "Pandas is a library that unifies the most common workflows that data analysts and data scientists previously relied on many different libraries for. Pandas has quickly became an important tool in a data professional's toolbelt and is the most popular library for working with tabular data in Python. Tabular data is any data that can be represented as rows and columns. \n",
        "\n",
        "To represent tabular data, Pandas uses a custom data structure called a **DataFrame**. A DataFrame is a highly efficient, 2-dimensional data structure that provides a suite of methods and attributes to quickly explore, analyze, and visualize data. The DataFrame is similar to the NumPy 2D array but adds support for many features that help you work with tabular data.\n",
        "\n",
        "One of the biggest advantages that Pandas has over NumPy is the **ability to store mixed data types** in rows and columns. Many tabular datasets contain a range of data types and Pandas DataFrames handle mixed data types effortlessly while NumPy doesn't. Pandas DataFrames **can also handle missing values gracefully** using a custom object, **NaN**, to represent those values. A common complaint with NumPy is its lack of an object to represent missing values and people end up having to find and replace these values manually. In addition, pandas DataFrames contain axis labels for both rows and columns and enable you to refer to elements in the dataframe more intuitively. Since many tabular datasets contain column titles, this means that dataframes preserve the metadata from the file around the data.\n",
        "\n",
        "To get things started, we have to load Pandas library:"
      ]
    },
    {
      "metadata": {
        "id": "_1mlLpqL5C9S",
        "colab_type": "code",
        "colab": {}
      },
      "cell_type": "code",
      "source": [
        "import pandas as pd"
      ],
      "execution_count": 0,
      "outputs": []
    },
    {
      "metadata": {
        "id": "WvsgK9yk5Dmf",
        "colab_type": "text"
      },
      "cell_type": "markdown",
      "source": [
        "## Our case study\n",
        "\n",
        "In this part of the course, you'll learn the basics of pandas while exploring several datasets [Dados Abertos Natal](http://dados.natal.br/). Let's start things out by using the \"Bilhetagem\" dataset , which refers to the bus service billing system in Natal. \n",
        "\n",
        "You can dowload it through this URL: [Bilhetagem Analítica 2018](http://dados.natal.br/dataset/4fad551d-4d3b-4597-b8d3-7e887e22332e/resource/ec5b95a3-7b93-4346-98f6-1bd013faa651/download/dados-be-2018-analitico.csv)"
      ]
    },
    {
      "metadata": {
        "id": "P5HeJBXTghTA",
        "colab_type": "text"
      },
      "cell_type": "markdown",
      "source": [
        "## Downloading Data\n",
        "\n",
        "We can download data directly from  [Dados Abertos Natal](http://dados.natal.br/) to our workspace in Google Colab. We can use 'wget' download utility (available in most systems) to get the job done (the exclamation mark in the beginning sinalyzes Colab to use system's utilities instead of Python interpreter)"
      ]
    },
    {
      "metadata": {
        "id": "sPNLNXTcflIu",
        "colab_type": "code",
        "outputId": "9f6bfb43-1e7b-4925-aca3-c22aa271febc",
        "colab": {
          "base_uri": "https://localhost:8080/",
          "height": 215
        }
      },
      "cell_type": "code",
      "source": [
        "!wget -c https://raw.githubusercontent.com/aguinaldoabbj/minicourse_open_data_natal_2019/master/data/dados-be-2018-analitico.csv\n",
        "#wget -c https://github.com/aguinaldoabbj/minicourse_open_data_natal_2019/blob/master/data/dados-be-2018-analitico.csv"
      ],
      "execution_count": 27,
      "outputs": [
        {
          "output_type": "stream",
          "text": [
            "--2019-02-13 18:22:39--  https://raw.githubusercontent.com/aguinaldoabbj/minicourse_open_data_natal_2019/master/data/dados-be-2018-analitico.csv\n",
            "Resolving raw.githubusercontent.com (raw.githubusercontent.com)... 151.101.0.133, 151.101.64.133, 151.101.128.133, ...\n",
            "Connecting to raw.githubusercontent.com (raw.githubusercontent.com)|151.101.0.133|:443... connected.\n",
            "HTTP request sent, awaiting response... 200 OK\n",
            "Length: 72991 (71K) [text/plain]\n",
            "Saving to: ‘dados-be-2018-analitico.csv’\n",
            "\n",
            "\r          dados-be-   0%[                    ]       0  --.-KB/s               \rdados-be-2018-anali 100%[===================>]  71.28K  --.-KB/s    in 0.02s   \n",
            "\n",
            "2019-02-13 18:22:39 (2.94 MB/s) - ‘dados-be-2018-analitico.csv’ saved [72991/72991]\n",
            "\n"
          ],
          "name": "stdout"
        }
      ]
    },
    {
      "metadata": {
        "id": "R3_3IgyijzCe",
        "colab_type": "text"
      },
      "cell_type": "markdown",
      "source": [
        "We can check if file was downloaded using 'ls':\n"
      ]
    },
    {
      "metadata": {
        "id": "9b5YhHKBfnai",
        "colab_type": "code",
        "outputId": "234ba538-dc0e-4d5a-d61c-457de2e24d58",
        "colab": {
          "base_uri": "https://localhost:8080/",
          "height": 35
        }
      },
      "cell_type": "code",
      "source": [
        "!ls -lah  dados-be*"
      ],
      "execution_count": 28,
      "outputs": [
        {
          "output_type": "stream",
          "text": [
            "-rw-r--r-- 1 root root 72K Feb 13 18:22 dados-be-2018-analitico.csv\n"
          ],
          "name": "stdout"
        }
      ]
    },
    {
      "metadata": {
        "id": "-ZnBAJOw8j9P",
        "colab_type": "text"
      },
      "cell_type": "markdown",
      "source": [
        ""
      ]
    },
    {
      "metadata": {
        "id": "VR4TV7ta4TEo",
        "colab_type": "text"
      },
      "cell_type": "markdown",
      "source": [
        "## Loading data from a CSV file\n",
        "As we can see, downloaded data is a CSV file. CSVs are commonly used to store tabular data. In simple words, it contains table rows whose cells are separated by some token, like a comma or semicolon. Pandas provides the read_csv() function, which takes the path of the CSV file and produces a DataFrame representation of its data."
      ]
    },
    {
      "metadata": {
        "id": "6PhYW2li4cSL",
        "colab_type": "code",
        "colab": {}
      },
      "cell_type": "code",
      "source": [
        "# CSV file uses ';' as separator and is encodded in iso-8859-1\n",
        "df = pd.read_csv(\"dados-be-2018-analitico.csv\", encoding='iso-8859-1', sep=';')"
      ],
      "execution_count": 0,
      "outputs": []
    },
    {
      "metadata": {
        "id": "6BIjv9jmGhCH",
        "colab_type": "text"
      },
      "cell_type": "markdown",
      "source": [
        "We can check if data was loaded successfully by calling Dataframe's head( ) method and see the first 5 rows:"
      ]
    },
    {
      "metadata": {
        "id": "UV3f1SB16amn",
        "colab_type": "code",
        "colab": {
          "base_uri": "https://localhost:8080/",
          "height": 224
        },
        "outputId": "2cb8c4aa-9905-4142-ec37-dfdf02c4e468"
      },
      "cell_type": "code",
      "source": [
        "df.head(5)"
      ],
      "execution_count": 35,
      "outputs": [
        {
          "output_type": "execute_result",
          "data": {
            "text/html": [
              "<div>\n",
              "<style scoped>\n",
              "    .dataframe tbody tr th:only-of-type {\n",
              "        vertical-align: middle;\n",
              "    }\n",
              "\n",
              "    .dataframe tbody tr th {\n",
              "        vertical-align: top;\n",
              "    }\n",
              "\n",
              "    .dataframe thead th {\n",
              "        text-align: right;\n",
              "    }\n",
              "</style>\n",
              "<table border=\"1\" class=\"dataframe\">\n",
              "  <thead>\n",
              "    <tr style=\"text-align: right;\">\n",
              "      <th></th>\n",
              "      <th>Mês</th>\n",
              "      <th>Empresa</th>\n",
              "      <th>Linha</th>\n",
              "      <th>Estudante_Cartao</th>\n",
              "      <th>Estudante_BT</th>\n",
              "      <th>Vale_Transporte</th>\n",
              "      <th>Integracao_Plena</th>\n",
              "      <th>Integracao_Complementar</th>\n",
              "      <th>Gratuito_Cartao</th>\n",
              "      <th>Gratuito_BT</th>\n",
              "      <th>Inteira_Cartao</th>\n",
              "      <th>Inteira_Especie</th>\n",
              "      <th>Tarifa_Social</th>\n",
              "      <th>Qtd_Viagens</th>\n",
              "    </tr>\n",
              "  </thead>\n",
              "  <tbody>\n",
              "    <tr>\n",
              "      <th>0</th>\n",
              "      <td>1</td>\n",
              "      <td>CONCEIÇÃO</td>\n",
              "      <td>21</td>\n",
              "      <td>13.493</td>\n",
              "      <td>9.506</td>\n",
              "      <td>35.944</td>\n",
              "      <td>8.671</td>\n",
              "      <td>0.0</td>\n",
              "      <td>17.138</td>\n",
              "      <td>7.397</td>\n",
              "      <td>6.542</td>\n",
              "      <td>43.727</td>\n",
              "      <td>3.965</td>\n",
              "      <td>3.684</td>\n",
              "    </tr>\n",
              "    <tr>\n",
              "      <th>1</th>\n",
              "      <td>1</td>\n",
              "      <td>CONCEIÇÃO</td>\n",
              "      <td>22</td>\n",
              "      <td>4.644</td>\n",
              "      <td>3.371</td>\n",
              "      <td>13.088</td>\n",
              "      <td>3.230</td>\n",
              "      <td>0.0</td>\n",
              "      <td>8.109</td>\n",
              "      <td>3.157</td>\n",
              "      <td>2.529</td>\n",
              "      <td>15.363</td>\n",
              "      <td>0.000</td>\n",
              "      <td>1.737</td>\n",
              "    </tr>\n",
              "    <tr>\n",
              "      <th>2</th>\n",
              "      <td>1</td>\n",
              "      <td>CONCEIÇÃO</td>\n",
              "      <td>30</td>\n",
              "      <td>8.519</td>\n",
              "      <td>5.614</td>\n",
              "      <td>20.580</td>\n",
              "      <td>5.346</td>\n",
              "      <td>0.0</td>\n",
              "      <td>7.265</td>\n",
              "      <td>3.191</td>\n",
              "      <td>4.415</td>\n",
              "      <td>21.507</td>\n",
              "      <td>1.537</td>\n",
              "      <td>2.500</td>\n",
              "    </tr>\n",
              "    <tr>\n",
              "      <th>3</th>\n",
              "      <td>1</td>\n",
              "      <td>CONCEIÇÃO</td>\n",
              "      <td>31</td>\n",
              "      <td>9.631</td>\n",
              "      <td>6.020</td>\n",
              "      <td>23.460</td>\n",
              "      <td>7.587</td>\n",
              "      <td>0.0</td>\n",
              "      <td>7.065</td>\n",
              "      <td>2.922</td>\n",
              "      <td>5.491</td>\n",
              "      <td>22.212</td>\n",
              "      <td>140.000</td>\n",
              "      <td>2.478</td>\n",
              "    </tr>\n",
              "    <tr>\n",
              "      <th>4</th>\n",
              "      <td>1</td>\n",
              "      <td>CONCEIÇÃO</td>\n",
              "      <td>41</td>\n",
              "      <td>6.556</td>\n",
              "      <td>4.038</td>\n",
              "      <td>20.388</td>\n",
              "      <td>7.924</td>\n",
              "      <td>0.0</td>\n",
              "      <td>5.704</td>\n",
              "      <td>2.791</td>\n",
              "      <td>3.883</td>\n",
              "      <td>13.870</td>\n",
              "      <td>0.000</td>\n",
              "      <td>2.296</td>\n",
              "    </tr>\n",
              "  </tbody>\n",
              "</table>\n",
              "</div>"
            ],
            "text/plain": [
              "   Mês    Empresa  Linha  Estudante_Cartao  Estudante_BT  Vale_Transporte  \\\n",
              "0    1  CONCEIÇÃO     21            13.493         9.506           35.944   \n",
              "1    1  CONCEIÇÃO     22             4.644         3.371           13.088   \n",
              "2    1  CONCEIÇÃO     30             8.519         5.614           20.580   \n",
              "3    1  CONCEIÇÃO     31             9.631         6.020           23.460   \n",
              "4    1  CONCEIÇÃO     41             6.556         4.038           20.388   \n",
              "\n",
              "   Integracao_Plena  Integracao_Complementar  Gratuito_Cartao  Gratuito_BT  \\\n",
              "0             8.671                      0.0           17.138        7.397   \n",
              "1             3.230                      0.0            8.109        3.157   \n",
              "2             5.346                      0.0            7.265        3.191   \n",
              "3             7.587                      0.0            7.065        2.922   \n",
              "4             7.924                      0.0            5.704        2.791   \n",
              "\n",
              "   Inteira_Cartao  Inteira_Especie  Tarifa_Social  Qtd_Viagens  \n",
              "0           6.542           43.727          3.965        3.684  \n",
              "1           2.529           15.363          0.000        1.737  \n",
              "2           4.415           21.507          1.537        2.500  \n",
              "3           5.491           22.212        140.000        2.478  \n",
              "4           3.883           13.870          0.000        2.296  "
            ]
          },
          "metadata": {
            "tags": []
          },
          "execution_count": 35
        }
      ]
    },
    {
      "metadata": {
        "id": "sZmQ8DoWJJ_i",
        "colab_type": "text"
      },
      "cell_type": "markdown",
      "source": [
        "### Exploring the dataframe\n",
        "Now that we've read the dataset into a DataFrame, we can start using more Pandas DataFrame methods to explore the data."
      ]
    },
    {
      "metadata": {
        "id": "fuyBo7scKFSy",
        "colab_type": "text"
      },
      "cell_type": "markdown",
      "source": [
        "A new Dataframe containing random samples of the original Dataframe can be created by using the sample( ) method:"
      ]
    },
    {
      "metadata": {
        "id": "0KscL5huJ0rY",
        "colab_type": "code",
        "colab": {
          "base_uri": "https://localhost:8080/",
          "height": 481
        },
        "outputId": "29dcc321-30c9-42a2-b317-d9e9e7e2b94a"
      },
      "cell_type": "code",
      "source": [
        "sample_df = df.sample(10)\n",
        "#show Dataframe\n",
        "sample_df"
      ],
      "execution_count": 34,
      "outputs": [
        {
          "output_type": "execute_result",
          "data": {
            "text/html": [
              "<div>\n",
              "<style scoped>\n",
              "    .dataframe tbody tr th:only-of-type {\n",
              "        vertical-align: middle;\n",
              "    }\n",
              "\n",
              "    .dataframe tbody tr th {\n",
              "        vertical-align: top;\n",
              "    }\n",
              "\n",
              "    .dataframe thead th {\n",
              "        text-align: right;\n",
              "    }\n",
              "</style>\n",
              "<table border=\"1\" class=\"dataframe\">\n",
              "  <thead>\n",
              "    <tr style=\"text-align: right;\">\n",
              "      <th></th>\n",
              "      <th>Mês</th>\n",
              "      <th>Empresa</th>\n",
              "      <th>Linha</th>\n",
              "      <th>Estudante_Cartao</th>\n",
              "      <th>Estudante_BT</th>\n",
              "      <th>Vale_Transporte</th>\n",
              "      <th>Integracao_Plena</th>\n",
              "      <th>Integracao_Complementar</th>\n",
              "      <th>Gratuito_Cartao</th>\n",
              "      <th>Gratuito_BT</th>\n",
              "      <th>Inteira_Cartao</th>\n",
              "      <th>Inteira_Especie</th>\n",
              "      <th>Tarifa_Social</th>\n",
              "      <th>Qtd_Viagens</th>\n",
              "    </tr>\n",
              "  </thead>\n",
              "  <tbody>\n",
              "    <tr>\n",
              "      <th>760</th>\n",
              "      <td>9</td>\n",
              "      <td>CONCEIÇÃO</td>\n",
              "      <td>21</td>\n",
              "      <td>27123.000</td>\n",
              "      <td>4877.000</td>\n",
              "      <td>37501.000</td>\n",
              "      <td>9927.000</td>\n",
              "      <td>0.0</td>\n",
              "      <td>17449.000</td>\n",
              "      <td>8856.000</td>\n",
              "      <td>7483.000</td>\n",
              "      <td>43980.000</td>\n",
              "      <td>2142.0</td>\n",
              "      <td>3918.000</td>\n",
              "    </tr>\n",
              "    <tr>\n",
              "      <th>219</th>\n",
              "      <td>3</td>\n",
              "      <td>GUANABARA - URB</td>\n",
              "      <td>4</td>\n",
              "      <td>13.369</td>\n",
              "      <td>10.562</td>\n",
              "      <td>33.885</td>\n",
              "      <td>7.357</td>\n",
              "      <td>1.0</td>\n",
              "      <td>4.927</td>\n",
              "      <td>2.675</td>\n",
              "      <td>4.070</td>\n",
              "      <td>23.109</td>\n",
              "      <td>977.0</td>\n",
              "      <td>2.244</td>\n",
              "    </tr>\n",
              "    <tr>\n",
              "      <th>656</th>\n",
              "      <td>7</td>\n",
              "      <td>SANTA MARIA - URB</td>\n",
              "      <td>411</td>\n",
              "      <td>6678.000</td>\n",
              "      <td>1697.000</td>\n",
              "      <td>7761.000</td>\n",
              "      <td>3243.000</td>\n",
              "      <td>0.0</td>\n",
              "      <td>3327.000</td>\n",
              "      <td>1080.000</td>\n",
              "      <td>2032.000</td>\n",
              "      <td>7945.000</td>\n",
              "      <td>0.0</td>\n",
              "      <td>717.000</td>\n",
              "    </tr>\n",
              "    <tr>\n",
              "      <th>673</th>\n",
              "      <td>8</td>\n",
              "      <td>CONCEIÇÃO</td>\n",
              "      <td>587</td>\n",
              "      <td>1163.000</td>\n",
              "      <td>0.000</td>\n",
              "      <td>479.000</td>\n",
              "      <td>249.000</td>\n",
              "      <td>0.0</td>\n",
              "      <td>888.000</td>\n",
              "      <td>109.000</td>\n",
              "      <td>125.000</td>\n",
              "      <td>1385.000</td>\n",
              "      <td>0.0</td>\n",
              "      <td>1468.000</td>\n",
              "    </tr>\n",
              "    <tr>\n",
              "      <th>403</th>\n",
              "      <td>5</td>\n",
              "      <td>DUNAS - URB</td>\n",
              "      <td>332</td>\n",
              "      <td>3.743</td>\n",
              "      <td>1.206</td>\n",
              "      <td>5.495</td>\n",
              "      <td>1.270</td>\n",
              "      <td>0.0</td>\n",
              "      <td>1.290</td>\n",
              "      <td>496.000</td>\n",
              "      <td>1.441</td>\n",
              "      <td>3.642</td>\n",
              "      <td>253.0</td>\n",
              "      <td>577.000</td>\n",
              "    </tr>\n",
              "    <tr>\n",
              "      <th>939</th>\n",
              "      <td>10</td>\n",
              "      <td>SANTA MARIA - URB</td>\n",
              "      <td>66</td>\n",
              "      <td>16390.000</td>\n",
              "      <td>3831.000</td>\n",
              "      <td>15271.000</td>\n",
              "      <td>2454.000</td>\n",
              "      <td>0.0</td>\n",
              "      <td>3834.000</td>\n",
              "      <td>2102.000</td>\n",
              "      <td>3065.000</td>\n",
              "      <td>16972.000</td>\n",
              "      <td>3290.0</td>\n",
              "      <td>2091.000</td>\n",
              "    </tr>\n",
              "    <tr>\n",
              "      <th>908</th>\n",
              "      <td>10</td>\n",
              "      <td>GUANABARA - URB</td>\n",
              "      <td>1516</td>\n",
              "      <td>15376.000</td>\n",
              "      <td>3478.000</td>\n",
              "      <td>22809.000</td>\n",
              "      <td>4293.000</td>\n",
              "      <td>182.0</td>\n",
              "      <td>9273.000</td>\n",
              "      <td>5323.000</td>\n",
              "      <td>5042.000</td>\n",
              "      <td>26397.000</td>\n",
              "      <td>3650.0</td>\n",
              "      <td>2172.000</td>\n",
              "    </tr>\n",
              "    <tr>\n",
              "      <th>549</th>\n",
              "      <td>6</td>\n",
              "      <td>SANTA MARIA - URB</td>\n",
              "      <td>36</td>\n",
              "      <td>9882.000</td>\n",
              "      <td>4407.000</td>\n",
              "      <td>15131.000</td>\n",
              "      <td>5527.000</td>\n",
              "      <td>0.0</td>\n",
              "      <td>7763.000</td>\n",
              "      <td>3904.000</td>\n",
              "      <td>3177.000</td>\n",
              "      <td>16874.000</td>\n",
              "      <td>0.0</td>\n",
              "      <td>2095.000</td>\n",
              "    </tr>\n",
              "    <tr>\n",
              "      <th>284</th>\n",
              "      <td>3</td>\n",
              "      <td>VIA SUL - URB</td>\n",
              "      <td>52</td>\n",
              "      <td>18.588</td>\n",
              "      <td>12.721</td>\n",
              "      <td>23.356</td>\n",
              "      <td>7.949</td>\n",
              "      <td>1.0</td>\n",
              "      <td>10.974</td>\n",
              "      <td>6.446</td>\n",
              "      <td>5.829</td>\n",
              "      <td>29.111</td>\n",
              "      <td>474.0</td>\n",
              "      <td>3.091</td>\n",
              "    </tr>\n",
              "    <tr>\n",
              "      <th>257</th>\n",
              "      <td>3</td>\n",
              "      <td>REUNIDAS</td>\n",
              "      <td>68</td>\n",
              "      <td>14.582</td>\n",
              "      <td>6.371</td>\n",
              "      <td>26.601</td>\n",
              "      <td>6.185</td>\n",
              "      <td>214.0</td>\n",
              "      <td>10.614</td>\n",
              "      <td>3.260</td>\n",
              "      <td>7.084</td>\n",
              "      <td>27.343</td>\n",
              "      <td>754.0</td>\n",
              "      <td>2.327</td>\n",
              "    </tr>\n",
              "  </tbody>\n",
              "</table>\n",
              "</div>"
            ],
            "text/plain": [
              "     Mês            Empresa  Linha  Estudante_Cartao  Estudante_BT  \\\n",
              "760    9          CONCEIÇÃO     21         27123.000      4877.000   \n",
              "219    3    GUANABARA - URB      4            13.369        10.562   \n",
              "656    7  SANTA MARIA - URB    411          6678.000      1697.000   \n",
              "673    8          CONCEIÇÃO    587          1163.000         0.000   \n",
              "403    5        DUNAS - URB    332             3.743         1.206   \n",
              "939   10  SANTA MARIA - URB     66         16390.000      3831.000   \n",
              "908   10    GUANABARA - URB   1516         15376.000      3478.000   \n",
              "549    6  SANTA MARIA - URB     36          9882.000      4407.000   \n",
              "284    3      VIA SUL - URB     52            18.588        12.721   \n",
              "257    3           REUNIDAS     68            14.582         6.371   \n",
              "\n",
              "     Vale_Transporte  Integracao_Plena  Integracao_Complementar  \\\n",
              "760        37501.000          9927.000                      0.0   \n",
              "219           33.885             7.357                      1.0   \n",
              "656         7761.000          3243.000                      0.0   \n",
              "673          479.000           249.000                      0.0   \n",
              "403            5.495             1.270                      0.0   \n",
              "939        15271.000          2454.000                      0.0   \n",
              "908        22809.000          4293.000                    182.0   \n",
              "549        15131.000          5527.000                      0.0   \n",
              "284           23.356             7.949                      1.0   \n",
              "257           26.601             6.185                    214.0   \n",
              "\n",
              "     Gratuito_Cartao  Gratuito_BT  Inteira_Cartao  Inteira_Especie  \\\n",
              "760        17449.000     8856.000        7483.000        43980.000   \n",
              "219            4.927        2.675           4.070           23.109   \n",
              "656         3327.000     1080.000        2032.000         7945.000   \n",
              "673          888.000      109.000         125.000         1385.000   \n",
              "403            1.290      496.000           1.441            3.642   \n",
              "939         3834.000     2102.000        3065.000        16972.000   \n",
              "908         9273.000     5323.000        5042.000        26397.000   \n",
              "549         7763.000     3904.000        3177.000        16874.000   \n",
              "284           10.974        6.446           5.829           29.111   \n",
              "257           10.614        3.260           7.084           27.343   \n",
              "\n",
              "     Tarifa_Social  Qtd_Viagens  \n",
              "760         2142.0     3918.000  \n",
              "219          977.0        2.244  \n",
              "656            0.0      717.000  \n",
              "673            0.0     1468.000  \n",
              "403          253.0      577.000  \n",
              "939         3290.0     2091.000  \n",
              "908         3650.0     2172.000  \n",
              "549            0.0     2095.000  \n",
              "284          474.0        3.091  \n",
              "257          754.0        2.327  "
            ]
          },
          "metadata": {
            "tags": []
          },
          "execution_count": 34
        }
      ]
    },
    {
      "metadata": {
        "id": "ueHuZqKCNY29",
        "colab_type": "text"
      },
      "cell_type": "markdown",
      "source": [
        "By these Dataframe printouts, it is possible to overview data structure (rows, columns and cells). A better understanding of the study Dataframe can be obtained with a series of Pandas Dataframe methods:"
      ]
    },
    {
      "metadata": {
        "id": "Un1bIFNH8GCe",
        "colab_type": "code",
        "colab": {
          "base_uri": "https://localhost:8080/",
          "height": 35
        },
        "outputId": "8aa34691-9d38-42bb-aebd-dfc3acc8b4d2"
      },
      "cell_type": "code",
      "source": [
        "#get the shape of the df\n",
        "df.shape\n"
      ],
      "execution_count": 38,
      "outputs": [
        {
          "output_type": "execute_result",
          "data": {
            "text/plain": [
              "(949, 14)"
            ]
          },
          "metadata": {
            "tags": []
          },
          "execution_count": 38
        }
      ]
    },
    {
      "metadata": {
        "id": "lSDca6FQN42B",
        "colab_type": "code",
        "colab": {
          "base_uri": "https://localhost:8080/",
          "height": 359
        },
        "outputId": "453cc2b4-8a73-46ef-a80b-a542917bed22"
      },
      "cell_type": "code",
      "source": [
        "# show the basic information about the dataset (columns, sizes, column types, etc)\n",
        "df.info()"
      ],
      "execution_count": 40,
      "outputs": [
        {
          "output_type": "stream",
          "text": [
            "<class 'pandas.core.frame.DataFrame'>\n",
            "RangeIndex: 949 entries, 0 to 948\n",
            "Data columns (total 14 columns):\n",
            "Mês                        949 non-null int64\n",
            "Empresa                    949 non-null object\n",
            "Linha                      949 non-null int64\n",
            "Estudante_Cartao           949 non-null float64\n",
            "Estudante_BT               949 non-null float64\n",
            "Vale_Transporte            949 non-null float64\n",
            "Integracao_Plena           949 non-null float64\n",
            "Integracao_Complementar    949 non-null float64\n",
            "Gratuito_Cartao            949 non-null float64\n",
            "Gratuito_BT                949 non-null float64\n",
            "Inteira_Cartao             949 non-null float64\n",
            "Inteira_Especie            949 non-null float64\n",
            "Tarifa_Social              949 non-null float64\n",
            "Qtd_Viagens                949 non-null float64\n",
            "dtypes: float64(11), int64(2), object(1)\n",
            "memory usage: 103.9+ KB\n"
          ],
          "name": "stdout"
        }
      ]
    },
    {
      "metadata": {
        "id": "EAUudXcPOeCM",
        "colab_type": "code",
        "colab": {
          "base_uri": "https://localhost:8080/",
          "height": 317
        },
        "outputId": "c19863be-08f1-4dd5-9cc5-300139fb4008"
      },
      "cell_type": "code",
      "source": [
        "# describe statistical information about the numerical columns\n",
        "df.describe()"
      ],
      "execution_count": 43,
      "outputs": [
        {
          "output_type": "execute_result",
          "data": {
            "text/html": [
              "<div>\n",
              "<style scoped>\n",
              "    .dataframe tbody tr th:only-of-type {\n",
              "        vertical-align: middle;\n",
              "    }\n",
              "\n",
              "    .dataframe tbody tr th {\n",
              "        vertical-align: top;\n",
              "    }\n",
              "\n",
              "    .dataframe thead th {\n",
              "        text-align: right;\n",
              "    }\n",
              "</style>\n",
              "<table border=\"1\" class=\"dataframe\">\n",
              "  <thead>\n",
              "    <tr style=\"text-align: right;\">\n",
              "      <th></th>\n",
              "      <th>Mês</th>\n",
              "      <th>Linha</th>\n",
              "      <th>Estudante_Cartao</th>\n",
              "      <th>Estudante_BT</th>\n",
              "      <th>Vale_Transporte</th>\n",
              "      <th>Integracao_Plena</th>\n",
              "      <th>Integracao_Complementar</th>\n",
              "      <th>Gratuito_Cartao</th>\n",
              "      <th>Gratuito_BT</th>\n",
              "      <th>Inteira_Cartao</th>\n",
              "      <th>Inteira_Especie</th>\n",
              "      <th>Tarifa_Social</th>\n",
              "      <th>Qtd_Viagens</th>\n",
              "    </tr>\n",
              "  </thead>\n",
              "  <tbody>\n",
              "    <tr>\n",
              "      <th>count</th>\n",
              "      <td>949.000000</td>\n",
              "      <td>949.000000</td>\n",
              "      <td>949.000000</td>\n",
              "      <td>949.000000</td>\n",
              "      <td>949.000000</td>\n",
              "      <td>949.000000</td>\n",
              "      <td>949.000000</td>\n",
              "      <td>949.000000</td>\n",
              "      <td>949.000000</td>\n",
              "      <td>949.000000</td>\n",
              "      <td>949.000000</td>\n",
              "      <td>949.000000</td>\n",
              "      <td>949.000000</td>\n",
              "    </tr>\n",
              "    <tr>\n",
              "      <th>mean</th>\n",
              "      <td>5.492097</td>\n",
              "      <td>1109.404636</td>\n",
              "      <td>7410.613845</td>\n",
              "      <td>2328.857335</td>\n",
              "      <td>10773.196672</td>\n",
              "      <td>3142.489758</td>\n",
              "      <td>70.314604</td>\n",
              "      <td>3736.196684</td>\n",
              "      <td>1852.104958</td>\n",
              "      <td>2381.738394</td>\n",
              "      <td>10533.645599</td>\n",
              "      <td>489.891953</td>\n",
              "      <td>1034.513133</td>\n",
              "    </tr>\n",
              "    <tr>\n",
              "      <th>std</th>\n",
              "      <td>2.884410</td>\n",
              "      <td>2239.082157</td>\n",
              "      <td>11892.630953</td>\n",
              "      <td>4004.715689</td>\n",
              "      <td>17442.582959</td>\n",
              "      <td>5382.396103</td>\n",
              "      <td>155.008061</td>\n",
              "      <td>5853.841755</td>\n",
              "      <td>2824.474806</td>\n",
              "      <td>3602.624978</td>\n",
              "      <td>16393.121063</td>\n",
              "      <td>1446.414320</td>\n",
              "      <td>1303.173175</td>\n",
              "    </tr>\n",
              "    <tr>\n",
              "      <th>min</th>\n",
              "      <td>1.000000</td>\n",
              "      <td>2.000000</td>\n",
              "      <td>0.000000</td>\n",
              "      <td>0.000000</td>\n",
              "      <td>0.000000</td>\n",
              "      <td>0.000000</td>\n",
              "      <td>0.000000</td>\n",
              "      <td>0.000000</td>\n",
              "      <td>0.000000</td>\n",
              "      <td>0.000000</td>\n",
              "      <td>0.000000</td>\n",
              "      <td>0.000000</td>\n",
              "      <td>1.000000</td>\n",
              "    </tr>\n",
              "    <tr>\n",
              "      <th>25%</th>\n",
              "      <td>3.000000</td>\n",
              "      <td>39.000000</td>\n",
              "      <td>11.796000</td>\n",
              "      <td>6.554000</td>\n",
              "      <td>19.368000</td>\n",
              "      <td>6.418000</td>\n",
              "      <td>0.000000</td>\n",
              "      <td>8.371000</td>\n",
              "      <td>4.458000</td>\n",
              "      <td>5.582000</td>\n",
              "      <td>19.119000</td>\n",
              "      <td>0.000000</td>\n",
              "      <td>2.918000</td>\n",
              "    </tr>\n",
              "    <tr>\n",
              "      <th>50%</th>\n",
              "      <td>5.000000</td>\n",
              "      <td>75.000000</td>\n",
              "      <td>162.000000</td>\n",
              "      <td>158.000000</td>\n",
              "      <td>313.000000</td>\n",
              "      <td>364.000000</td>\n",
              "      <td>0.000000</td>\n",
              "      <td>270.000000</td>\n",
              "      <td>381.000000</td>\n",
              "      <td>319.000000</td>\n",
              "      <td>271.000000</td>\n",
              "      <td>1.305000</td>\n",
              "      <td>434.000000</td>\n",
              "    </tr>\n",
              "    <tr>\n",
              "      <th>75%</th>\n",
              "      <td>8.000000</td>\n",
              "      <td>599.000000</td>\n",
              "      <td>10670.000000</td>\n",
              "      <td>3239.000000</td>\n",
              "      <td>15774.000000</td>\n",
              "      <td>4184.000000</td>\n",
              "      <td>65.000000</td>\n",
              "      <td>6141.000000</td>\n",
              "      <td>2991.000000</td>\n",
              "      <td>3746.000000</td>\n",
              "      <td>17110.000000</td>\n",
              "      <td>381.000000</td>\n",
              "      <td>1829.000000</td>\n",
              "    </tr>\n",
              "    <tr>\n",
              "      <th>max</th>\n",
              "      <td>10.000000</td>\n",
              "      <td>9018.000000</td>\n",
              "      <td>64442.000000</td>\n",
              "      <td>29076.000000</td>\n",
              "      <td>112950.000000</td>\n",
              "      <td>35284.000000</td>\n",
              "      <td>1309.000000</td>\n",
              "      <td>37702.000000</td>\n",
              "      <td>17586.000000</td>\n",
              "      <td>18331.000000</td>\n",
              "      <td>88285.000000</td>\n",
              "      <td>17298.000000</td>\n",
              "      <td>5407.000000</td>\n",
              "    </tr>\n",
              "  </tbody>\n",
              "</table>\n",
              "</div>"
            ],
            "text/plain": [
              "              Mês        Linha  Estudante_Cartao  Estudante_BT  \\\n",
              "count  949.000000   949.000000        949.000000    949.000000   \n",
              "mean     5.492097  1109.404636       7410.613845   2328.857335   \n",
              "std      2.884410  2239.082157      11892.630953   4004.715689   \n",
              "min      1.000000     2.000000          0.000000      0.000000   \n",
              "25%      3.000000    39.000000         11.796000      6.554000   \n",
              "50%      5.000000    75.000000        162.000000    158.000000   \n",
              "75%      8.000000   599.000000      10670.000000   3239.000000   \n",
              "max     10.000000  9018.000000      64442.000000  29076.000000   \n",
              "\n",
              "       Vale_Transporte  Integracao_Plena  Integracao_Complementar  \\\n",
              "count       949.000000        949.000000               949.000000   \n",
              "mean      10773.196672       3142.489758                70.314604   \n",
              "std       17442.582959       5382.396103               155.008061   \n",
              "min           0.000000          0.000000                 0.000000   \n",
              "25%          19.368000          6.418000                 0.000000   \n",
              "50%         313.000000        364.000000                 0.000000   \n",
              "75%       15774.000000       4184.000000                65.000000   \n",
              "max      112950.000000      35284.000000              1309.000000   \n",
              "\n",
              "       Gratuito_Cartao   Gratuito_BT  Inteira_Cartao  Inteira_Especie  \\\n",
              "count       949.000000    949.000000      949.000000       949.000000   \n",
              "mean       3736.196684   1852.104958     2381.738394     10533.645599   \n",
              "std        5853.841755   2824.474806     3602.624978     16393.121063   \n",
              "min           0.000000      0.000000        0.000000         0.000000   \n",
              "25%           8.371000      4.458000        5.582000        19.119000   \n",
              "50%         270.000000    381.000000      319.000000       271.000000   \n",
              "75%        6141.000000   2991.000000     3746.000000     17110.000000   \n",
              "max       37702.000000  17586.000000    18331.000000     88285.000000   \n",
              "\n",
              "       Tarifa_Social  Qtd_Viagens  \n",
              "count     949.000000   949.000000  \n",
              "mean      489.891953  1034.513133  \n",
              "std      1446.414320  1303.173175  \n",
              "min         0.000000     1.000000  \n",
              "25%         0.000000     2.918000  \n",
              "50%         1.305000   434.000000  \n",
              "75%       381.000000  1829.000000  \n",
              "max     17298.000000  5407.000000  "
            ]
          },
          "metadata": {
            "tags": []
          },
          "execution_count": 43
        }
      ]
    },
    {
      "metadata": {
        "id": "WGb4CgTeOwvO",
        "colab_type": "code",
        "colab": {}
      },
      "cell_type": "code",
      "source": [
        ""
      ],
      "execution_count": 0,
      "outputs": []
    }
  ]
}