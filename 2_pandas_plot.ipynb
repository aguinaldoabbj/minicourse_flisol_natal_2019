{
  "nbformat": 4,
  "nbformat_minor": 0,
  "metadata": {
    "colab": {
      "name": "2-pandas_plot.ipynb",
      "version": "0.3.2",
      "provenance": [],
      "collapsed_sections": []
    },
    "kernelspec": {
      "display_name": "Python 3",
      "language": "python",
      "name": "python3"
    }
  },
  "cells": [
    {
      "metadata": {
        "id": "9r4SSlxwLhag",
        "colab_type": "text"
      },
      "cell_type": "markdown",
      "source": [
        "# Plotting with Pandas and Matplotlib\n",
        "\n",
        "So far, we've mostly been manipulating and working with data that are represented as tables.The pandas library in Python, and the CSV file format for datasets were all developed around this representation. Because a table neatly organizes values into rows and columns, we can easily look up specific values at the intersection of a row value and a column value. Unfortunately, it's very difficult to explore a dataset to uncover patterns when it's represented as a table, especially when that dataset contains many values. We need a different representation of data that can help us identify patterns more easily.\n",
        "\n",
        "In this mission, we'll learn the basics of **data visualization**, a discipline that focuses on the visual representation of data. As humans, our brains have evolved to develop powerful visual processing capabilities. We can quickly find patterns in the visual information we encounter, which was incredibly important from a survivability standpoint. Unfortunately, when data is represented as tables of values, we can't really take advantage of our visual pattern matching capabilities. This is because our ability to quickly process symbolic values (like numbers and words) is very poor. Data visualization focuses on transforming data from table representations visual ones.\n",
        "\n",
        "In this lesson, named **Exploratory Data Analysis**, we'll focus on data visualization techniques to explore datasets and help us uncover patterns. In this mission, we'll use some types of data visualization to understand the \"Bilhetagem\" dataset.\n",
        "\n",
        "To get things started, we have to load Pandas and NumPy libraries:"
      ]
    },
    {
      "metadata": {
        "id": "ImX5cBzfLhah",
        "colab_type": "code",
        "colab": {}
      },
      "cell_type": "code",
      "source": [
        "import pandas as pd\n",
        "import numpy as np"
      ],
      "execution_count": 0,
      "outputs": []
    },
    {
      "metadata": {
        "id": "6wTHNx4QlA4Z",
        "colab_type": "text"
      },
      "cell_type": "markdown",
      "source": [
        "## Loading the dataset\n",
        "\n",
        "As we did in the previous mission, let's download the data directly from  [Dados Abertos Natal](http://dados.natal.br/) to our workspace in Google Colab."
      ]
    },
    {
      "metadata": {
        "id": "DKNMCZcelVM5",
        "colab_type": "code",
        "outputId": "f3844f39-159f-496f-8cb4-9f57a52ebc0d",
        "colab": {
          "base_uri": "https://localhost:8080/",
          "height": 136
        }
      },
      "cell_type": "code",
      "source": [
        "!wget -c https://raw.githubusercontent.com/aguinaldoabbj/minicourse_open_data_natal_2019/master/data/dados-be-2018-analitico.csv\n",
        "#wget -c http://dados.natal.br/dataset/4fad551d-4d3b-4597-b8d3-7e887e22332e/resource/0d4a0f0f-b8a5-46a0-acfe-bb9138c8eb9e/download/dados-be-2019-analitico.csv"
      ],
      "execution_count": 0,
      "outputs": [
        {
          "output_type": "stream",
          "text": [
            "--2019-03-21 20:41:36--  https://raw.githubusercontent.com/aguinaldoabbj/minicourse_open_data_natal_2019/master/data/dados-be-2018-analitico.csv\n",
            "Resolving raw.githubusercontent.com (raw.githubusercontent.com)... 151.101.0.133, 151.101.64.133, 151.101.128.133, ...\n",
            "Connecting to raw.githubusercontent.com (raw.githubusercontent.com)|151.101.0.133|:443... connected.\n",
            "HTTP request sent, awaiting response... 416 Range Not Satisfiable\n",
            "\n",
            "    The file is already fully retrieved; nothing to do.\n",
            "\n"
          ],
          "name": "stdout"
        }
      ]
    },
    {
      "metadata": {
        "id": "AMGWsR41lZ05",
        "colab_type": "text"
      },
      "cell_type": "markdown",
      "source": [
        "We can check if file was downloaded using 'ls':"
      ]
    },
    {
      "metadata": {
        "id": "Ue2O3F0Gld4i",
        "colab_type": "code",
        "outputId": "d0149fdc-8ec4-4d61-c58a-94e1b7a5fb2d",
        "colab": {
          "base_uri": "https://localhost:8080/",
          "height": 34
        }
      },
      "cell_type": "code",
      "source": [
        "!ls -lah  dados-be*"
      ],
      "execution_count": 0,
      "outputs": [
        {
          "output_type": "stream",
          "text": [
            "-rw-r--r-- 1 root root 72K Mar 21 20:17 dados-be-2018-analitico.csv\n"
          ],
          "name": "stdout"
        }
      ]
    },
    {
      "metadata": {
        "id": "3EZqnoELlj-N",
        "colab_type": "text"
      },
      "cell_type": "markdown",
      "source": [
        "Now, we can read the CSV file:"
      ]
    },
    {
      "metadata": {
        "id": "KXK-PhvJlt14",
        "colab_type": "code",
        "colab": {}
      },
      "cell_type": "code",
      "source": [
        "# CSV file uses ';' as separator and is encodded in iso-8859-1\n",
        "df = pd.read_csv(\"dados-be-2018-analitico.csv\", encoding='iso-8859-1', sep=';', thousands=r'.')"
      ],
      "execution_count": 0,
      "outputs": []
    },
    {
      "metadata": {
        "id": "Pz893zqymiho",
        "colab_type": "text"
      },
      "cell_type": "markdown",
      "source": [
        "## Get insights from the table observation\n",
        "\n",
        "We can use the method `head(10)` to see the first 10 rows of the dataset."
      ]
    },
    {
      "metadata": {
        "id": "DY8JLb843027",
        "colab_type": "code",
        "outputId": "131bd9fa-1b50-43d5-a837-219b34e9ee4d",
        "colab": {
          "base_uri": "https://localhost:8080/",
          "height": 359
        }
      },
      "cell_type": "code",
      "source": [
        "df.head(10)"
      ],
      "execution_count": 0,
      "outputs": [
        {
          "output_type": "execute_result",
          "data": {
            "text/html": [
              "<div>\n",
              "<style scoped>\n",
              "    .dataframe tbody tr th:only-of-type {\n",
              "        vertical-align: middle;\n",
              "    }\n",
              "\n",
              "    .dataframe tbody tr th {\n",
              "        vertical-align: top;\n",
              "    }\n",
              "\n",
              "    .dataframe thead th {\n",
              "        text-align: right;\n",
              "    }\n",
              "</style>\n",
              "<table border=\"1\" class=\"dataframe\">\n",
              "  <thead>\n",
              "    <tr style=\"text-align: right;\">\n",
              "      <th></th>\n",
              "      <th>Mês</th>\n",
              "      <th>Empresa</th>\n",
              "      <th>Linha</th>\n",
              "      <th>Estudante_Cartao</th>\n",
              "      <th>Estudante_BT</th>\n",
              "      <th>Vale_Transporte</th>\n",
              "      <th>Integracao_Plena</th>\n",
              "      <th>Integracao_Complementar</th>\n",
              "      <th>Gratuito_Cartao</th>\n",
              "      <th>Gratuito_BT</th>\n",
              "      <th>Inteira_Cartao</th>\n",
              "      <th>Inteira_Especie</th>\n",
              "      <th>Tarifa_Social</th>\n",
              "      <th>Qtd_Viagens</th>\n",
              "    </tr>\n",
              "  </thead>\n",
              "  <tbody>\n",
              "    <tr>\n",
              "      <th>0</th>\n",
              "      <td>1</td>\n",
              "      <td>CONCEIÇÃO</td>\n",
              "      <td>21</td>\n",
              "      <td>13493</td>\n",
              "      <td>9506</td>\n",
              "      <td>35944</td>\n",
              "      <td>8671</td>\n",
              "      <td>0</td>\n",
              "      <td>17138</td>\n",
              "      <td>7397</td>\n",
              "      <td>6542</td>\n",
              "      <td>43727</td>\n",
              "      <td>3965</td>\n",
              "      <td>3684</td>\n",
              "    </tr>\n",
              "    <tr>\n",
              "      <th>1</th>\n",
              "      <td>1</td>\n",
              "      <td>CONCEIÇÃO</td>\n",
              "      <td>22</td>\n",
              "      <td>4644</td>\n",
              "      <td>3371</td>\n",
              "      <td>13088</td>\n",
              "      <td>3230</td>\n",
              "      <td>0</td>\n",
              "      <td>8109</td>\n",
              "      <td>3157</td>\n",
              "      <td>2529</td>\n",
              "      <td>15363</td>\n",
              "      <td>0</td>\n",
              "      <td>1737</td>\n",
              "    </tr>\n",
              "    <tr>\n",
              "      <th>2</th>\n",
              "      <td>1</td>\n",
              "      <td>CONCEIÇÃO</td>\n",
              "      <td>30</td>\n",
              "      <td>8519</td>\n",
              "      <td>5614</td>\n",
              "      <td>20580</td>\n",
              "      <td>5346</td>\n",
              "      <td>0</td>\n",
              "      <td>7265</td>\n",
              "      <td>3191</td>\n",
              "      <td>4415</td>\n",
              "      <td>21507</td>\n",
              "      <td>1537</td>\n",
              "      <td>2500</td>\n",
              "    </tr>\n",
              "    <tr>\n",
              "      <th>3</th>\n",
              "      <td>1</td>\n",
              "      <td>CONCEIÇÃO</td>\n",
              "      <td>31</td>\n",
              "      <td>9631</td>\n",
              "      <td>6020</td>\n",
              "      <td>23460</td>\n",
              "      <td>7587</td>\n",
              "      <td>0</td>\n",
              "      <td>7065</td>\n",
              "      <td>2922</td>\n",
              "      <td>5491</td>\n",
              "      <td>22212</td>\n",
              "      <td>140</td>\n",
              "      <td>2478</td>\n",
              "    </tr>\n",
              "    <tr>\n",
              "      <th>4</th>\n",
              "      <td>1</td>\n",
              "      <td>CONCEIÇÃO</td>\n",
              "      <td>41</td>\n",
              "      <td>6556</td>\n",
              "      <td>4038</td>\n",
              "      <td>20388</td>\n",
              "      <td>7924</td>\n",
              "      <td>0</td>\n",
              "      <td>5704</td>\n",
              "      <td>2791</td>\n",
              "      <td>3883</td>\n",
              "      <td>13870</td>\n",
              "      <td>0</td>\n",
              "      <td>2296</td>\n",
              "    </tr>\n",
              "    <tr>\n",
              "      <th>5</th>\n",
              "      <td>1</td>\n",
              "      <td>CONCEIÇÃO</td>\n",
              "      <td>59</td>\n",
              "      <td>8184</td>\n",
              "      <td>6086</td>\n",
              "      <td>22623</td>\n",
              "      <td>7332</td>\n",
              "      <td>0</td>\n",
              "      <td>13514</td>\n",
              "      <td>4373</td>\n",
              "      <td>4622</td>\n",
              "      <td>29075</td>\n",
              "      <td>4573</td>\n",
              "      <td>2650</td>\n",
              "    </tr>\n",
              "    <tr>\n",
              "      <th>6</th>\n",
              "      <td>1</td>\n",
              "      <td>CONCEIÇÃO</td>\n",
              "      <td>63</td>\n",
              "      <td>21918</td>\n",
              "      <td>14054</td>\n",
              "      <td>44118</td>\n",
              "      <td>14630</td>\n",
              "      <td>0</td>\n",
              "      <td>15034</td>\n",
              "      <td>5771</td>\n",
              "      <td>7765</td>\n",
              "      <td>39855</td>\n",
              "      <td>3182</td>\n",
              "      <td>3768</td>\n",
              "    </tr>\n",
              "    <tr>\n",
              "      <th>7</th>\n",
              "      <td>1</td>\n",
              "      <td>CONCEIÇÃO</td>\n",
              "      <td>71</td>\n",
              "      <td>7188</td>\n",
              "      <td>5395</td>\n",
              "      <td>19626</td>\n",
              "      <td>4209</td>\n",
              "      <td>0</td>\n",
              "      <td>10865</td>\n",
              "      <td>4075</td>\n",
              "      <td>3608</td>\n",
              "      <td>23923</td>\n",
              "      <td>3773</td>\n",
              "      <td>2389</td>\n",
              "    </tr>\n",
              "    <tr>\n",
              "      <th>8</th>\n",
              "      <td>1</td>\n",
              "      <td>CONCEIÇÃO</td>\n",
              "      <td>76</td>\n",
              "      <td>2886</td>\n",
              "      <td>1734</td>\n",
              "      <td>7298</td>\n",
              "      <td>1545</td>\n",
              "      <td>59</td>\n",
              "      <td>3494</td>\n",
              "      <td>1200</td>\n",
              "      <td>1507</td>\n",
              "      <td>8698</td>\n",
              "      <td>907</td>\n",
              "      <td>627</td>\n",
              "    </tr>\n",
              "    <tr>\n",
              "      <th>9</th>\n",
              "      <td>1</td>\n",
              "      <td>CONCEIÇÃO</td>\n",
              "      <td>83</td>\n",
              "      <td>4386</td>\n",
              "      <td>3932</td>\n",
              "      <td>14967</td>\n",
              "      <td>1194</td>\n",
              "      <td>0</td>\n",
              "      <td>3207</td>\n",
              "      <td>1125</td>\n",
              "      <td>2573</td>\n",
              "      <td>17649</td>\n",
              "      <td>2491</td>\n",
              "      <td>1284</td>\n",
              "    </tr>\n",
              "  </tbody>\n",
              "</table>\n",
              "</div>"
            ],
            "text/plain": [
              "   Mês    Empresa  Linha  Estudante_Cartao  Estudante_BT  Vale_Transporte  \\\n",
              "0    1  CONCEIÇÃO     21             13493          9506            35944   \n",
              "1    1  CONCEIÇÃO     22              4644          3371            13088   \n",
              "2    1  CONCEIÇÃO     30              8519          5614            20580   \n",
              "3    1  CONCEIÇÃO     31              9631          6020            23460   \n",
              "4    1  CONCEIÇÃO     41              6556          4038            20388   \n",
              "5    1  CONCEIÇÃO     59              8184          6086            22623   \n",
              "6    1  CONCEIÇÃO     63             21918         14054            44118   \n",
              "7    1  CONCEIÇÃO     71              7188          5395            19626   \n",
              "8    1  CONCEIÇÃO     76              2886          1734             7298   \n",
              "9    1  CONCEIÇÃO     83              4386          3932            14967   \n",
              "\n",
              "   Integracao_Plena  Integracao_Complementar  Gratuito_Cartao  Gratuito_BT  \\\n",
              "0              8671                        0            17138         7397   \n",
              "1              3230                        0             8109         3157   \n",
              "2              5346                        0             7265         3191   \n",
              "3              7587                        0             7065         2922   \n",
              "4              7924                        0             5704         2791   \n",
              "5              7332                        0            13514         4373   \n",
              "6             14630                        0            15034         5771   \n",
              "7              4209                        0            10865         4075   \n",
              "8              1545                       59             3494         1200   \n",
              "9              1194                        0             3207         1125   \n",
              "\n",
              "   Inteira_Cartao  Inteira_Especie  Tarifa_Social  Qtd_Viagens  \n",
              "0            6542            43727           3965         3684  \n",
              "1            2529            15363              0         1737  \n",
              "2            4415            21507           1537         2500  \n",
              "3            5491            22212            140         2478  \n",
              "4            3883            13870              0         2296  \n",
              "5            4622            29075           4573         2650  \n",
              "6            7765            39855           3182         3768  \n",
              "7            3608            23923           3773         2389  \n",
              "8            1507             8698            907          627  \n",
              "9            2573            17649           2491         1284  "
            ]
          },
          "metadata": {
            "tags": []
          },
          "execution_count": 27
        }
      ]
    },
    {
      "metadata": {
        "id": "X3H--X2Ao-h2",
        "colab_type": "text"
      },
      "cell_type": "markdown",
      "source": [
        "Take a minute to visually scan the table. There are many question that we ask about the data . For instance:\n",
        "- How the number of tickets has changed over time for \"Guanabara\" transportation company? And to the other companies?\n",
        "- How much student card's  payment occurs between the lines of \"Reunidas\"? And how much student or free tickets?\n",
        "- How much travels these companies did in March? And in the others months?\n",
        "- How all these tickets types are statistically distributed?\n",
        "\n",
        "To answer questions like those, we can use chart representations! Go ahead to the next cell to know how we can do plots!"
      ]
    },
    {
      "metadata": {
        "id": "iucj8Trot9Xl",
        "colab_type": "text"
      },
      "cell_type": "markdown",
      "source": [
        "# Matplotlib library\n",
        "\n",
        "\n",
        "To create a chart, we'll use the [matplotlib](http://matplotlib.org/) library, which allows us to:\n",
        "\n",
        "- quickly create common plots using high-level functions\n",
        "- extensively tweak plots\n",
        "- create new kinds of plots from the ground up\n",
        "\n",
        "To help you become familiar with matplotlib, we'll focus on the first 2 use cases. When working with commonly used plots in matplotlib, the general workflow is:\n",
        "\n",
        "- create a plot using data\n",
        "- customize the appearance of the plot\n",
        "- display the plot\n",
        "- edit and repeat until satisfied\n",
        "\n",
        "This interactive style aligns well with the exploratory workflow of data visualization because we're asking questions and creating data visualizations to help us get answers. The pyplot module provides a high-level interface for matplotlib that allows us to quickly create common data plots and perform common tweaks to them.\n",
        "\n",
        "The pyplot module is commonly imported as **plt** from **matplotlib**:\n",
        "\n",
        "```python\n",
        "import matplotlib.pyplot as plt\n",
        "```\n",
        "\n",
        "In the next sections, we will show some available plots of matplotlib."
      ]
    },
    {
      "metadata": {
        "id": "Ghev-1jDv4km",
        "colab_type": "text"
      },
      "cell_type": "markdown",
      "source": [
        "# Types of  charts\n",
        "\n",
        "Initially, let's import the matplotlib library:"
      ]
    },
    {
      "metadata": {
        "id": "tvjRZZnMwp6X",
        "colab_type": "code",
        "colab": {}
      },
      "cell_type": "code",
      "source": [
        "import matplotlib.pyplot as plt"
      ],
      "execution_count": 0,
      "outputs": []
    },
    {
      "metadata": {
        "id": "EOrT7B6Nwtj3",
        "colab_type": "text"
      },
      "cell_type": "markdown",
      "source": [
        "##     Line plots"
      ]
    },
    {
      "metadata": {
        "id": "Rc_0dno_HrLW",
        "colab_type": "text"
      },
      "cell_type": "markdown",
      "source": [
        "A line chart or line graph is a type of chart which displays information as a series of data points called ‘markers’ connected by straight line segments. Line graphs are usually used to find relationship between two data sets on different axis; for instance X, Y.\n",
        "\n",
        "In matplotlib, the *plot* method builds line plots as default and it takes many parameters, as `x` and `y:\n",
        "\n",
        "```python\n",
        "plt.plot(x_values, y_values)\n",
        "plt.show()\n",
        "```\n",
        "\n",
        "The [plot()](http://matplotlib.org/api/pyplot_api.html#matplotlib.pyplot.plot) function generates a plot with the data the axes and ticks. The [show()](http://matplotlib.org/api/pyplot_api.html#matplotlib.pyplot.show) function displays that plot. "
      ]
    },
    {
      "metadata": {
        "id": "D-_lAWFgRse_",
        "colab_type": "text"
      },
      "cell_type": "markdown",
      "source": [
        "#### Exercise\n",
        "\n",
        "![alt text](https://cdn.dribbble.com/users/2344801/screenshots/4774578/alphatestersanimation2.gif =150x120)\n",
        "\n",
        "1. Generate a line plot that visualizes the total number of \"Estudante_Cartao\" over time (by month) for \"GUANABARA - URB\" company.\n",
        "  - Get the data regarding the company \"GUANABARA - URB\" and assign it to **guanabara**.\n",
        "  - Use the *groupby()* function to group **guanabara** in relation to the column *'Mês'*, apply the *sum()* function to aggregate all data  and assign the result to **guanabara_by_month**.\n",
        "  - Plot a line chart passing *'Mês'* as x-axis and *'Estudante_Cartao'* as y-axis.\n",
        "  - Display the plot using *plt.show()*"
      ]
    },
    {
      "metadata": {
        "id": "1Zq7U6Sv9gLM",
        "colab_type": "code",
        "colab": {}
      },
      "cell_type": "code",
      "source": [
        "# put your code in this cell"
      ],
      "execution_count": 0,
      "outputs": []
    },
    {
      "metadata": {
        "id": "zICEhbKLHV5w",
        "colab_type": "text"
      },
      "cell_type": "markdown",
      "source": [
        "### Improving the plot\n",
        "\n",
        "Let's now finish tweaking this plot by adding axis labels and a title. Always adding axis labels and a title to your plot is a good habit to have, and is especially useful when we're trying to keep track of multiple plots down the road.\n",
        "\n",
        "Here's an overview of the pyplot functions we need to tweak the axis labels and the plot title:\n",
        "\n",
        "- [xlabel()](http://matplotlib.org/api/pyplot_api.html#matplotlib.pyplot.xlabel): accepts a string value, which gets set as the x-axis label.\n",
        "- [ylabel()](http://matplotlib.org/api/pyplot_api.html#matplotlib.pyplot.ylabel): accepts a string value, which is set as the y-axis label.\n",
        "- [title()](http://matplotlib.org/api/pyplot_api.html#matplotlib.pyplot.title): accepts a string value, which is set as the plot title."
      ]
    },
    {
      "metadata": {
        "id": "fhVPcaKoRy5L",
        "colab_type": "text"
      },
      "cell_type": "markdown",
      "source": [
        "#### Exercise\n",
        "\n",
        "![alt text](https://cdn.dribbble.com/users/2344801/screenshots/4774578/alphatestersanimation2.gif =150x120)\n",
        "\n",
        "1. Improve the line plot of the previous exercise.\n",
        "  - Set the x-axis label to *\"Mês\"*.\n",
        "  - Set the y-axis label to *\"N° de passagens\"*.\n",
        "  - Set the plot title to *\"Variação mensal de passagens no cartão estudantil\"*.\n",
        "  - Display the plot."
      ]
    },
    {
      "metadata": {
        "id": "85Hff1AtK5Is",
        "colab_type": "code",
        "colab": {}
      },
      "cell_type": "code",
      "source": [
        "# put your code in this cell"
      ],
      "execution_count": 0,
      "outputs": []
    },
    {
      "metadata": {
        "id": "rva1GsGLHFIC",
        "colab_type": "text"
      },
      "cell_type": "markdown",
      "source": [
        "### Multiple plots\n",
        "\n",
        "When we want to work with multiple plots, we need to be more explicit about which plot we're making changes to. This means we need to understand the matplotlib classes that pyplot uses internally to maintain state so we can interact with them directly. Let's first start by understanding what pyplot was automatically storing under the hood when we create a single plot:\n",
        "\n",
        "- a container for all plots was created (returned as a [Figure object](http://matplotlib.org/api/figure_api.html#matplotlib.figure.Figure))\n",
        "- a container for the plot was positioned on a grid (the plot returned as an [Axes object](http://matplotlib.org/api/axes_api.html#matplotlib-axes))\n",
        "- visual symbols were added to the plot (using the Axes methods)\n",
        "\n",
        "A figure acts as a container for all of our plots and has methods for customizing the appearance and behavior for the plots within that container. \n",
        "We can manually create a figure by calling [pyplot.figure()](http://matplotlib.org/api/pyplot_api.html#matplotlib.pyplot.figure):\n",
        "\n",
        "```python\n",
        "fig = plt.figure()\n",
        "```\n",
        "\n",
        "After a figure is created, an axes for a single plot containing no data is created within the context of the figure. The Axes object acts as its own container for the various components of the plot and they're also often referred to as subplots in matplotlib. To add a new subplot to an existing figure, use [Figure.add_subplot](http://matplotlib.org/api/figure_api.html#matplotlib.figure.Figure.add_subplot). This will return a new Axes object, which needs to be assigned to a variable:\n",
        "\n",
        "```python\n",
        "axes_obj = fig.add_subplot(nrows, ncols, plot_number)\n",
        "```\n",
        "\n",
        "If we want the figure to contain 2 plots, one above the other, we need to write:\n",
        "\n",
        "```python\n",
        "ax1 = fig.add_subplot(2,1,1)\n",
        "ax2 = fig.add_subplot(2,1,2)\n",
        "```\n",
        "\n",
        "Here's a diagram that demonstrates how a 2 by 2 subplot layout would look like:\n",
        "\n",
        "<img width=\"800\" alt=\"creating a repo\" src=\"https://drive.google.com/uc?export=view&id=0BxhVm1REqwr0QVVYZUpMSkxlVEU\">\n",
        "\n",
        "To generate a line chart within an Axes object, we need to call [Axes.plot()](http://matplotlib.org/api/axes_api.html#matplotlib.axes.Axes.plot) and pass in the data you want plotted:\n",
        "\n",
        "```python\n",
        "x_values = [0.0, 0.5, 1.0]\n",
        "y_values = [10, 20, 40]\n",
        "ax1.plot(x_values, y_values)\n",
        "```"
      ]
    },
    {
      "metadata": {
        "id": "Wp25F4lMSxlY",
        "colab_type": "text"
      },
      "cell_type": "markdown",
      "source": [
        "#### Exercise\n",
        "\n",
        "![alt text](https://cdn.dribbble.com/users/2344801/screenshots/4774578/alphatestersanimation2.gif =150x120)\n",
        "\n",
        "1. Create 2 line subplots in a 2 row by 1 column layout:\n",
        "  - In the top subplot:\n",
        "      - Use the column *\"Mês\"* for x-axis subplot\n",
        "      - Use the column *\"Estudante_Cartao\"* for y-axis subplot\n",
        "  - In the bottom subplot:\n",
        "      - Use the column *\"Mês\"* for x-axis subplot\n",
        "      - Use the column *\"Estudante_BT\"* for y-axis subplot\n",
        "2. Display the plot using *plt.show()*"
      ]
    },
    {
      "metadata": {
        "id": "Ihc9B8yzK75W",
        "colab_type": "code",
        "colab": {}
      },
      "cell_type": "code",
      "source": [
        "# put your code in this cell"
      ],
      "execution_count": 0,
      "outputs": []
    },
    {
      "metadata": {
        "id": "YMLqlhbGDNBn",
        "colab_type": "text"
      },
      "cell_type": "markdown",
      "source": [
        "### Overlaying line plot\n",
        "\n",
        "With more line charts, we can compare the evolution of them accross the time. This comes at a cost, unfortunately. We now have to visually scan over more space, which is a limitation that we experienced when scanning the table representation of the same data.\n",
        "\n",
        "We can handle the visual overhead each additional plot adds by overlaying the line charts in a single subplot. To this end, we call **pyplot.plot()** multiple times and matplotlib will generate the line charts on the single subplot. We also can create a figure and set its size:\n",
        "\n",
        "```python\n",
        "fig = plt.figure(figsize=(6,6))\n",
        "plt.plot(x_values, y1_values)\n",
        "plt.plot(x_values, y2_values)\n",
        "```\n",
        "By default, matplotlib will select a different color for each line. To specify the color ourselves, use the **c** parameter when calling *plot()*. In this case, its also interesting to use a legend by setting the **label** parameter into *plot()* and later calling *plt.legend()*:\n",
        "\n",
        "```\n",
        "plt.plot(x_values, y1_values, c='red', label='label1')\n",
        "plt.legend()\n",
        "```"
      ]
    },
    {
      "metadata": {
        "id": "glCKsa7hS90P",
        "colab_type": "text"
      },
      "cell_type": "markdown",
      "source": [
        "#### Exercise\n",
        "\n",
        "![alt text](https://cdn.dribbble.com/users/2344801/screenshots/4774578/alphatestersanimation2.gif =150x120)\n",
        "\n",
        "1. Set the plotting area to a width of 6 inches and a height of 3 inches.\n",
        "2. Generate 2 line charts from **guanabara_by_month**, using the *\"Mês\"* column for the x-axis.\n",
        "    - One line chart use data from \"Estudante_Cartao\" for y-axis, with the line color set to \"red\" and the label is \"Cartão Estudantil\".\n",
        "    - One line chart should use data from \"Estudante_BT\" for y-axis, with the line color set to \"blue\" and the label is \"Bilhete Estudantil\".\n",
        "    - Use *plt.legend()* to place a lengend on the plot\n",
        "3. Use *plt.show()* to display the plots."
      ]
    },
    {
      "metadata": {
        "id": "UM4Mt0XWVqGT",
        "colab_type": "code",
        "colab": {}
      },
      "cell_type": "code",
      "source": [
        "# put your code in this cell"
      ],
      "execution_count": 0,
      "outputs": []
    },
    {
      "metadata": {
        "id": "bqTdodyvH3hY",
        "colab_type": "text"
      },
      "cell_type": "markdown",
      "source": [
        "## Bar plot"
      ]
    },
    {
      "metadata": {
        "id": "KOs_4IYFWHnc",
        "colab_type": "text"
      },
      "cell_type": "markdown",
      "source": [
        "A bar plot (or bar chart) is one of the most common types of graphic. It shows the relationship between a numeric and a categoric variable. Each entity of the categoric variable is represented as a bar and the size of the bar represents its numeric value. \n",
        "\n",
        "To create a useful bar plot, we need to specify the width and positions of the bars and the positions of the axis labels. We can generate a vertical bar plot using *Axes.bar()*. We can use *pyplot.subplots()* to first generate a single subplot and return both the Figure and Axes object. This is a shortcut from the technique we used in the previous section:\n",
        "\n",
        "```python\n",
        "fig, ax = plt.subplots()\n",
        "```\n",
        "\n",
        "The *Axes.bar()* method has two required parameters: *x* and *height*. We use the *x* parameter to specify the x coordinates of the bar's middle. We use the *height* parameter to specify the size of each bar.\n",
        "\n",
        "```python\n",
        "import numpy as np\n",
        "\n",
        "bar_number = 5 # there are five bars\n",
        "bar_positions = np.arange(bar_number)  # generates the array [0, 1, 2, 3, 4]\n",
        "bar_heights = [30, 40, 50, 20, 80]\n",
        "ax.bar(bar_positions, bar_heights)\n",
        "```\n",
        "\n",
        "We can also use the width parameter to specify the width of each bar. This is an optional parameter and the width of each bar is set to **0.8** by default. The following code sets the width parameter to **1.5**:\n",
        "\n",
        "```python\n",
        "ax.bar(bar_positions, bar_heights, 1.5)\n",
        "```\n",
        "\n",
        "We also need tick labels on the x-axis where the bars are positioned. We can use [Axes.set_xticks()](http://matplotlib.org/api/axes_api.html#matplotlib.axes.Axes.set_xticks) to set the positions of the ticks:\n",
        "\n",
        "```python\n",
        "ax.set_xticks(bar_positions)\n",
        "```\n",
        "\n",
        "Then, we can use [Axes.set_xticklabels()](http://matplotlib.org/api/axes_api.html#matplotlib.axes.Axes.set_xticklabels) to specify the tick labels:\n",
        "\n",
        "```python\n",
        "num_cols = ['c1', 'c2', 'c3', 'c4', 'c5']\n",
        "ax.set_xticklabels(num_cols)\n",
        "```\n",
        "\n",
        "If you look at the [documentation](http://matplotlib.org/api/axes_api.html#matplotlib.axes.Axes.set_xticklabels) for the method, you'll notice that we can specify the orientation for the labels using the **rotation** parameter:\n",
        "\n",
        "```python\n",
        "ax.set_xticklabels(num_cols, rotation=90)\n",
        "```\n",
        "\n",
        "Rotating the labels by 90 degrees keeps them readable."
      ]
    },
    {
      "metadata": {
        "colab_type": "text",
        "id": "KYmEreDcZi7D"
      },
      "cell_type": "markdown",
      "source": [
        "#### Exercise\n",
        "\n",
        "![alt text](https://cdn.dribbble.com/users/2344801/screenshots/4774578/alphatestersanimation2.gif =150x120)\n",
        "\n",
        "Generate a bar plot that compares the total number of \"Gratuito_Cartao\" between the companies.\n",
        "1. Initial variables:\n",
        "  - Use the *groupby()* function to group **df** in relation to the column *'Empresa'*, apply the *sum()* function to aggregate all data  and assign the result to **df_by_company**.\n",
        "  - Use the function *unique()* to find the different companies of the dataset and assign the result to **companies**.\n",
        "  - Assign to **bar_number** the length of **companies** (use function *len()*)\n",
        "  - Create the **bar_positions** using *np.arange()*\n",
        "2. Create the plot\n",
        "  - Use *plt.subplots()* function and assign to **fig** and **ax**.\n",
        "  - Plot a bar chart passing **bar_positions** as *x* and *'Gratuito_Cartao'* of **df_by_company** as *height*.\n",
        "  - Set the x-ticks positions and labels (**companies**) with a 90 degree rotation.\n",
        "  - Display the plot."
      ]
    },
    {
      "metadata": {
        "id": "AuqGtiwBfFCS",
        "colab_type": "code",
        "colab": {}
      },
      "cell_type": "code",
      "source": [
        "# put your code in this cell"
      ],
      "execution_count": 0,
      "outputs": []
    },
    {
      "metadata": {
        "id": "_HpGUzqwfDJK",
        "colab_type": "text"
      },
      "cell_type": "markdown",
      "source": [
        "We can create a horizontal bar plot in matplotlib with a similar approach. Instead of using **Axes.bar()**, we use [Axes.barh()](http://matplotlib.org/api/axes_api.html#matplotlib.axes.Axes.barh). We also need to map the properties we set for the y-axis instead of the x-axis. **Axes.set_yticks()** sets the y-axis tick positions and **Axes.set_yticklabels()** sets the tick labels."
      ]
    },
    {
      "metadata": {
        "colab_type": "text",
        "id": "sHDuYlfTgsMk"
      },
      "cell_type": "markdown",
      "source": [
        "#### Exercise\n",
        "\n",
        "![alt text](https://cdn.dribbble.com/users/2344801/screenshots/4774578/alphatestersanimation2.gif =150x120)\n",
        "\n",
        "Generate a horizontal bar plot that compares the total number of \"Gratuito_BT\" between the companies"
      ]
    },
    {
      "metadata": {
        "colab_type": "code",
        "id": "oOWCb3PsgsMq",
        "colab": {}
      },
      "cell_type": "code",
      "source": [
        "# put your code in this cell"
      ],
      "execution_count": 0,
      "outputs": []
    },
    {
      "metadata": {
        "id": "v-1hvVQohjoW",
        "colab_type": "text"
      },
      "cell_type": "markdown",
      "source": [
        "### Grouped bar plot\n",
        "\n",
        "And how about overlaying bar plots? A bar plot can also display values for several levels of grouping. We can do this like we did to the line charts (instead of repeating the *plt.plot()* we will repeat *ax.bar()*). We also need to shift the position of the new columns to avoid overlaps and centralize the position of the xticks. For the sake of understanding, let's see the following example:"
      ]
    },
    {
      "metadata": {
        "id": "ycr7dQ4x4a2q",
        "colab_type": "code",
        "outputId": "90873696-3e3a-4642-9424-6d70f4c25a5b",
        "colab": {
          "base_uri": "https://localhost:8080/",
          "height": 347
        }
      },
      "cell_type": "code",
      "source": [
        "reunidas = df[df['Empresa'] == 'REUNIDAS']                              # get rows regarding to REUNIDAS company\n",
        "reunidas_by_linhas = reunidas.groupby(['Linha'], as_index=False).sum()  # group reunidas by Linha and aggregate the other features\n",
        "linhas = reunidas_by_linhas['Linha'].unique()                           # get the REUNIDAS\n",
        "\n",
        "bar_number = len(linhas)\n",
        "bar_position = np.arange(bar_number)\n",
        "bar_width = 0.4\n",
        "\n",
        "fig, ax = plt.subplots()\n",
        "ax.bar(bar_position, reunidas_by_linhas['Gratuito_Cartao'], width=bar_width, label='Gratuito_Cartao')\n",
        "ax.bar(bar_position + bar_width, reunidas_by_linhas['Gratuito_BT'], width=bar_width, label='Gratuito_BT')\n",
        "ax.set_xticks(bar_position + bar_width/2)\n",
        "ax.set_xticklabels(linhas)\n",
        "plt.legend()\n",
        "\n",
        "plt.show()"
      ],
      "execution_count": 0,
      "outputs": [
        {
          "output_type": "display_data",
          "data": {
            "image/png": "[encoded data removed]",
            "text/plain": [
              "<Figure size 576x396 with 1 Axes>"
            ]
          },
          "metadata": {
            "tags": []
          }
        }
      ]
    },
    {
      "metadata": {
        "id": "oGdq33Nir1g2",
        "colab_type": "text"
      },
      "cell_type": "markdown",
      "source": [
        "### Stacked bar plots\n",
        "\n",
        "Instead of puting the bars one beside each other it is possible to stack them, resulting in a stacked barplot. In this case, we don't need to worry about the bars and ticks positions. We just need to inform to the stacked bars who is bellow them:\n",
        "\n",
        "```\n",
        "ax.bar(bar_position, height1)\n",
        "ax.bar(bar_position, height2, bottom=height1)\n",
        "```"
      ]
    },
    {
      "metadata": {
        "colab_type": "text",
        "id": "tRzOKtOkusGl"
      },
      "cell_type": "markdown",
      "source": [
        "#### Exercise\n",
        "\n",
        "![alt text](https://cdn.dribbble.com/users/2344801/screenshots/4774578/alphatestersanimation2.gif =150x120)\n",
        "\n",
        "Create a stacked bar plot with the same information of the grouped bar plot previously presented."
      ]
    },
    {
      "metadata": {
        "colab_type": "code",
        "id": "0KaZZOQhusGp",
        "colab": {}
      },
      "cell_type": "code",
      "source": [
        "# put your code in this cell"
      ],
      "execution_count": 0,
      "outputs": []
    },
    {
      "metadata": {
        "colab_type": "text",
        "id": "oxP2sSrnIA13"
      },
      "cell_type": "markdown",
      "source": [
        "## Scatter plot"
      ]
    },
    {
      "metadata": {
        "id": "vCPoNVuVwm0j",
        "colab_type": "text"
      },
      "cell_type": "markdown",
      "source": [
        "A scatter plot displays the relationship between 2 numeric variables. For each data point, the value of its first variable is represented on the X axis, the second on the Y axis. A scatter plot is made to study the relationship between 2 variables. Thus it is often accompanied by a [correlation coefficient](https://en.wikipedia.org/wiki/Correlation_coefficient) calculation, that usually tries to measure the linear relationship.\n",
        "\n",
        "<img width=\"800\" alt=\"creating a repo\" src=\"https://drive.google.com/uc?export=view&id=0BxhVm1REqwr0bDdWNU5HVDdpUHc\">\n",
        "\n",
        "A scatter plot helps us find outliers, gain a more intuitive sense of how spread out the data is, and compare more easily.\n",
        "\n",
        "To generate a scatter plot, we use [Axes.scatter()](http://matplotlib.org/api/axes_api.html#matplotlib.axes.Axes.scatter). The **scatter()** method has 2 required parameters, x and y, which matches the parameters of the **plot()** method."
      ]
    },
    {
      "metadata": {
        "colab_type": "text",
        "id": "ykhB9vTAx6oe"
      },
      "cell_type": "markdown",
      "source": [
        "#### Exercise\n",
        "\n",
        "![alt text](https://cdn.dribbble.com/users/2344801/screenshots/4774578/alphatestersanimation2.gif =150x120)\n",
        "\n",
        "1. Create a single subplot and assign the returned Figure object to **fig** and the returned Axes object to **ax**.\n",
        "2. Generate a scatter plot with the *\"Qtd_Viagens\"* column on the x-axis and the  *Integracao_Plena* column on the y-axis.\n",
        "3. Set the x-axis label to \"Quantidade de viagens\" and the y-axis label to \"Quantidade de integrações plenas\".\n",
        "  - Use *ax.set_xlabel()* and *ax.set_ylabel()*\n",
        "4. Use **plt.show()** to display the resulting plot."
      ]
    },
    {
      "metadata": {
        "colab_type": "code",
        "id": "FdkVdMqXx6oi",
        "colab": {}
      },
      "cell_type": "code",
      "source": [
        "# put your code in this cell"
      ],
      "execution_count": 0,
      "outputs": []
    },
    {
      "metadata": {
        "colab_type": "text",
        "id": "AMtYxnkDNJaO"
      },
      "cell_type": "markdown",
      "source": [
        "## Pie plot"
      ]
    },
    {
      "metadata": {
        "id": "uryihvT_1-aB",
        "colab_type": "text"
      },
      "cell_type": "markdown",
      "source": [
        "A pie chart is a circle divided into sectors that each represent a proportion of the whole. It is often used to show percentage, where the sum of the sectors equals 100%.\n",
        "\n",
        "To generate a pie plot, we use *Axes.pie()*. The **pie()** method has one required parameter, x, which represents the wedges. It's also interesting to inform the *labels* parameter to the wedges and the *autopct* to display the percentages inside them. The *autopct* accepts Python string formatting, and we'll use the string '%.1f%%' to have percentages displayed with a precision of one decimal place.\n",
        "\n",
        "```\n",
        "data = [50, 30, 20]\n",
        "ax.pie(x=data, labels=['w1', 'w2', 'w3'], autopct='%.1f%%')\n",
        "```"
      ]
    },
    {
      "metadata": {
        "colab_type": "text",
        "id": "YfRJSeFX462r"
      },
      "cell_type": "markdown",
      "source": [
        "#### Exercise\n",
        "\n",
        "![alt text](https://cdn.dribbble.com/users/2344801/screenshots/4774578/alphatestersanimation2.gif =150x120)\n",
        "\n",
        "1. Compare the \"Qtd_Viagens\" between the companies using a pie chart.\n",
        "  - Create a figure and an axes and assign the result to **fig** and **ax**.\n",
        "  - Generate a pie chart using *pie()* method and passing the column *\"Qtd_Viagens\"* of the variable **df_by_company** created in a previous exercise.\n",
        "  - Use the variable **companies** also created before to set the pie *labels* and display the percentage of each wedge with one decimal place precision.\n",
        "  - Display the plot."
      ]
    },
    {
      "metadata": {
        "colab_type": "code",
        "id": "QKNRuxIt462s",
        "colab": {}
      },
      "cell_type": "code",
      "source": [
        "# put your code in this cell"
      ],
      "execution_count": 0,
      "outputs": []
    },
    {
      "metadata": {
        "id": "hLwcMeSmPx2I",
        "colab_type": "text"
      },
      "cell_type": "markdown",
      "source": [
        "## Histogram and boxplots"
      ]
    },
    {
      "metadata": {
        "id": "HWNYi17f-2Bk",
        "colab_type": "text"
      },
      "cell_type": "markdown",
      "source": [
        "A **histogram** is an accurate graphical representation of the distribution of a numeric variable. It takes as input numeric variables only. The variable is cut into several bins, and the number of observation per bin is represented by the height of the bar.\n",
        "\n",
        "Let's first see the **frequency distributions** of the feature *\"Vale_Transporte\"* from *df* dataset. A column's [frequency distribution](https://en.wikipedia.org/wiki/Frequency_distribution) consists of the unique values in that column along with the count for each of those values (or their frequency). We can use [Series.value_counts()](http://pandas.pydata.org/pandas-docs/stable/generated/pandas.Series.value_counts.html) to return the frequency distribution as Series object:"
      ]
    },
    {
      "metadata": {
        "id": "0EnozXg-FBVd",
        "colab_type": "code",
        "outputId": "5f335542-b8d0-4550-ab60-8a2526d372fa",
        "colab": {
          "base_uri": "https://localhost:8080/",
          "height": 1071
        }
      },
      "cell_type": "code",
      "source": [
        "df['Vale_Transporte'].value_counts().sort_index()"
      ],
      "execution_count": 0,
      "outputs": [
        {
          "output_type": "execute_result",
          "data": {
            "text/plain": [
              "0         7\n",
              "3         1\n",
              "4         1\n",
              "20        1\n",
              "23        1\n",
              "30        1\n",
              "35        1\n",
              "38        1\n",
              "71        1\n",
              "77        1\n",
              "90        1\n",
              "128       1\n",
              "147       1\n",
              "164       1\n",
              "169       2\n",
              "175       1\n",
              "180       1\n",
              "191       2\n",
              "205       1\n",
              "206       1\n",
              "207       1\n",
              "216       1\n",
              "219       1\n",
              "227       1\n",
              "228       1\n",
              "239       1\n",
              "259       1\n",
              "266       1\n",
              "272       1\n",
              "274       1\n",
              "         ..\n",
              "64289     1\n",
              "66193     1\n",
              "67308     1\n",
              "67806     1\n",
              "68104     1\n",
              "68292     1\n",
              "69165     1\n",
              "70156     1\n",
              "71459     1\n",
              "71900     1\n",
              "72400     1\n",
              "72578     1\n",
              "73266     1\n",
              "73401     1\n",
              "73935     1\n",
              "74452     1\n",
              "74571     1\n",
              "74603     1\n",
              "75385     1\n",
              "76702     1\n",
              "100188    1\n",
              "106976    1\n",
              "107369    1\n",
              "107570    1\n",
              "109054    1\n",
              "109796    1\n",
              "110321    1\n",
              "112219    1\n",
              "112950    1\n",
              "114307    1\n",
              "Name: Vale_Transporte, Length: 930, dtype: int64"
            ]
          },
          "metadata": {
            "tags": []
          },
          "execution_count": 59
        }
      ]
    },
    {
      "metadata": {
        "id": "jMDo9HMdHDyd",
        "colab_type": "text"
      },
      "cell_type": "markdown",
      "source": [
        "Because there are only a lot of unique values, it is difficult to quickly scan the frequency counts and see how the variable is distributed. We need a way to analysis the frequencies better and we can start by dividing the range of possible values into a series of fixed length intervals, called **bins**. We can then sum the frequencies for the values that fall into each bin."
      ]
    },
    {
      "metadata": {
        "id": "VEIN36vC-9ai",
        "colab_type": "code",
        "outputId": "3d9c6fe4-af3a-4a62-8411-8ca268df3ead",
        "colab": {
          "base_uri": "https://localhost:8080/",
          "height": 289
        }
      },
      "cell_type": "code",
      "source": [
        "df['Vale_Transporte'].value_counts(bins=15, sort=False)"
      ],
      "execution_count": 0,
      "outputs": [
        {
          "output_type": "execute_result",
          "data": {
            "text/plain": [
              "(-114.308, 7620.467]       269\n",
              "(7620.467, 15240.933]      185\n",
              "(15240.933, 22861.4]       142\n",
              "(22861.4, 30481.867]       101\n",
              "(30481.867, 38102.333]      98\n",
              "(38102.333, 45722.8]        42\n",
              "(45722.8, 53343.267]        52\n",
              "(53343.267, 60963.733]      25\n",
              "(60963.733, 68584.2]        11\n",
              "(68584.2, 76204.667]        13\n",
              "(76204.667, 83825.133]       1\n",
              "(83825.133, 91445.6]         0\n",
              "(91445.6, 99066.067]         0\n",
              "(99066.067, 106686.533]      1\n",
              "(106686.533, 114307.0]       9\n",
              "Name: Vale_Transporte, dtype: int64"
            ]
          },
          "metadata": {
            "tags": []
          },
          "execution_count": 63
        }
      ]
    },
    {
      "metadata": {
        "id": "ttZULW7qFAoU",
        "colab_type": "text"
      },
      "cell_type": "markdown",
      "source": [
        "This is exactly what a histrogram does, but it uses a visual approach.\n",
        "\n",
        "We can generate a histogram using [Axes.hist()](http://matplotlib.org/api/axes_api.html#matplotlib.axes.Axes.hist). This method has only 1 required parameter, an iterable object representing the numeric variable. By default, matplotlib will:\n",
        "\n",
        "- calculate the minimum and maximum value from the sequence of values we passed in\n",
        "- create 10 bins of equal length that span the range from the minimum to the maximum value\n",
        "- group unique values into the bins\n",
        "- sum up the associated unique values\n",
        "- generate a bar for the frequency sum for each bin\n",
        "\n",
        "```python\n",
        "ax.hist(df['column'], bins=10)\n",
        "```"
      ]
    },
    {
      "metadata": {
        "colab_type": "text",
        "id": "_ZP3jmGwKR-2"
      },
      "cell_type": "markdown",
      "source": [
        "#### Exercise\n",
        "\n",
        "![alt text](https://cdn.dribbble.com/users/2344801/screenshots/4774578/alphatestersanimation2.gif =150x120)\n",
        "\n",
        "1. Create the histogram to the \"Vale_Transporte\" column.\n",
        "  - Create a figure and an axes and assign the result to **fig** and **ax**.\n",
        "  - Generate a histogram plot using *hist()* method.\n",
        "  - Change the number of bins to see what happens.\n",
        "  - Display the plot."
      ]
    },
    {
      "metadata": {
        "colab_type": "code",
        "id": "UBmlhNb-KR-8",
        "colab": {}
      },
      "cell_type": "code",
      "source": [
        "# put your code in this cell"
      ],
      "execution_count": 0,
      "outputs": []
    },
    {
      "metadata": {
        "id": "IFMxdytzK5qz",
        "colab_type": "text"
      },
      "cell_type": "markdown",
      "source": [
        "A **boxplot** gives a nice summary of one or more numeric variables. A boxplot is composed of several elements:\n",
        "\n",
        "- The line that divides the box into 2 parts represents the median of the data. If the median is 10, it means that there are the same number of data points below and above 10.\n",
        "- The ends of the box shows the upper (Q3) and lower (Q1) quartiles. If the third quartile is 15, it means that 75% of the observation are lower than 15.\n",
        "- The difference between Quartiles 1 and 3 is called the interquartile range (IQR)\n",
        "- The extreme line shows Q3+1.5xIQR to Q1-1.5xIQR (the highest and lowest value excluding outliers).\n",
        "- Dots (or other markers) beyond the extreme line shows potntial outliers.\n",
        "\n",
        "<img src=\"https://lsc.studysixsigma.com/wp-content/uploads/sites/6/2015/12/1435.png\"/>\n",
        "\n",
        "We can generate a boxplot using [Axes.boxplot()](http://matplotlib.org/api/axes_api.html#matplotlib.axes.Axes.boxplot).\n",
        "\n",
        "```python\n",
        "ax.boxplot(df['column'])\n",
        "```\n",
        "\n",
        "Matplotlib will sort the values, calculate the quartiles that divide the values into four equal regions, and generate the boxplot.\n",
        "\n",
        "To compare the columns, we need to generate multiple boxplots in the same chart. When selecting multiple columns to pass in to **Axes.boxplot()**, we need to use the **values** accessor to return a multi-dimensional numpy array:\n",
        "\n",
        "```ptyhon\n",
        "num_cols = ['column1', 'column2', 'column3']\n",
        "ax.boxplot(df[num_cols].values)\n",
        "```"
      ]
    },
    {
      "metadata": {
        "colab_type": "text",
        "id": "Q58KphG-QPp3"
      },
      "cell_type": "markdown",
      "source": [
        "#### Exercise\n",
        "\n",
        "![alt text](https://cdn.dribbble.com/users/2344801/screenshots/4774578/alphatestersanimation2.gif =150x120)\n",
        "\n",
        "1. Create a single subplot and assign the returned Figure object to **fig** and the returned Axes object to **ax**.\n",
        "2. Create an array **num_cols**  with *\"Estudante_Cartao\"*, *\"Estudante_BT\"*, *\"Inteira_Cartao\"* and *\"Inteira_Especie\"* columns.\n",
        "3. Generate a plot containing a boxplot diagram for each column in **num_cols** array.\n",
        "4. Set the x-axis tick labels to the column names in **num_cols** and rotate the ticks by **90 degrees**.\n",
        "5. Use **plt.show()** to display the plot."
      ]
    },
    {
      "metadata": {
        "colab_type": "code",
        "id": "sQgNyiuBQPp7",
        "colab": {}
      },
      "cell_type": "code",
      "source": [
        "# put your code in this cell"
      ],
      "execution_count": 0,
      "outputs": []
    },
    {
      "metadata": {
        "id": "IsGsHULRLhao",
        "colab_type": "text"
      },
      "cell_type": "markdown",
      "source": [
        "# Pandas plots\n",
        "\n",
        "In this section we will be discussing the simple interface that [Pandas](https://pandas.pydata.org/pandas-docs/stable/generated/pandas.DataFrame.plot.html) provides for interacting with the matplotlib library."
      ]
    },
    {
      "metadata": {
        "id": "YsHy4nrpLhap",
        "colab_type": "text"
      },
      "cell_type": "markdown",
      "source": [
        "### Line plots\n",
        "\n",
        "All DataFrame and Series objects are equipped with the *plot* method, which builds some basic plots.\n",
        "The default is line plots. Check how we can create a line plot from a Series object:"
      ]
    },
    {
      "metadata": {
        "id": "35b9xFpYLhar",
        "colab_type": "code",
        "outputId": "d8951d9a-d27e-4bf9-b728-f8afa07d878a",
        "colab": {
          "base_uri": "https://localhost:8080/",
          "height": 347
        }
      },
      "cell_type": "code",
      "source": [
        "df['Estudante_Cartao'].plot()\n",
        "plt.show()"
      ],
      "execution_count": 0,
      "outputs": [
        {
          "output_type": "display_data",
          "data": {
            "image/png": "[encoded data removed]",
            "text/plain": [
              "<Figure size 576x396 with 1 Axes>"
            ]
          },
          "metadata": {
            "tags": []
          }
        }
      ]
    },
    {
      "metadata": {
        "id": "eLVYcdrqLhav",
        "colab_type": "text"
      },
      "cell_type": "markdown",
      "source": [
        "Other configuration parameters are:\n",
        "- xticks: values to use for the xticks\n",
        "- xlim: x values limits\n",
        "- yticks: values to use for the yticks\n",
        "- ylim: y values limits"
      ]
    },
    {
      "metadata": {
        "id": "MPgpldVDLhax",
        "colab_type": "text"
      },
      "cell_type": "markdown",
      "source": [
        "We can also use DataFrames for the same purpose. In this case, each column will produce a line plot on the same\n",
        "subplot, and a legend will be automatically created:"
      ]
    },
    {
      "metadata": {
        "id": "_ITilyf7E889",
        "colab_type": "code",
        "outputId": "5326da0b-093f-4ce9-f867-8cab1b154154",
        "colab": {
          "base_uri": "https://localhost:8080/",
          "height": 361
        }
      },
      "cell_type": "code",
      "source": [
        "df.groupby(['Mês'])[['Estudante_Cartao', 'Estudante_BT']].max().plot()\n",
        "plt.show()"
      ],
      "execution_count": 0,
      "outputs": [
        {
          "output_type": "display_data",
          "data": {
            "image/png": "[encoded data removed]",
            "text/plain": [
              "<Figure size 576x396 with 1 Axes>"
            ]
          },
          "metadata": {
            "tags": []
          }
        }
      ]
    },
    {
      "metadata": {
        "id": "3SEQQAP0Lha1",
        "colab_type": "text"
      },
      "cell_type": "markdown",
      "source": [
        "### Bar plots\n",
        "\n",
        "For Series and DataFrames, *plot* can also be seen as an attribute with a family of methods, each of them representing\n",
        "a kind of plot. For example, the same effects of the previous call to the *plot* method could be achieved by\n",
        "calling *plot.line()*. Following this model, bar plots can be produced by calling *plot.bar()* (vertical bars) or\n",
        "*plot.barh()* (horizontal bars):"
      ]
    },
    {
      "metadata": {
        "id": "KDJ860MdLha2",
        "colab_type": "code",
        "outputId": "a16d08b4-31b7-44f2-c175-d4e68c258aff",
        "colab": {
          "base_uri": "https://localhost:8080/",
          "height": 449
        }
      },
      "cell_type": "code",
      "source": [
        "new_df = df.groupby(['Empresa']).sum()\n",
        "new_df['Gratuito_Cartao'].sort_values(ascending=False).plot.bar()\n",
        "plt.show()"
      ],
      "execution_count": 160,
      "outputs": [
        {
          "output_type": "display_data",
          "data": {
            "image/png": "[encoded data removed]",
            "text/plain": [
              "<Figure size 576x396 with 1 Axes>"
            ]
          },
          "metadata": {
            "tags": []
          }
        }
      ]
    },
    {
      "metadata": {
        "colab_type": "text",
        "id": "ykzm-Il6q-op"
      },
      "cell_type": "markdown",
      "source": [
        "#### Exercise\n",
        "\n",
        "![alt text](https://cdn.dribbble.com/users/2344801/screenshots/4774578/alphatestersanimation2.gif =150x120)\n",
        "\n",
        "1. Try to generate a horizontal bar plot of **new_df** using *barh()* method."
      ]
    },
    {
      "metadata": {
        "colab_type": "code",
        "id": "nVI6ulsEq-ov",
        "colab": {}
      },
      "cell_type": "code",
      "source": [
        "# put your code in this cell"
      ],
      "execution_count": 0,
      "outputs": []
    },
    {
      "metadata": {
        "id": "nrrWjevGLha9",
        "colab_type": "text"
      },
      "cell_type": "markdown",
      "source": [
        "Plotting bars from DataFrames produces groups of bars for each row. Each bar in a group \n",
        "represents a column in the corresponding row:"
      ]
    },
    {
      "metadata": {
        "id": "b4j-OmGDH4qB",
        "colab_type": "code",
        "colab": {
          "base_uri": "https://localhost:8080/",
          "height": 449
        },
        "outputId": "45ef3546-9cdb-4d18-a3eb-aacaea93da7d"
      },
      "cell_type": "code",
      "source": [
        "# Plot using in plot attribute\n",
        "new_df[['Gratuito_Cartao', 'Gratuito_BT']].plot.bar()\n",
        "plt.show()"
      ],
      "execution_count": 167,
      "outputs": [
        {
          "output_type": "display_data",
          "data": {
            "image/png": "[encoded data removed]",
            "text/plain": [
              "<Figure size 576x396 with 1 Axes>"
            ]
          },
          "metadata": {
            "tags": []
          }
        }
      ]
    },
    {
      "metadata": {
        "id": "Il3kOQmhLhbD",
        "colab_type": "text"
      },
      "cell_type": "markdown",
      "source": [
        "#### Exercise\n",
        "\n",
        "![alt text](https://cdn.dribbble.com/users/2344801/screenshots/4774578/alphatestersanimation2.gif =150x120)\n",
        "\n",
        "1. Try to create the stacked plot of the previous chart passing the *stacked=True* argument\n",
        "\n"
      ]
    },
    {
      "metadata": {
        "id": "8ceI_jvoLhbD",
        "colab_type": "code",
        "colab": {}
      },
      "cell_type": "code",
      "source": [
        "# put your code in this cell"
      ],
      "execution_count": 0,
      "outputs": []
    },
    {
      "metadata": {
        "id": "koi0npFJLhbI",
        "colab_type": "text"
      },
      "cell_type": "markdown",
      "source": [
        "### Pie plots\n",
        "\n",
        "Generating a pie plot with pandas is just about using the *plot.pie()* method:"
      ]
    },
    {
      "metadata": {
        "id": "XXCt4sp6LhbK",
        "colab_type": "code",
        "colab": {
          "base_uri": "https://localhost:8080/",
          "height": 345
        },
        "outputId": "c660406e-5845-436a-f543-ab604c9f55ae"
      },
      "cell_type": "code",
      "source": [
        "df.groupby(['Empresa'])['Qtd_Viagens'].sum().sort_values().plot.pie(autopct='%.1f%%', title='Quantidade de Viagens')\n",
        "plt.show()"
      ],
      "execution_count": 184,
      "outputs": [
        {
          "output_type": "display_data",
          "data": {
            "image/png": "[encoded data removed]",
            "text/plain": [
              "<Figure size 576x396 with 1 Axes>"
            ]
          },
          "metadata": {
            "tags": []
          }
        }
      ]
    },
    {
      "metadata": {
        "id": "-OQD7meVLhbO",
        "colab_type": "text"
      },
      "cell_type": "markdown",
      "source": [
        "### Box plots"
      ]
    },
    {
      "metadata": {
        "id": "H7TRs35zLhbQ",
        "colab_type": "text"
      },
      "cell_type": "markdown",
      "source": [
        "Given a sequence of values in a Series or Dataframe object, the box plot can be generated using the *plot.box()* method:"
      ]
    },
    {
      "metadata": {
        "id": "HuoLyYeCLhbR",
        "colab_type": "code",
        "colab": {
          "base_uri": "https://localhost:8080/",
          "height": 347
        },
        "outputId": "ec7be80e-e4fc-4b31-e3de-b778f128ac47"
      },
      "cell_type": "code",
      "source": [
        "df[['Estudante_Cartao', 'Estudante_BT']].plot.box()\n",
        "plt.show()"
      ],
      "execution_count": 187,
      "outputs": [
        {
          "output_type": "display_data",
          "data": {
            "image/png": "[encoded data removed]",
            "text/plain": [
              "<Figure size 576x396 with 1 Axes>"
            ]
          },
          "metadata": {
            "tags": []
          }
        }
      ]
    },
    {
      "metadata": {
        "id": "2CHFn6t7Lhbb",
        "colab_type": "text"
      },
      "cell_type": "markdown",
      "source": [
        "### Scatter plots\n",
        "\n",
        "Scatter plots allows to visualize the distribution of a set of points in a plane:"
      ]
    },
    {
      "metadata": {
        "id": "sinGOzLmLhbc",
        "colab_type": "code",
        "colab": {
          "base_uri": "https://localhost:8080/",
          "height": 398
        },
        "outputId": "39ba7d18-fde2-4152-9d0a-eaebe606420e"
      },
      "cell_type": "code",
      "source": [
        "df.plot.scatter(x='Integracao_Plena', y='Qtd_Viagens')\n",
        "plt.show()"
      ],
      "execution_count": 199,
      "outputs": [
        {
          "output_type": "stream",
          "text": [
            "'c' argument looks like a single numeric RGB or RGBA sequence, which should be avoided as value-mapping will have precedence in case its length matches with 'x' & 'y'.  Please use a 2-D array with a single row if you really want to specify the same RGB or RGBA value for all points.\n"
          ],
          "name": "stderr"
        },
        {
          "output_type": "display_data",
          "data": {
            "image/png": "[encoded data removed]",
            "text/plain": [
              "<Figure size 576x396 with 1 Axes>"
            ]
          },
          "metadata": {
            "tags": []
          }
        }
      ]
    },
    {
      "metadata": {
        "id": "ZqflFOLDLhbV",
        "colab_type": "text"
      },
      "cell_type": "markdown",
      "source": [
        "### Area plots\n",
        "\n",
        "Area plots are useful to compare two or more variables whose values change over some fixed interval. We \n",
        "can use DataFrames to represent such variables and, then, produce the area plot:"
      ]
    },
    {
      "metadata": {
        "id": "8mBVUTbnLhbW",
        "colab_type": "code",
        "colab": {
          "base_uri": "https://localhost:8080/",
          "height": 365
        },
        "outputId": "c812194c-e628-46d1-ebad-7fd6e7b19163"
      },
      "cell_type": "code",
      "source": [
        "df.groupby(['Mês'])[['Estudante_Cartao', 'Estudante_BT']].max().plot.area()\n",
        "plt.legend(loc='upper left')\n",
        "plt.show()"
      ],
      "execution_count": 196,
      "outputs": [
        {
          "output_type": "display_data",
          "data": {
            "image/png": "[encoded data removed]",
            "text/plain": [
              "<Figure size 576x396 with 1 Axes>"
            ]
          },
          "metadata": {
            "tags": []
          }
        }
      ]
    },
    {
      "metadata": {
        "id": "mT_WeVULLhbm",
        "colab_type": "text"
      },
      "cell_type": "markdown",
      "source": [
        "### Hexagonal bin plots\n",
        "\n",
        "When there are too many data points, a scatter plot may become polluted. Hexagonal bin plots\n",
        "come to simplify the visualization in such cases with *plot.hexbin()* method:"
      ]
    },
    {
      "metadata": {
        "colab_type": "text",
        "id": "leIIyWFb8T7n"
      },
      "cell_type": "markdown",
      "source": [
        "#### Exercise\n",
        "\n",
        "![alt text](https://cdn.dribbble.com/users/2344801/screenshots/4774578/alphatestersanimation2.gif =150x120)\n",
        "\n",
        "1. Try to create the hexagonal plot of the scatter plot chart created previously.\n",
        "  - Use the method *hexbin()* method passing *\"Integracao_Plena\"* as *x*, *\"Qtd_Viagens\"* as *y* and the parameter *gridsize=15*\n",
        "  - Display the plot.\n"
      ]
    },
    {
      "metadata": {
        "colab_type": "code",
        "id": "DzPG6f7N8T7r",
        "colab": {}
      },
      "cell_type": "code",
      "source": [
        "# put your code in this cell"
      ],
      "execution_count": 0,
      "outputs": []
    },
    {
      "metadata": {
        "id": "OAssTLoSLhbq",
        "colab_type": "text"
      },
      "cell_type": "markdown",
      "source": [
        "### Histograms and density plots\n",
        "\n",
        "We can visualize the frequence of the values using histograms and density plots:"
      ]
    },
    {
      "metadata": {
        "id": "mj5BpWykLhbr",
        "colab_type": "code",
        "colab": {
          "base_uri": "https://localhost:8080/",
          "height": 364
        },
        "outputId": "59502ade-a9d3-4731-a3fc-e6165537ce9f"
      },
      "cell_type": "code",
      "source": [
        "df['Estudante_Cartao'].plot.hist()"
      ],
      "execution_count": 228,
      "outputs": [
        {
          "output_type": "execute_result",
          "data": {
            "text/plain": [
              "<matplotlib.axes._subplots.AxesSubplot at 0x7fc9f9ab9828>"
            ]
          },
          "metadata": {
            "tags": []
          },
          "execution_count": 228
        },
        {
          "output_type": "display_data",
          "data": {
            "image/png": "[encoded data removed]",
            "text/plain": [
              "<Figure size 576x396 with 1 Axes>"
            ]
          },
          "metadata": {
            "tags": []
          }
        }
      ]
    },
    {
      "metadata": {
        "id": "fpuXX3giLhbt",
        "colab_type": "code",
        "colab": {
          "base_uri": "https://localhost:8080/",
          "height": 347
        },
        "outputId": "d83b1921-f062-4158-a20d-bcabf087b817"
      },
      "cell_type": "code",
      "source": [
        "# Produce a density plot\n",
        "df['Estudante_Cartao'].plot.kde()\n",
        "plt.show()"
      ],
      "execution_count": 229,
      "outputs": [
        {
          "output_type": "display_data",
          "data": {
            "image/png": "[encoded data removed]",
            "text/plain": [
              "<Figure size 576x396 with 1 Axes>"
            ]
          },
          "metadata": {
            "tags": []
          }
        }
      ]
    },
    {
      "metadata": {
        "id": "yJ3JH1BBAy0N",
        "colab_type": "text"
      },
      "cell_type": "markdown",
      "source": [
        "# Cool links\n",
        "\n",
        "- [https://www.data-to-viz.com/](https://www.data-to-viz.com/)\n",
        "- [https://datavizproject.com/#](https://datavizproject.com/#)"
      ]
    }
  ]
}
