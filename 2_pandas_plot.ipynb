{
  "nbformat": 4,
  "nbformat_minor": 0,
  "metadata": {
    "colab": {
      "name": "2-pandas_plot.ipynb",
      "version": "0.3.2",
      "provenance": [],
      "collapsed_sections": [
        "EOrT7B6Nwtj3"
      ]
    },
    "kernelspec": {
      "display_name": "Python 3",
      "language": "python",
      "name": "python3"
    }
  },
  "cells": [
    {
      "metadata": {
        "id": "9r4SSlxwLhag",
        "colab_type": "text"
      },
      "cell_type": "markdown",
      "source": [
        "# Plotting with Pandas and Matplotlib\n",
        "\n",
        "So far, we've mostly been manipulating and working with data that are represented as tables.The pandas library in Python, and the CSV file format for datasets were all developed around this representation. Because a table neatly organizes values into rows and columns, we can easily look up specific values at the intersection of a row value and a column value. Unfortunately, it's very difficult to explore a dataset to uncover patterns when it's represented as a table, especially when that dataset contains many values. We need a different representation of data that can help us identify patterns more easily.\n",
        "\n",
        "In this mission, we'll learn the basics of **data visualization**, a discipline that focuses on the visual representation of data. As humans, our brains have evolved to develop powerful visual processing capabilities. We can quickly find patterns in the visual information we encounter, which was incredibly important from a survivability standpoint. Unfortunately, when data is represented as tables of values, we can't really take advantage of our visual pattern matching capabilities. This is because our ability to quickly process symbolic values (like numbers and words) is very poor. Data visualization focuses on transforming data from table representations visual ones.\n",
        "\n",
        "In this lesson, named **Exploratory Data Analysis**, we'll focus on data visualization techniques to explore datasets and help us uncover patterns. In this mission, we'll use some types of data visualization to understand the \"Bilhetagem\" dataset.\n",
        "\n",
        "To get things started, we have to load Pandas and NumPy libraries:"
      ]
    },
    {
      "metadata": {
        "id": "ImX5cBzfLhah",
        "colab_type": "code",
        "colab": {}
      },
      "cell_type": "code",
      "source": [
        "import pandas as pd\n",
        "import numpy as np"
      ],
      "execution_count": 0,
      "outputs": []
    },
    {
      "metadata": {
        "id": "6wTHNx4QlA4Z",
        "colab_type": "text"
      },
      "cell_type": "markdown",
      "source": [
        "## Loading the dataset\n",
        "\n",
        "As we did in the previous mission, let's download the data directly from  [Dados Abertos Natal](http://dados.natal.br/) to our workspace in Google Colab."
      ]
    },
    {
      "metadata": {
        "id": "DKNMCZcelVM5",
        "colab_type": "code",
        "outputId": "69d7a696-f2a2-44e3-964b-289d47fe4e0a",
        "colab": {
          "base_uri": "https://localhost:8080/",
          "height": 136
        }
      },
      "cell_type": "code",
      "source": [
        "!wget -c https://raw.githubusercontent.com/aguinaldoabbj/minicourse_open_data_natal_2019/master/data/dados-be-2018-analitico.csv\n",
        "#wget -c http://dados.natal.br/dataset/4fad551d-4d3b-4597-b8d3-7e887e22332e/resource/0d4a0f0f-b8a5-46a0-acfe-bb9138c8eb9e/download/dados-be-2019-analitico.csv"
      ],
      "execution_count": 4,
      "outputs": [
        {
          "output_type": "stream",
          "text": [
            "--2019-04-26 22:53:21--  https://raw.githubusercontent.com/aguinaldoabbj/minicourse_open_data_natal_2019/master/data/dados-be-2018-analitico.csv\n",
            "Resolving raw.githubusercontent.com (raw.githubusercontent.com)... 151.101.0.133, 151.101.64.133, 151.101.128.133, ...\n",
            "Connecting to raw.githubusercontent.com (raw.githubusercontent.com)|151.101.0.133|:443... connected.\n",
            "HTTP request sent, awaiting response... 416 Range Not Satisfiable\n",
            "\n",
            "    The file is already fully retrieved; nothing to do.\n",
            "\n"
          ],
          "name": "stdout"
        }
      ]
    },
    {
      "metadata": {
        "id": "AMGWsR41lZ05",
        "colab_type": "text"
      },
      "cell_type": "markdown",
      "source": [
        "We can check if file was downloaded using 'ls':"
      ]
    },
    {
      "metadata": {
        "id": "Ue2O3F0Gld4i",
        "colab_type": "code",
        "outputId": "03bd2285-b272-443d-8dfc-9a0a7df6b6af",
        "colab": {
          "base_uri": "https://localhost:8080/",
          "height": 34
        }
      },
      "cell_type": "code",
      "source": [
        "!ls -lah  dados-be*"
      ],
      "execution_count": 5,
      "outputs": [
        {
          "output_type": "stream",
          "text": [
            "-rw-r--r-- 1 root root 72K Apr 26 20:42 dados-be-2018-analitico.csv\n"
          ],
          "name": "stdout"
        }
      ]
    },
    {
      "metadata": {
        "id": "3EZqnoELlj-N",
        "colab_type": "text"
      },
      "cell_type": "markdown",
      "source": [
        "Now, we can read the CSV file:"
      ]
    },
    {
      "metadata": {
        "id": "KXK-PhvJlt14",
        "colab_type": "code",
        "colab": {}
      },
      "cell_type": "code",
      "source": [
        "# CSV file uses ';' as separator and is encodded in iso-8859-1\n",
        "df = pd.read_csv(\"dados-be-2018-analitico.csv\", encoding='iso-8859-1', sep=';', thousands=r'.')"
      ],
      "execution_count": 0,
      "outputs": []
    },
    {
      "metadata": {
        "id": "Pz893zqymiho",
        "colab_type": "text"
      },
      "cell_type": "markdown",
      "source": [
        "## Get insights from the table observation\n",
        "\n",
        "We can use the method `head(10)` to see the first 10 rows of the dataset."
      ]
    },
    {
      "metadata": {
        "id": "DY8JLb843027",
        "colab_type": "code",
        "outputId": "6fd3089a-dbba-4e7c-d4f6-d56d66a755ea",
        "colab": {
          "base_uri": "https://localhost:8080/",
          "height": 359
        }
      },
      "cell_type": "code",
      "source": [
        "df.head(10)"
      ],
      "execution_count": 7,
      "outputs": [
        {
          "output_type": "execute_result",
          "data": {
            "text/html": [
              "<div>\n",
              "<style scoped>\n",
              "    .dataframe tbody tr th:only-of-type {\n",
              "        vertical-align: middle;\n",
              "    }\n",
              "\n",
              "    .dataframe tbody tr th {\n",
              "        vertical-align: top;\n",
              "    }\n",
              "\n",
              "    .dataframe thead th {\n",
              "        text-align: right;\n",
              "    }\n",
              "</style>\n",
              "<table border=\"1\" class=\"dataframe\">\n",
              "  <thead>\n",
              "    <tr style=\"text-align: right;\">\n",
              "      <th></th>\n",
              "      <th>Mês</th>\n",
              "      <th>Empresa</th>\n",
              "      <th>Linha</th>\n",
              "      <th>Estudante_Cartao</th>\n",
              "      <th>Estudante_BT</th>\n",
              "      <th>Vale_Transporte</th>\n",
              "      <th>Integracao_Plena</th>\n",
              "      <th>Integracao_Complementar</th>\n",
              "      <th>Gratuito_Cartao</th>\n",
              "      <th>Gratuito_BT</th>\n",
              "      <th>Inteira_Cartao</th>\n",
              "      <th>Inteira_Especie</th>\n",
              "      <th>Tarifa_Social</th>\n",
              "      <th>Qtd_Viagens</th>\n",
              "    </tr>\n",
              "  </thead>\n",
              "  <tbody>\n",
              "    <tr>\n",
              "      <th>0</th>\n",
              "      <td>1</td>\n",
              "      <td>CONCEIÇÃO</td>\n",
              "      <td>21</td>\n",
              "      <td>13493</td>\n",
              "      <td>9506</td>\n",
              "      <td>35944</td>\n",
              "      <td>8671</td>\n",
              "      <td>0</td>\n",
              "      <td>17138</td>\n",
              "      <td>7397</td>\n",
              "      <td>6542</td>\n",
              "      <td>43727</td>\n",
              "      <td>3965</td>\n",
              "      <td>3684</td>\n",
              "    </tr>\n",
              "    <tr>\n",
              "      <th>1</th>\n",
              "      <td>1</td>\n",
              "      <td>CONCEIÇÃO</td>\n",
              "      <td>22</td>\n",
              "      <td>4644</td>\n",
              "      <td>3371</td>\n",
              "      <td>13088</td>\n",
              "      <td>3230</td>\n",
              "      <td>0</td>\n",
              "      <td>8109</td>\n",
              "      <td>3157</td>\n",
              "      <td>2529</td>\n",
              "      <td>15363</td>\n",
              "      <td>0</td>\n",
              "      <td>1737</td>\n",
              "    </tr>\n",
              "    <tr>\n",
              "      <th>2</th>\n",
              "      <td>1</td>\n",
              "      <td>CONCEIÇÃO</td>\n",
              "      <td>30</td>\n",
              "      <td>8519</td>\n",
              "      <td>5614</td>\n",
              "      <td>20580</td>\n",
              "      <td>5346</td>\n",
              "      <td>0</td>\n",
              "      <td>7265</td>\n",
              "      <td>3191</td>\n",
              "      <td>4415</td>\n",
              "      <td>21507</td>\n",
              "      <td>1537</td>\n",
              "      <td>2500</td>\n",
              "    </tr>\n",
              "    <tr>\n",
              "      <th>3</th>\n",
              "      <td>1</td>\n",
              "      <td>CONCEIÇÃO</td>\n",
              "      <td>31</td>\n",
              "      <td>9631</td>\n",
              "      <td>6020</td>\n",
              "      <td>23460</td>\n",
              "      <td>7587</td>\n",
              "      <td>0</td>\n",
              "      <td>7065</td>\n",
              "      <td>2922</td>\n",
              "      <td>5491</td>\n",
              "      <td>22212</td>\n",
              "      <td>140</td>\n",
              "      <td>2478</td>\n",
              "    </tr>\n",
              "    <tr>\n",
              "      <th>4</th>\n",
              "      <td>1</td>\n",
              "      <td>CONCEIÇÃO</td>\n",
              "      <td>41</td>\n",
              "      <td>6556</td>\n",
              "      <td>4038</td>\n",
              "      <td>20388</td>\n",
              "      <td>7924</td>\n",
              "      <td>0</td>\n",
              "      <td>5704</td>\n",
              "      <td>2791</td>\n",
              "      <td>3883</td>\n",
              "      <td>13870</td>\n",
              "      <td>0</td>\n",
              "      <td>2296</td>\n",
              "    </tr>\n",
              "    <tr>\n",
              "      <th>5</th>\n",
              "      <td>1</td>\n",
              "      <td>CONCEIÇÃO</td>\n",
              "      <td>59</td>\n",
              "      <td>8184</td>\n",
              "      <td>6086</td>\n",
              "      <td>22623</td>\n",
              "      <td>7332</td>\n",
              "      <td>0</td>\n",
              "      <td>13514</td>\n",
              "      <td>4373</td>\n",
              "      <td>4622</td>\n",
              "      <td>29075</td>\n",
              "      <td>4573</td>\n",
              "      <td>2650</td>\n",
              "    </tr>\n",
              "    <tr>\n",
              "      <th>6</th>\n",
              "      <td>1</td>\n",
              "      <td>CONCEIÇÃO</td>\n",
              "      <td>63</td>\n",
              "      <td>21918</td>\n",
              "      <td>14054</td>\n",
              "      <td>44118</td>\n",
              "      <td>14630</td>\n",
              "      <td>0</td>\n",
              "      <td>15034</td>\n",
              "      <td>5771</td>\n",
              "      <td>7765</td>\n",
              "      <td>39855</td>\n",
              "      <td>3182</td>\n",
              "      <td>3768</td>\n",
              "    </tr>\n",
              "    <tr>\n",
              "      <th>7</th>\n",
              "      <td>1</td>\n",
              "      <td>CONCEIÇÃO</td>\n",
              "      <td>71</td>\n",
              "      <td>7188</td>\n",
              "      <td>5395</td>\n",
              "      <td>19626</td>\n",
              "      <td>4209</td>\n",
              "      <td>0</td>\n",
              "      <td>10865</td>\n",
              "      <td>4075</td>\n",
              "      <td>3608</td>\n",
              "      <td>23923</td>\n",
              "      <td>3773</td>\n",
              "      <td>2389</td>\n",
              "    </tr>\n",
              "    <tr>\n",
              "      <th>8</th>\n",
              "      <td>1</td>\n",
              "      <td>CONCEIÇÃO</td>\n",
              "      <td>76</td>\n",
              "      <td>2886</td>\n",
              "      <td>1734</td>\n",
              "      <td>7298</td>\n",
              "      <td>1545</td>\n",
              "      <td>59</td>\n",
              "      <td>3494</td>\n",
              "      <td>1200</td>\n",
              "      <td>1507</td>\n",
              "      <td>8698</td>\n",
              "      <td>907</td>\n",
              "      <td>627</td>\n",
              "    </tr>\n",
              "    <tr>\n",
              "      <th>9</th>\n",
              "      <td>1</td>\n",
              "      <td>CONCEIÇÃO</td>\n",
              "      <td>83</td>\n",
              "      <td>4386</td>\n",
              "      <td>3932</td>\n",
              "      <td>14967</td>\n",
              "      <td>1194</td>\n",
              "      <td>0</td>\n",
              "      <td>3207</td>\n",
              "      <td>1125</td>\n",
              "      <td>2573</td>\n",
              "      <td>17649</td>\n",
              "      <td>2491</td>\n",
              "      <td>1284</td>\n",
              "    </tr>\n",
              "  </tbody>\n",
              "</table>\n",
              "</div>"
            ],
            "text/plain": [
              "   Mês    Empresa  Linha  Estudante_Cartao  Estudante_BT  Vale_Transporte  \\\n",
              "0    1  CONCEIÇÃO     21             13493          9506            35944   \n",
              "1    1  CONCEIÇÃO     22              4644          3371            13088   \n",
              "2    1  CONCEIÇÃO     30              8519          5614            20580   \n",
              "3    1  CONCEIÇÃO     31              9631          6020            23460   \n",
              "4    1  CONCEIÇÃO     41              6556          4038            20388   \n",
              "5    1  CONCEIÇÃO     59              8184          6086            22623   \n",
              "6    1  CONCEIÇÃO     63             21918         14054            44118   \n",
              "7    1  CONCEIÇÃO     71              7188          5395            19626   \n",
              "8    1  CONCEIÇÃO     76              2886          1734             7298   \n",
              "9    1  CONCEIÇÃO     83              4386          3932            14967   \n",
              "\n",
              "   Integracao_Plena  Integracao_Complementar  Gratuito_Cartao  Gratuito_BT  \\\n",
              "0              8671                        0            17138         7397   \n",
              "1              3230                        0             8109         3157   \n",
              "2              5346                        0             7265         3191   \n",
              "3              7587                        0             7065         2922   \n",
              "4              7924                        0             5704         2791   \n",
              "5              7332                        0            13514         4373   \n",
              "6             14630                        0            15034         5771   \n",
              "7              4209                        0            10865         4075   \n",
              "8              1545                       59             3494         1200   \n",
              "9              1194                        0             3207         1125   \n",
              "\n",
              "   Inteira_Cartao  Inteira_Especie  Tarifa_Social  Qtd_Viagens  \n",
              "0            6542            43727           3965         3684  \n",
              "1            2529            15363              0         1737  \n",
              "2            4415            21507           1537         2500  \n",
              "3            5491            22212            140         2478  \n",
              "4            3883            13870              0         2296  \n",
              "5            4622            29075           4573         2650  \n",
              "6            7765            39855           3182         3768  \n",
              "7            3608            23923           3773         2389  \n",
              "8            1507             8698            907          627  \n",
              "9            2573            17649           2491         1284  "
            ]
          },
          "metadata": {
            "tags": []
          },
          "execution_count": 7
        }
      ]
    },
    {
      "metadata": {
        "id": "X3H--X2Ao-h2",
        "colab_type": "text"
      },
      "cell_type": "markdown",
      "source": [
        "Take a minute to visually scan the table. There are many question that we ask about the data . For instance:\n",
        "- How the number of tickets has changed over time for \"Guanabara\" transportation company? And to the other companies?\n",
        "- How much student card's  payment occurs between the lines of \"Reunidas\"? And how much student or free tickets?\n",
        "- How much travels these companies did in March? And in the others months?\n",
        "- How all these tickets types are statistically distributed?\n",
        "\n",
        "To answer questions like those, we can use chart representations! Go ahead to the next cell to know how we can do plots!"
      ]
    },
    {
      "metadata": {
        "id": "iucj8Trot9Xl",
        "colab_type": "text"
      },
      "cell_type": "markdown",
      "source": [
        "# Matplotlib library\n",
        "\n",
        "\n",
        "To create a chart, we'll use the [matplotlib](http://matplotlib.org/) library, which allows us to:\n",
        "\n",
        "- quickly create common plots using high-level functions\n",
        "- extensively tweak plots\n",
        "- create new kinds of plots from the ground up\n",
        "\n",
        "To help you become familiar with matplotlib, we'll focus on the first 2 use cases. When working with commonly used plots in matplotlib, the general workflow is:\n",
        "\n",
        "- create a plot using data\n",
        "- customize the appearance of the plot\n",
        "- display the plot\n",
        "- edit and repeat until satisfied\n",
        "\n",
        "This interactive style aligns well with the exploratory workflow of data visualization because we're asking questions and creating data visualizations to help us get answers. The pyplot module provides a high-level interface for matplotlib that allows us to quickly create common data plots and perform common tweaks to them.\n",
        "\n",
        "The pyplot module is commonly imported as **plt** from **matplotlib**:\n",
        "\n",
        "```python\n",
        "import matplotlib.pyplot as plt\n",
        "```\n",
        "\n",
        "In the next sections, we will show some available plots of matplotlib."
      ]
    },
    {
      "metadata": {
        "id": "Ghev-1jDv4km",
        "colab_type": "text"
      },
      "cell_type": "markdown",
      "source": [
        "# Types of  charts\n",
        "\n",
        "Initially, let's import the matplotlib library:"
      ]
    },
    {
      "metadata": {
        "id": "tvjRZZnMwp6X",
        "colab_type": "code",
        "colab": {}
      },
      "cell_type": "code",
      "source": [
        "import matplotlib.pyplot as plt"
      ],
      "execution_count": 0,
      "outputs": []
    },
    {
      "metadata": {
        "id": "w-fAVBo2aB8a",
        "colab_type": "text"
      },
      "cell_type": "markdown",
      "source": [
        "There are a lot of charts types like:\n",
        "\n",
        "- Line Plots\n",
        "- Bar Plots\n",
        "- Scatter Plots\n",
        "- Pie Plots\n",
        "- Histograms\n",
        "- BoxPlots\n",
        "- and many others...\n",
        "\n",
        "Let's see the line plot:"
      ]
    },
    {
      "metadata": {
        "id": "EOrT7B6Nwtj3",
        "colab_type": "text"
      },
      "cell_type": "markdown",
      "source": [
        "##     Line plots"
      ]
    },
    {
      "metadata": {
        "id": "Rc_0dno_HrLW",
        "colab_type": "text"
      },
      "cell_type": "markdown",
      "source": [
        "A line chart or line graph is a type of chart which displays information as a series of data points called ‘markers’ connected by straight line segments. Line graphs are usually used to find relationship between two data sets on different axis; for instance X, Y.\n",
        "\n",
        "In matplotlib, the *plot* method builds line plots as default and it takes many parameters, as `x` and `y:\n",
        "\n",
        "```python\n",
        "plt.plot(x_values, y_values)\n",
        "plt.show()\n",
        "```\n",
        "\n",
        "The [plot()](http://matplotlib.org/api/pyplot_api.html#matplotlib.pyplot.plot) function generates a plot with the data the axes and ticks. The [show()](http://matplotlib.org/api/pyplot_api.html#matplotlib.pyplot.show) function displays that plot. "
      ]
    },
    {
      "metadata": {
        "id": "D-_lAWFgRse_",
        "colab_type": "text"
      },
      "cell_type": "markdown",
      "source": [
        "#### Solved Problem\n",
        "\n",
        "![alt text](https://blog.smlbrasil.com.br/wp-content/uploads/2018/03/giphy-2.gif =120x120)\n",
        "\n",
        "1. Generate a line plot that visualizes the total number of \"Estudante_Cartao\" over time (by month) for \"GUANABARA - URB\" company.\n",
        "  - Get the data regarding the company \"GUANABARA - URB\" and assign it to **guanabara**.\n",
        "  - Use the *groupby()* function to group **guanabara** in relation to the column *'Mês'*, apply the *sum()* function to aggregate all data  and assign the result to **guanabara_by_month**.\n",
        "  - Plot a line chart passing *'Mês'* as x-axis and *'Estudante_Cartao'* as y-axis.\n",
        "  - Display the plot using *plt.show()*"
      ]
    },
    {
      "metadata": {
        "id": "1Zq7U6Sv9gLM",
        "colab_type": "code",
        "outputId": "08211970-8fe7-44ec-a4d5-8fe4861f3d68",
        "colab": {
          "base_uri": "https://localhost:8080/",
          "height": 269
        }
      },
      "cell_type": "code",
      "source": [
        "# selecting by criteria (Empresa == 'GUANABARA - URB')\n",
        "guanabara = df[df['Empresa'] == 'GUANABARA - URB']\n",
        "\n",
        "# grouping information by 'Mês' column\n",
        "guanabara_by_month = guanabara.groupby('Mês', as_index=False).sum()\n",
        "\n",
        "plt.plot(guanabara_by_month[\"Mês\"], guanabara_by_month[\"Estudante_Cartao\"])\n",
        "\n",
        "plt.show()"
      ],
      "execution_count": 71,
      "outputs": [
        {
          "output_type": "display_data",
          "data": {
            "image/png": "[encoded data removed]",
            "text/plain": [
              "<Figure size 432x288 with 1 Axes>"
            ]
          },
          "metadata": {
            "tags": []
          }
        }
      ]
    },
    {
      "metadata": {
        "id": "zICEhbKLHV5w",
        "colab_type": "text"
      },
      "cell_type": "markdown",
      "source": [
        "### Improving the plot\n",
        "\n",
        "Let's now finish tweaking this plot by adding axis labels and a title. Always adding axis labels and a title to your plot is a good habit to have, and is especially useful when we're trying to keep track of multiple plots down the road.\n",
        "\n",
        "Here's an overview of the pyplot functions we need to tweak the axis labels and the plot title:\n",
        "\n",
        "- [xlabel()](http://matplotlib.org/api/pyplot_api.html#matplotlib.pyplot.xlabel): accepts a string value, which gets set as the x-axis label.\n",
        "- [ylabel()](http://matplotlib.org/api/pyplot_api.html#matplotlib.pyplot.ylabel): accepts a string value, which is set as the y-axis label.\n",
        "- [title()](http://matplotlib.org/api/pyplot_api.html#matplotlib.pyplot.title): accepts a string value, which is set as the plot title."
      ]
    },
    {
      "metadata": {
        "id": "fhVPcaKoRy5L",
        "colab_type": "text"
      },
      "cell_type": "markdown",
      "source": [
        "#### Exercise\n",
        "\n",
        "![alt text](https://cdn.dribbble.com/users/2344801/screenshots/4774578/alphatestersanimation2.gif =150x120)\n",
        "\n",
        "1. Improve the line plot of the previous exercise.\n",
        "  - Set the x-axis label to *\"Mês\"*.\n",
        "  - Set the y-axis label to *\"N° de passagens\"*.\n",
        "  - Set the plot title to *\"Variação mensal de passagens no cartão estudantil\"*.\n",
        "  - Display the plot."
      ]
    },
    {
      "metadata": {
        "id": "85Hff1AtK5Is",
        "colab_type": "code",
        "colab": {}
      },
      "cell_type": "code",
      "source": [
        "# put your code here"
      ],
      "execution_count": 0,
      "outputs": []
    },
    {
      "metadata": {
        "id": "rva1GsGLHFIC",
        "colab_type": "text"
      },
      "cell_type": "markdown",
      "source": [
        "### Multiple plots\n",
        "\n",
        "When we want to work with multiple plots, we need to be more explicit about which plot we're making changes to. This means we need to understand the matplotlib classes that pyplot uses internally to maintain state so we can interact with them directly. Let's first start by understanding what pyplot was automatically storing under the hood when we create a single plot:\n",
        "\n",
        "- a container for all plots was created (returned as a [Figure object](http://matplotlib.org/api/figure_api.html#matplotlib.figure.Figure))\n",
        "- a container for the plot was positioned on a grid (the plot returned as an [Axes object](http://matplotlib.org/api/axes_api.html#matplotlib-axes))\n",
        "- visual symbols were added to the plot (using the Axes methods)\n",
        "\n",
        "A figure acts as a container for all of our plots and has methods for customizing the appearance and behavior for the plots within that container. \n",
        "We can manually create a figure by calling [pyplot.figure()](http://matplotlib.org/api/pyplot_api.html#matplotlib.pyplot.figure):\n",
        "\n",
        "```python\n",
        "fig = plt.figure()\n",
        "```\n",
        "\n",
        "After a figure is created, an axes for a single plot containing no data is created within the context of the figure. The Axes object acts as its own container for the various components of the plot and they're also often referred to as subplots in matplotlib. To add a new subplot to an existing figure, use [Figure.add_subplot](http://matplotlib.org/api/figure_api.html#matplotlib.figure.Figure.add_subplot). This will return a new Axes object, which needs to be assigned to a variable:\n",
        "\n",
        "```python\n",
        "axes_obj = fig.add_subplot(nrows, ncols, plot_number)\n",
        "```\n",
        "\n",
        "If we want the figure to contain 2 plots, one above the other, we need to write:\n",
        "\n",
        "```python\n",
        "ax1 = fig.add_subplot(2,1,1)\n",
        "ax2 = fig.add_subplot(2,1,2)\n",
        "```\n",
        "\n",
        "Here's a diagram that demonstrates how a 2 by 2 subplot layout would look like:\n",
        "\n",
        "<img width=\"800\" alt=\"creating a repo\" src=\"https://drive.google.com/uc?export=view&id=0BxhVm1REqwr0QVVYZUpMSkxlVEU\">\n",
        "\n",
        "To generate a line chart within an Axes object, we need to call [Axes.plot()](http://matplotlib.org/api/axes_api.html#matplotlib.axes.Axes.plot) and pass in the data you want plotted:\n",
        "\n",
        "```python\n",
        "x_values = [0.0, 0.5, 1.0]\n",
        "y_values = [10, 20, 40]\n",
        "ax1.plot(x_values, y_values)\n",
        "```"
      ]
    },
    {
      "metadata": {
        "id": "Wp25F4lMSxlY",
        "colab_type": "text"
      },
      "cell_type": "markdown",
      "source": [
        "#### Solved Problem\n",
        "\n",
        "![alt text](https://blog.smlbrasil.com.br/wp-content/uploads/2018/03/giphy-2.gif =120x120)\n",
        "\n",
        "1. Create 2 line subplots in a 2 row by 1 column layout:\n",
        "  - In the top subplot:\n",
        "      - Use the column *\"Mês\"* for x-axis subplot\n",
        "      - Use the column *\"Estudante_Cartao\"* for y-axis subplot\n",
        "  - In the bottom subplot:\n",
        "      - Use the column *\"Mês\"* for x-axis subplot\n",
        "      - Use the column *\"Estudante_BT\"* for y-axis subplot\n",
        "2. Display the plot using *plt.show()*"
      ]
    },
    {
      "metadata": {
        "id": "Ihc9B8yzK75W",
        "colab_type": "code",
        "colab": {
          "base_uri": "https://localhost:8080/",
          "height": 308
        },
        "outputId": "485f9192-76d9-4493-af04-395811439d56"
      },
      "cell_type": "code",
      "source": [
        "fig = plt.figure()\n",
        "\n",
        "ax1 = fig.add_subplot(2,1,1)\n",
        "ax2 = fig.add_subplot(2,1,2)\n",
        "\n",
        "ax1.plot(df['Mês'], df['Estudante_Cartao'])\n",
        "ax2.plot(df['Mês'], df['Estudante_BT'])\n",
        "\n",
        "# setting axes\n",
        "ax1.set_ylabel('Estudante_Cartao')\n",
        "ax2.set_ylabel('Estudante_BT')\n",
        "ax2.set_xlabel('Mês')\n",
        "\n",
        "# setting title\n",
        "fig.suptitle('Comparing Student Tickets')\n",
        "\n",
        "plt.show()"
      ],
      "execution_count": 73,
      "outputs": [
        {
          "output_type": "display_data",
          "data": {
            "image/png": "[encoded data removed]",
            "text/plain": [
              "<Figure size 432x288 with 2 Axes>"
            ]
          },
          "metadata": {
            "tags": []
          }
        }
      ]
    },
    {
      "metadata": {
        "id": "IsGsHULRLhao",
        "colab_type": "text"
      },
      "cell_type": "markdown",
      "source": [
        "# Pandas plots\n",
        "\n",
        "In this section we will be discussing the simple interface that [Pandas](https://pandas.pydata.org/pandas-docs/stable/generated/pandas.DataFrame.plot.html) provides for interacting with the matplotlib library."
      ]
    },
    {
      "metadata": {
        "id": "YsHy4nrpLhap",
        "colab_type": "text"
      },
      "cell_type": "markdown",
      "source": [
        "### Line plots\n",
        "\n",
        "All DataFrame and Series objects are equipped with the *plot* method, which builds some basic plots.\n",
        "The default is line plots. Check how we can create a line plot from a Series object:"
      ]
    },
    {
      "metadata": {
        "id": "35b9xFpYLhar",
        "colab_type": "code",
        "outputId": "f6c77b4f-fedc-4b6f-d084-333ad6ff06d7",
        "colab": {
          "base_uri": "https://localhost:8080/",
          "height": 269
        }
      },
      "cell_type": "code",
      "source": [
        "df['Estudante_Cartao'].plot()\n",
        "plt.show()"
      ],
      "execution_count": 96,
      "outputs": [
        {
          "output_type": "display_data",
          "data": {
            "image/png": "[encoded data removed]",
            "text/plain": [
              "<Figure size 432x288 with 1 Axes>"
            ]
          },
          "metadata": {
            "tags": []
          }
        }
      ]
    },
    {
      "metadata": {
        "id": "eLVYcdrqLhav",
        "colab_type": "text"
      },
      "cell_type": "markdown",
      "source": [
        "Other configuration parameters are:\n",
        "- xticks: values to use for the xticks\n",
        "- xlim: x values limits\n",
        "- yticks: values to use for the yticks\n",
        "- ylim: y values limits"
      ]
    },
    {
      "metadata": {
        "id": "MPgpldVDLhax",
        "colab_type": "text"
      },
      "cell_type": "markdown",
      "source": [
        "We can also use DataFrames for the same purpose. In this case, each column will produce a line plot on the same\n",
        "subplot, and a legend will be automatically created:"
      ]
    },
    {
      "metadata": {
        "id": "_ITilyf7E889",
        "colab_type": "code",
        "outputId": "a9c7a5ed-6228-4395-f9be-979f2b1f65d2",
        "colab": {
          "base_uri": "https://localhost:8080/",
          "height": 283
        }
      },
      "cell_type": "code",
      "source": [
        "df.groupby(['Mês'])[['Estudante_Cartao', 'Estudante_BT']].max().plot()\n",
        "plt.show()"
      ],
      "execution_count": 76,
      "outputs": [
        {
          "output_type": "display_data",
          "data": {
            "image/png": "[encoded data removed]",
            "text/plain": [
              "<Figure size 432x288 with 1 Axes>"
            ]
          },
          "metadata": {
            "tags": []
          }
        }
      ]
    },
    {
      "metadata": {
        "colab_type": "text",
        "id": "eX8Ek7FhhVaC"
      },
      "cell_type": "markdown",
      "source": [
        "#### Exercise\n",
        "\n",
        "![alt text](https://cdn.dribbble.com/users/2344801/screenshots/4774578/alphatestersanimation2.gif =150x120)\n",
        "\n",
        "1. Try to generate separeted subplots of the previous example passing *subplots=True* argument to *plot*."
      ]
    },
    {
      "metadata": {
        "colab_type": "code",
        "id": "ysdJExoIhVaF",
        "colab": {}
      },
      "cell_type": "code",
      "source": [
        "# put your code in this cell"
      ],
      "execution_count": 0,
      "outputs": []
    },
    {
      "metadata": {
        "id": "3SEQQAP0Lha1",
        "colab_type": "text"
      },
      "cell_type": "markdown",
      "source": [
        "### Bar plots"
      ]
    },
    {
      "metadata": {
        "id": "m6RpDuoykLuM",
        "colab_type": "text"
      },
      "cell_type": "markdown",
      "source": [
        "A bar plot (or bar chart) is one of the most common types of graphic. It shows the relationship between a numeric and a categoric variable. Each entity of the categoric variable is represented as a bar and the size of the bar represents its numeric value. \n",
        "\n",
        "For Series and DataFrames, *plot* can also be seen as an attribute with a family of methods, each of them representing\n",
        "a kind of plot. For example, the same effects of the previous call to the *plot* method could be achieved by\n",
        "calling *plot.line()*. Following this model, bar plots can be produced by calling *plot.bar()* (vertical bars) or\n",
        "*plot.barh()* (horizontal bars):"
      ]
    },
    {
      "metadata": {
        "id": "KDJ860MdLha2",
        "colab_type": "code",
        "outputId": "ce71f0b8-dc4a-424a-de91-0071b0f6ecac",
        "colab": {
          "base_uri": "https://localhost:8080/",
          "height": 373
        }
      },
      "cell_type": "code",
      "source": [
        "new_df = df.groupby(['Empresa']).sum()\n",
        "new_df['Gratuito_Cartao'].sort_values(ascending=False).plot.bar()\n",
        "plt.show()"
      ],
      "execution_count": 78,
      "outputs": [
        {
          "output_type": "display_data",
          "data": {
            "image/png": "[encoded data removed]",
            "text/plain": [
              "<Figure size 432x288 with 1 Axes>"
            ]
          },
          "metadata": {
            "tags": []
          }
        }
      ]
    },
    {
      "metadata": {
        "colab_type": "text",
        "id": "ykzm-Il6q-op"
      },
      "cell_type": "markdown",
      "source": [
        "#### Exercise\n",
        "\n",
        "![alt text](https://cdn.dribbble.com/users/2344801/screenshots/4774578/alphatestersanimation2.gif =150x120)\n",
        "\n",
        "1. Try to generate a horizontal bar plot of **new_df** using *barh()* method."
      ]
    },
    {
      "metadata": {
        "colab_type": "code",
        "id": "nVI6ulsEq-ov",
        "colab": {}
      },
      "cell_type": "code",
      "source": [
        "# put your code in this cell"
      ],
      "execution_count": 0,
      "outputs": []
    },
    {
      "metadata": {
        "id": "nrrWjevGLha9",
        "colab_type": "text"
      },
      "cell_type": "markdown",
      "source": [
        "Plotting bars from DataFrames produces groups of bars for each row. Each bar in a group \n",
        "represents a column in the corresponding row:"
      ]
    },
    {
      "metadata": {
        "id": "b4j-OmGDH4qB",
        "colab_type": "code",
        "outputId": "a250871c-ebf4-4436-c0b1-2187e034a5ba",
        "colab": {
          "base_uri": "https://localhost:8080/",
          "height": 373
        }
      },
      "cell_type": "code",
      "source": [
        "# Plot using in plot attribute\n",
        "new_df[['Gratuito_Cartao', 'Gratuito_BT']].plot.bar()\n",
        "plt.show()"
      ],
      "execution_count": 80,
      "outputs": [
        {
          "output_type": "display_data",
          "data": {
            "image/png": "[encoded data removed]",
            "text/plain": [
              "<Figure size 432x288 with 1 Axes>"
            ]
          },
          "metadata": {
            "tags": []
          }
        }
      ]
    },
    {
      "metadata": {
        "id": "Il3kOQmhLhbD",
        "colab_type": "text"
      },
      "cell_type": "markdown",
      "source": [
        "#### Exercise\n",
        "\n",
        "![alt text](https://cdn.dribbble.com/users/2344801/screenshots/4774578/alphatestersanimation2.gif =150x120)\n",
        "\n",
        "1. Try to create the stacked plot of the previous chart passing the *stacked=True* argument\n",
        "\n"
      ]
    },
    {
      "metadata": {
        "id": "8ceI_jvoLhbD",
        "colab_type": "code",
        "colab": {}
      },
      "cell_type": "code",
      "source": [
        "# put your code here"
      ],
      "execution_count": 0,
      "outputs": []
    },
    {
      "metadata": {
        "id": "koi0npFJLhbI",
        "colab_type": "text"
      },
      "cell_type": "markdown",
      "source": [
        "### Pie plots"
      ]
    },
    {
      "metadata": {
        "id": "ou8_o1SrkQYR",
        "colab_type": "text"
      },
      "cell_type": "markdown",
      "source": [
        "A pie chart is a circle divided into sectors that each represent a proportion of the whole. It is often used to show percentage, where the sum of the sectors equals 100%.\n",
        "\n",
        "Generating a pie plot with pandas is just about using the *plot.pie()* method:"
      ]
    },
    {
      "metadata": {
        "id": "XXCt4sp6LhbK",
        "colab_type": "code",
        "outputId": "345f24d6-0693-41e6-8f89-6fc3cb1caf85",
        "colab": {
          "base_uri": "https://localhost:8080/",
          "height": 268
        }
      },
      "cell_type": "code",
      "source": [
        "df.groupby(['Empresa'])['Qtd_Viagens'].sum().sort_values().plot.pie(autopct='%.1f%%', title='Quantidade de Viagens')\n",
        "plt.show()"
      ],
      "execution_count": 82,
      "outputs": [
        {
          "output_type": "display_data",
          "data": {
            "image/png": "[encoded data removed]",
            "text/plain": [
              "<Figure size 432x288 with 1 Axes>"
            ]
          },
          "metadata": {
            "tags": []
          }
        }
      ]
    },
    {
      "metadata": {
        "colab_type": "text",
        "id": "NVKctWBclBZd"
      },
      "cell_type": "markdown",
      "source": [
        "#### Exercise\n",
        "\n",
        "![alt text](https://cdn.dribbble.com/users/2344801/screenshots/4774578/alphatestersanimation2.gif =150x120)\n",
        "\n",
        "1. Plot a pie chart comparing the ticket 'Inteira_Especie' of all companies. The percentages must have two decimal places.\n",
        "\n"
      ]
    },
    {
      "metadata": {
        "colab_type": "code",
        "id": "okQdm0FDlBZh",
        "colab": {}
      },
      "cell_type": "code",
      "source": [
        "# put your code here"
      ],
      "execution_count": 0,
      "outputs": []
    },
    {
      "metadata": {
        "id": "-OQD7meVLhbO",
        "colab_type": "text"
      },
      "cell_type": "markdown",
      "source": [
        "### Box plots"
      ]
    },
    {
      "metadata": {
        "colab_type": "text",
        "id": "i9osdNu_jwQV"
      },
      "cell_type": "markdown",
      "source": [
        "A **boxplot** gives a nice summary of one or more numeric variables. A boxplot is composed of several elements:\n",
        "\n",
        "- The line that divides the box into 2 parts represents the median of the data. If the median is 10, it means that there are the same number of data points below and above 10.\n",
        "- The ends of the box shows the upper (Q3) and lower (Q1) quartiles. If the third quartile is 15, it means that 75% of the observation are lower than 15.\n",
        "- The difference between Quartiles 1 and 3 is called the interquartile range (IQR)\n",
        "- The extreme line shows Q3+1.5xIQR to Q1-1.5xIQR (the highest and lowest value excluding outliers).\n",
        "- Dots (or other markers) beyond the extreme line shows potntial outliers.\n",
        "\n",
        "<img src=\"https://lsc.studysixsigma.com/wp-content/uploads/sites/6/2015/12/1435.png\"/>"
      ]
    },
    {
      "metadata": {
        "id": "H7TRs35zLhbQ",
        "colab_type": "text"
      },
      "cell_type": "markdown",
      "source": [
        "Given a sequence of values in a Series or Dataframe object, the box plot can be generated using the *plot.box()* method:"
      ]
    },
    {
      "metadata": {
        "id": "HuoLyYeCLhbR",
        "colab_type": "code",
        "outputId": "6d850b65-249e-42e4-be7c-fafdeae1b0ea",
        "colab": {
          "base_uri": "https://localhost:8080/",
          "height": 270
        }
      },
      "cell_type": "code",
      "source": [
        "df[['Estudante_Cartao', 'Estudante_BT']].plot.box()\n",
        "plt.show()"
      ],
      "execution_count": 84,
      "outputs": [
        {
          "output_type": "display_data",
          "data": {
            "image/png": "[encoded data removed]",
            "text/plain": [
              "<Figure size 432x288 with 1 Axes>"
            ]
          },
          "metadata": {
            "tags": []
          }
        }
      ]
    },
    {
      "metadata": {
        "colab_type": "text",
        "id": "kK2J0P_EmSSU"
      },
      "cell_type": "markdown",
      "source": [
        "#### Exercise\n",
        "\n",
        "![alt text](https://cdn.dribbble.com/users/2344801/screenshots/4774578/alphatestersanimation2.gif =150x120)\n",
        "\n",
        "1. Create a boxplot to the variables 'Gratuito_Cartao' e 'Gratuito_BT'.\n"
      ]
    },
    {
      "metadata": {
        "colab_type": "code",
        "id": "yuhchNY-mSSZ",
        "colab": {}
      },
      "cell_type": "code",
      "source": [
        "# put your code here"
      ],
      "execution_count": 0,
      "outputs": []
    },
    {
      "metadata": {
        "id": "2CHFn6t7Lhbb",
        "colab_type": "text"
      },
      "cell_type": "markdown",
      "source": [
        "### Scatter plots\n"
      ]
    },
    {
      "metadata": {
        "id": "Uqgi4INCqtiZ",
        "colab_type": "text"
      },
      "cell_type": "markdown",
      "source": [
        "\n",
        "A scatter plot displays the relationship between 2 numeric variables. For each data point, the value of its first variable is represented on the X axis, the second on the Y axis. A scatter plot is made to study the relationship between 2 variables. Thus it is often accompanied by a [correlation coefficient](https://en.wikipedia.org/wiki/Correlation_coefficient) calculation, that usually tries to measure the linear relationship.\n",
        "\n",
        "<img width=\"800\" alt=\"creating a repo\" src=\"https://drive.google.com/uc?export=view&id=0BxhVm1REqwr0bDdWNU5HVDdpUHc\">\n",
        "\n",
        "A scatter plot helps us find outliers, gain a more intuitive sense of how spread out the data is, and compare more easily.\n",
        "\n",
        "Scatter plots allows to visualize the distribution of a set of points in a plane:"
      ]
    },
    {
      "metadata": {
        "id": "sinGOzLmLhbc",
        "colab_type": "code",
        "outputId": "9632d37d-0c19-4dd9-ffdd-5e79b52bc1b0",
        "colab": {
          "base_uri": "https://localhost:8080/",
          "height": 284
        }
      },
      "cell_type": "code",
      "source": [
        "df.plot.scatter(x='Integracao_Plena', y='Qtd_Viagens')\n",
        "plt.show()"
      ],
      "execution_count": 86,
      "outputs": [
        {
          "output_type": "display_data",
          "data": {
            "image/png": "[encoded data removed]",
            "text/plain": [
              "<Figure size 432x288 with 1 Axes>"
            ]
          },
          "metadata": {
            "tags": []
          }
        }
      ]
    },
    {
      "metadata": {
        "id": "mT_WeVULLhbm",
        "colab_type": "text"
      },
      "cell_type": "markdown",
      "source": [
        "### Hexagonal bin plots\n"
      ]
    },
    {
      "metadata": {
        "id": "fFo5HObkrPSG",
        "colab_type": "text"
      },
      "cell_type": "markdown",
      "source": [
        "\n",
        "When there are too many data points, a scatter plot may become polluted. Hexagonal bin plots\n",
        "come to simplify the visualization in such cases with *plot.hexbin()* method:"
      ]
    },
    {
      "metadata": {
        "colab_type": "text",
        "id": "leIIyWFb8T7n"
      },
      "cell_type": "markdown",
      "source": [
        "#### Exercise\n",
        "\n",
        "![alt text](https://cdn.dribbble.com/users/2344801/screenshots/4774578/alphatestersanimation2.gif =150x120)\n",
        "\n",
        "1. Try to create the hexagonal plot of the scatter plot chart created previously.\n",
        "  - Use the method *hexbin()* method passing *\"Integracao_Plena\"* as *x*, *\"Qtd_Viagens\"* as *y* and the parameter *gridsize=15*\n",
        "  - Display the plot.\n"
      ]
    },
    {
      "metadata": {
        "colab_type": "code",
        "id": "DzPG6f7N8T7r",
        "colab": {}
      },
      "cell_type": "code",
      "source": [
        "# put your code in this cell"
      ],
      "execution_count": 0,
      "outputs": []
    },
    {
      "metadata": {
        "id": "ZqflFOLDLhbV",
        "colab_type": "text"
      },
      "cell_type": "markdown",
      "source": [
        "### Area plots\n",
        "\n",
        "Area plots are useful to compare two or more variables whose values change over some fixed interval. We \n",
        "can use DataFrames to represent such variables and, then, produce the area plot:"
      ]
    },
    {
      "metadata": {
        "id": "8mBVUTbnLhbW",
        "colab_type": "code",
        "outputId": "cdf43ebf-818b-4024-856d-acc4ac4feba5",
        "colab": {
          "base_uri": "https://localhost:8080/",
          "height": 283
        }
      },
      "cell_type": "code",
      "source": [
        "df.groupby(['Mês'])[['Estudante_Cartao', 'Estudante_BT']].max().plot.area()\n",
        "plt.legend(loc='upper left')\n",
        "plt.show()"
      ],
      "execution_count": 88,
      "outputs": [
        {
          "output_type": "display_data",
          "data": {
            "image/png": "[encoded data removed]",
            "text/plain": [
              "<Figure size 432x288 with 1 Axes>"
            ]
          },
          "metadata": {
            "tags": []
          }
        }
      ]
    },
    {
      "metadata": {
        "colab_type": "text",
        "id": "ozOR-fVhrM9B"
      },
      "cell_type": "markdown",
      "source": [
        "#### Exercise\n",
        "\n",
        "![alt text](https://cdn.dribbble.com/users/2344801/screenshots/4774578/alphatestersanimation2.gif =150x120)\n",
        "\n",
        "1. Create a area plot to the variables 'Inteira_Cartao' e 'Inteira_Especie' where the column 'Mês' is the x-axis. Use the *groupby()* and *sum()* methods.\n"
      ]
    },
    {
      "metadata": {
        "colab_type": "code",
        "id": "uLy57AAjrM9G",
        "colab": {}
      },
      "cell_type": "code",
      "source": [
        "# put your code here"
      ],
      "execution_count": 0,
      "outputs": []
    },
    {
      "metadata": {
        "id": "OAssTLoSLhbq",
        "colab_type": "text"
      },
      "cell_type": "markdown",
      "source": [
        "### Histograms and density plots"
      ]
    },
    {
      "metadata": {
        "colab_type": "text",
        "id": "PJUyvcqbjQO7"
      },
      "cell_type": "markdown",
      "source": [
        "A **histogram** is an accurate graphical representation of the distribution of a numeric variable. It takes as input numeric variables only. The variable is cut into several bins, and the number of observation per bin is represented by the height of the bar.\n",
        "\n",
        "Let's first see the **frequency distributions** of the feature *\"Vale_Transporte\"* from *df* dataset. A column's [frequency distribution](https://en.wikipedia.org/wiki/Frequency_distribution) consists of the unique values in that column along with the count for each of those values (or their frequency). We can use [Series.value_counts()](http://pandas.pydata.org/pandas-docs/stable/generated/pandas.Series.value_counts.html) to return the frequency distribution as Series object:"
      ]
    },
    {
      "metadata": {
        "colab_type": "code",
        "outputId": "7dc02ed8-3aaa-41a7-9e80-40e7d0c4bf92",
        "id": "qMFBiVy-jQO_",
        "colab": {
          "base_uri": "https://localhost:8080/",
          "height": 1071
        }
      },
      "cell_type": "code",
      "source": [
        "df['Vale_Transporte'].value_counts().sort_index()"
      ],
      "execution_count": 90,
      "outputs": [
        {
          "output_type": "execute_result",
          "data": {
            "text/plain": [
              "0         7\n",
              "3         1\n",
              "4         1\n",
              "20        1\n",
              "23        1\n",
              "30        1\n",
              "35        1\n",
              "38        1\n",
              "71        1\n",
              "77        1\n",
              "90        1\n",
              "128       1\n",
              "147       1\n",
              "164       1\n",
              "169       2\n",
              "175       1\n",
              "180       1\n",
              "191       2\n",
              "205       1\n",
              "206       1\n",
              "207       1\n",
              "216       1\n",
              "219       1\n",
              "227       1\n",
              "228       1\n",
              "239       1\n",
              "259       1\n",
              "266       1\n",
              "272       1\n",
              "274       1\n",
              "         ..\n",
              "64289     1\n",
              "66193     1\n",
              "67308     1\n",
              "67806     1\n",
              "68104     1\n",
              "68292     1\n",
              "69165     1\n",
              "70156     1\n",
              "71459     1\n",
              "71900     1\n",
              "72400     1\n",
              "72578     1\n",
              "73266     1\n",
              "73401     1\n",
              "73935     1\n",
              "74452     1\n",
              "74571     1\n",
              "74603     1\n",
              "75385     1\n",
              "76702     1\n",
              "100188    1\n",
              "106976    1\n",
              "107369    1\n",
              "107570    1\n",
              "109054    1\n",
              "109796    1\n",
              "110321    1\n",
              "112219    1\n",
              "112950    1\n",
              "114307    1\n",
              "Name: Vale_Transporte, Length: 930, dtype: int64"
            ]
          },
          "metadata": {
            "tags": []
          },
          "execution_count": 90
        }
      ]
    },
    {
      "metadata": {
        "colab_type": "text",
        "id": "MfOjbtEmjQPQ"
      },
      "cell_type": "markdown",
      "source": [
        "Because there are only a lot of unique values, it is difficult to quickly scan the frequency counts and see how the variable is distributed. We need a way to analysis the frequencies better and we can start by dividing the range of possible values into a series of fixed length intervals, called **bins**. We can then sum the frequencies for the values that fall into each bin."
      ]
    },
    {
      "metadata": {
        "colab_type": "code",
        "outputId": "169abc35-8bb9-4ec5-8cc2-16275f91847a",
        "id": "TusLKpwIjQPS",
        "colab": {
          "base_uri": "https://localhost:8080/",
          "height": 289
        }
      },
      "cell_type": "code",
      "source": [
        "df['Vale_Transporte'].value_counts(bins=15, sort=False)"
      ],
      "execution_count": 91,
      "outputs": [
        {
          "output_type": "execute_result",
          "data": {
            "text/plain": [
              "(-114.308, 7620.467]       269\n",
              "(7620.467, 15240.933]      185\n",
              "(15240.933, 22861.4]       142\n",
              "(22861.4, 30481.867]       101\n",
              "(30481.867, 38102.333]      98\n",
              "(38102.333, 45722.8]        42\n",
              "(45722.8, 53343.267]        52\n",
              "(53343.267, 60963.733]      25\n",
              "(60963.733, 68584.2]        11\n",
              "(68584.2, 76204.667]        13\n",
              "(76204.667, 83825.133]       1\n",
              "(83825.133, 91445.6]         0\n",
              "(91445.6, 99066.067]         0\n",
              "(99066.067, 106686.533]      1\n",
              "(106686.533, 114307.0]       9\n",
              "Name: Vale_Transporte, dtype: int64"
            ]
          },
          "metadata": {
            "tags": []
          },
          "execution_count": 91
        }
      ]
    },
    {
      "metadata": {
        "colab_type": "text",
        "id": "7uibmx4mjQPb"
      },
      "cell_type": "markdown",
      "source": [
        "This is exactly what a histrogram does, but it uses a visual approach. To create a histogram, we can do the following code:"
      ]
    },
    {
      "metadata": {
        "id": "mj5BpWykLhbr",
        "colab_type": "code",
        "outputId": "669755aa-d906-49a0-d286-165da725fff1",
        "colab": {
          "base_uri": "https://localhost:8080/",
          "height": 286
        }
      },
      "cell_type": "code",
      "source": [
        "df['Estudante_Cartao'].plot.hist()"
      ],
      "execution_count": 92,
      "outputs": [
        {
          "output_type": "execute_result",
          "data": {
            "text/plain": [
              "<matplotlib.axes._subplots.AxesSubplot at 0x7f632968f4a8>"
            ]
          },
          "metadata": {
            "tags": []
          },
          "execution_count": 92
        },
        {
          "output_type": "display_data",
          "data": {
            "image/png": "[encoded data removed]",
            "text/plain": [
              "<Figure size 432x288 with 1 Axes>"
            ]
          },
          "metadata": {
            "tags": []
          }
        }
      ]
    },
    {
      "metadata": {
        "id": "sLeT25cyjijv",
        "colab_type": "text"
      },
      "cell_type": "markdown",
      "source": [
        "We can visualize the frequence of the values using histograms and also density plots:"
      ]
    },
    {
      "metadata": {
        "id": "fpuXX3giLhbt",
        "colab_type": "code",
        "outputId": "2d41322b-1119-4885-db41-ef915398f214",
        "colab": {
          "base_uri": "https://localhost:8080/",
          "height": 269
        }
      },
      "cell_type": "code",
      "source": [
        "# Produce a density plot\n",
        "df['Estudante_Cartao'].plot.kde()\n",
        "plt.show()"
      ],
      "execution_count": 93,
      "outputs": [
        {
          "output_type": "display_data",
          "data": {
            "image/png": "[encoded data removed]",
            "text/plain": [
              "<Figure size 432x288 with 1 Axes>"
            ]
          },
          "metadata": {
            "tags": []
          }
        }
      ]
    },
    {
      "metadata": {
        "colab_type": "text",
        "id": "sRKgmtm6s7Xy"
      },
      "cell_type": "markdown",
      "source": [
        "#### Exercise\n",
        "\n",
        "![alt text](https://cdn.dribbble.com/users/2344801/screenshots/4774578/alphatestersanimation2.gif =150x120)\n",
        "\n",
        "1. Create a histogram and a density plot to the \"Tarifa_Social\" column.\n",
        "  - Create a histogram plot  to \"Tarifa_Social\" and assign the result to variable **axis**.\n",
        "  - Generate a density plot to the same column using *kde()* method, passing *ax=axis* and *secondary_y=True* as arguments.\n",
        "  - Display the plot."
      ]
    },
    {
      "metadata": {
        "colab_type": "code",
        "id": "kTDaaelDs7X2",
        "colab": {}
      },
      "cell_type": "code",
      "source": [
        "# put your code in this cell"
      ],
      "execution_count": 0,
      "outputs": []
    },
    {
      "metadata": {
        "id": "yJ3JH1BBAy0N",
        "colab_type": "text"
      },
      "cell_type": "markdown",
      "source": [
        "# Cool links\n",
        "\n",
        "- [https://www.data-to-viz.com/](https://www.data-to-viz.com/)\n",
        "- [https://datavizproject.com/#](https://datavizproject.com/#)"
      ]
    }
  ]
}